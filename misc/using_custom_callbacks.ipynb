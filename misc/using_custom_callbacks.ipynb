{
 "cells": [
  {
   "cell_type": "code",
   "execution_count": null,
   "metadata": {},
   "outputs": [],
   "source": [
    "# cil imports\n",
    "from cil.framework import ImageData, ImageGeometry\n",
    "from cil.framework import AcquisitionGeometry, AcquisitionData\n",
    "from cil.plugins.astra import ProjectionOperator\n",
    "\n",
    "from cil.processors import CentreOfRotationCorrector, Slicer, \\\n",
    "    Binner, Masker, MaskGenerator, TransmissionAbsorptionConverter\n",
    "\n",
    "from cil.plugins.astra import FBP\n",
    "\n",
    "from cil.utilities import dataexample\n",
    "from cil.utilities.display import show2D, show_geometry\n",
    "\n",
    "from cil.optimisation.functions import LeastSquares, IndicatorBox\n",
    "from cil.optimisation.algorithms import FISTA\n",
    "\n",
    "\n",
    "# External imports\n",
    "import numpy as np\n",
    "import matplotlib.pyplot as plt\n",
    "import logging"
   ]
  },
  {
   "cell_type": "code",
   "execution_count": null,
   "metadata": {},
   "outputs": [],
   "source": [
    "# Set up a reader object pointing to the Nexus data set\n",
    "data_raw = dataexample.SYNCHROTRON_PARALLEL_BEAM_DATA.get()"
   ]
  },
  {
   "cell_type": "code",
   "execution_count": null,
   "metadata": {},
   "outputs": [],
   "source": [
    "#preprocessing\n",
    "data_raw /= data_raw.get_slice(vertical=20).mean()\n",
    "data_exp = TransmissionAbsorptionConverter()(data_raw)\n",
    "data_crop = Slicer(roi={'vertical': (1, None)})(data_exp)\n",
    "data_centred = CentreOfRotationCorrector.xcorrelation()(data_crop)\n"
   ]
  },
  {
   "cell_type": "code",
   "execution_count": null,
   "metadata": {},
   "outputs": [],
   "source": [
    "data_centred.reorder('astra')\n",
    "ag = data_centred.geometry\n",
    "ig = ag.get_ImageGeometry()\n",
    "A = ProjectionOperator(ig, ag, device=\"gpu\")"
   ]
  },
  {
   "cell_type": "code",
   "execution_count": null,
   "metadata": {},
   "outputs": [],
   "source": [
    "b = data_centred\n",
    "F = LeastSquares(A, b)\n",
    "G = IndicatorBox(lower=0.0)\n",
    "x0 = ig.allocate(0.0)\n",
    "\n",
    "\n",
    "myFISTANN = FISTA(f=F, \n",
    "                  g=G, \n",
    "                  initial=x0, \n",
    "                  update_objective_interval = 10)"
   ]
  },
  {
   "cell_type": "code",
   "execution_count": null,
   "metadata": {},
   "outputs": [],
   "source": [
    "from cil.optimisation.utilities import callbacks\n",
    "from custom_callbacks import ShowIterates, SaveSlices\n",
    "import os\n",
    "\n",
    "cb1 = callbacks.ProgressCallback() # This is the progress bar \n",
    "cb2 = callbacks.TextProgressCallback()\n",
    "cb3 = callbacks.LogfileCallback('log.txt')\n",
    "interval = 10 # the following 2 callbacks take parameter iterations - so they will happen every 10 iterations\n",
    "cb4 = SaveSlices(interval=interval, file_name=\"fista\", dir_path=\"./callback/\") \n",
    "cb5 = ShowIterates(interval) # can add fix_range parameter here"
   ]
  },
  {
   "cell_type": "code",
   "execution_count": null,
   "metadata": {},
   "outputs": [],
   "source": [
    "myFISTANN.run(30, callbacks= [cb1, cb2, cb3, cb4, cb5])"
   ]
  }
 ],
 "metadata": {
  "kernelspec": {
   "display_name": "cil_24.2",
   "language": "python",
   "name": "python3"
  },
  "language_info": {
   "codemirror_mode": {
    "name": "ipython",
    "version": 3
   },
   "file_extension": ".py",
   "mimetype": "text/x-python",
   "name": "python",
   "nbconvert_exporter": "python",
   "pygments_lexer": "ipython3",
   "version": "3.12.7"
  }
 },
 "nbformat": 4,
 "nbformat_minor": 2
}
