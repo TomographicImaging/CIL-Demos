{
 "cells": [
  {
   "cell_type": "code",
   "execution_count": null,
   "id": "771d126a-743a-4562-9ba1-437c1bc1e0a5",
   "metadata": {},
   "outputs": [],
   "source": [
    "import numpy as np\n",
    "import os\n",
    "\n",
    "from cil.utilities.display import show2D, show_geometry\n",
    "from cil.utilities.jupyter import islicer, link_islicer\n",
    "\n",
    "from cil.io import TXRMDataReader\n",
    "\n",
    "from cil.processors import TransmissionAbsorptionConverter\n",
    "\n",
    "from cil.processors import CentreOfRotationCorrector\n",
    "from cil.plugins.tigre import FBP\n",
    "\n",
    "from cil.recon import FDK\n",
    "\n",
    "from cil.processors import Slicer\n",
    "\n",
    "from cil.optimisation.algorithms import FISTA\n",
    "from cil.plugins.ccpi_regularisation.functions import FGP_TV\n",
    "from cil.optimisation.functions import LeastSquares\n",
    "from cil.plugins.tigre import ProjectionOperator"
   ]
  },
  {
   "cell_type": "markdown",
   "id": "f4ef7da2-3db8-4004-8a18-0c91902616d6",
   "metadata": {},
   "source": [
    "## Load the data\n",
    "\n",
    "Load a ZEISS dataset and explore the data"
   ]
  },
  {
   "cell_type": "code",
   "execution_count": null,
   "id": "6421d76d-e84c-457e-a838-f56626d3894f",
   "metadata": {},
   "outputs": [],
   "source": [
    "filename = \"/mnt/materials/SIRF/Fully3D/CIL/Walnut/valnut_2014-03-21_643_28/tomo-A/valnut_tomo-A.txrm\"\n",
    "\n",
    "data = TXRMDataReader(file_name=filename).read()\n",
    "show_geometry(data.geometry)\n",
    "print (data.geometry)"
   ]
  },
  {
   "cell_type": "code",
   "execution_count": null,
   "id": "61d4079c-29be-41a3-969b-dc4ee766d4b4",
   "metadata": {},
   "outputs": [],
   "source": [
    "sl1 = islicer(data, size=9, minmax=(0, 1))"
   ]
  },
  {
   "cell_type": "markdown",
   "id": "8f41d1fd-4b30-4eac-9481-010ea81e736d",
   "metadata": {},
   "source": [
    "## Convert Transmission to Absorption"
   ]
  },
  {
   "cell_type": "code",
   "execution_count": null,
   "id": "11f30df3-a9f2-485e-b710-22626f23545a",
   "metadata": {},
   "outputs": [],
   "source": [
    "data = TransmissionAbsorptionConverter()(data)"
   ]
  },
  {
   "cell_type": "code",
   "execution_count": null,
   "id": "5d088322-c30c-4b21-84d6-f7320a4fecd3",
   "metadata": {},
   "outputs": [],
   "source": [
    "data.reorder(order='tigre')\n",
    "corr = CentreOfRotationCorrector.image_sharpness(FBP=FBP)\n",
    "corr(data, out=data)"
   ]
  },
  {
   "cell_type": "markdown",
   "id": "9d884f27-bd73-44ba-9e60-2bd18505ea1d",
   "metadata": {},
   "source": [
    "## Reconstruct with FDK"
   ]
  },
  {
   "cell_type": "code",
   "execution_count": null,
   "id": "ac4cbe74-9ff1-492b-bd65-10b5a5ac9ac2",
   "metadata": {},
   "outputs": [],
   "source": [
    "%%time \n",
    "recon3d = FDK(data).run()"
   ]
  },
  {
   "cell_type": "code",
   "execution_count": null,
   "id": "c6b06e27-df72-48ab-af1b-27d62ea4ccd5",
   "metadata": {},
   "outputs": [],
   "source": [
    "islicer(recon3d, minmax=(-0.003, 0.05), size=9, cmap='hot')"
   ]
  },
  {
   "cell_type": "markdown",
   "id": "48bb88d6-e6fe-461f-96ac-06b0afb0f4b4",
   "metadata": {},
   "source": [
    "## Reconstruction with fewer projections "
   ]
  },
  {
   "cell_type": "code",
   "execution_count": null,
   "id": "a26edc2b-7c29-485c-a04b-671ba8c4d5f6",
   "metadata": {},
   "outputs": [],
   "source": [
    "data2d = data.get_slice(vertical='centre')\n",
    "show_geometry(data2d.geometry)"
   ]
  },
  {
   "cell_type": "code",
   "execution_count": null,
   "id": "f5d1127b-09ec-43c2-8c2b-739a85723891",
   "metadata": {},
   "outputs": [],
   "source": [
    "recon = recon3d.get_slice(vertical='centre')"
   ]
  },
  {
   "cell_type": "markdown",
   "id": "1ae67afb-0843-43e9-99de-d58b4c6c0df4",
   "metadata": {},
   "source": [
    "Reduce the amount of projection to 10% by selecting a projection every 10."
   ]
  },
  {
   "cell_type": "code",
   "execution_count": null,
   "id": "30bafe6e-b7e2-405f-85cf-366ba0b4be34",
   "metadata": {},
   "outputs": [],
   "source": [
    "reduce_factor = 10\n",
    "\n",
    "data_reduced = Slicer(\n",
    "    roi={'angle': (0,-1,reduce_factor)}\n",
    "    )(data2d)"
   ]
  },
  {
   "cell_type": "markdown",
   "id": "71c83bd2-632c-4843-9778-da78f2cb8eca",
   "metadata": {},
   "source": [
    "Reconstruct the reduced dataset again with FDK."
   ]
  },
  {
   "cell_type": "code",
   "execution_count": null,
   "id": "4c621304-b8cf-4aa1-bd93-b633c8aa5a94",
   "metadata": {},
   "outputs": [],
   "source": [
    "recon_reduced = FDK(data_reduced).run()"
   ]
  },
  {
   "cell_type": "code",
   "execution_count": null,
   "id": "7ecb80fb-64e4-4bad-807f-7f84bed9022f",
   "metadata": {},
   "outputs": [],
   "source": [
    "show2D([recon, recon_reduced], fix_range=(-0.01, 0.06), cmap='hot', title=['full dataset', 'reduced dataset'])"
   ]
  },
  {
   "cell_type": "markdown",
   "id": "61d6941f-0e50-4847-9916-89bc21ca17b4",
   "metadata": {},
   "source": [
    "## Iterative Reconstruction\n",
    "\n",
    "$$\\Large Au = b $$\n",
    "\n",
    "* $A$ system matrix\n",
    "* $b$ acquisition data\n",
    "* $u$ reconstructed volume\n",
    "\n",
    "$$  \\Large u^* = \\text{argmin} \\left[ F(u, b) + \\alpha G(u) \\right] $$\n",
    "\n",
    "\n",
    "* data fitting function, $ F = || Au - b ||^2_2 $ \n",
    "* regularisation parameter, $\\alpha$ \n",
    "* $G = TV(u)$"
   ]
  },
  {
   "cell_type": "code",
   "execution_count": null,
   "id": "b62f206b-9328-4f4c-be5e-3644871fcd90",
   "metadata": {},
   "outputs": [],
   "source": [
    "A = ProjectionOperator(ig,data_reduced.geometry)"
   ]
  },
  {
   "cell_type": "code",
   "execution_count": null,
   "id": "52440abb-087e-4b8e-a208-e8c8326757e5",
   "metadata": {},
   "outputs": [],
   "source": [
    "f = LeastSquares(A=A, b=data_reduced)"
   ]
  },
  {
   "cell_type": "code",
   "execution_count": null,
   "id": "091a6966-e929-4463-9c38-daca7b511265",
   "metadata": {},
   "outputs": [],
   "source": [
    "alpha = 0.02\n",
    "\n",
    "g = alpha * FGP_TV(device='gpu')"
   ]
  },
  {
   "cell_type": "markdown",
   "id": "f7a8b992-cda3-4c13-b5ce-69d2468c35b5",
   "metadata": {},
   "source": [
    "Create an algorithm to solve the optimisation problem. Here we choose the algorithm named FISTA."
   ]
  },
  {
   "cell_type": "code",
   "execution_count": null,
   "id": "2b4248e8-b52e-474a-ae51-fa514adfd5e3",
   "metadata": {},
   "outputs": [],
   "source": [
    "algo = FISTA(initial=ig.allocate(0), \n",
    "             f=f, \n",
    "             g=g, \n",
    "             max_iteration=100, \n",
    "             update_objective_interval=10)"
   ]
  },
  {
   "cell_type": "markdown",
   "id": "94450c93-9e0e-42be-b4e8-e9db9331fae8",
   "metadata": {},
   "source": [
    "Run the algorithm for 100 iterations."
   ]
  },
  {
   "cell_type": "code",
   "execution_count": null,
   "id": "f325601a-2b3b-4208-a677-aa40b1787356",
   "metadata": {},
   "outputs": [],
   "source": [
    "algo.run(100)"
   ]
  },
  {
   "cell_type": "code",
   "execution_count": null,
   "id": "65484694-11d2-4a11-89e3-d66b8b16b5e7",
   "metadata": {},
   "outputs": [],
   "source": [
    "show2D([recon_reduced, algo.solution], fix_range=(-0.01, 0.06),\n",
    "      title=['FDK reduced dataset', 'TV reduced dataset'], cmap='hot')"
   ]
  },
  {
   "cell_type": "code",
   "execution_count": null,
   "id": "34d471c9-9b2a-4b80-b702-5ffbac477c8b",
   "metadata": {},
   "outputs": [],
   "source": [
    "show2D(recon-algo.solution, cmap='seismic', fix_range=(-0.05, 0.05))"
   ]
  },
  {
   "cell_type": "code",
   "execution_count": null,
   "id": "34b859ae-32e9-4077-9563-17b590f10aef",
   "metadata": {},
   "outputs": [],
   "source": []
  }
 ],
 "metadata": {
  "kernelspec": {
   "display_name": "Python 3 (ipykernel)",
   "language": "python",
   "name": "python3"
  },
  "language_info": {
   "codemirror_mode": {
    "name": "ipython",
    "version": 3
   },
   "file_extension": ".py",
   "mimetype": "text/x-python",
   "name": "python",
   "nbconvert_exporter": "python",
   "pygments_lexer": "ipython3",
   "version": "3.9.10"
  }
 },
 "nbformat": 4,
 "nbformat_minor": 5
}
