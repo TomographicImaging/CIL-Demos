{
 "cells": [
  {
   "cell_type": "markdown",
   "metadata": {},
   "source": [
    "This notebook requires TomoPy and CIL v24.1.0 or greater"
   ]
  },
  {
   "cell_type": "code",
   "execution_count": null,
   "metadata": {},
   "outputs": [],
   "source": [
    "import cil\n",
    "print(cil.__version__)"
   ]
  },
  {
   "cell_type": "code",
   "execution_count": null,
   "metadata": {},
   "outputs": [],
   "source": [
    "from cil.utilities import dataexample\n",
    "from cil.processors import PaganinProcessor\n",
    "from cil.utilities.display import show2D\n",
    "from cil.recon import FDK, FBP\n",
    "\n",
    "from tomopy.prep.phase import retrieve_phase\n",
    "import numpy as np\n",
    "import matplotlib.pyplot as plt "
   ]
  },
  {
   "cell_type": "markdown",
   "metadata": {},
   "source": [
    "The code in this notebook contains some examples and comparisons of using the `PaganinProcessor` phase retrieval methods in CIL "
   ]
  },
  {
   "cell_type": "markdown",
   "metadata": {},
   "source": [
    "##### Parallel beam data"
   ]
  },
  {
   "cell_type": "code",
   "execution_count": null,
   "metadata": {},
   "outputs": [],
   "source": [
    "# Phase retrieval parameters\n",
    "delta = 1\n",
    "beta = 0.002\n",
    "energy = 40000"
   ]
  },
  {
   "cell_type": "code",
   "execution_count": null,
   "metadata": {},
   "outputs": [],
   "source": [
    "# Get data and perform reconstruction without phase retrieval\n",
    "data = dataexample.SIMULATED_PARALLEL_BEAM_DATA.get()\n",
    "data.reorder(order='tigre')\n",
    "data.geometry.config.units = 'um'\n",
    "data_abs = -1*data.log()\n",
    "ig = data.geometry.get_ImageGeometry()\n",
    "fbp =  FBP(data_abs, ig)\n",
    "recon = fbp.run(verbose=0)"
   ]
  },
  {
   "cell_type": "code",
   "execution_count": null,
   "metadata": {},
   "outputs": [],
   "source": [
    "# Run phase retrieval on the raw data and reconstruct\n",
    "processor = PaganinProcessor(delta=delta, beta=beta, energy=energy)\n",
    "processor.set_input(data)\n",
    "thickness = processor.get_output(override_geometry={'propagation_distance':10})\n",
    "fbp =  FBP(thickness, ig)\n",
    "recon_thickness = fbp.run(verbose=0)\n",
    "\n",
    "# calculate mu to get recon_attenuation with the same scaling as the original image\n",
    "attenuation = thickness*processor.mu\n",
    "fbp =  FBP(attenuation, ig)\n",
    "recon_attenuation = fbp.run(verbose=0)"
   ]
  },
  {
   "cell_type": "code",
   "execution_count": null,
   "metadata": {},
   "outputs": [],
   "source": [
    "# Run PaganinProcessor as a filter using full_retrieval=False on the absorption data and reconstruct\n",
    "processor = PaganinProcessor(delta=delta, beta=beta, energy=energy, full_retrieval=False)\n",
    "processor.set_input(data_abs)\n",
    "filtered_image = processor.get_output(override_geometry={'propagation_distance':10})\n",
    "fbp =  FBP(filtered_image, ig)\n",
    "recon_filter = fbp.run(verbose=0)"
   ]
  },
  {
   "cell_type": "code",
   "execution_count": null,
   "metadata": {},
   "outputs": [],
   "source": [
    "# For comparison run Tomopy phase retreival with raw data, then convert to absorption and reconstruct\n",
    "tomopy_alpha = (1/(delta/beta))/(4*np.pi**2)\n",
    "data_tomopy = data.copy()\n",
    "data_tmp = retrieve_phase(data.array, pixel_size=processor.pixel_size, dist=processor.propagation_distance, energy=energy/1000, alpha=tomopy_alpha)\n",
    "data_tomopy.fill(data_tmp)\n",
    "data_tomopy = -1*data_tomopy.log()\n",
    "ig = data_tomopy.geometry.get_ImageGeometry()\n",
    "fbp =  FBP(data_tomopy, ig)\n",
    "recon_tomopy = fbp.run(verbose=0)"
   ]
  },
  {
   "cell_type": "code",
   "execution_count": null,
   "metadata": {},
   "outputs": [],
   "source": [
    "# And also run Tomopy phase retreival with absorption data and reconstruct\n",
    "tomopy_alpha = (1/(delta/beta))/(4*np.pi**2)\n",
    "data_tomopy_abs = data_abs.copy()\n",
    "data_tmp = retrieve_phase(data_abs.array, pixel_size=processor.pixel_size, dist=processor.propagation_distance, energy=energy/1000, alpha=tomopy_alpha)\n",
    "data_tomopy_abs.fill(data_tmp)\n",
    "ig = data_tomopy_abs.geometry.get_ImageGeometry()\n",
    "fbp =  FBP(data_tomopy_abs, ig)\n",
    "recon_tomopy_abs = fbp.run(verbose=0)"
   ]
  },
  {
   "cell_type": "code",
   "execution_count": null,
   "metadata": {},
   "outputs": [],
   "source": [
    "# Compare the outputs\n",
    "show2D([recon.array[67,50:90,50:90], recon_thickness.array[67,50:90,50:90], recon_attenuation.array[67,50:90,50:90], recon_filter.array[67,50:90,50:90], recon_tomopy.array[67,50:90,50:90], recon_tomopy_abs.array[67,50:90,50:90]],\n",
    "title=['Original image', 'Phase retrieval - thickness', 'Phase retrieval - scaled by mu', 'Phase retrieval - full_retrieval=False', 'Tomopy phase retrieval transmission', 'Tomopy phase retrieval absorption'], num_cols=3)"
   ]
  },
  {
   "cell_type": "markdown",
   "metadata": {},
   "source": [
    "Comparing a cross-section, we can see that all methods blur the original image and improve signal to noise. The scaled phase retrieval in CIL matches the Tomopy method performed on transmission data and the filter in CIL matches the Tomopy method performed on absorption data"
   ]
  },
  {
   "cell_type": "code",
   "execution_count": null,
   "metadata": {},
   "outputs": [],
   "source": [
    "fig, axs = plt.subplots(1,2, figsize=(12,5))\n",
    "ax = axs[0]\n",
    "ax.plot(recon.array[67,70,50:90])\n",
    "ax.plot(recon_attenuation.array[67,70,50:90])\n",
    "ax.plot(recon_filter.array[67,70,50:90])\n",
    "ax.plot(recon_tomopy.array[67,70,50:90],'--')\n",
    "ax.plot(recon_tomopy_abs.array[67,70,50:90],'--')\n",
    "\n",
    "ax.set_xlabel('Horizontal x')\n",
    "ax.set_ylabel('Intensity')\n",
    "ax.legend(['Original image', 'Phase retrieval (scaled)', 'Phase retrieval - full_retrieval=False', 'Tomopy transmission', 'Tomopy absorption'])\n",
    "\n",
    "ax = axs[1]\n",
    "ax.plot(recon.array[67,50:90,70])\n",
    "ax.plot(recon_attenuation.array[67,50:90,70])\n",
    "ax.plot(recon_filter.array[67,50:90,70])\n",
    "ax.plot(recon_tomopy.array[67,50:90,70],'--')\n",
    "ax.plot(recon_tomopy_abs.array[67,50:90,70],'--')\n",
    "\n",
    "ax.set_xlabel('Horizontal y')\n",
    "ax.set_ylabel('Intensity')"
   ]
  },
  {
   "cell_type": "markdown",
   "metadata": {},
   "source": [
    "##### Cone beam data"
   ]
  },
  {
   "cell_type": "code",
   "execution_count": null,
   "metadata": {},
   "outputs": [],
   "source": [
    "delta = 1\n",
    "beta = 0.001\n",
    "energy = 40000"
   ]
  },
  {
   "cell_type": "markdown",
   "metadata": {},
   "source": [
    "With cone beam data, the magnification $M$ has an effect on the phase retrieval\\\n",
    "$ T = -\\frac{1}{\\mu}\\ln(F^{-1}\\frac{F(M^2 I_{norm}(x,y,z=\\Delta))}{1+\\frac{\\Delta\\lambda\\delta}{4\\pi\\beta}(k_x^2+k_y^2)/M})$\\\n",
    "The $M^2$ on top means sometimes we get a number larger than 1 inside the $\\ln$"
   ]
  },
  {
   "cell_type": "code",
   "execution_count": null,
   "metadata": {},
   "outputs": [],
   "source": [
    "# Get data and perform reconstruction without phase retrieval\n",
    "data = dataexample.SIMULATED_CONE_BEAM_DATA.get()\n",
    "data.geometry.config.units = 'um'\n",
    "print(data.geometry.magnification)\n",
    "data.reorder(order='tigre')\n",
    "data_abs = -1*data.log()\n",
    "ig = data.geometry.get_ImageGeometry()\n",
    "fdk =  FDK(data_abs, ig)\n",
    "recon = fdk.run(verbose=0)"
   ]
  },
  {
   "cell_type": "code",
   "execution_count": null,
   "metadata": {},
   "outputs": [],
   "source": [
    "# Run phase retrieval on the raw data and reconstruct\n",
    "processor = PaganinProcessor(delta=delta, beta=beta, energy=energy)\n",
    "processor.set_input(data)\n",
    "thickness = processor.get_output()\n",
    "recon_thickness = fdk.run(verbose=0)\n",
    "# calculate mu to get recon_attenuation with the same scaling as the original image\n",
    "attenuation = thickness*processor.mu\n",
    "fdk =  FDK(attenuation, ig)\n",
    "recon_attenuation = fdk.run(verbose=0)"
   ]
  },
  {
   "cell_type": "code",
   "execution_count": null,
   "metadata": {},
   "outputs": [],
   "source": [
    "# Run PaganinProcessor as a filter using get_output(full_retrieval=False) on the absorption data and reconstruct\n",
    "processor = PaganinProcessor(delta=delta, beta=beta, energy=energy, full_retrieval=False)\n",
    "processor.set_input(data_abs)\n",
    "filtered_image = processor.get_output()\n",
    "\n",
    "fdk =  FDK(filtered_image, ig)\n",
    "recon_filter = fdk.run(verbose=0)"
   ]
  },
  {
   "cell_type": "code",
   "execution_count": null,
   "metadata": {},
   "outputs": [],
   "source": [
    "# Compare\n",
    "show2D([recon.array[67,50:90,50:90], recon_thickness.array[67,50:90,50:90], recon_attenuation.array[67,50:90,50:90], recon_filter.array[67,50:90,50:90]],\n",
    "title=['Original image', 'Phase retrieval - thickness', 'Phase retrieval - scaled by mu', 'Phase retrieval - full_retrieval=False'])"
   ]
  },
  {
   "cell_type": "markdown",
   "metadata": {},
   "source": [
    "Comparing a cross-section, we can see that both methods blur the original image and improve signal to noise. The phase retrieval method becomes negative because of the values > 1 in the negative log"
   ]
  },
  {
   "cell_type": "code",
   "execution_count": null,
   "metadata": {},
   "outputs": [],
   "source": [
    "fig, axs = plt.subplots(1,2, figsize=(12,5))\n",
    "ax = axs[0]\n",
    "ax.plot(recon.array[67,70,50:90])\n",
    "ax.plot(recon_attenuation.array[67,70,50:90])\n",
    "ax.plot(recon_filter.array[67,70,50:90])\n",
    "\n",
    "ax.set_xlabel('Horizontal x')\n",
    "ax.set_ylabel('Intensity')\n",
    "ax.legend(['Original', 'Phase retrieval (scaled)', 'Phase retrieval - full_retrieval=False'])\n",
    "\n",
    "ax = axs[1]\n",
    "ax.plot(recon.array[67,50:90,70])\n",
    "ax.plot(recon_attenuation.array[67,50:90,70])\n",
    "ax.plot(recon_filter.array[67,50:90,70])\n",
    "\n",
    "ax.set_xlabel('Horizontal y')\n",
    "ax.set_ylabel('Intensity')"
   ]
  },
  {
   "cell_type": "markdown",
   "metadata": {},
   "source": [
    "##### Generalised Paganin method"
   ]
  },
  {
   "cell_type": "markdown",
   "metadata": {},
   "source": [
    "The generalised Paganin method is implemented in CIL following the description in https://iopscience.iop.org/article/10.1088/2040-8986/abbab9 \\\n",
    "When features in the image are close to the Nyquist frequency of the system, a more generalised form of the Pagnin filter can be used which preserves these high frequency features while still boosting SNR. This may have a similar effect to applying an unsharp mask after the normal Paganin phase retrieval. "
   ]
  },
  {
   "cell_type": "code",
   "execution_count": null,
   "metadata": {},
   "outputs": [],
   "source": [
    "# Get data and perform reconstruction without phase retrieval\n",
    "data = dataexample.SIMULATED_PARALLEL_BEAM_DATA.get()\n",
    "data.geometry.config.units = 'um'\n",
    "data.reorder(order='tigre')\n",
    "data_abs = -1*data.log()\n",
    "ig = data.geometry.get_ImageGeometry()\n",
    "fbp =  FBP(data_abs, ig)\n",
    "recon = fbp.run(verbose=0)"
   ]
  },
  {
   "cell_type": "code",
   "execution_count": null,
   "metadata": {},
   "outputs": [],
   "source": [
    "# Run phase retrieval on the raw data and reconstruct\n",
    "processor = PaganinProcessor(delta=delta, beta=beta, energy=energy)\n",
    "processor.set_input(data)\n",
    "thickness = processor.get_output(override_geometry={'propagation_distance':10})\n",
    "fbp =  FBP(thickness, ig)\n",
    "recon_thickness = fbp.run(verbose=0)\n",
    "\n",
    "# calculate mu to get recon_attenuation with the same scaling as the original image\n",
    "attenuation = thickness*processor.mu\n",
    "fbp =  FBP(attenuation, ig)\n",
    "recon_attenuation = fbp.run(verbose=0)"
   ]
  },
  {
   "cell_type": "code",
   "execution_count": null,
   "metadata": {},
   "outputs": [],
   "source": [
    "# Run phase retrieval on the raw data using the generalised Paganin method and reconstruct\n",
    "processor = PaganinProcessor(delta=delta, beta=beta, energy=energy, filter_type='generalised_paganin_method')\n",
    "processor.set_input(data)\n",
    "thickness_GPM = processor.get_output(override_geometry={'propagation_distance':10})\n",
    "fbp =  FBP(thickness_GPM, ig)\n",
    "recon_thickness_GPM = fbp.run(verbose=0)\n",
    "\n",
    "# calculate mu to get recon_attenuation with the same scaling as the original image\n",
    "attenuation_GPM = thickness_GPM*processor.mu\n",
    "fbp =  FBP(attenuation_GPM, ig)\n",
    "recon_attenuation_GPM = fbp.run(verbose=0)"
   ]
  },
  {
   "cell_type": "code",
   "execution_count": null,
   "metadata": {},
   "outputs": [],
   "source": [
    "fig, axs = plt.subplots(1,2, figsize=(12,5))\n",
    "ax = axs[0]\n",
    "ax.plot(recon.array[67,70,50:90])\n",
    "ax.plot(recon_attenuation.array[67,70,50:90])\n",
    "ax.plot(recon_attenuation_GPM.array[67,70,50:90])\n",
    "\n",
    "ax.set_xlabel('Horizontal x')\n",
    "ax.set_ylabel('Intensity')\n",
    "ax.legend(['Original', 'Phase retrieval', 'Phase retrieval - GPM'])\n",
    "\n",
    "ax = axs[1]\n",
    "ax.plot(recon.array[67,50:90,70])\n",
    "ax.plot(recon_attenuation.array[67,50:90,70])\n",
    "ax.plot(recon_attenuation_GPM.array[67,50:90,70])\n",
    "\n",
    "ax.set_xlabel('Horizontal y')\n",
    "ax.set_ylabel('Intensity')"
   ]
  },
  {
   "cell_type": "markdown",
   "metadata": {},
   "source": [
    "#### TomoBank example"
   ]
  },
  {
   "cell_type": "markdown",
   "metadata": {},
   "source": [
    "This example uses dataset tomo_00068 from TomoBank https://tomobank.readthedocs.io/en/latest/source/data/docs.data.phasecontrast.html#wet-sample which can be retrieved using:\\\n",
    "`wget https://g-a0400.fd635.8443.data.globus.org/tomo_00068/tomo_00068.h5`\n",
    "The data were collected at Syrmep beamline of the Elettra synchotron. A description of the experiment is given in https://link.springer.com/chapter/10.1007/978-3-319-19387-8_70"
   ]
  },
  {
   "cell_type": "code",
   "execution_count": null,
   "metadata": {},
   "outputs": [],
   "source": [
    "from cil.io.utilities import HDF5_utilities\n",
    "from cil.framework import AcquisitionGeometry, AcquisitionData\n",
    "from cil.utilities.display import show2D\n",
    "from cil.processors import TransmissionAbsorptionConverter, Padder, RingRemover"
   ]
  },
  {
   "cell_type": "code",
   "execution_count": null,
   "metadata": {},
   "outputs": [],
   "source": [
    "filename = 'tomo_00068.h5'\n",
    "# HDF5_utilities.print_metadata(filename=filename, group='/')\n",
    "data = HDF5_utilities.read(filename=filename, dset_path='/exchange/data')"
   ]
  },
  {
   "cell_type": "code",
   "execution_count": null,
   "metadata": {},
   "outputs": [],
   "source": [
    "# parameters from https://tomobank.readthedocs.io/en/latest/source/data/docs.data.phasecontrast.html#wet-sample\n",
    "pixel_size = 0.0041 #mm\n",
    "propagation_distance = 150 #mm\n",
    "angles = HDF5_utilities.read(filename=filename, dset_path='/exchange/theta')\n",
    "ag = AcquisitionGeometry.create_Parallel3D(detector_position=[0, propagation_distance, 0], units='mm').set_panel([np.shape(data)[2],np.shape(data)[1]], pixel_size=pixel_size).set_angles(angles)"
   ]
  },
  {
   "cell_type": "code",
   "execution_count": null,
   "metadata": {},
   "outputs": [],
   "source": [
    "data = AcquisitionData(data, deep_copy=False, geometry = ag)\n",
    "data.reorder(order='tigre')\n",
    "show2D(data)"
   ]
  },
  {
   "cell_type": "code",
   "execution_count": null,
   "metadata": {},
   "outputs": [],
   "source": [
    "# Run phase retrieval on the raw data\n",
    "# parameters from https://tomobank.readthedocs.io/en/latest/source/data/docs.data.phasecontrast.html#wet-sample\n",
    "delta = 1\n",
    "beta = 1e-1\n",
    "energy = 14000\n",
    "\n",
    "processor = PaganinProcessor(delta=delta, beta=beta, energy=energy)\n",
    "processor.set_input(data)\n",
    "thickness = processor.get_output()\n",
    "\n",
    "# calculate mu to get recon_attenuation with the same scaling as the original image\n",
    "data_phase = thickness*processor.mu"
   ]
  },
  {
   "cell_type": "code",
   "execution_count": null,
   "metadata": {},
   "outputs": [],
   "source": [
    "# Run phase retrieval on the raw data\n",
    "# parameters from https://tomobank.readthedocs.io/en/latest/source/data/docs.data.phasecontrast.html#wet-sample\n",
    "delta = 1\n",
    "beta = 1e-1\n",
    "energy = 14000\n",
    "\n",
    "processor = PaganinProcessor(delta=delta, beta=beta, energy=energy, \n",
    "                             filter_type='generalised_paganin_method')\n",
    "processor.set_input(data)\n",
    "thickness = processor.get_output()\n",
    "\n",
    "# calculate mu to get recon_attenuation with the same scaling as the original image\n",
    "data_phase_generalised = thickness*processor.mu"
   ]
  },
  {
   "cell_type": "code",
   "execution_count": null,
   "metadata": {},
   "outputs": [],
   "source": [
    "vertical_slice = 900\n",
    "data_phase = data_phase.get_slice(vertical=vertical_slice)"
   ]
  },
  {
   "cell_type": "code",
   "execution_count": null,
   "metadata": {},
   "outputs": [],
   "source": [
    "vertical_slice = 900\n",
    "data_phase_generalised = data_phase_generalised.get_slice(vertical=vertical_slice)"
   ]
  },
  {
   "cell_type": "code",
   "execution_count": null,
   "metadata": {},
   "outputs": [],
   "source": [
    "# for comparison just run TransmissionAbsorptionConverter on the same slice\n",
    "data_slice = data.get_slice(vertical=vertical_slice)\n",
    "\n",
    "processor = TransmissionAbsorptionConverter()\n",
    "processor.set_input(data_slice)\n",
    "processor.get_output(out=data_slice)"
   ]
  },
  {
   "cell_type": "code",
   "execution_count": null,
   "metadata": {},
   "outputs": [],
   "source": [
    "# perform some extra processing steps on both datasets\n",
    "ig = data_slice.geometry.get_ImageGeometry()\n",
    "padsize = 1000\n",
    "data_slice = Padder.linear_ramp(pad_width={'horizontal': padsize}, end_values=0)(data_slice)\n",
    "data_phase = Padder.linear_ramp(pad_width={'horizontal': padsize}, end_values=0)(data_phase)\n",
    "data_phase_generalised = Padder.linear_ramp(pad_width={'horizontal': padsize}, end_values=0)(data_phase_generalised)\n",
    "\n",
    "data_slice.geometry.set_centre_of_rotation(1463.5-(data.shape[2]/2), distance_units='pixels')\n",
    "data_phase.geometry.set_centre_of_rotation(1463.5-(data.shape[2]/2), distance_units='pixels')\n",
    "data_phase_generalised.geometry.set_centre_of_rotation(1463.5-(data.shape[2]/2), distance_units='pixels')\n",
    "\n",
    "N_decompositions = 20\n",
    "wavelet_filter_name = 'db20'\n",
    "sigma = 5.5\n",
    "\n",
    "processor = RingRemover(N_decompositions, wavelet_filter_name, sigma) \n",
    "processor.set_input(data_slice)\n",
    "data_slice = processor.get_output()\n",
    "\n",
    "processor = RingRemover(N_decompositions, wavelet_filter_name, sigma) \n",
    "processor.set_input(data_phase)\n",
    "data_phase = processor.get_output()\n",
    "\n",
    "processor = RingRemover(N_decompositions, wavelet_filter_name, sigma) \n",
    "processor.set_input(data_phase_generalised)\n",
    "data_phase_generalised = processor.get_output()\n",
    "\n",
    "fbp =  FBP(data_slice, ig)\n",
    "recon = fbp.run(verbose=0)\n",
    "\n",
    "fbp =  FBP(data_phase, ig)\n",
    "recon_phase = fbp.run(verbose=0)\n",
    "\n",
    "fbp =  FBP(data_phase_generalised, ig)\n",
    "recon_phase_g = fbp.run(verbose=0)"
   ]
  },
  {
   "cell_type": "code",
   "execution_count": null,
   "metadata": {},
   "outputs": [],
   "source": [
    "show2D([recon, recon_phase, recon_phase_g])\n"
   ]
  },
  {
   "cell_type": "code",
   "execution_count": null,
   "metadata": {},
   "outputs": [],
   "source": [
    "\n",
    "show2D([recon_phase.array[800:1200,800:1200], recon_phase_g.array[800:1200,800:1200]])"
   ]
  },
  {
   "cell_type": "code",
   "execution_count": null,
   "metadata": {},
   "outputs": [],
   "source": [
    "fig, axs = plt.subplots(1,2, figsize=(12,5))\n",
    "ax = axs[0]\n",
    "x = 1200\n",
    "ax.plot(recon.array[x,1100:1200])\n",
    "ax.plot(recon_phase.array[x,1100:1200])\n",
    "ax.plot(recon_phase_g.array[x,1100:1200])\n",
    "\n",
    "ax.set_xlabel('Horizontal x')\n",
    "ax.set_ylabel('Intensity')\n",
    "ax.legend(['Original', 'Paganin Method', 'Generalised Paganin Method'])\n",
    "\n",
    "ax = axs[1]\n",
    "y = 1200\n",
    "ax.plot(recon.array[1100:1200,y])\n",
    "ax.plot(recon_phase.array[1100:1200,y])\n",
    "ax.plot(recon_phase_g.array[1100:1200,y])\n",
    "\n",
    "ax.set_xlabel('Horizontal y')\n",
    "ax.set_ylabel('Intensity')"
   ]
  }
 ],
 "metadata": {
  "kernelspec": {
   "display_name": "cil_tests",
   "language": "python",
   "name": "python3"
  },
  "language_info": {
   "codemirror_mode": {
    "name": "ipython",
    "version": 3
   },
   "file_extension": ".py",
   "mimetype": "text/x-python",
   "name": "python",
   "nbconvert_exporter": "python",
   "pygments_lexer": "ipython3",
   "version": "3.10.13"
  }
 },
 "nbformat": 4,
 "nbformat_minor": 2
}
