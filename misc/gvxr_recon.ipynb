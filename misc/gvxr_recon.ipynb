{
 "cells": [
  {
   "cell_type": "code",
   "execution_count": null,
   "id": "8051976e-889c-4515-a940-e22133395e2d",
   "metadata": {},
   "outputs": [],
   "source": [
    "from cil.io import TIFFStackReader\n",
    "from cil.utilities.jupyter import islicer\n",
    "from cil.processors import TransmissionAbsorptionConverter\n",
    "from cil.framework import AcquisitionGeometry, AcquisitionData\n",
    "from cil.utilities.display import show_geometry, show2D\n",
    "from cil.recon import FDK\n",
    "\n",
    "import numpy as np"
   ]
  },
  {
   "cell_type": "code",
   "execution_count": null,
   "id": "9149a241-b440-49e9-acae-51b12ef899e0",
   "metadata": {},
   "outputs": [],
   "source": [
    "\"\"\"\n",
    "The gvxr json file\n",
    "{\n",
    "    \"WindowSize\": [800, 450],\n",
    "\n",
    "    \"Source\": {\n",
    "        \"Position\": [0, 200, 0, \"mm\"],\n",
    "        \"Shape\": \"Point\",\n",
    "        \"Beam\": [\n",
    "            {\n",
    "                \"Energy\": 500,\n",
    "                \"Unit\": \"keV\",\n",
    "                \"PhotonCount\": 1000\n",
    "            }\n",
    "        ]\n",
    "    },\n",
    "\n",
    "    \"Detector\": {\n",
    "        \"Position\": [0, -150, 0, \"mm\"],\n",
    "        \"UpVector\": [0, 0, 1],\n",
    "        \"NumberOfPixels\": [900, 900],\n",
    "        \"Spacing\": [0.2, 0.2, \"mm\"]\n",
    "    },\n",
    "\n",
    "    \"Samples\": [\n",
    "        {\n",
    "            \"Label\": \"internals\",\n",
    "            \"Path\": \"input_data/TurboPump/internals.stl\",\n",
    "            \"Unit\": \"mm\",\n",
    "            \"Material\": [\"Element\", \"Ti\"],\n",
    "            \"Density\": 4.506,\n",
    "            \"Transform\": [\n",
    "                [\"Rotation\", 90, 1, 0, 0],\n",
    "                [\"Scaling\", 0.2, 0.2, 0.2]\n",
    "            ]\n",
    "        },\n",
    "        {\n",
    "            \"Label\": \"front_flange\",\n",
    "            \"Path\": \"input_data/TurboPump/front_flange.stl\",\n",
    "            \"Unit\": \"mm\",\n",
    "            \"Material\": [\"Element\", \"Al\"],\n",
    "            \"Density\": 2.7,\n",
    "            \"Transform\": [\n",
    "                [\"Rotation\", 90, 1, 0, 0],\n",
    "                [\"Scaling\", 0.2, 0.2, 0.2]\n",
    "\n",
    "            ]\n",
    "        },\n",
    "        {\n",
    "            \"Label\": \"rear_flage\",\n",
    "            \"Path\": \"input_data/TurboPump/rear_flange.stl\",\n",
    "            \"Unit\": \"mm\",\n",
    "            \"Material\": [\"Element\", \"Al\"],\n",
    "            \"Density\": 2.7,\n",
    "            \"Transform\": [\n",
    "                [\"Rotation\", 90, 1, 0, 0],\n",
    "                [\"Scaling\", 0.2, 0.2, 0.2]\n",
    "            ]\n",
    "        },\n",
    "        {\n",
    "            \"Label\": \"housing\",\n",
    "            \"Path\": \"input_data/TurboPump/housing.stl\",\n",
    "            \"Unit\": \"mm\",\n",
    "            \"Material\": [\"Element\", \"Fe\"],\n",
    "            \"Density\": 7.874,\n",
    "            \"Transform\": [\n",
    "                [\"Rotation\", 90, 1, 0, 0],\n",
    "                [\"Scaling\", 0.2, 0.2, 0.2]\n",
    "            ]\n",
    "        },\n",
    "        {\n",
    "            \"Label\": \"roller_bearing\",\n",
    "            \"Path\": \"input_data/TurboPump/ThrustRollerBearing.stl\",\n",
    "            \"Unit\": \"mm\",\n",
    "            \"Material\": [\"Element\", \"Ti\"],\n",
    "            \"Density\": 4.506,\n",
    "            \"Transform\": [\n",
    "                [\"Rotation\", 90, 1, 0, 0],\n",
    "                [\"Scaling\", 0.2, 0.2, 0.2]\n",
    "            ]\n",
    "        }\n",
    "    ],\n",
    "\n",
    "    \"Scan\": {\n",
    "        \"NumberOfProjections\":721,\n",
    "        \"FinalAngle\": 360,\n",
    "        \"IncludeFinalAngle\": false,\n",
    "        \"CenterOfRotation\": [0,0,0],\n",
    "        \"OutFolder\": \"./input_data/TurboPump/scan/scan\"\n",
    "    }\n",
    "}\n",
    "\"\"\""
   ]
  },
  {
   "cell_type": "markdown",
   "id": "73d1380f-a411-44b0-9b25-110da6525e7c",
   "metadata": {},
   "source": [
    "## Read in the TIFF stack"
   ]
  },
  {
   "cell_type": "code",
   "execution_count": null,
   "id": "bf5209ea-4bfe-4c3e-806b-c51c4374d124",
   "metadata": {},
   "outputs": [],
   "source": [
    "reader = TIFFStackReader(file_name='/mnt/materials/IBSim/TurboPump-scan/projections/')"
   ]
  },
  {
   "cell_type": "code",
   "execution_count": null,
   "id": "eb237cf3-f187-4924-a9da-3e1669f07ac5",
   "metadata": {},
   "outputs": [],
   "source": [
    "data_in = reader.read()"
   ]
  },
  {
   "cell_type": "code",
   "execution_count": null,
   "id": "e2274b5f-c1b0-41fa-8d8a-bf0600e58611",
   "metadata": {},
   "outputs": [],
   "source": [
    "islicer(data_in)"
   ]
  },
  {
   "cell_type": "markdown",
   "id": "e887897d-cd76-4b83-8f62-0d721486bd74",
   "metadata": {},
   "source": [
    "## Create the AcquisitionGeometry by hand\n",
    "\n",
    "It can be hard to create the right geometry. Each system will use it's own standard definitions so you can't just plug the same numbers in. CIL defines a right hand cordinate system in which you can place your objects in space. The good news is CIL will convert the geometry to ASTRA and TIGRE for you, so you can compare reconstruction backends without worrying about redefining the geometry.\n",
    "\n",
    "`show_geometry` will help you visualise the geometry you've created with CIL's definitions. Is this what you expect?"
   ]
  },
  {
   "cell_type": "code",
   "execution_count": null,
   "id": "550f90f8-5f3b-4bde-871f-769bb5c30240",
   "metadata": {},
   "outputs": [],
   "source": [
    "ag_3d = AcquisitionGeometry.create_Cone3D([0, -200, 0],[0, 150, 0] )\n",
    "ag_3d.set_angles(np.linspace(0, 360,721, False))\n",
    "ag_3d.set_panel([900, 900],[0.2,0.2])\n",
    "ag_3d.set_labels(['angle','vertical','horizontal'])"
   ]
  },
  {
   "cell_type": "code",
   "execution_count": null,
   "id": "231bc075-035c-42d2-9611-41143133ddf8",
   "metadata": {},
   "outputs": [],
   "source": [
    "print(ag_3d)"
   ]
  },
  {
   "cell_type": "code",
   "execution_count": null,
   "id": "81095c42-d478-4324-af4d-bfb11efb5041",
   "metadata": {},
   "outputs": [],
   "source": [
    "show_geometry(ag_3d)"
   ]
  },
  {
   "cell_type": "markdown",
   "id": "30961a06-98ca-4972-be18-c26434800ee1",
   "metadata": {},
   "source": [
    "## Create a CIL `AcquisitionData` from the geometry and the raw data array"
   ]
  },
  {
   "cell_type": "code",
   "execution_count": null,
   "id": "63d3f17a-deb4-4be8-b85a-25b267623555",
   "metadata": {},
   "outputs": [],
   "source": [
    "data = AcquisitionData(data_in, deep_copy=False, geometry=ag_3d)"
   ]
  },
  {
   "cell_type": "code",
   "execution_count": null,
   "id": "aa456cee-0935-4839-8d57-4b16de3db1d1",
   "metadata": {},
   "outputs": [],
   "source": [
    "islicer(data)"
   ]
  },
  {
   "cell_type": "markdown",
   "id": "c9547872-1754-4b03-919f-8d43ab9883ea",
   "metadata": {},
   "source": [
    "## Convert to absorption data"
   ]
  },
  {
   "cell_type": "code",
   "execution_count": null,
   "id": "b6c254ef-3631-4da2-8f74-6ce60c64e052",
   "metadata": {},
   "outputs": [],
   "source": [
    "data_corr = TransmissionAbsorptionConverter(white_level=data_in.max())(data)"
   ]
  },
  {
   "cell_type": "code",
   "execution_count": null,
   "id": "9440b65e-accc-4f2e-a845-c6f0ea2be00f",
   "metadata": {},
   "outputs": [],
   "source": [
    "islicer(data_corr)"
   ]
  },
  {
   "cell_type": "markdown",
   "id": "34879c76-f191-4529-8a41-a9fac6dc1675",
   "metadata": {},
   "source": [
    "## Pull out the centre slice and reconstruct this"
   ]
  },
  {
   "cell_type": "code",
   "execution_count": null,
   "id": "019ce65f-ca6e-4eae-81e2-cc202e1384a0",
   "metadata": {},
   "outputs": [],
   "source": [
    "data_ss = data_corr.get_slice(vertical='centre')"
   ]
  },
  {
   "cell_type": "code",
   "execution_count": null,
   "id": "c8a5747d-db21-489a-b892-57b027ac50fa",
   "metadata": {},
   "outputs": [],
   "source": [
    "show2D(data_ss)"
   ]
  },
  {
   "cell_type": "code",
   "execution_count": null,
   "id": "0def56bb-3730-4063-82fd-57f64f9b6320",
   "metadata": {},
   "outputs": [],
   "source": [
    "show_geometry(data_ss.geometry)"
   ]
  },
  {
   "cell_type": "markdown",
   "id": "3fa15e1b-a42d-4fa7-8c7f-4b8ab61255fe",
   "metadata": {},
   "source": [
    "Tune the reconstruction roi by hand. Set the number of voxels to reconstruct and the window position"
   ]
  },
  {
   "cell_type": "code",
   "execution_count": null,
   "id": "8ab31f72-52b2-4ffc-ac7a-7bcbfb598675",
   "metadata": {},
   "outputs": [],
   "source": [
    "ig_2D = data_ss.geometry.get_ImageGeometry()\n",
    "\n",
    "print(ig_2D)\n",
    "\n",
    "ig_2D.voxel_num_x = 600\n",
    "ig_2D.voxel_num_y = 600\n",
    "\n",
    "ig_2D.center_x = -40 * ig_2D.voxel_size_x\n",
    "ig_2D.center_y = 0 * ig_2D.voxel_size_y\n",
    "\n",
    "print(ig_2D)"
   ]
  },
  {
   "cell_type": "code",
   "execution_count": null,
   "id": "1dfed2e4-d28d-4949-bc90-334450b90ade",
   "metadata": {},
   "outputs": [],
   "source": [
    "reco1 = FDK(data_ss, ig_2D).run()\n",
    "show2D(reco1)"
   ]
  },
  {
   "cell_type": "markdown",
   "id": "b0d4178d-1251-4178-bac4-cadbe20c7551",
   "metadata": {},
   "source": [
    "## Reconstruct the 3D dataset"
   ]
  },
  {
   "cell_type": "markdown",
   "id": "9ccf8707-19e2-44d2-aa29-6bca0f2b93f7",
   "metadata": {},
   "source": [
    "Start with the default image geometry. This has the voxel sizes set  to `pixel_sixe/magnification`. From the 2D dataset we can use the same roi for x and y, but will have to tune the z direction manually. Let's reconstruct it at a quatar resolution first. We need to scale everything by our reconstruction volume resolution."
   ]
  },
  {
   "cell_type": "code",
   "execution_count": null,
   "id": "52a36cc5-ab5f-40a1-9768-213ff439029a",
   "metadata": {},
   "outputs": [],
   "source": [
    "#resolution = 1\n",
    "resolution = 1/4"
   ]
  },
  {
   "cell_type": "code",
   "execution_count": null,
   "id": "cf3d8dbc-64fd-4a75-bab1-e2330d27f24e",
   "metadata": {},
   "outputs": [],
   "source": [
    "ig = ag_3d.get_ImageGeometry(resolution)\n",
    "print(ig)"
   ]
  },
  {
   "cell_type": "code",
   "execution_count": null,
   "id": "6bb38f59-a286-4e93-a07a-61582d41a046",
   "metadata": {},
   "outputs": [],
   "source": [
    "ig.voxel_num_x = 600*resolution\n",
    "ig.voxel_num_y = 600*resolution\n",
    "ig.voxel_num_z = 400*resolution\n",
    "\n",
    "ig.center_x = -40*resolution * ig.voxel_size_x\n",
    "ig.center_y = 0*resolution * ig.voxel_size_y\n",
    "ig.center_z = -100*resolution * ig.voxel_size_z\n",
    "\n",
    "print(ig)"
   ]
  },
  {
   "cell_type": "code",
   "execution_count": null,
   "id": "9af9c56b-22f9-4ee3-aa6c-3710d7179c90",
   "metadata": {},
   "outputs": [],
   "source": [
    "recon_full = FDK(data_corr,ig).run()"
   ]
  },
  {
   "cell_type": "code",
   "execution_count": null,
   "id": "b87f6b9a-fe95-49a1-b1d8-5e1183990c15",
   "metadata": {},
   "outputs": [],
   "source": [
    "# look at the maximum value in each direction to help us constrain the reconstruction window\n",
    "show2D([recon_full.array.max(axis=0),recon_full.array.max(axis=1)])"
   ]
  },
  {
   "cell_type": "markdown",
   "id": "6c4fea2a-4d17-4d39-9ce4-5a5e8e8207f3",
   "metadata": {},
   "source": [
    "Once we are happy with the speicied roi let's reconstruct at full resolution, go back and set the resolution to 1 (the default value)."
   ]
  },
  {
   "cell_type": "markdown",
   "id": "fe403bf9-a7e1-40cc-955f-b07829c38ad1",
   "metadata": {},
   "source": [
    "## Visualise the Final reconstuction"
   ]
  },
  {
   "cell_type": "code",
   "execution_count": null,
   "id": "a75c38ea-f9ab-4270-95ab-387368878a18",
   "metadata": {},
   "outputs": [],
   "source": [
    "islicer(recon_full, size=25)"
   ]
  }
 ],
 "metadata": {
  "kernelspec": {
   "display_name": "Python 3 (ipykernel)",
   "language": "python",
   "name": "python3"
  },
  "language_info": {
   "codemirror_mode": {
    "name": "ipython",
    "version": 3
   },
   "file_extension": ".py",
   "mimetype": "text/x-python",
   "name": "python",
   "nbconvert_exporter": "python",
   "pygments_lexer": "ipython3",
   "version": "3.10.6"
  }
 },
 "nbformat": 4,
 "nbformat_minor": 5
}
