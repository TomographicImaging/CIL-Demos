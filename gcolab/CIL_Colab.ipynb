{
 "cells": [
  {
   "cell_type": "markdown",
   "metadata": {},
   "source": [
    "### Install Conda in google colab"
   ]
  },
  {
   "cell_type": "code",
   "execution_count": null,
   "metadata": {
    "id": "pkmo5kuBPM84"
   },
   "outputs": [],
   "source": [
    "!pip install -q condacolab"
   ]
  },
  {
   "cell_type": "code",
   "execution_count": null,
   "metadata": {
    "id": "07hkgmxJPUMQ"
   },
   "outputs": [],
   "source": [
    "import condacolab"
   ]
  },
  {
   "cell_type": "markdown",
   "metadata": {},
   "source": [
    "### Please wait for the kernel to restart"
   ]
  },
  {
   "cell_type": "code",
   "execution_count": null,
   "metadata": {
    "colab": {
     "base_uri": "https://localhost:8080/"
    },
    "id": "zxJBMrpnPVuH",
    "outputId": "d6781a77-ea44-4bc3-d36f-7bb2e76de148"
   },
   "outputs": [],
   "source": [
    "condacolab.install()"
   ]
  },
  {
   "cell_type": "markdown",
   "metadata": {},
   "source": [
    "### Install CIL with all the libraries"
   ]
  },
  {
   "cell_type": "code",
   "execution_count": null,
   "metadata": {
    "colab": {
     "base_uri": "https://localhost:8080/"
    },
    "id": "3ihTZ111PZQR",
    "outputId": "132536a2-1e04-4f32-cb07-2a1597ec5089"
   },
   "outputs": [],
   "source": [
    "\n",
    "!mamba install -c conda-forge -c intel -c ccpi cil=23.0.1 astra-toolbox ccpi-regulariser tomophantom \"ipywidgets<8\"\n",
    "\n"
   ]
  },
  {
   "cell_type": "markdown",
   "metadata": {},
   "source": [
    "### Install TIGRE as an alterantive tomography backend (Optional)\n",
    "\n",
    "We clone the TIGRE repository and change the directory to the python installation. Then, we run the `setup.py` script and check if the `example.py` demo run without any errors."
   ]
  },
  {
   "cell_type": "code",
   "execution_count": null,
   "metadata": {},
   "outputs": [],
   "source": [
    "!git clone https://github.com/CERN/TIGRE.git # clone repo\n",
    "%cd TIGRE/Python \n",
    "!python setup.py install  \n",
    "!python example.py "
   ]
  },
  {
   "cell_type": "markdown",
   "metadata": {
    "id": "dHSUb0O6Pb8J"
   },
   "source": [
    "### In this demo, we reconstruct simulated tomographic data using:\n",
    "\n",
    "* the Filtered Back Projection (FBP) algorithm, \n",
    "* Total variation (TV) regularisation under a non-negativity constraint\n",
    "\n",
    "    <a id='tv_reg'></a>\n",
    "    \\begin{equation}\n",
    "    \\underset{u}{\\operatorname{argmin}} \\frac{1}{2} \\| A u - g\\|^{2}_{2} + \\alpha\\,\\mathrm{TV}(u) + \\mathbb{I}_{\\{u\\geq0\\}}(u)\n",
    "    \\tag{1}\n",
    "    \\end{equation}\n",
    "\n",
    "    where,\n",
    "\n",
    "    * g is a noisy data corrupted with Gaussian noise and\n",
    "    * $A$ is the Projection operator."
   ]
  },
  {
   "cell_type": "code",
   "execution_count": null,
   "metadata": {
    "id": "7J4wHxSZPeOv"
   },
   "outputs": [],
   "source": [
    "# Import libraries\n",
    "from cil.framework import ImageGeometry\n",
    "from cil.framework import  AcquisitionGeometry\n",
    "\n",
    "from cil.optimisation.functions import L2NormSquared, BlockFunction, MixedL21Norm, IndicatorBox\n",
    "from cil.optimisation.operators import GradientOperator, BlockOperator\n",
    "from cil.optimisation.algorithms import PDHG\n",
    "from cil.plugins.astra import ProjectionOperator, FBP\n",
    "from cil.plugins import TomoPhantom\n",
    "from cil.utilities.display import show2D\n",
    "from cil.utilities import noise\n",
    "\n",
    "import matplotlib.pyplot as plt\n",
    "\n",
    "import numpy as np"
   ]
  },
  {
   "cell_type": "code",
   "execution_count": null,
   "metadata": {
    "colab": {
     "base_uri": "https://localhost:8080/"
    },
    "id": "UpEFXtzh7HQp",
    "outputId": "157a3d65-9d77-4946-8ed1-a5d2894eb9cc"
   },
   "outputs": [],
   "source": [
    "import cil.version\n",
    "print(cil.version.version)"
   ]
  },
  {
   "cell_type": "markdown",
   "metadata": {
    "id": "gRtY9mQwPiC4"
   },
   "source": [
    "We first configure our acquisition geometry, e.g., **2D parallel geometry**. Then, the image geometry is extracted and used to configure our phantom. To create our simulated phantoms, we use the [Tomophantom](https://github.com/dkazanc/TomoPhantom) library."
   ]
  },
  {
   "cell_type": "code",
   "execution_count": null,
   "metadata": {
    "id": "yEJ_lR8EPkJP"
   },
   "outputs": [],
   "source": [
    "# Detectors\n",
    "N = 256\n",
    "detectors =  N\n",
    "\n",
    "# Angles\n",
    "angles = np.linspace(0,180,180, dtype='float32')\n",
    "\n",
    "# Setup acquisition geometry\n",
    "ag = AcquisitionGeometry.create_Parallel2D()\\\n",
    "                        .set_angles(angles)\\\n",
    "                        .set_panel(detectors, pixel_size=0.1)\n",
    "# Get image geometry\n",
    "ig = ag.get_ImageGeometry()\n",
    "\n",
    "# Get phantom\n",
    "phantom = TomoPhantom.get_ImageData(12, ig)"
   ]
  },
  {
   "cell_type": "markdown",
   "metadata": {
    "id": "BSf2s0tuPpvy"
   },
   "source": [
    "Next, we create our simulated tomographic data by projecting our noiseless `phantom` to the acquisition space. Using the image geometry `ig` and acquisition geometry `ag`, we define the `ProjectionOperator` with `device=cpu` or `device=gpu`. Finally,  Gaussian noise is added to the noiseless sinogram."
   ]
  },
  {
   "cell_type": "code",
   "execution_count": null,
   "metadata": {
    "colab": {
     "base_uri": "https://localhost:8080/",
     "height": 324
    },
    "id": "KCYzPRHYPrkA",
    "outputId": "84c2c982-e0ab-4886-a3a6-f5e68e54efcd"
   },
   "outputs": [],
   "source": [
    "# Create projection operator using Astra-Toolbox. Available CPU/CPU\n",
    "A = ProjectionOperator(ig, ag, device = 'gpu')\n",
    "\n",
    "# Create an acqusition data (numerically)\n",
    "sino = A.direct(phantom)\n",
    "\n",
    "# Simulate Gaussian noise for the sinogram\n",
    "gaussian_var = 0.5\n",
    "gaussian_mean = 0\n",
    "\n",
    "n1 = np.random.normal(gaussian_mean, gaussian_var, size = ag.shape)\n",
    "                      \n",
    "noisy_sino = ag.allocate()\n",
    "noisy_sino.fill(n1 + sino.array)\n",
    "noisy_sino.array[noisy_sino.array<0]=0\n",
    "\n",
    "# Show numerical and noisy sinograms\n",
    "show2D([phantom, sino, noisy_sino], title = ['Ground Truth','Sinogram','Noisy Sinogram'], num_cols=3, cmap = 'inferno')\n"
   ]
  },
  {
   "cell_type": "markdown",
   "metadata": {
    "id": "Uh7r2b9rPt1y"
   },
   "source": [
    "For our first reconstruction, we use the Filtered BackProjection algorithm, i.e., `FBP` applied to our noisy sinogram `noisy_sino`."
   ]
  },
  {
   "cell_type": "code",
   "execution_count": null,
   "metadata": {
    "colab": {
     "base_uri": "https://localhost:8080/",
     "height": 358
    },
    "id": "6Aemo1j7Pvtz",
    "outputId": "fca0e39e-0ef8-4c6f-83f5-2ab9f02fed7a"
   },
   "outputs": [],
   "source": [
    "# Setup and run the FBP algorithm\n",
    "fbp_recon = FBP(ig, ag,  device = 'cpu')(noisy_sino)\n",
    "\n",
    "# Show reconstructions\n",
    "show2D([phantom, fbp_recon], \n",
    "       title = ['Ground Truth','FBP reconstruction'], \n",
    "       cmap = 'inferno', fix_range=(0,1.), size=(10,10))"
   ]
  },
  {
   "cell_type": "markdown",
   "metadata": {
    "id": "3XQcTPnLPzeX"
   },
   "source": [
    "In the above reconstruction noise is not penalised. In order to remove noise artifacts, we will use the TotalVariation regularisation as shown in the minimisation problem above.\n",
    "\n",
    "We solve [(1)](#tv_reg), using the **Primal-Dual Hybrid Gradient (PDHG)** algorithm introduced in [ChambollePock](https://link.springer.com/article/10.1007/s10851-010-0251-1). We need to write [(1)](#tgv_reg) in the following general form $$\\underset{x\\in \\mathbb{X} }{\\operatorname{argmin}} f(Kx) + g(x).$$\n",
    "\n",
    "We let $x=u$ and\n",
    "\n",
    "* define an operator $K:\\mathbb{X}\\rightarrow\\mathbb{Y}$ as\n",
    "\n",
    "    \\begin{equation}\n",
    "    K = \n",
    "    \\begin{bmatrix}\n",
    "    A \\\\\n",
    "    D \n",
    "    \\end{bmatrix} \\quad\\Rightarrow\\quad\n",
    "    Kx = Ku = \n",
    "    \\begin{bmatrix}\n",
    "    \\mathcal{A}u\\\\\n",
    "    Du\\\\\n",
    "    \\end{bmatrix} =\n",
    "    \\begin{bmatrix}\n",
    "    y_{1}\\\\\n",
    "    y_{2}\n",
    "    \\end{bmatrix} = y\\in \\mathbb{Y},\n",
    "    \\end{equation}\n",
    "    \n",
    "* define a function $f:\\mathbb{Y}\\rightarrow\\mathbb{R}$ as\n",
    "\n",
    "    \\begin{equation}\n",
    "    \\begin{aligned}\n",
    "    & f(y)  := f(y_{1}, y_{2}) = f_{1}(y_{1}) +  f_{2}(y_{2}) , \\mbox{ where},\\\\[10pt]\n",
    "    & f_{1}(y_{1}) :=  \\frac{1}{2}\\| y_{1} - g\\|_{2}^{2},\\, f_{2}(y_{2}) :=  \\alpha \\|y_{2}\\|_{2,1}\n",
    "    \\end{aligned}\n",
    "    \\end{equation}\n",
    "    \n",
    "* and define a function $g(x) = g(u) = \\mathbb{I}_{\\{u\\geq0\\}}(u)$ for the non-negativity constraint.\n",
    "\n"
   ]
  },
  {
   "cell_type": "code",
   "execution_count": null,
   "metadata": {
    "colab": {
     "base_uri": "https://localhost:8080/"
    },
    "id": "HiG849CoP2J8",
    "outputId": "c280c056-f051-450c-b628-01607099fd7a"
   },
   "outputs": [],
   "source": [
    "# Define BlockOperator K\n",
    "Grad = GradientOperator(ig)\n",
    "K = BlockOperator(A, Grad)\n",
    "\n",
    "# Define BlockFunction f\n",
    "alpha = 0.1\n",
    "f1 = 0.5 * L2NormSquared(b=noisy_sino)\n",
    "f2 = alpha * MixedL21Norm()\n",
    "f = BlockFunction(f1, f2)\n",
    "\n",
    "# Define Function g\n",
    "g = IndicatorBox(lower=0)\n",
    "\n",
    "# Primal/Dual stepsizes\n",
    "normK = K.norm()\n",
    "sigma = 1./normK\n",
    "tau = 1./normK\n",
    "\n",
    "# Setup and run PDHG\n",
    "pdhg = PDHG(f = f, g = g, operator = K, sigma = sigma, tau = tau, \n",
    "            max_iteration = 200,\n",
    "            update_objective_interval = 50)\n",
    "pdhg.run(verbose=2)"
   ]
  },
  {
   "cell_type": "markdown",
   "metadata": {
    "id": "XXGDNfEpP72X"
   },
   "source": [
    "Finally, we compare the PDHG and FBP reconstructions and plot the middle line profiles."
   ]
  },
  {
   "cell_type": "code",
   "execution_count": null,
   "metadata": {
    "colab": {
     "base_uri": "https://localhost:8080/",
     "height": 835
    },
    "id": "v0tjn2izP-IQ",
    "outputId": "073f2d0f-ab22-4f5a-8bcd-2115972449f5"
   },
   "outputs": [],
   "source": [
    "show2D([pdhg.solution,fbp_recon, phantom], title = ['TV regularisation','FBP','Ground Truth'], cmap = 'inferno', num_cols=3, fix_range=(0,1.))\n",
    "\n",
    "# Plot middle line profile\n",
    "plt.figure(figsize=(30,15))\n",
    "plt.plot(phantom.get_slice(horizontal_y = int(N/2)).as_array(), label = 'Ground Truth', linewidth=5)\n",
    "plt.plot(fbp_recon.get_slice(horizontal_y = int(N/2)).as_array(), label = 'FBP', linewidth=5, linestyle='dashed')\n",
    "plt.plot(pdhg.solution.get_slice(horizontal_y = int(N/2)).as_array(), label = 'TV', linewidth=5)\n",
    "plt.legend()\n",
    "plt.title('Middle Line Profiles')\n",
    "plt.show()"
   ]
  }
 ],
 "metadata": {
  "accelerator": "GPU",
  "colab": {
   "collapsed_sections": [],
   "name": "CIL_Colab.ipynb",
   "provenance": []
  },
  "kernelspec": {
   "display_name": "Python 3 (ipykernel)",
   "language": "python",
   "name": "python3"
  },
  "language_info": {
   "codemirror_mode": {
    "name": "ipython",
    "version": 3
   },
   "file_extension": ".py",
   "mimetype": "text/x-python",
   "name": "python",
   "nbconvert_exporter": "python",
   "pygments_lexer": "ipython3",
   "version": "3.9.10"
  }
 },
 "nbformat": 4,
 "nbformat_minor": 4
}
