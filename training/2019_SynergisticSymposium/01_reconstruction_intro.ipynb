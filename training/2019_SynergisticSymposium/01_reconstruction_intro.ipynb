{
 "cells": [
  {
   "cell_type": "code",
   "execution_count": null,
   "metadata": {},
   "outputs": [],
   "source": [
    "#========================================================================\n",
    "# Copyright 2019 Science Technology Facilities Council\n",
    "# Copyright 2019 University of Manchester\n",
    "#\n",
    "# This work is part of the Core Imaging Library developed by Science Technology\t\n",
    "# Facilities Council and University of Manchester\n",
    "#\n",
    "# Licensed under the Apache License, Version 2.0 (the \"License\");\n",
    "# you may not use this file except in compliance with the License.\n",
    "# You may obtain a copy of the License at\n",
    "#\n",
    "# http://www.apache.org/licenses/LICENSE-2.0.txt\n",
    "# \n",
    "# Unless required by applicable law or agreed to in writing, software\n",
    "# distributed under the License is distributed on an \"AS IS\" BASIS,\n",
    "# WITHOUT WARRANTIES OR CONDITIONS OF ANY KIND, either express or implied.\n",
    "# See the License for the specific language governing permissions and\n",
    "# limitations under the License.\n",
    "# \n",
    "#========================================================================="
   ]
  },
  {
   "cell_type": "markdown",
   "metadata": {},
   "source": [
    "# Reconstruction intro\n",
    "## FBP, CGLS\n",
    "\n",
    "**The goal** of this notebook is to get familiar with main Framework concepts through basic filtered-back projection (FBP) and Conjugate Gradient Least Squares (CGLS) reconstructions.\n",
    "\n",
    "**Learning objectives**\n",
    "\n",
    "In the end of this session, participants will be able to:\n",
    "- translate output of a CT instrument into Framework objects\n",
    "- set-up basic FBP reconstruction\n",
    "- formulate CT reconstruction as an optimisation problem and solve it iteratively\n",
    "- visualise final and intermediate reconstruction results"
   ]
  },
  {
   "cell_type": "markdown",
   "metadata": {},
   "source": [
    "**Prerequisites:**\n",
    "We expect users to be familiar with Python and object-oriented programming. Here is a couple of useful links which might help to delve into Python smoothly if you are new to Python.\n",
    "- [A gentle introduction to Python](https://www.programiz.com/python-programming/tutorial)\n",
    "- [NumPy for MATLAB users cheat sheet](https://mas-dse.github.io/DSE200/cheat_sheets/1_python/6_2_NumPy_for_MATLAB_users.pdf)"
   ]
  },
  {
   "cell_type": "code",
   "execution_count": null,
   "metadata": {},
   "outputs": [],
   "source": [
    "# some imports\n",
    "# please, ignore this cell for now, \n",
    "# this is to fix compatibility issues \n",
    "# between different versions of Python\n",
    "from __future__ import absolute_import\n",
    "from __future__ import division\n",
    "from __future__ import print_function"
   ]
  },
  {
   "cell_type": "code",
   "execution_count": null,
   "metadata": {},
   "outputs": [],
   "source": [
    "# import utilities\n",
    "# to minimise amount of code one needs to write to plot data,\n",
    "# we implemented some plotting utilities\n",
    "from utilities import plotter2D"
   ]
  },
  {
   "cell_type": "code",
   "execution_count": null,
   "metadata": {},
   "outputs": [],
   "source": [
    "# set up default device for computation\n",
    "dev = \"gpu\" # can be cpu if gou is not available\n",
    "# set up default colour map for visualisation\n",
    "cmap = \"gray\""
   ]
  },
  {
   "cell_type": "markdown",
   "metadata": {},
   "source": [
    "## CT data acquisition\n",
    "\n",
    "In conventional CT systems, an object is placed between a source emitting X-rays and a detector array measuring the  X-ray transmission images of the incident X-rays. Typically, either the object is placed on a rotating sample stage and rotates with respect to the source-detector assembly, or the source-detector gantry rotates with respect to the stationary object."
   ]
  },
  {
   "cell_type": "markdown",
   "metadata": {},
   "source": [
    "<img src=\"figures/parallel.png\" width=400 height=400 align=\"left\">"
   ]
  },
  {
   "cell_type": "markdown",
   "metadata": {},
   "source": [
    "In the Framework, we implemented `AcquisitionGeometry` class to hold acquisition parameters and `ImageGeometry` to hold geometry of a reconstructed volume. Corresponding data arrays are wrapped as `AcquisitionData` and `ImageData` classes, respectively. \n",
    "\n",
    "In this notebook we will work with parallel geometry. More complex geometries will be discussed in the following notebooks. Geometrical parameters for parallel geometry are depicted below:"
   ]
  },
  {
   "cell_type": "markdown",
   "metadata": {},
   "source": [
    "<img src=\"figures/parallel_geometry.png\" width=600 height=600 align=\"left\">"
   ]
  },
  {
   "cell_type": "markdown",
   "metadata": {},
   "source": [
    "Parallel geometry is 2D geometry, i.e. 2D object is projected onto 1D array. Source-detector rotation with respect to the object (or vice-versa) allows to reconstruct 2D object from 1D measurements. In CT world, data acquired with parallel geometry is quite often referred to as *sinogram*. A sinogram is a stack of 1D projections of a 2D object at different rotation positions. Or, mathemtically speaking, Radon transform of an image.\n",
    "\n",
    "See [Formation of sinogram](https://www.youtube.com/watch?v=q7Rt_OY_7tU)."
   ]
  },
  {
   "cell_type": "markdown",
   "metadata": {},
   "source": [
    "As a test object for this notebook we have chosen a very simple 'hotdog' phantom which imitates an object consisting of two materials."
   ]
  },
  {
   "cell_type": "code",
   "execution_count": null,
   "metadata": {},
   "outputs": [],
   "source": [
    "# imports\n",
    "from ccpi.framework import TestData\n",
    "from ccpi.framework import ImageData, ImageGeometry\n",
    "import os, sys\n",
    "\n",
    "# load ground truth image\n",
    "# number of pixels in the ground truth image\n",
    "N = 512\n",
    "# initialise loader\n",
    "loader = TestData(data_dir=os.path.join(sys.prefix, \"share\", \"ccpi\"))\n",
    "# load data\n",
    "data = loader.load(TestData.SIMPLE_PHANTOM_2D, size=(N, N))\n",
    "# scale data\n",
    "data *= 2.5 / N\n",
    "print(data)"
   ]
  },
  {
   "cell_type": "code",
   "execution_count": null,
   "metadata": {},
   "outputs": [],
   "source": [
    "# plot ground truth image\n",
    "plotter2D(data,\n",
    "          \"Ground truth image\",\n",
    "          cmap=cmap)"
   ]
  },
  {
   "cell_type": "markdown",
   "metadata": {},
   "source": [
    "We will load precomputed `AcquisitionData` with corresponding geometry. For simplicity, we will skip simulation step in this notebook. Also we will now use pre-set `AcquisitionGeometry`, we will show later how to manually set-up `AcquisitionGeometry`. "
   ]
  },
  {
   "cell_type": "code",
   "execution_count": null,
   "metadata": {},
   "outputs": [],
   "source": [
    "# imports\n",
    "from ccpi.framework import AcquisitionGeometry, AcquisitionData\n",
    "from ccpi.io import NEXUSDataReader\n",
    "from ccpi.framework.TestData import data_dir\n",
    "import numpy as np\n",
    "\n",
    "# file path\n",
    "pathname = data_dir\n",
    "filename = 'sino_ideal.nxs'\n",
    "path = os.path.join(pathname, filename)\n",
    "\n",
    "# initialise reader\n",
    "reader = NEXUSDataReader()\n",
    "reader.set_up(nexus_file=path)\n",
    "# load sinogram\n",
    "ad = reader.load_data()\n",
    "print(ad)"
   ]
  },
  {
   "cell_type": "code",
   "execution_count": null,
   "metadata": {},
   "outputs": [],
   "source": [
    "# plot AcquistionData\n",
    "plotter2D(ad,\n",
    "          \"noise free sinogram\",\n",
    "          cmap=cmap)"
   ]
  },
  {
   "cell_type": "markdown",
   "metadata": {},
   "source": [
    "The sinogram contains 360 rows and 512 columns, consequently projections were acquired over 360 rotation positions using a 1D detector with 512 pixel elements. The corresponding geometry is held in an `AcquisitionGeometry` object:"
   ]
  },
  {
   "cell_type": "code",
   "execution_count": null,
   "metadata": {},
   "outputs": [],
   "source": [
    "# get AcquisitionGeometry\n",
    "ag = reader.get_geometry()\n",
    "print(ag)"
   ]
  },
  {
   "cell_type": "markdown",
   "metadata": {},
   "source": [
    "`AcquisiitonGeometry` class also holds information about arrangement of the actual acquisition data array. We use attribute `dimension_labels` to label axis. The expected dimension labels for `AcquisitionData` and `ImageData` are shown below:"
   ]
  },
  {
   "cell_type": "markdown",
   "metadata": {},
   "source": [
    "<img src=\"figures/parallel_data.png\" width=300 height=300 align=\"left\">"
   ]
  },
  {
   "cell_type": "markdown",
   "metadata": {},
   "source": [
    "The default order of dimensions for `AcquisitionData` is `[angle, horizontal]`, meaning that the number of elements along 0 and 1 axes in the acquisition data array is expected to be `n_angles` and `N`, respectively."
   ]
  },
  {
   "cell_type": "code",
   "execution_count": null,
   "metadata": {},
   "outputs": [],
   "source": [
    "print(\"Dimension labels:\\n{}\".format(ag.dimension_labels))"
   ]
  },
  {
   "cell_type": "markdown",
   "metadata": {},
   "source": [
    "## CT reconstruction\n",
    "Tomographic reconstruction consists of resolving the three-dimensional photon attenuation map of a scanned object from the collection of projection measurement. There are two major classes of reconstruction algorithms: *analytic* and *iterative*. \n",
    "\n",
    "<a id='fbp'></a>\n",
    "### Analytic reconstruction\n",
    "The most common analytic reconstruction algorithm is filtered back-projection (FBP). The FBP algorithm is derived from the Fourier Slice theorem which relates line integral measurements to two dimensional Fourier transform of an object’s slice. Although the Fourier Slice theorem provides straightforward solution for tomographic reconstruction, its practical implementation is challenging due to required interpolation from Polar to Cartesian coordinates in the Fourier space. In FBP-type reconstruction methods, projections are ﬁltered independently and then back-projected onto the plane of the tomographic slice. Filtration is used to compensate for nonuniform sampling of the Fourier space (higher frequencies have higher density of sampling points) by linear (Ramp) weighting of the frequency space.\n",
    "\n",
    "To store reconstruction results, we implemented two classes: `ImageGeometry` and `ImageData`. Similar to `AcquisitionData` and `AcquisitionGeometry`, we first define 2D `ImageGeometry`, i.e. voxel grid on which an image will be reconstructed. "
   ]
  },
  {
   "cell_type": "code",
   "execution_count": null,
   "metadata": {},
   "outputs": [],
   "source": [
    "# create ImageGeometry \n",
    "ig = ImageGeometry(voxel_num_x=ag.pixel_num_h,\n",
    "                   voxel_size_x=ag.pixel_size_h,\n",
    "                   voxel_num_y=ag.pixel_num_h,\n",
    "                   voxel_size_y=ag.pixel_size_h)"
   ]
  },
  {
   "cell_type": "markdown",
   "metadata": {},
   "source": [
    "FBP algorithm is implemented as a `Processor` which takes as an input `AcquisitionData` along with `AcquisitionGeometry` and `ImageGeometry`, and returns reconstructed `ImageData`."
   ]
  },
  {
   "cell_type": "code",
   "execution_count": null,
   "metadata": {},
   "outputs": [],
   "source": [
    "# imports\n",
    "from ccpi.astra.processors import FBP\n",
    "\n",
    "# reconstruct noise-free data\n",
    "# configure FBP\n",
    "fbp = FBP(volume_geometry=ig, \n",
    "          sinogram_geometry=ag,\n",
    "          device=dev)\n",
    "# pass actual AcquisitionData\n",
    "fbp.set_input(ad)\n",
    "# run FBP and get results\n",
    "recon_fbp_ideal = fbp.process()"
   ]
  },
  {
   "cell_type": "code",
   "execution_count": null,
   "metadata": {},
   "outputs": [],
   "source": [
    "plotter2D(data, \n",
    "          \"Ground truth\",\n",
    "          cmap=cmap)\n",
    "\n",
    "plotter2D([recon_fbp_ideal, recon_fbp_ideal-data], \n",
    "          [\"Reconstruction of noise-free sinogram\", \"Difference from ground truth\"], \n",
    "          fix_range=False, \n",
    "          stretch_y=False,\n",
    "          cmap=cmap)"
   ]
  },
  {
   "cell_type": "markdown",
   "metadata": {},
   "source": [
    "<a id='cgls'></a>\n",
    "#### Iterative reconstruction\n",
    "Iterative methods use an initial estimate of volume voxel values which is then iteratively updated to best reproduce acquired radiographic data. Here we discuss formulation of iterative reconstruction for 2D parallel gemetry, extension to other geometries is straightforward. Iterative methods formulate the reconstruction methods as a system of linear equations,\n",
    "\n",
    "$$Au = b$$\n",
    "\n",
    "- $u$ is the volume to be reconstructed. $u$ is typically represented as a column vector with $N \\cdot N \\times 1$ elements, where $N$ is the number of elements in a detector row.\n",
    "- $b$ is measured data from $M$ measurements (projections), $b$ is a column vector with $N \\cdot M \\times 1$ elements\n",
    "- $A$ is the projection operator with $N \\cdot M \\times N \\cdot N$ elements. If $i, i = \\{0, 1, \\dots N \\cdot M - 1 \\}$ and $j, j = \\{0, 1, \\dots, N \\cdot N - 1\\}$, then $A_{i,j}$ is the length of intersection of the $i$.th ray with the $j$.th voxel.\n",
    "\n",
    "For any real application, problem size is too large to be solved by direct inversion methods, i.e.\n",
    "\n",
    "$$u = A^{-1}b$$\n",
    "\n",
    "Secondly, the projection matrix $A$ is often under-determined (low number of projections or missing angles), i.e. \n",
    "\n",
    "$$M \\ll N$$\n",
    "\n",
    "Therefore we formulate reconstruction as an optimization problem and use iterative solvers to solve:\n",
    "\n",
    "$$\\underset{u}{\\mathrm{argmin}}\\begin{Vmatrix}A u - b\\end{Vmatrix}^2_2$$\n",
    "\n",
    "Since iterative methods involve forward- and back-projection steps, assumptions of data acquisition, data processing, system geometries, and noise characteristic can be incorporated into the reconstruction procedure. However, iterative methods are computationally demanding, you will notice that it takes longer to get reconstruction results with iterative methods."
   ]
  },
  {
   "cell_type": "markdown",
   "metadata": {},
   "source": [
    "From mathematical point of view, projection matrix $A$ is an operator which maps from the set $x$ (*domain*) to the set $b$ (*range*):\n",
    "$$A: u \\to b$$\n",
    "In the framework, we implemented a generic `Operator` class. The two most important methods of the `Operator` are `direct` and `adjoint` methods that describe the result of applying the operator, and its adjoint respectively, onto a compatible `DataContainer` (`AcquisitionData` or `ImageData`) input. The output is another `DataContainer` object or subclass hereof. An important special case of the `Operator` class, is the projection operator $A$ for CT, where `direct` and `adjoint` method correspond to forward- and back-projection respectively."
   ]
  },
  {
   "cell_type": "code",
   "execution_count": null,
   "metadata": {},
   "outputs": [],
   "source": [
    "# imports\n",
    "from ccpi.astra.operators import AstraProjectorSimple \n",
    "\n",
    "# define the projection operator A\n",
    "operator = AstraProjectorSimple(ig, ag, dev)\n",
    "\n",
    "# forward projection\n",
    "forward_projection = operator.direct(data)\n",
    "\n",
    "# back_projection\n",
    "back_projection = operator.adjoint(forward_projection)\n",
    "\n",
    "plotter2D([forward_projection, back_projection],\n",
    "          [\"Forward projection\", \"Back projection\"],\n",
    "          fix_range=False,\n",
    "          cmap=cmap)"
   ]
  },
  {
   "cell_type": "code",
   "execution_count": null,
   "metadata": {},
   "outputs": [],
   "source": [
    "print(\"Range: {} \\n\".format(operator.range_geometry()))\n",
    "print(\"Domain: {} \\n\".format(operator.domain_geometry()))"
   ]
  },
  {
   "cell_type": "markdown",
   "metadata": {},
   "source": [
    "The `Operator` class also has a `norm` method."
   ]
  },
  {
   "cell_type": "code",
   "execution_count": null,
   "metadata": {},
   "outputs": [],
   "source": [
    "print(\"Operator norm: {}\\n\".format(operator.norm()))"
   ]
  },
  {
   "cell_type": "markdown",
   "metadata": {},
   "source": [
    "The Framework provides a number of generic optimisation algorithms implementations. All algorithms share the same interface and behaviour. Algorithms are iterable Python object which can be run in a for loop, can be stopped and warm restarted.\n",
    "\n",
    "The Conjugate Gradient Least Squares (CGLS) algorithm is commonly used for solving large systems of linear equations, due to its fast convergence. CGLS takes `operator`, measured data and initial value as an input."
   ]
  },
  {
   "cell_type": "code",
   "execution_count": null,
   "metadata": {},
   "outputs": [],
   "source": [
    "# imports\n",
    "from ccpi.optimisation.algorithms import CGLS\n",
    "\n",
    "# initial estimate - zero array in this case \n",
    "x_init = ig.allocate(0)\n",
    "\n",
    "# setup CGLS\n",
    "cgls = CGLS(x_init=x_init, \n",
    "            operator=operator, \n",
    "            data=ad)\n",
    "cgls.max_iteration = 10\n",
    "cgls.update_objective_interval = 1"
   ]
  },
  {
   "cell_type": "code",
   "execution_count": null,
   "metadata": {},
   "outputs": [],
   "source": [
    "# run N interations\n",
    "cgls.run(10, verbose=True)"
   ]
  },
  {
   "cell_type": "code",
   "execution_count": null,
   "metadata": {},
   "outputs": [],
   "source": [
    "# get and visusualise the results\n",
    "recon_cgls_ideal = cgls.get_output()\n",
    "\n",
    "plotter2D([recon_cgls_ideal, recon_cgls_ideal - data],\n",
    "          [\"CGLS reconstruction\", \"Difference from ground truth\"],\n",
    "          fix_range=True,\n",
    "          cmap=cmap)"
   ]
  },
  {
   "cell_type": "markdown",
   "metadata": {},
   "source": [
    "Alternatively, tolerance can be used as a stopping criterion."
   ]
  },
  {
   "cell_type": "code",
   "execution_count": null,
   "metadata": {},
   "outputs": [],
   "source": [
    "# setup CGLS\n",
    "cgls = CGLS(x_init=x_init, \n",
    "            operator=operator, \n",
    "            data=ad,\n",
    "            tolerance=1e-4) # default 1e-6\n",
    "cgls.max_iteration = 200\n",
    "cgls.update_objective_interval = 10"
   ]
  },
  {
   "cell_type": "code",
   "execution_count": null,
   "metadata": {},
   "outputs": [],
   "source": [
    "# run N interations\n",
    "cgls.run(200, verbose=True)"
   ]
  },
  {
   "cell_type": "code",
   "execution_count": null,
   "metadata": {},
   "outputs": [],
   "source": [
    "# get and visusualise the results\n",
    "recon_cgls_dummy = cgls.get_output()\n",
    "\n",
    "plotter2D([recon_cgls_dummy, recon_cgls_dummy - data],\n",
    "          [\"CGLS reconstruction\", \"Difference from ground truth\"],\n",
    "          fix_range=True,\n",
    "          cmap=cmap)"
   ]
  },
  {
   "cell_type": "markdown",
   "metadata": {},
   "source": [
    "## Adding some complexity\n",
    "\n",
    "In the example above we worked with ideal (i.e. noise- or artifacts-free) sinogram acquired over the sufficient number of rotation positions which is not always the case with datasets obtained in real experiments. Let us take a look how both FBP and CGLS algorithms will perform on noisy and/or insufficient data.\n",
    "\n",
    "### Noisy data \n",
    "\n",
    "As X-ray photons travel from an X-ray source to detector elements they interact with matter along their trajectories. In these interactions, photons are either absorbed or scattered, resulting in the attenuation of the incident X-ray. A quantitative description of the interaction of X-rays with matter is given by the Beer-Lambert law (or Beer’s law).\n",
    "$$I^{l} = I^0 \\mathrm{exp}\\left( -\\int_{l} f(g) \\mathrm{d}l \\right)$$\n",
    "where $f(g)$ is the X-ray linear attenuation coefficient of the object at the position $g$ along a given linear X-ray trajectory $l$ from the source to the detector element. If $l$ is the entire trajectory from the source to the detector element, then $I^0$ corresponds to the X-ray intensity upon emission from the source and $I^{l}$ corresponds to the X-ray intensity upon incidence on the detector element. $I^{l}$ is typically called a transmission measurement, whereas a projection measurement is given by\n",
    "$$G^{l} = -\\log \\left( \\frac{I^{l}}{I^0} \\right) = \\int_{l} f(g) \\mathrm{d}l$$"
   ]
  },
  {
   "cell_type": "markdown",
   "metadata": {},
   "source": [
    "Ideally, $I^0$ is a single value, but real detector pixels do respond equally to photon flux. Secondly, pixels might have residual charge (so called dark current). Therefore, to convert $I^{l}$ to $G^{l}$, one needs to perform flat field correction. If $I^F$ is a flat field image (acquired with source on, without an object in the field of view) and $I^d$ is a dark field image (acquired with source off), then flat field correction is given by:\n",
    "$$\\frac{I-I^D}{I^F-I^D}$$"
   ]
  },
  {
   "cell_type": "markdown",
   "metadata": {},
   "source": [
    "Both $I$ and $I^F$ are subject to Poisson noise due to photon counting process. Finally, detectors have limited bit depth (typically between 8 and 16 bits) which introduce additional discretization error due to the limited number of shades which can be encoded with given bit depth.\n",
    "\n",
    "For the following example, we sinulated noisy sinogram, dark and field images for 8 bit detector (0-255)."
   ]
  },
  {
   "cell_type": "code",
   "execution_count": null,
   "metadata": {},
   "outputs": [],
   "source": [
    "# load noisy projections, flat- and dark-field images\n",
    "\n",
    "# filemane\n",
    "pathname = data_dir\n",
    "filename = 'proj.nxs'\n",
    "path = os.path.join(pathname, filename)\n",
    "\n",
    "# load projections\n",
    "reader = NEXUSDataReader()\n",
    "reader.set_up(nexus_file=path)\n",
    "proj = reader.load_data()\n",
    "# get AcquisitionGeometry\n",
    "ag_noisy = reader.get_geometry()\n",
    "\n",
    "# filemane\n",
    "pathname = data_dir\n",
    "filename = 'flat.nxs'\n",
    "path = os.path.join(pathname, filename)\n",
    "\n",
    "# load flat field image\n",
    "reader = NEXUSDataReader()\n",
    "reader.set_up(nexus_file=path)\n",
    "flat = reader.load_data()\n",
    "\n",
    "# filemane\n",
    "pathname = data_dir\n",
    "filename = 'dark.nxs'\n",
    "path = os.path.join(pathname, filename)\n",
    "\n",
    "# load dark field image\n",
    "reader = NEXUSDataReader()\n",
    "reader.set_up(nexus_file=path)\n",
    "dark = reader.load_data()"
   ]
  },
  {
   "cell_type": "code",
   "execution_count": null,
   "metadata": {},
   "outputs": [],
   "source": [
    "print(ag_noisy)"
   ]
  },
  {
   "cell_type": "code",
   "execution_count": null,
   "metadata": {},
   "outputs": [],
   "source": [
    "plotter2D([proj, flat, dark], \n",
    "          [\"Projection\", \"Flat field\", \"dark field\"], \n",
    "          fix_range=True, \n",
    "          stretch_y=False,\n",
    "          cmap=cmap)"
   ]
  },
  {
   "cell_type": "markdown",
   "metadata": {},
   "source": [
    "All three loaded images are belong to the `AcquisitionData` class. We defined algebraic operations between objects of `AcquisitionData` class. As a result, we can perform flat/ dark-field correction as follows:"
   ]
  },
  {
   "cell_type": "code",
   "execution_count": null,
   "metadata": {},
   "outputs": [],
   "source": [
    "# perform flat field correction and take negative logarithm\n",
    "ad_noisy = -1*(((proj - dark) / (flat - dark)).log())\n",
    "\n",
    "plotter2D([ad, ad_noisy], \n",
    "          [\"Noise-free sinogram\", \"Noisy sinogram\"], \n",
    "          fix_range=True, \n",
    "          stretch_y=False,\n",
    "          cmap=cmap)"
   ]
  },
  {
   "cell_type": "code",
   "execution_count": null,
   "metadata": {},
   "outputs": [],
   "source": [
    "# FBP reconstruction of noisy data\n",
    "\n",
    "# create ImageGeometry \n",
    "ig_noisy = ImageGeometry(voxel_num_x=ag_noisy.pixel_num_h,\n",
    "                         voxel_size_x=ag_noisy.pixel_size_h,\n",
    "                         voxel_num_y=ag_noisy.pixel_num_h,\n",
    "                         voxel_size_y=ag_noisy.pixel_size_h)\n",
    "\n",
    "# configure FBP\n",
    "fbp = FBP(volume_geometry=ig_noisy, \n",
    "          sinogram_geometry=ag_noisy,\n",
    "          device=dev)\n",
    "fbp.set_input(ad_noisy)\n",
    "recon_fbp_noisy = fbp.process()"
   ]
  },
  {
   "cell_type": "code",
   "execution_count": null,
   "metadata": {},
   "outputs": [],
   "source": [
    "plotter2D(data, \n",
    "          \"Ground truth\",\n",
    "          cmap=cmap)\n",
    "\n",
    "plotter2D([recon_fbp_noisy, recon_fbp_noisy-data], \n",
    "          [\"Reconstruction of noisy sinogram\", \"Difference from ground truth\"], \n",
    "          fix_range=False, \n",
    "          stretch_y=False,\n",
    "          cmap=cmap)"
   ]
  },
  {
   "cell_type": "markdown",
   "metadata": {},
   "source": [
    "The reconstruction above doesn't look particularly good. Let us try to reconstruct the same noisy dataset using the CGLS method. In CGLS without explicit regularisation, the number of iterations plays the role of a regularisation parameter. However, it is often unclear how many iterations is required to get 'good' reconstruction. To control how reconstruction result changes with every iteration, we will visualise intemediate reconstruction results."
   ]
  },
  {
   "cell_type": "code",
   "execution_count": null,
   "metadata": {},
   "outputs": [],
   "source": [
    "# projection operator\n",
    "operator = AstraProjectorSimple(ig_noisy, ag_noisy, dev)\n",
    "\n",
    "# initial estimate - zero array in this case \n",
    "x_init = ig.allocate(0)\n",
    "\n",
    "max_iter = 20\n",
    "step = 2\n",
    "\n",
    "# setup CGLS\n",
    "cgls = CGLS(x_init=x_init, \n",
    "            operator=operator, \n",
    "            data=ad_noisy)\n",
    "cgls.max_iteration = max_iter\n",
    "\n",
    "for i in range(0, max_iter // step):\n",
    "    cgls.run(step, verbose=True)\n",
    "    \n",
    "    # get and visusualise the results\n",
    "    recon_cgls_dummy = cgls.get_output()\n",
    "\n",
    "    plotter2D([recon_cgls_dummy, recon_cgls_dummy - data],\n",
    "              [\"Iteration {}, objective {}\".format(i * step, cgls.loss[-1]), \"Difference from ground truth\"],\n",
    "              fix_range=True,\n",
    "              cmap=cmap)"
   ]
  },
  {
   "cell_type": "markdown",
   "metadata": {},
   "source": [
    "You can see that after iteration 4, reconstruction gets more noisy even though objective value keeps decreasing. After iteration 8, you cannot see significant changes in the reconstruction result."
   ]
  },
  {
   "cell_type": "code",
   "execution_count": null,
   "metadata": {},
   "outputs": [],
   "source": [
    "# re-run CGLS reconstruction with 4 iterations\n",
    "# setup CGLS\n",
    "cgls = CGLS(x_init=x_init, \n",
    "            operator=operator, \n",
    "            data=ad_noisy)\n",
    "cgls.max_iteration = 4\n",
    "\n",
    "cgls.run(4, verbose=True)\n",
    "    \n",
    "# get the results\n",
    "recon_cgls_noisy = cgls.get_output()"
   ]
  },
  {
   "cell_type": "markdown",
   "metadata": {},
   "source": [
    "### Missing angle data\n",
    "Quite often acquired CT data has insufficient number of projections due to some limitations (for instance, for dose reduction in medical imaging and in-vivo synchrotron tomography of small organisms, for time-resolved imaging of fast processes etc). We will take both noise-free and noisy acquisition and choose a relatively small subset of projections, i.e. rows, using slicing. \n",
    "\n",
    "We will use the following mask to simulate missing-angles data acquisition:"
   ]
  },
  {
   "cell_type": "code",
   "execution_count": null,
   "metadata": {},
   "outputs": [],
   "source": [
    "n_angles = 360\n",
    "a = np.int32(np.round((np.arange(1,28) * np.arange(0,27)) / 4))\n",
    "mask = np.concatenate([a, n_angles - 1 - a[::-1]])\n",
    "print(\"Mask: {}\\n\".format(mask))\n",
    "print(\"Number of angles: {}\\n\".format(len(mask)))"
   ]
  },
  {
   "cell_type": "code",
   "execution_count": null,
   "metadata": {},
   "outputs": [],
   "source": [
    "# visualise missing angles acquisition\n",
    "sino_masked = np.zeros_like(ad.as_array())\n",
    "sino_masked[mask, :] = ad.as_array()[mask, :]\n",
    "\n",
    "plotter2D([ad, sino_masked],\n",
    "          [\"All angles\", \"Missing angles acquisition\"],\n",
    "          cmap=cmap)"
   ]
  },
  {
   "cell_type": "markdown",
   "metadata": {},
   "source": [
    "Now we will show some tricks how to manipulate objects in the Framework. First, we create new `AcquisitionGeometry` and `AcquisitionData` from existing."
   ]
  },
  {
   "cell_type": "code",
   "execution_count": null,
   "metadata": {},
   "outputs": [],
   "source": [
    "# create a copy of existing AcquisitionGeometry\n",
    "ag_low = ag.clone()"
   ]
  },
  {
   "cell_type": "markdown",
   "metadata": {},
   "source": [
    "Note, that `ag_low = ag` will not create a copy but will create a pointer to the `ag` object, therefore we have to use the `clone` method."
   ]
  },
  {
   "cell_type": "markdown",
   "metadata": {},
   "source": [
    "Acquisition angles in `AcquisiionGeometry` are stored as a numpy array. Below we use numpy slicing to assign new angles:"
   ]
  },
  {
   "cell_type": "code",
   "execution_count": null,
   "metadata": {},
   "outputs": [],
   "source": [
    "# and pass new acquisition angles using slicing of numpy array.\n",
    "ag_low.angles = ag.angles[mask]\n",
    "\n",
    "print(ag_low)"
   ]
  },
  {
   "cell_type": "markdown",
   "metadata": {},
   "source": [
    "Secondly, create new `AcquisitionData` from existing."
   ]
  },
  {
   "cell_type": "code",
   "execution_count": null,
   "metadata": {},
   "outputs": [],
   "source": [
    "# allocate new AcquisitionData from ag_low\n",
    "ad_low = ag_low.allocate()\n",
    "\n",
    "print(ad_low)"
   ]
  },
  {
   "cell_type": "code",
   "execution_count": null,
   "metadata": {},
   "outputs": [],
   "source": [
    "# unwrap ad and use numpy slicing to create a new sinogram with low number of projections\n",
    "ad_low.fill(ad.as_array()[mask,:])\n",
    "\n",
    "plotter2D([ad, ad_low], \n",
    "          [\"Full sinogram\", \"Missing angles sinogram\"], \n",
    "          fix_range = True, \n",
    "          stretch_y = False,\n",
    "          cmap=cmap)"
   ]
  },
  {
   "cell_type": "markdown",
   "metadata": {},
   "source": [
    "Repeat the same manipulations for noisy data (we do not need to create a new `AcquisitionGeometry` for noisy data, because both noise-free and noisy sinograms will share the same geometry)."
   ]
  },
  {
   "cell_type": "code",
   "execution_count": null,
   "metadata": {},
   "outputs": [],
   "source": [
    "# allocate new AcquisitionData from ag_low\n",
    "ad_low_noisy = ag_low.allocate()\n",
    "\n",
    "# unwrap ad and use numpy slicing to create a new sinogram with low number of projections\n",
    "ad_low_noisy.fill(ad_noisy.as_array()[mask,:])\n",
    "\n",
    "plotter2D([ad_low, ad_low_noisy], \n",
    "          [\"Missing angles sinogram, noise-free\", \"Missing angles sinogram, noisy\"], \n",
    "          fix_range=True, \n",
    "          stretch_y=False,\n",
    "          cmap=cmap)"
   ]
  },
  {
   "cell_type": "markdown",
   "metadata": {},
   "source": [
    "**Exercise 1:**\n",
    "\n",
    "Set-up [FBP reconstruction](#fbp) of both `ad_low` and `ad_low_noisy` datasets. Compare with reconstrctions of both (noise-free and noisy) datasets with sufficient number of projections.\n",
    "Hint: you do not need to create new `ImageGeometry`, you can re-use the same `ig` because we reconstruct all the datastes onto the same voxel grid.\n",
    "\n",
    "Below you can see commented skeleton of the code you need to modify."
   ]
  },
  {
   "cell_type": "code",
   "execution_count": null,
   "metadata": {},
   "outputs": [],
   "source": [
    "# reconstruct noise-free data\n",
    "# configure FBP\n",
    "# fbp = FBP(volume_geometry=ig, \n",
    "#           sinogram_geometry=...,\n",
    "#           device=dev)\n",
    "# pass actual AcquisitionData\n",
    "# fbp.set_input(...)\n",
    "# run FBP and get results\n",
    "# recon_fbp_low = fbp.process()"
   ]
  },
  {
   "cell_type": "code",
   "execution_count": null,
   "metadata": {},
   "outputs": [],
   "source": [
    "# reconstruct noisy data\n",
    "# configure FBP\n",
    "# fbp = FBP(volume_geometry=ig, \n",
    "#           sinogram_geometry=...,\n",
    "#           device=dev)\n",
    "# pass actual AcquisitionData\n",
    "# fbp.set_input(...)\n",
    "# run FBP and get results\n",
    "# recon_fbp_low_noisy = fbp.process()"
   ]
  },
  {
   "cell_type": "code",
   "execution_count": null,
   "metadata": {},
   "outputs": [],
   "source": [
    "# visualise reconstruction results\n",
    "\n",
    "# plotter2D(data, \n",
    "#           \"Ground truth\",\n",
    "#           cmap=cmap)\n",
    "\n",
    "# plotter2D([recon_fbp_ideal, recon_fbp_ideal-data], \n",
    "#           [\"Full acquisition, noise-free\", \"Difference from ground truth\"], \n",
    "#           fix_range=True, \n",
    "#           stretch_y=False,\n",
    "#           cmap=cmap)\n",
    "\n",
    "# plotter2D([recon_fbp_noisy, recon_fbp_noisy-data], \n",
    "#           [\"Full acquisition, noisy\", \"Difference from ground truth\"], \n",
    "#           fix_range=True, \n",
    "#           stretch_y=False,\n",
    "#           cmap=cmap)\n",
    "\n",
    "# plotter2D([recon_fbp_low, recon_fbp_low-data], \n",
    "#           [\"Missing angles, noise-free\", \"Difference from ground truth\"], \n",
    "#           fix_range=True, \n",
    "#           stretch_y=False,\n",
    "#           cmap=cmap)\n",
    "\n",
    "# plotter2D([recon_fbp_low_noisy, recon_fbp_low_noisy-data], \n",
    "#           [\"Missing angles, noisy\", \"Difference from ground truth\"], \n",
    "#           fix_range=True, \n",
    "#           stretch_y=False,\n",
    "#           cmap=cmap)"
   ]
  },
  {
   "cell_type": "markdown",
   "metadata": {},
   "source": [
    "**Exercise 2:**\n",
    "\n",
    "Set-up [CGLS reconstruction](#cgls) of both `ad_low` and `ad_low_noisy` datasets. Compare with reconstrctions of both (noise-free and noisy) datasets with sufficient number of projections.\n",
    "\n",
    "Hint: you have to create a new `operator` because `AcquisitionGeometry` have changed. You do not need to create new `ImageGeometry`.\n",
    "\n",
    "Below you can see commented skeleton of the code you need to modify."
   ]
  },
  {
   "cell_type": "code",
   "execution_count": null,
   "metadata": {},
   "outputs": [],
   "source": [
    "# for noise-free dataset we will use max_iter as stopping criterion\n",
    "\n",
    "# projection operator\n",
    "# operator_low = AstraProjectorSimple(ig, ..., dev)\n",
    "\n",
    "# initial estimate - zero array in this case \n",
    "# x_init = ig.allocate(0)\n",
    "\n",
    "# max_iter = ...\n",
    "\n",
    "# setup CGLS\n",
    "# cgls = CGLS(x_init = ..., \n",
    "#             operator = ..., \n",
    "#             data = ...)\n",
    "# cgls.max_iteration = ...\n",
    "# cgls.update_objective_interval = ...\n",
    "\n",
    "# cgls.run(..., verbose = True)\n",
    "    \n",
    "# get and visusualise the results\n",
    "# recon_cgls_low = ..."
   ]
  },
  {
   "cell_type": "code",
   "execution_count": null,
   "metadata": {},
   "outputs": [],
   "source": [
    "# for noisy dataset we will first try to find the best number of iterations\n",
    "# max_iter = ...\n",
    "# step = ...\n",
    "\n",
    "# setup CGLS\n",
    "# cgls = CGLS(x_init=..., \n",
    "#             operator=..., \n",
    "#             data=...)\n",
    "# cgls.max_iteration = ...\n",
    "\n",
    "# for i in range(0, max_iter // step):\n",
    "#     cgls.run(step, verbose=True)\n",
    "#     \n",
    "#     # get and visusualise the results\n",
    "#     recon_cgls_dummy = ...\n",
    "\n",
    "#     plotter2D([recon_cgls_dummy, recon_cgls_dummy - data],\n",
    "#               [\"Iteration {}, objective {}\".format(i * step, cgls.loss[-1]), \"Difference from ground truth\"],\n",
    "#               fix_range=True,\n",
    "#               cmap=cmap)"
   ]
  },
  {
   "cell_type": "markdown",
   "metadata": {},
   "source": [
    "How many iterations is required to get the most interpretable results? Re-run CGLS with this number of iterations."
   ]
  },
  {
   "cell_type": "code",
   "execution_count": null,
   "metadata": {},
   "outputs": [],
   "source": [
    "# setup CGLS\n",
    "# cgls = CGLS(x_init=..., \n",
    "#             operator=..., \n",
    "#             data=...)\n",
    "# cgls.max_iteration = ...\n",
    "# cgls.run(..., verbose=True)\n",
    "\n",
    "# get and visusualise the results\n",
    "# recon_cgls_low_noisy = ..."
   ]
  },
  {
   "cell_type": "code",
   "execution_count": null,
   "metadata": {},
   "outputs": [],
   "source": [
    "# visualise reconstruction results\n",
    "\n",
    "# plotter2D(data, \n",
    "#           \"Ground truth\",\n",
    "#           cmap=cmap)\n",
    "\n",
    "# plotter2D([recon_cgls_ideal, recon_cgls_ideal-data, recon_cgls_noisy, recon_cgls_noisy-data], \n",
    "#           [\"Full acquisition, noise-free\", \"Difference from ground truth\", \"Full acquisition, noisy\", \"Difference from ground truth\"], \n",
    "#           fix_range=False, \n",
    "#           stretch_y=False,\n",
    "#           cmap=cmap)\n",
    "\n",
    "# plotter2D([recon_cgls_low, recon_cgls_low-data, recon_cgls_low_noisy, recon_cgls_low_noisy-data], \n",
    "#           [\"Missing angles, noise-free\", \"Difference from ground truth\", \"Missing angles, noisy\", \"Difference from ground truth\"], \n",
    "#           fix_range=False, \n",
    "#           stretch_y=False,\n",
    "#           cmap=cmap)"
   ]
  },
  {
   "cell_type": "markdown",
   "metadata": {},
   "source": [
    "### Summary"
   ]
  },
  {
   "cell_type": "markdown",
   "metadata": {},
   "source": [
    "In this notebook you have learn how to:\n",
    "- create `AcquisitionGeometry` and `ImageGeometry`\n",
    "- manipulate `AcquisitionData` and `ImageData`\n",
    "- implement basic CT reconstructions, including analytic FBP and iterative CGLS reconstruction algorithms\n",
    "- evaluate intermediate and final reconstruction results"
   ]
  },
  {
   "cell_type": "code",
   "execution_count": null,
   "metadata": {},
   "outputs": [],
   "source": []
  }
 ],
 "metadata": {
  "kernelspec": {
   "display_name": "Python 2",
   "language": "python",
   "name": "python2"
  },
  "language_info": {
   "codemirror_mode": {
    "name": "ipython",
    "version": 2
   },
   "file_extension": ".py",
   "mimetype": "text/x-python",
   "name": "python",
   "nbconvert_exporter": "python",
   "pygments_lexer": "ipython2",
   "version": "2.7.15+"
  }
 },
 "nbformat": 4,
 "nbformat_minor": 2
}
