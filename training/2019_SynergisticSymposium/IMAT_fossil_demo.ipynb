{
 "cells": [
  {
   "cell_type": "markdown",
   "metadata": {},
   "source": [
    "In this notebook we show a basic script to reconstruct IMAT white beam data. We assume that users are familiar with basic framework concepts."
   ]
  },
  {
   "cell_type": "code",
   "execution_count": null,
   "metadata": {},
   "outputs": [],
   "source": [
    "# imports\n",
    "import numpy as np\n",
    "import matplotlib.pyplot as plt\n",
    "from PIL import Image\n",
    "import os\n",
    "import scipy\n",
    "\n",
    "# ccpi imports\n",
    "from ccpi.framework import AcquisitionData, AcquisitionGeometry\n",
    "from ccpi.framework import ImageData, ImageGeometry\n",
    "from ccpi.processors import CenterOfRotationFinder, Resizer\n",
    "from ccpi.astra.processors.FBP import FBP"
   ]
  },
  {
   "cell_type": "code",
   "execution_count": null,
   "metadata": {},
   "outputs": [],
   "source": [
    "# general parameters\n",
    "imsize = 2048\n",
    "\n",
    "# path\n",
    "path = '/media/newhd/shared/Data/neutrondata/crab/TomoData/Fossils/'"
   ]
  },
  {
   "cell_type": "code",
   "execution_count": null,
   "metadata": {},
   "outputs": [],
   "source": [
    "## load flat-field\n",
    "# path to flat-field\n",
    "path_flat = path + 'Flat/'\n",
    "# filename mask\n",
    "filename_flat = 'IMAT00005147_openbeamafterf123_ob_{:03d}.tif'\n",
    "# number of flats\n",
    "n_flats = 40\n",
    "\n",
    "# allocate average flat\n",
    "flat = np.zeros((imsize, imsize), dtype=np.float32)\n",
    "\n",
    "# loop through flats and calculate average flat\n",
    "for i in range(n_flats):\n",
    "    # generate filename\n",
    "    filename = (path_flat + filename_flat).format(i + 1)\n",
    "    # load flat\n",
    "    try:\n",
    "        flat += np.transpose(np.asarray(Image.open(filename), dtype = np.float32))\n",
    "    except:\n",
    "        print('Error reading\\n {}\\n file.'.format(filename))\n",
    "        raise\n",
    "\n",
    "flat /= n_flats"
   ]
  },
  {
   "cell_type": "code",
   "execution_count": null,
   "metadata": {},
   "outputs": [],
   "source": [
    "## load dark-field\n",
    "# path to dark-field\n",
    "path_dark = path + 'Dark/'\n",
    "# filename mask\n",
    "filename_dark = 'IMAT00005138_fossil1_darkbef_{:03d}.tif'\n",
    "# number of darks\n",
    "n_darks = 20\n",
    "\n",
    "# allocate average dark\n",
    "dark = np.zeros((imsize, imsize), dtype=np.float32)\n",
    "\n",
    "# loop through flats and calculate average flat\n",
    "for i in range(n_darks):\n",
    "    # generate filename\n",
    "    filename = (path_dark + filename_dark).format(i)\n",
    "    # load dark\n",
    "    try:\n",
    "        dark += np.transpose(np.asarray(Image.open(filename), dtype = np.float32))\n",
    "    except:\n",
    "        print('Error reading\\n {}\\n file.'.format(filename))\n",
    "        raise\n",
    "\n",
    "dark /= n_darks"
   ]
  },
  {
   "cell_type": "code",
   "execution_count": null,
   "metadata": {},
   "outputs": [],
   "source": [
    "## load projections\n",
    "# path to projections\n",
    "path_projection = path + 'Sample/'    \n",
    "# filename mask\n",
    "filename_projection = 'IMAT00005154_fossils_tomo_Sample_{:03d}.tif'\n",
    "# number of projections\n",
    "n_proj = 1049\n",
    "\n",
    "# allocate array to store projections\n",
    "proj = np.zeros((n_proj, imsize, imsize), dtype=np.float32)\n",
    "\n",
    "# loop through projections \n",
    "for i in range(n_proj):\n",
    "    print(i)\n",
    "    # generate filename\n",
    "    filename = (path_projection + filename_projection).format(i)\n",
    "    # load projection\n",
    "    try:\n",
    "        tmp = np.transpose(np.asarray(Image.open(filename), dtype = np.float32))\n",
    "    except:\n",
    "        print('Error reading\\n {}\\n file.'.format(filename))\n",
    "        raise\n",
    "    \n",
    "    # apply flat/ dark filed correction (avoid dividion by 0) and take negative log\n",
    "    denom = flat - dark\n",
    "    nom = tmp - dark\n",
    "    mask = np.logical_and(nom > 0, denom > 0)\n",
    "    proj[i, mask] = -np.log(nom[mask] / denom[mask])"
   ]
  },
  {
   "cell_type": "code",
   "execution_count": null,
   "metadata": {},
   "outputs": [],
   "source": [
    "plt.subplot(121)\n",
    "plt.imshow(proj[0, :, :], cmap = plt.cm.inferno)\n",
    "plt.colorbar()\n",
    "plt.title('0 projection')\n",
    "plt.subplot(122)\n",
    "plt.imshow(proj[-1, :, :], cmap = plt.cm.inferno)\n",
    "plt.colorbar()\n",
    "plt.title('last projection')\n",
    "plt.show()"
   ]
  },
  {
   "cell_type": "code",
   "execution_count": null,
   "metadata": {},
   "outputs": [],
   "source": [
    "# create AcquisitionGeometry\n",
    "# this data was acquired over 360 degree rotation, \n",
    "# the first and the last projections are equal, \n",
    "# therefore we skip the last projection\n",
    "ag =  AcquisitionGeometry(geom_type = 'parallel', \n",
    "                          dimension = '3D', \n",
    "                          angles = np.linspace(0, 2*np.pi, n_proj-1, endpoint = False, dtype=np.float32),\n",
    "                          pixel_num_h = imsize, \n",
    "                          pixel_num_v = imsize,\n",
    "                          dimension_labels = ['angle', \\\n",
    "                                              'vertical', \\\n",
    "                                              'horizontal'])"
   ]
  },
  {
   "cell_type": "code",
   "execution_count": null,
   "metadata": {},
   "outputs": [],
   "source": [
    "# create AcquisitionData and pass actual data\n",
    "# again we skip the last projection\n",
    "ad = ag.allocate()\n",
    "ad.fill(proj[:-1, :, :])"
   ]
  },
  {
   "cell_type": "code",
   "execution_count": null,
   "metadata": {},
   "outputs": [],
   "source": [
    "plt.subplot(121)\n",
    "plt.imshow(ad.as_array()[0, :, :], cmap = plt.cm.inferno)\n",
    "plt.colorbar()\n",
    "plt.title('0 projection')\n",
    "plt.subplot(122)\n",
    "plt.imshow(ad.as_array()[525, :, :], cmap = plt.cm.inferno)\n",
    "plt.colorbar()\n",
    "plt.title('525 projection')\n",
    "plt.show()"
   ]
  },
  {
   "cell_type": "code",
   "execution_count": null,
   "metadata": {},
   "outputs": [],
   "source": [
    "# there is quite a lot of empty space around ROI, we can crop data\n",
    "# to reduce dataset size and speed-up reconstruction\n",
    "# note, we will crop the data symmetrically to keep geometrical center \n",
    "# centre of the detector and centre of the projection in the same point\n",
    "# initialise the processsor\n",
    "resizer = Resizer(roi=[-1, (200,imsize-200), (450,imsize-450)])\n",
    "#set the input data\n",
    "resizer.set_input(ad)\n",
    "#get the output data\n",
    "ad = resizer.get_output()\n",
    "# update acquisition geometry\n",
    "ag = ad.geometry"
   ]
  },
  {
   "cell_type": "code",
   "execution_count": null,
   "metadata": {},
   "outputs": [],
   "source": [
    "plt.subplot(121)\n",
    "plt.imshow(ad.as_array()[0, :, :], cmap = plt.cm.inferno)\n",
    "plt.colorbar()\n",
    "plt.title('cropped data, 0 projection')\n",
    "plt.subplot(122)\n",
    "plt.imshow(ad.as_array()[525, :, :], cmap = plt.cm.inferno)\n",
    "plt.colorbar()\n",
    "plt.title('cropped data, 525 projection')\n",
    "plt.show()"
   ]
  },
  {
   "cell_type": "code",
   "execution_count": null,
   "metadata": {},
   "outputs": [],
   "source": [
    "## calculate centre of rotation\n",
    "# we will use two levels to calculate for centre of rotation\n",
    "# to compensate for misalignemnt between axis of rotation \n",
    "# and detector plane\n",
    "l1 = 400\n",
    "l2 = 1200"
   ]
  },
  {
   "cell_type": "code",
   "execution_count": null,
   "metadata": {},
   "outputs": [],
   "source": [
    "# we will first reconstruct two slices without compensation for CoR offset\n",
    "# create AcquisitionGeometry\n",
    "ag_slice =  AcquisitionGeometry(geom_type = 'parallel', \n",
    "                                dimension = '2D', \n",
    "                                angles = np.linspace(0, 2*np.pi, n_proj-1, endpoint = False, dtype=np.float32),\n",
    "                                pixel_num_h = ag.pixel_num_h, \n",
    "                                dimension_labels = ['angle', \\\n",
    "                                                    'horizontal'])\n",
    "\n",
    "# Create Image Geometry\n",
    "ig_slice = ImageGeometry(voxel_num_x=ag.pixel_num_h,\n",
    "                        voxel_num_y=ag.pixel_num_h, \n",
    "                        voxel_size_x=ag.pixel_size_h,\n",
    "                        voxel_size_y=ag.pixel_size_h)\n",
    "\n",
    "ad_slice_l1 = ag_slice.allocate()\n",
    "ad_slice_l1.fill(ad.as_array()[:,l1,:])\n",
    "ad_slice_l2 = ag_slice.allocate()\n",
    "ad_slice_l2.fill(ad.as_array()[:,l2,:])\n",
    "\n",
    "# initialise the processsor\n",
    "fbp = FBP(ig_slice, ag_slice, device='cpu')\n",
    "\n",
    "# set the input data\n",
    "fbp.set_input(ad_slice_l1)\n",
    "fbp.process()\n",
    "# get the output data\n",
    "FBP_l1 = fbp.get_output()\n",
    "\n",
    "# set the input data\n",
    "fbp.set_input(ad_slice_l2)\n",
    "fbp.process()\n",
    "# get the output data\n",
    "FBP_l2 = fbp.get_output()"
   ]
  },
  {
   "cell_type": "code",
   "execution_count": null,
   "metadata": {},
   "outputs": [],
   "source": [
    "plt.subplot(121)\n",
    "plt.imshow(FBP_l1.as_array(), cmap = plt.cm.inferno)\n",
    "plt.colorbar()\n",
    "plt.title('slice {}, no CoR compensation'.format(l1))\n",
    "plt.subplot(122)\n",
    "plt.imshow(FBP_l2.as_array(), cmap = plt.cm.inferno)\n",
    "plt.colorbar()\n",
    "plt.title('slice {}, no CoR compensation'.format(l2))\n",
    "plt.show()"
   ]
  },
  {
   "cell_type": "code",
   "execution_count": null,
   "metadata": {},
   "outputs": [],
   "source": [
    "# use processor CenterOfRotationFinder to calculate cetre of rotation\n",
    "# Note, the processor requires 0-180 degree acuqisition  \n",
    "ag_slice_180 =  AcquisitionGeometry(geom_type = 'parallel', \n",
    "                                    dimension = '2D', \n",
    "                                    angles = np.linspace(0, 2*np.pi, (n_proj-1)//2, endpoint = False, dtype=np.float32),\n",
    "                                    pixel_num_h = ag.pixel_num_h, \n",
    "                                    dimension_labels = ['angle', \\\n",
    "                                                        'horizontal'])\n",
    "    \n",
    "ad_slice_180_l1 = ag_slice_180.allocate()\n",
    "ad_slice_180_l1.fill(ad.as_array()[:524, l1, :])\n",
    "\n",
    "ad_slice_180_l2 = ag_slice_180.allocate()\n",
    "ad_slice_180_l2.fill(ad.as_array()[:524, l2, :])"
   ]
  },
  {
   "cell_type": "code",
   "execution_count": null,
   "metadata": {},
   "outputs": [],
   "source": [
    "cor = CenterOfRotationFinder()\n",
    "cor.set_input(ad_slice_180_l1)\n",
    "centre_l1 = cor.get_output()\n",
    "\n",
    "cor = CenterOfRotationFinder()\n",
    "cor.set_input(ad_slice_180_l2)\n",
    "centre_l2 = cor.get_output()"
   ]
  },
  {
   "cell_type": "code",
   "execution_count": null,
   "metadata": {},
   "outputs": [],
   "source": [
    "# to compensate for misalignment, we will apply  \n",
    "# translation and rotation to the dataset\n",
    "# first we will calculate necessary geometrical parameters\n",
    "\n",
    "# calculate rotation angle\n",
    "rot_angle = np.arcsin((centre_l2 - centre_l1) / (np.sqrt((centre_l2 - centre_l1) ** 2 + (l2 - l1) ** 2)))\n",
    "# and offset\n",
    "offset = centre_l1 - np.tan(-rot_angle) * (ag.pixel_num_v / 2 - l1) - ag.pixel_num_h / 2"
   ]
  },
  {
   "cell_type": "code",
   "execution_count": null,
   "metadata": {},
   "outputs": [],
   "source": [
    "# we will first translate axis of the rotation to have the pivot point in the geometrical centre of the detector\n",
    "trans_ad = ag.allocate()\n",
    "trans_ad.fill(scipy.ndimage.interpolation.shift(ad.as_array(), (0,0,-offset), order=1, mode='nearest'))\n",
    "# and then rotate projections\n",
    "rot_ad = ag.allocate()\n",
    "rot_ad.fill(scipy.ndimage.interpolation.rotate(trans_ad.as_array(), -rot_angle*180/np.pi, reshape=False, axes=(1,2), order=1, mode='reflect'))"
   ]
  },
  {
   "cell_type": "code",
   "execution_count": null,
   "metadata": {},
   "outputs": [],
   "source": [
    "# to visualise effect of translation and rotation, \n",
    "# we will reconstruct a couple of slices again\n",
    "ad_slice_l1 = ag_slice.allocate()\n",
    "ad_slice_l1.fill(trans_ad.as_array()[:,l1,:])\n",
    "ad_slice_l2 = ag_slice.allocate()\n",
    "ad_slice_l2.fill(trans_ad.as_array()[:,l2,:])\n",
    "\n",
    "# initialise the processsor\n",
    "fbp = FBP(ig_slice, ag_slice, device='cpu')\n",
    "\n",
    "# set the input data\n",
    "fbp.set_input(ad_slice_l1)\n",
    "fbp.process()\n",
    "# get the output data\n",
    "FBP_l1 = fbp.get_output()\n",
    "\n",
    "# set the input data\n",
    "fbp.set_input(ad_slice_l2)\n",
    "fbp.process()\n",
    "# get the output data\n",
    "FBP_l2 = fbp.get_output()"
   ]
  },
  {
   "cell_type": "code",
   "execution_count": null,
   "metadata": {},
   "outputs": [],
   "source": [
    "plt.subplot(121)\n",
    "plt.imshow(FBP_l1.as_array(), cmap = plt.cm.inferno)\n",
    "plt.colorbar()\n",
    "plt.title('slice {}, only translation'.format(l1))\n",
    "plt.subplot(122)\n",
    "plt.imshow(FBP_l2.as_array(), cmap = plt.cm.inferno)\n",
    "plt.colorbar()\n",
    "plt.title('slice {}, only translation'.format(l2))\n",
    "plt.show()"
   ]
  },
  {
   "cell_type": "code",
   "execution_count": null,
   "metadata": {},
   "outputs": [],
   "source": [
    "# to visualise effect of translation and rotation, \n",
    "# we will reconstruct a couple of slices again\n",
    "ad_slice_l1 = ag_slice.allocate()\n",
    "ad_slice_l1.fill(rot_ad.as_array()[:,l1,:])\n",
    "ad_slice_l2 = ag_slice.allocate()\n",
    "ad_slice_l2.fill(rot_ad.as_array()[:,l2,:])\n",
    "\n",
    "# initialise the processsor\n",
    "fbp = FBP(ig_slice, ag_slice, device='cpu')\n",
    "\n",
    "# set the input data\n",
    "fbp.set_input(ad_slice_l1)\n",
    "fbp.process()\n",
    "# get the output data\n",
    "FBP_l1 = fbp.get_output()\n",
    "\n",
    "# set the input data\n",
    "fbp.set_input(ad_slice_l2)\n",
    "fbp.process()\n",
    "# get the output data\n",
    "FBP_l2 = fbp.get_output()"
   ]
  },
  {
   "cell_type": "code",
   "execution_count": null,
   "metadata": {},
   "outputs": [],
   "source": [
    "plt.subplot(121)\n",
    "plt.imshow(FBP_l1.as_array(), cmap = plt.cm.inferno)\n",
    "plt.colorbar()\n",
    "plt.title('slice {}, translation and rotation'.format(l1))\n",
    "plt.subplot(122)\n",
    "plt.imshow(FBP_l2.as_array(), cmap = plt.cm.inferno)\n",
    "plt.colorbar()\n",
    "plt.title('slice {}, translation and rotation'.format(l2))\n",
    "plt.show()"
   ]
  },
  {
   "cell_type": "code",
   "execution_count": null,
   "metadata": {},
   "outputs": [],
   "source": [
    "# finally reconstruct full 3D volume\n",
    "# reorder the data axes to prepare the data for the ASTRA operators.\n",
    "data = rot_ad.subset(dimensions=['vertical','angle','horizontal'])\n",
    "\n",
    "# Create Image Geometry\n",
    "ig_full = ImageGeometry(voxel_num_x=ag.pixel_num_h,\n",
    "                        voxel_num_y=ag.pixel_num_h, \n",
    "                        voxel_num_z=ag.pixel_num_v,\n",
    "                        voxel_size_x=ag.pixel_size_h,\n",
    "                        voxel_size_y=ag.pixel_size_h,\n",
    "                        voxel_size_z=ag.pixel_size_v)\n",
    "\n",
    "# initialise the processsor\n",
    "fbp = FBP(ig_full, ag, device='gpu')\n",
    "\n",
    "# set the input data\n",
    "fbp.set_input(data)\n",
    "fbp.process()\n",
    "\n",
    "# get the output data\n",
    "FBP_output = fbp.get_output()"
   ]
  },
  {
   "cell_type": "code",
   "execution_count": null,
   "metadata": {},
   "outputs": [],
   "source": [
    "plt.subplot(221)\n",
    "plt.imshow(FBP_output.as_array()[200, :, :])\n",
    "plt.title('slice 200')\n",
    "plt.subplot(222)\n",
    "plt.imshow(FBP_output.as_array()[400, :, :])\n",
    "plt.title('slice 400')\n",
    "plt.subplot(223)\n",
    "plt.imshow(FBP_output.as_array()[600, :, :])\n",
    "plt.title('slice 600')\n",
    "plt.subplot(224)\n",
    "plt.imshow(FBP_output.as_array()[800, :, :])\n",
    "plt.title('slice 800')\n",
    "plt.show()"
   ]
  },
  {
   "cell_type": "code",
   "execution_count": null,
   "metadata": {},
   "outputs": [],
   "source": []
  }
 ],
 "metadata": {
  "kernelspec": {
   "display_name": "Python 2",
   "language": "python",
   "name": "python2"
  },
  "language_info": {
   "codemirror_mode": {
    "name": "ipython",
    "version": 2
   },
   "file_extension": ".py",
   "mimetype": "text/x-python",
   "name": "python",
   "nbconvert_exporter": "python",
   "pygments_lexer": "ipython2",
   "version": "2.7.15+"
  }
 },
 "nbformat": 4,
 "nbformat_minor": 2
}
