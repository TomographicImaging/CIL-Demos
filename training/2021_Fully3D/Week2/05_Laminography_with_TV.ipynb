{
 "cells": [
  {
   "cell_type": "code",
   "execution_count": null,
   "metadata": {},
   "outputs": [],
   "source": [
    "from cil.framework import AcquisitionGeometry, AcquisitionData\n",
    "\n",
    "from cil.optimisation.algorithms import FISTA\n",
    "from cil.optimisation.functions import ZeroFunction, LeastSquares\n",
    "\n",
    "from cil.io import TIFFStackReader\n",
    "\n",
    "from cil.processors import TransmissionAbsorptionConverter\n",
    "\n",
    "from cil.plugins.astra import ProjectionOperator, FBP\n",
    "\n",
    "from cil.plugins.ccpi_regularisation.functions import FGP_TV\n",
    "\n",
    "from cil.utilities.display import show2D, show_geometry\n",
    "from cil.utilities.jupyter import islicer, link_islicer\n",
    "\n",
    "import numpy as np\n",
    "import matplotlib.pyplot as plt\n",
    "import os\n"
   ]
  },
  {
   "cell_type": "markdown",
   "metadata": {},
   "source": [
    "# Lamniography reconstruction with TV regularisation using FISTA"
   ]
  },
  {
   "cell_type": "markdown",
   "metadata": {},
   "source": [
    "This exercise uses CIL to reconstruct a Laminography dataset - that is a dataset with a tilted rotation axis. \n",
    "\n",
    "Laminography scanning is commonly used for large thin samples like circuit boards. In conventional CT these samples lead to widely varying path-lengths as the sample rotates. By tilting the sample and rotating it around a vector perpendicular to the sample plane the path-lengths stay relatively constant. However, this geometry leads to some artefacts in the reconstruction from the missing data. These artefacts are particularly prevelant when you look at a slice out of the sample plane.\n",
    "\n",
    "By using regularisation, we can supress these artefacts. This notebook compares FDK, a least-squares with FISTA and Total-Variation with FISTA on a Lego phantom.\n",
    "\n",
    "**Learning objectives:**\n",
    "\n",
    "1. Construct an advanced AcquistionGeometry by-hand to describe the titled and offset data\n",
    "\n",
    "2. Use this geometry to read in a Tif stack and create an AcquisitionData object\n",
    "\n",
    "3. Create a custom ImageGeometry around the thin-flat sample\n",
    "\n",
    "4. Reconstruct the data with LS and TV\n",
    "\n"
   ]
  },
  {
   "cell_type": "markdown",
   "metadata": {},
   "source": [
    "## Create the acquisition geometry\n",
    "\n",
    "We know the system parameters from the paper and author clarification. We use this to set up a 3D cone beam geometry with the rotation axis tilited 30&deg towards the source.\n"
   ]
  },
  {
   "cell_type": "code",
   "execution_count": null,
   "metadata": {},
   "outputs": [],
   "source": [
    "\n",
    "#parameters are from the original paper/author clarification\n",
    "src_to_det = 967.3209839\n",
    "src_to_object = 295\n",
    "tilt = 30. * np.pi / 180.\n",
    "centre_of_rotation = 0.254 * 6.\n",
    "\n",
    "mag = src_to_det / src_to_object \n",
    "object_offset_x = centre_of_rotation / mag\n",
    "\n",
    "source_pos_y = -src_to_object\n",
    "detector_pos_y = src_to_det-src_to_object\n",
    "angles_list = -np.linspace(0, 360, 2513, endpoint=False)\n",
    "num_pixels_x = 1596\n",
    "num_pixels_y = 1148\n",
    "pixel_size_xy = 0.254\n",
    "\n",
    "\n",
    "ag = AcquisitionGeometry.create_Cone3D( source_position=[0.0, source_pos_y,0.0], \\\n",
    "                                        detector_position=[0.0, detector_pos_y,0.0],\\\n",
    "                                        rotation_axis_position=[object_offset_x,0,0],\\\n",
    "                                        rotation_axis_direction=[0,-np.sin(tilt), np.cos(tilt)] ) \\\n",
    "                        .set_angles(angles=angles_list, angle_unit='degree')\\\n",
    "                        .set_panel( num_pixels=[num_pixels_x, num_pixels_y], \\\n",
    "                                    pixel_size=pixel_size_xy,\\\n",
    "                                    origin='top-left')\\\n",
    "                        .set_labels(['angle','vertical','horizontal'])\n",
    "print(ag)\n",
    "show_geometry(ag)"
   ]
  },
  {
   "cell_type": "markdown",
   "metadata": {},
   "source": [
    "## Read in the data\n",
    "We will start by reading in data from a stack of tiffs. As we read in the data we will symetrically crop and down-sample the data for speed of running this example.\n",
    "\n",
    "As we are reading in a stack of tiffs we know that 'axis_0' is the angle, 'axis_1' is vertical and 'axis_2' is the horizontal. We want to down-sample and crop only in the horizontal and vertical directions. We create a dictionary of the axis name, and a tuple with the the starting pixel index, the end pixel index and the step size to bin.\n",
    "\n",
    "We also need to change out geometry to account for the new panel size.\n",
    "\n"
   ]
  },
  {
   "cell_type": "code",
   "execution_count": null,
   "metadata": {},
   "outputs": [],
   "source": [
    "binning = 4\n",
    "crop = 100\n",
    "\n",
    "roi = {'axis_1': (crop, -crop, binning), \n",
    "       'axis_2': (crop, -crop, binning)}\n",
    "\n",
    "num_pixels_x = (1596 -2*crop) / binning\n",
    "num_pixels_y = (1148 -2*crop) / binning\n",
    "pixel_size_xy = 0.254 * binning\n",
    "\n",
    "ag.set_panel(num_pixels=[num_pixels_x,num_pixels_y],pixel_size=pixel_size_xy)\n",
    "\n",
    "\n",
    "       "
   ]
  },
  {
   "cell_type": "markdown",
   "metadata": {},
   "source": [
    "From `cil.io` we import and create a `TIFFStackReader` instance to read in the data, this is created with the directory path and the RoI dictionary defined above.\n",
    "\n",
    "As we have already defined our aquisition geometry we can use the function `read_as_AcquisitionData()` to pass this to the reader which will use this to configire and return an `AcquisitionData` object containing the data and the geometry describing it. "
   ]
  },
  {
   "cell_type": "code",
   "execution_count": null,
   "metadata": {},
   "outputs": [],
   "source": [
    "path_common = '/home/tpc56154/Data/LegoLaminography'\n",
    "path = 'Lego_Lamino30deg_XTH/'\n",
    "\n",
    "reader = TIFFStackReader(file_name=os.path.join(path_common, path),roi=roi)\n",
    "acq_data_raw = reader.read_as_AcquisitionData(ag)\n",
    "\n",
    "\n",
    "islicer(acq_data_raw, direction='angle',origin='upper-left')\n"
   ]
  },
  {
   "cell_type": "markdown",
   "metadata": {},
   "source": [
    "We now read in the dark and flat field images and use these to normalise the data. We use `read()` here to simply read in the tiffs and return a numpy array which we delete after applying to the data."
   ]
  },
  {
   "cell_type": "code",
   "execution_count": null,
   "metadata": {},
   "outputs": [],
   "source": [
    "tiffs = [   os.path.join(path_common,'Lego_Lamino30deg_ShadingCorrection_XTH/Dark_80kV85uA.tif'),\n",
    "            os.path.join(path_common,'Lego_Lamino30deg_ShadingCorrection_XTH/Flat_80kV85uA.tif') ]\n",
    "\n",
    "reader = TIFFStackReader(file_name=tiffs, roi=roi)\n",
    "dark_flat_data = reader.read()\n",
    "\n",
    "acq_data_SC = (acq_data_raw-dark_flat_data[0]) / (dark_flat_data[1]-dark_flat_data[0])\n",
    "islicer(acq_data_SC, direction='angle',origin='upper-left')\n",
    "\n",
    "del acq_data_raw\n",
    "del dark_flat_data"
   ]
  },
  {
   "cell_type": "markdown",
   "metadata": {},
   "source": [
    "Finally we convert the intensity data to attenuation data using the Beer-Lambert law"
   ]
  },
  {
   "cell_type": "code",
   "execution_count": null,
   "metadata": {},
   "outputs": [],
   "source": [
    "\n",
    "converter = TransmissionAbsorptionConverter()\n",
    "acq_data_atten = converter(acq_data_SC)\n",
    "islicer(acq_data_atten, direction='angle',origin='upper-left')\n",
    "\n",
    "del acq_data_SC\n"
   ]
  },
  {
   "cell_type": "markdown",
   "metadata": {},
   "source": [
    "## Reconstructing the data using FDK"
   ]
  },
  {
   "cell_type": "markdown",
   "metadata": {},
   "source": [
    "As we are using the astra backend we need to reorder the data for use by astra. If we wre using TIGRE as the backend we could use `data.reorder('tigre')`"
   ]
  },
  {
   "cell_type": "code",
   "execution_count": null,
   "metadata": {},
   "outputs": [],
   "source": [
    "acq_data = acq_data_atten\n",
    "acq_data.reorder('astra')\n",
    "ag = acq_data.geometry\n",
    "print(ag.dimension_labels)"
   ]
  },
  {
   "cell_type": "markdown",
   "metadata": {},
   "source": [
    "We use FDK to reconstruct the data. We can use this output to shrink the reconstruction volume defined by `ImageGeomerty` to a tight region around the object. "
   ]
  },
  {
   "cell_type": "code",
   "execution_count": null,
   "metadata": {},
   "outputs": [],
   "source": [
    "ig = ag.get_ImageGeometry()\n",
    "# ig.voxel_num_z=100\n",
    "# ig.voxel_num_y=250\n",
    "\n",
    "fbp = FBP(ig, ag)\n",
    "FDK_reco = fbp(acq_data)\n"
   ]
  },
  {
   "cell_type": "code",
   "execution_count": null,
   "metadata": {},
   "outputs": [],
   "source": [
    "show2D(FDK_reco,slice_list=[('vertical',50),('horizontal_y',125)], title=\"FBP reconstruction\", fix_range=(-0.02,0.07))"
   ]
  },
  {
   "cell_type": "code",
   "execution_count": null,
   "metadata": {},
   "outputs": [],
   "source": [
    "islicer(FDK_reco, direction=vertical')"
   ]
  },
  {
   "cell_type": "code",
   "execution_count": null,
   "metadata": {},
   "outputs": [],
   "source": [
    "show_geometry(ag,ig)"
   ]
  },
  {
   "cell_type": "code",
   "execution_count": null,
   "metadata": {},
   "outputs": [],
   "source": [
    "##%% Now we hate set up the geometry! Time to compare reconstructions. We'll run Fista iwith LS, and Fista with TV and non-negativity. Both will have a warm start from the FDK reconstuction so will need fewer iterations"
   ]
  },
  {
   "cell_type": "code",
   "execution_count": null,
   "metadata": {},
   "outputs": [],
   "source": [
    "Projector = ProjectionOperator(ig, ag)\n",
    "LS = LeastSquares(A=Projector, b=acq_data)\n",
    "\n",
    "if binning == 4: #pre-calculated for your convinience\n",
    "    LS.L = 80744.14062500001\n",
    "print(\"Lipschitz constant =\", LS.L)\n"
   ]
  },
  {
   "cell_type": "code",
   "execution_count": null,
   "metadata": {},
   "outputs": [],
   "source": [
    "fista_LS = FISTA(initial=FDK_reco, f=LS, g=ZeroFunction(), max_iteration=1000, update_objective_interval=10)\n"
   ]
  },
  {
   "cell_type": "code",
   "execution_count": null,
   "metadata": {},
   "outputs": [],
   "source": [
    "fista_LS.run(100)\n",
    "LS_reco = fista_LS.get_output()\n",
    "\n",
    "show2D(LS_reco,slice_list=[('vertical',40),('horizontal_y', 139)], title=\"LS reconstruction\", fix_range=(-0.02,0.07))\n",
    "\n",
    "plt.figure()\n",
    "plt.semilogy(fista_LS.objective)\n",
    "plt.title('FISTA LS criterion')\n",
    "plt.show()\n"
   ]
  },
  {
   "cell_type": "code",
   "execution_count": null,
   "metadata": {},
   "outputs": [],
   "source": [
    "alpha = 0.5\n",
    "TV = alpha*FGP_TV(device='gpu')\n"
   ]
  },
  {
   "cell_type": "code",
   "execution_count": null,
   "metadata": {},
   "outputs": [],
   "source": [
    "fista_TV = FISTA(initial=FDK_reco, f=LS, g=TV, max_iteration=1000, update_objective_interval=10)\n",
    "fista_TV.update_objective_interval = 10\n"
   ]
  },
  {
   "cell_type": "code",
   "execution_count": null,
   "metadata": {},
   "outputs": [],
   "source": [
    "fista_TV.run(100)\n",
    "TV_reco = fista_TV.get_output()\n",
    "show2D(TV_reco,slice_list=[('vertical',40),('horizontal_y',139)], title=\"TV reconstruction\", fix_range=(-0.02,0.07))\n",
    "\n",
    "plt.figure()\n",
    "plt.semilogy(fista_TV.objective)\n",
    "plt.title('FISTA TV criterion')\n",
    "plt.show()\n",
    "\n"
   ]
  },
  {
   "cell_type": "code",
   "execution_count": null,
   "metadata": {},
   "outputs": [],
   "source": [
    "\n",
    "h1 = islicer(FDK_reco,direction='horizontal_y', minmax=(-0.02,0.07))\n",
    "h2 = islicer(LS_reco,direction='horizontal_y', minmax=(-0.02,0.07))\n",
    "h3 = islicer(TV_reco,direction='horizontal_y', minmax=(-0.02,0.07))\n",
    "\n",
    "link_islicer(h1,h2,h3)\n",
    "print(\"fin\")"
   ]
  },
  {
   "cell_type": "code",
   "execution_count": null,
   "metadata": {},
   "outputs": [],
   "source": []
  }
 ],
 "metadata": {
  "kernelspec": {
   "display_name": "Python 3.8.10 64-bit ('cil-dev': conda)",
   "metadata": {
    "interpreter": {
     "hash": "b02c58cf1d50ca3ecf8d994a115db1c36867e9b4bbac4652683be1266bef7975"
    }
   },
   "name": "python3"
  },
  "language_info": {
   "codemirror_mode": {
    "name": "ipython",
    "version": 3
   },
   "file_extension": ".py",
   "mimetype": "text/x-python",
   "name": "python",
   "nbconvert_exporter": "python",
   "pygments_lexer": "ipython3",
   "version": "3.8.10"
  }
 },
 "nbformat": 4,
 "nbformat_minor": 2
}
