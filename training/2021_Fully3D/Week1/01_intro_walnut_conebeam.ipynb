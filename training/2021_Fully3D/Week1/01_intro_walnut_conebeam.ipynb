{
 "cells": [
  {
   "cell_type": "markdown",
   "id": "694dafc7",
   "metadata": {},
   "source": [
    "# Introductory demo of Core Imaging Library (CIL) \n",
    "\n",
    "### 3D laboratory micro-CT, cone-beam data of walnut"
   ]
  },
  {
   "cell_type": "markdown",
   "id": "53bb7665",
   "metadata": {},
   "source": [
    "First import all modules we will need:"
   ]
  },
  {
   "cell_type": "code",
   "execution_count": null,
   "id": "d48350f1",
   "metadata": {},
   "outputs": [],
   "source": [
    "import numpy as np\n",
    "import os\n",
    "\n",
    "from cil.io import TXRMDataReader, TIFFWriter\n",
    "from cil.processors import TransmissionAbsorptionConverter, CentreOfRotationCorrector, Slicer\n",
    "from cil.plugins.astra import FBP\n",
    "from cil.utilities.display import show2D, show_geometry"
   ]
  },
  {
   "cell_type": "markdown",
   "id": "8bac0c33",
   "metadata": {},
   "source": [
    "Load the 3D cone-beam projection data of a walnut:"
   ]
  },
  {
   "cell_type": "code",
   "execution_count": null,
   "id": "b30864da",
   "metadata": {},
   "outputs": [],
   "source": [
    "base_dir = os.path.abspath(\"/mnt/materials/SIRF/Fully3D/CIL/\")\n",
    "data_name = \"Walnut\"\n",
    "filename = os.path.join(base_dir, data_name, \"valnut_2014-03-21_643_28/tomo-A/valnut_tomo-A.txrm\")\n",
    "\n",
    "data = TXRMDataReader(file_name=filename).read()"
   ]
  },
  {
   "cell_type": "markdown",
   "id": "6bce18d2",
   "metadata": {},
   "source": [
    "The data is loaded in as a CIL `AcquisitionData` object:"
   ]
  },
  {
   "cell_type": "code",
   "execution_count": null,
   "id": "44e35f82",
   "metadata": {},
   "outputs": [],
   "source": [
    "type(data)"
   ]
  },
  {
   "cell_type": "markdown",
   "id": "ccfb3788",
   "metadata": {},
   "source": [
    "We can call `print` for the data to get some basic information:"
   ]
  },
  {
   "cell_type": "code",
   "execution_count": null,
   "id": "1f2d6ac1",
   "metadata": {},
   "outputs": [],
   "source": [
    "print(data)"
   ]
  },
  {
   "cell_type": "markdown",
   "id": "167757f7",
   "metadata": {},
   "source": [
    "Note how labels refer to the different dimensions. We infer that this data set contains 1601 projections each size 1024x1024 pixels."
   ]
  },
  {
   "cell_type": "markdown",
   "id": "a8ab7f23",
   "metadata": {},
   "source": [
    "In addition to the data itself, `AcquisionData` contains geometric metadata in an `AcquisitionGeometry` object in the `geometry` field, which can be printed for more detailed information:"
   ]
  },
  {
   "cell_type": "code",
   "execution_count": null,
   "id": "36b08776",
   "metadata": {},
   "outputs": [],
   "source": [
    "print(data.geometry)"
   ]
  },
  {
   "cell_type": "markdown",
   "id": "a440046b",
   "metadata": {},
   "source": [
    "CIL can illustrate the scan setup visually from the AcquisitionData geometry:"
   ]
  },
  {
   "cell_type": "code",
   "execution_count": null,
   "id": "156a1649",
   "metadata": {},
   "outputs": [],
   "source": [
    "show_geometry(data.geometry)"
   ]
  },
  {
   "cell_type": "markdown",
   "id": "bf546b1b",
   "metadata": {},
   "source": [
    "We can use the dimension labels to extract and display 2D slices of data, such as a single projection:"
   ]
  },
  {
   "cell_type": "code",
   "execution_count": null,
   "id": "acf157f5",
   "metadata": {},
   "outputs": [],
   "source": [
    "show2D(data, slice_list=('angle',800))"
   ]
  },
  {
   "cell_type": "markdown",
   "id": "4880c37b",
   "metadata": {},
   "source": [
    "From the background value of 1.0 we infer that the data is transmission data (it is known to be already centered and flat field corrected) so we just need to convert to absorption/apply the negative logarithm, which can be done using a CIL processor, which will handle small/large outliers:"
   ]
  },
  {
   "cell_type": "code",
   "execution_count": null,
   "id": "ad8f9f5a",
   "metadata": {},
   "outputs": [],
   "source": [
    "data = TransmissionAbsorptionConverter()(data)"
   ]
  },
  {
   "cell_type": "markdown",
   "id": "f70801bc",
   "metadata": {},
   "source": [
    "We again take a look at a slice of the data, now a vertical one to see the central slice sinogram after negative logarithm:"
   ]
  },
  {
   "cell_type": "code",
   "execution_count": null,
   "id": "79d3752e",
   "metadata": {},
   "outputs": [],
   "source": [
    "show2D(data, slice_list=('vertical',512))"
   ]
  },
  {
   "cell_type": "markdown",
   "id": "4899ed4d",
   "metadata": {},
   "source": [
    "CIL supports different back-ends for which data order conventions may differ. Here we use the FBP algorithm from the ASTRA Toolbox, which requires us to permute the data array into the right order:"
   ]
  },
  {
   "cell_type": "code",
   "execution_count": null,
   "id": "3977ab3f",
   "metadata": {},
   "outputs": [],
   "source": [
    "data.reorder(order='astra')"
   ]
  },
  {
   "cell_type": "markdown",
   "id": "a1e0e6f5",
   "metadata": {},
   "source": [
    "The data is now ready for reconstruction. To set up the FBP algorithm we must specify the size/geometry of the reconstruction volume. Here we use the default one:"
   ]
  },
  {
   "cell_type": "code",
   "execution_count": null,
   "id": "d0ae0659",
   "metadata": {},
   "outputs": [],
   "source": [
    "ig = data.geometry.get_ImageGeometry()"
   ]
  },
  {
   "cell_type": "markdown",
   "id": "5a1a719c",
   "metadata": {},
   "source": [
    "We can then create the FBP algorithm (really FDK since 3D cone-beam) from ASTRA running on the GPU and reconstruct the data:"
   ]
  },
  {
   "cell_type": "code",
   "execution_count": null,
   "id": "549bddde",
   "metadata": {},
   "outputs": [],
   "source": [
    "fbp =  FBP(ig, data.geometry, \"gpu\")\n",
    "recon = fbp(data)"
   ]
  },
  {
   "cell_type": "code",
   "execution_count": null,
   "id": "1da1fe3e",
   "metadata": {},
   "outputs": [],
   "source": [
    "show2D(recon, slice_list=[('vertical',512), ('horizontal_x', 512)], fix_range=(-0.01,0.06))"
   ]
  },
  {
   "cell_type": "markdown",
   "id": "dae6075e",
   "metadata": {},
   "source": [
    "We can save the reconstructed volume to disk for example as a stack of TIFFs:"
   ]
  },
  {
   "cell_type": "code",
   "execution_count": null,
   "id": "203040cc",
   "metadata": {},
   "outputs": [],
   "source": [
    "# save_base_path = os.getcwd()\n",
    "# save_path = os.path.join(save_base_path, data_name)\n",
    "# os.makedirs(save_path)\n",
    "\n",
    "# TIFFWriter(data=recon, file_name=os.path.join(save_path, \"out\").write()"
   ]
  },
  {
   "cell_type": "markdown",
   "id": "f9f1dce2",
   "metadata": {},
   "source": [
    "We now demonstrate the effect of reducing the number of projections on the FBP reconstruction."
   ]
  },
  {
   "cell_type": "code",
   "execution_count": null,
   "id": "1e01e510",
   "metadata": {},
   "outputs": [],
   "source": [
    "from cil.processors import Slicer\n",
    "\n",
    "reduce_factor = 10\n",
    "\n",
    "data_reduced = Slicer(roi={'angle': (0,-1,reduce_factor)})(data)\n",
    "\n",
    "ig = data_reduced.geometry.get_ImageGeometry()\n",
    "fbp =  FBP(ig, data_reduced.geometry, \"gpu\")\n",
    "recon_reduced = fbp(data_reduced)"
   ]
  },
  {
   "cell_type": "markdown",
   "id": "5a97ed27",
   "metadata": {},
   "source": [
    "We show the same slices as before:"
   ]
  },
  {
   "cell_type": "code",
   "execution_count": null,
   "id": "91e06051",
   "metadata": {},
   "outputs": [],
   "source": [
    "show2D(recon_reduced, slice_list=[('vertical',512), ('horizontal_x', 512)], fix_range=(-0.01,0.06))"
   ]
  }
 ],
 "metadata": {
  "kernelspec": {
   "display_name": "Python 3",
   "language": "python",
   "name": "python3"
  },
  "language_info": {
   "codemirror_mode": {
    "name": "ipython",
    "version": 3
   },
   "file_extension": ".py",
   "mimetype": "text/x-python",
   "name": "python",
   "nbconvert_exporter": "python",
   "pygments_lexer": "ipython3",
   "version": "3.8.10"
  }
 },
 "nbformat": 4,
 "nbformat_minor": 5
}
