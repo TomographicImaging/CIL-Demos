{
 "cells": [
  {
   "cell_type": "markdown",
   "metadata": {},
   "source": [
    "# Additional open-ended exercises, datasets and resources"
   ]
  },
  {
   "cell_type": "markdown",
   "metadata": {},
   "source": [
    "To further experiment with tomographic reconstruction and data processing using CIL we provide a few additional data sets, suggestions for experiments and links to CIL resources including publications, documentation and demos."
   ]
  },
  {
   "cell_type": "markdown",
   "metadata": {},
   "source": [
    "## Data sets\n",
    "\n",
    "The following data sets have been downloaded and are available on the STFC Cloud shared drive (read only)"
   ]
  },
  {
   "cell_type": "markdown",
   "metadata": {},
   "source": [
    "Cone-beam Nikon data set of crystals in clay from, described at\n",
    "\n",
    "https://zenodo.org/record/4912635"
   ]
  },
  {
   "cell_type": "markdown",
   "metadata": {},
   "source": [
    "Six Zeiss cone-beam data sets including the walnut dataset, described at\n",
    "\n",
    "https://zenodo.org/record/4822516        "
   ]
  },
  {
   "cell_type": "markdown",
   "metadata": {},
   "source": [
    "The sandstone synchrotron data set, both a small extracted data set and the full projections are available from \n",
    "\n",
    "https://zenodo.org/record/4912435"
   ]
  },
  {
   "cell_type": "markdown",
   "metadata": {},
   "source": [
    "#### Additional tomography data resources NOT on the STFC Cloud\n",
    "\n",
    "FIS data: A collection of X-ray CT data sets is available from the Finnish Inverse Problems Society:\n",
    "\n",
    "https://www.fips.fi/dataset.php"
   ]
  },
  {
   "cell_type": "markdown",
   "metadata": {},
   "source": [
    "## Suggestions for experiments"
   ]
  },
  {
   "cell_type": "markdown",
   "metadata": {},
   "source": [
    "Try out loading and generating simulated data from phantoms provided by CIL (cil.utilities.dataexample) or the TomoPhantom CIL plugin (cil.plugins.TomoPhantom). Choose either full data or incomplete data of your choice, add noise, and reconstruct using FBP with different filters or iterative methods SIRT or CGLS. "
   ]
  },
  {
   "cell_type": "markdown",
   "metadata": {},
   "source": [
    "Use CIL processors (e.g. Slicer or Binner or Masker/MaskGenerator) to remove parts of or downsample data sets, for example to obtain a reduced number of projections, a limited angle problem, truncated projections (region of interest data), exterior problem, etc. Compare for example different reconstruction methods at increasingly few projections."
   ]
  },
  {
   "cell_type": "markdown",
   "metadata": {},
   "source": [
    "Apply CIL processors to preprocess data as necessary (possibly after having added noise, artifacts or reduced the datasets yourself."
   ]
  },
  {
   "cell_type": "markdown",
   "metadata": {},
   "source": [
    "Investigate \"inverse crime\": When simulating data, if we use the same model, i.e., LinearOperator for generating the data and for reconstructing, then we may obtain too promising results, because the data is \"too good\". For example we commit an inverse crime if we use a 256x256 phantom and generate data with a ProjectionOperator and then choose to also reconstruct on the same 256x256 domain using the same ProjectionOperator. Compare the inverse crime scenario reconstruction result with more realistic simulation using a phantom at finer resolution (e.g., 500x500, 1000x1000, 2000x2000 pixels, i.e. more but smaller pixels) and reconstruction onto a 256x256 grid."
   ]
  },
  {
   "cell_type": "markdown",
   "metadata": {},
   "source": [
    "## Resources\n",
    "\n",
    "**CIL documentation**\n",
    "\n",
    "https://tomographicimaging.github.io/CIL/\n",
    "\n",
    "\n",
    "**Main CIL GitHub repository**\n",
    "\n",
    "https://github.com/TomographicImaging/CIL\n",
    "\n",
    "\n",
    "**CIL demos and training material repository**\n",
    "\n",
    "https://github.com/TomographicImaging/CIL-Demos\n",
    "\n",
    "\n",
    "**Core Imaging Library -- Part I: a versatile Python framework for tomographic imaging**\n",
    "\n",
    "by Jakob S. Jørgensen, Evelina Ametova, Genoveva Burca, Gemma Fardell, Evangelos Papoutsellis, Edoardo Pasca, Kris Thielemans, Martin Turner, Ryan Warr, William R. B. Lionheart, Philip J. Withers\n",
    "\n",
    "https://arxiv.org/abs/2102.04560\n",
    "\n",
    "\n",
    "**Core Imaging Library -- Part II: Multichannel reconstruction for dynamic and spectral tomography**\n",
    "\n",
    "by Evangelos Papoutsellis, Evelina Ametova, Claire Delplancke, Gemma Fardell, Jakob S. Jørgensen, Edoardo Pasca, Martin Turner, Ryan Warr, William R. B. Lionheart, and Philip J. Withers\n",
    "\n",
    "https://arxiv.org/abs/2102.06126\n",
    "\n",
    "\n",
    "**Enhanced hyperspectral tomography for bioimaging by spatiospectral reconstruction**\n",
    "\n",
    "by Ryan Warr, Evelina Ametova, Robert J. Cernik, Gemma Fardell, Stephan Handschuh, Jakob S. Jørgensen, Evangelos Papoutsellis, Edoardo Pasca, and Philip J. Withers\n",
    "\n",
    "https://arxiv.org/abs/2103.04796\n",
    "\n",
    "\n",
    "**Crystalline phase discriminating neutron tomography using advanced reconstruction methods**\n",
    "\n",
    "by Evelina Ametova, Genoveva Burca, Suren Chilingaryan, Gemma Fardell, Jakob S. Jørgensen, Evangelos Papoutsellis, Edoardo Pasca, Ryan Warr, Martin Turner, William R B Lionheart, and Philip J Withers\n",
    "\n",
    "https://doi.org/10.1088/1361-6463/ac02f9"
   ]
  },
  {
   "cell_type": "code",
   "execution_count": null,
   "metadata": {},
   "outputs": [],
   "source": []
  }
 ],
 "metadata": {
  "kernelspec": {
   "display_name": "Python [conda env:ciljj21dev] *",
   "language": "python",
   "name": "conda-env-ciljj21dev-py"
  },
  "language_info": {
   "codemirror_mode": {
    "name": "ipython",
    "version": 3
   },
   "file_extension": ".py",
   "mimetype": "text/x-python",
   "name": "python",
   "nbconvert_exporter": "python",
   "pygments_lexer": "ipython3",
   "version": "3.7.9"
  }
 },
 "nbformat": 4,
 "nbformat_minor": 4
}
