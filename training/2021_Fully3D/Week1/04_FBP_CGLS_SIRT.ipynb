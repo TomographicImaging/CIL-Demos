{
 "cells": [
  {
   "cell_type": "code",
   "execution_count": null,
   "metadata": {},
   "outputs": [],
   "source": [
    "#========================================================================\n",
    "# Copyright 2019 Science Technology Facilities Council\n",
    "# Copyright 2019 University of Manchester\n",
    "#\n",
    "# This work is part of the Core Imaging Library developed by Science Technology\t\n",
    "# Facilities Council and University of Manchester\n",
    "#\n",
    "# Licensed under the Apache License, Version 2.0 (the \"License\");\n",
    "# you may not use this file except in compliance with the License.\n",
    "# You may obtain a copy of the License at\n",
    "#\n",
    "# http://www.apache.org/licenses/LICENSE-2.0.txt\n",
    "# \n",
    "# Unless required by applicable law or agreed to in writing, software\n",
    "# distributed under the License is distributed on an \"AS IS\" BASIS,\n",
    "# WITHOUT WARRANTIES OR CONDITIONS OF ANY KIND, either express or implied.\n",
    "# See the License for the specific language governing permissions and\n",
    "# limitations under the License.\n",
    "# \n",
    "#========================================================================="
   ]
  },
  {
   "cell_type": "markdown",
   "metadata": {},
   "source": [
    "# Reconstruction intro\n",
    "## FBP, CGLS, SIRT\n",
    "\n",
    "**The goal** of this notebook is to get familiar with the CIL `Algorithm` and `Operator` classes through basic Conjugate Gradient Least Squares (CGLS) reconstruction and Simultaneous Image Reconstruction Technique (SIRT).\n",
    "\n",
    "**Learning objectives**\n",
    "\n",
    "In the end of this session, participants will be able to:\n",
    "- formulate CT reconstruction as an optimisation problem and solve it iteratively\n",
    "- introduce constraints in the optimisation problem\n",
    "- visualise final and intermediate reconstruction results"
   ]
  },
  {
   "cell_type": "code",
   "execution_count": null,
   "metadata": {},
   "outputs": [],
   "source": [
    "# cil imports\n",
    "from cil.framework import ImageData, ImageGeometry\n",
    "from cil.framework import AcquisitionGeometry, AcquisitionData\n",
    "\n",
    "from cil.processors import Slicer, AbsorptionTransmissionConverter, TransmissionAbsorptionConverter\n",
    "\n",
    "from cil.optimisation.functions import IndicatorBox\n",
    "from cil.optimisation.algorithms import CGLS, SIRT\n",
    "\n",
    "from cil.plugins.astra.operators import ProjectionOperator\n",
    "from cil.plugins.astra.processors import FBP\n",
    "\n",
    "from cil.plugins import TomoPhantom\n",
    "\n",
    "from cil.utilities import dataexample\n",
    "from cil.utilities.display import show2D, show_geometry\n",
    "\n",
    "# External imports\n",
    "import numpy as np\n",
    "import matplotlib.pyplot as plt\n",
    "import logging\n",
    "logging.basicConfig(level = logging.INFO)"
   ]
  },
  {
   "cell_type": "code",
   "execution_count": null,
   "metadata": {},
   "outputs": [],
   "source": [
    "# set up default colour map for visualisation\n",
    "cmap = \"gray\""
   ]
  },
  {
   "cell_type": "code",
   "execution_count": null,
   "metadata": {},
   "outputs": [],
   "source": [
    "# set the backend for FBP and the ProjectionOperator\n",
    "device = 'gpu'"
   ]
  },
  {
   "cell_type": "markdown",
   "metadata": {},
   "source": [
    "In this notebook we will use a classical Shepp-Logan phantom generated with the [TomoPhantom toolbox](https://github.com/dkazanc/TomoPhantom)."
   ]
  },
  {
   "cell_type": "code",
   "execution_count": null,
   "metadata": {},
   "outputs": [],
   "source": [
    "# number of pixels\n",
    "n_pixels = 256\n",
    "\n",
    "# Angles\n",
    "angles = np.linspace(0, 180, 256, endpoint=False, dtype=np.float32)\n",
    "\n",
    "\n",
    "# Setup acquisition geometry\n",
    "# with sufficient number of projections\n",
    "ag = AcquisitionGeometry.create_Parallel2D()\\\n",
    "                            .set_angles(angles)\\\n",
    "                            .set_panel(n_pixels, pixel_size=1/n_pixels)\n",
    "\n",
    "# Setup image geometry\n",
    "ig = ImageGeometry(voxel_num_x=n_pixels, \n",
    "                   voxel_num_y=n_pixels, \n",
    "                   voxel_size_x=1/n_pixels, \n",
    "                   voxel_size_y=1/n_pixels)\n",
    "\n",
    "# Get phantom\n",
    "phantom = TomoPhantom.get_ImageData(num_model=1, geometry=ig)"
   ]
  },
  {
   "cell_type": "code",
   "execution_count": null,
   "metadata": {},
   "outputs": [],
   "source": [
    "# Visualise data\n",
    "show2D(phantom, cmap=cmap, num_cols=1, size=(10,10), origin='upper-left')"
   ]
  },
  {
   "cell_type": "markdown",
   "metadata": {},
   "source": [
    "Next, we create our simulated tomographic data by projecting our noiseless phantom to the acquisition space. Using the image geometry `ig` and acquisition geometry `ag`, we define the `ProjectionOperator`."
   ]
  },
  {
   "cell_type": "code",
   "execution_count": null,
   "metadata": {},
   "outputs": [],
   "source": [
    "# Create projection operator using Astra-Toolbox.\n",
    "A = ProjectionOperator(ig, ag, device)\n",
    "\n",
    "# Create an acqusition data (numerically)\n",
    "sino = A.direct(phantom)\n"
   ]
  },
  {
   "cell_type": "code",
   "execution_count": null,
   "metadata": {},
   "outputs": [],
   "source": [
    "# Visualise data\n",
    "show2D(sino, 'simulated sinogram', cmap=cmap, size=(10,10), origin='upper-left')"
   ]
  },
  {
   "cell_type": "markdown",
   "metadata": {},
   "source": [
    "## CT reconstruction\n",
    "Tomographic reconstruction consists of resolving the three-dimensional photon attenuation map of a scanned object from the collection of projection measurement. There are two major classes of reconstruction algorithms: *analytic* and *iterative*. \n",
    "\n",
    "<a id='fbp'></a>\n",
    "### Analytic reconstruction - a brief recap\n",
    "The most common analytic reconstruction algorithm is filtered back-projection (FBP). The FBP algorithm is derived from the Fourier Slice theorem which relates line integral measurements to the two dimensional Fourier transform of an object’s slice. Although the Fourier Slice theorem provides a straightforward solution for tomographic reconstruction, its practical implementation is challenging due to the required interpolation from Polar to Cartesian coordinates in the Fourier space. In FBP-type reconstruction methods, projections are ﬁltered independently and then back-projected onto the plane of the tomographic slice. Filtration is used to compensate for non-uniform sampling of the Fourier space (higher frequencies have higher density of sampling points) by linear (Ramp) weighting of the frequency space."
   ]
  },
  {
   "cell_type": "markdown",
   "metadata": {},
   "source": [
    "The FBP algorithm is implemented as a `Processor` which is set up with an `AcquisitionGeometry` and an `ImageGeometry`. You then can call your configured FBP processor  on an `AcquisitionData` object. The processor returns the reconstructed `ImageData`."
   ]
  },
  {
   "cell_type": "code",
   "execution_count": null,
   "metadata": {},
   "outputs": [],
   "source": [
    "# reconstruct full data\n",
    "# configure FBP\n",
    "fbp = FBP(ig, ag, device)\n",
    "# run on the AcquisitionData\n",
    "recon_fbp = fbp(sino)"
   ]
  },
  {
   "cell_type": "code",
   "execution_count": null,
   "metadata": {},
   "outputs": [],
   "source": [
    "show2D([phantom, recon_fbp], ['phantom', 'FBP reconstruction'], \\\n",
    "       cmap=cmap, num_cols=2, size=(10,10), origin='upper-left')"
   ]
  },
  {
   "cell_type": "markdown",
   "metadata": {},
   "source": [
    "<a id='cgls'></a>\n",
    "#### Iterative reconstruction\n",
    "Iterative methods use an initial estimate of volume voxel values which is then iteratively updated to best reproduce acquired radiographic data. Here we discuss formulation of iterative reconstruction for 2D parallel geometry, extension to other geometries is straightforward. Iterative methods formulate the reconstruction methods as a system of linear equations,\n",
    "\n",
    "$$Au = b$$\n",
    "\n",
    "- $u$ is the volume to be reconstructed. $u$ is typically represented as a column vector with $N \\cdot N \\times 1$ elements, where $N$ is the number of elements in a detector row.\n",
    "- $b$ is measured data from $M$ measurements (projections), $b$ is a column vector with $N \\cdot M \\times 1$ elements\n",
    "- $A$ is the projection operator with $N \\cdot M \\times N \\cdot N$ elements. If $i, i = \\{0, 1, \\dots N \\cdot M - 1 \\}$ and $j, j = \\{0, 1, \\dots, N \\cdot N - 1\\}$, then $A_{i,j}$ is the length of intersection of the $i$.th ray with the $j$.th voxel.\n",
    "\n",
    "For any real application, the problem size is too large to be solved by direct inversion methods, i.e.\n",
    "\n",
    "$$u = A^{-1}b$$\n",
    "\n",
    "Secondly, the projection matrix $A$ is often under-determined (low number of projections or missing angles), i.e. \n",
    "\n",
    "$$M \\ll N$$\n",
    "\n",
    "Therefore we formulate reconstruction as an optimisation problem and use iterative solvers to solve:\n",
    "\n",
    "$$\\underset{u}{\\mathrm{argmin}}\\begin{Vmatrix}A u - b\\end{Vmatrix}^2_2$$\n",
    "\n",
    "Since iterative methods involve forward- and back-projection steps, assumptions of data acquisition, data processing, system geometries, and noise characteristic can be incorporated into the reconstruction procedure. However, iterative methods are computationally demanding, you will notice that it takes longer to get reconstruction results with iterative methods."
   ]
  },
  {
   "cell_type": "markdown",
   "metadata": {},
   "source": [
    "From mathematical point of view, projection matrix $A$ is an operator which maps from the set $x$ (*domain*) to the set $b$ (*range*):\n",
    "$$A: u \\to b$$\n",
    "In the framework, we implemented a generic `Operator` class. The two most important methods of the `Operator` are `direct` and `adjoint` methods that describe the result of applying the operator, and its adjoint respectively, onto a compatible `DataContainer` (`AcquisitionData` or `ImageData`) input. The output is another `DataContainer` object or subclass hereof. An important special case of the `Operator` class, is the projection operator $A$ for CT, where `direct` and `adjoint` method correspond to forward- and back-projection respectively. You have already used the `ProjectionOperator` to numerically calculate `AcquisitionData`."
   ]
  },
  {
   "cell_type": "code",
   "execution_count": null,
   "metadata": {},
   "outputs": [],
   "source": [
    "# back_projection\n",
    "back_projection = A.adjoint(sino)\n",
    "\n",
    "show2D([phantom, sino, back_projection], ['phantom', 'forward projection', 'back projection'], \\\n",
    "       cmap=cmap, num_cols=3, size=(15,10), origin='upper-left')"
   ]
  },
  {
   "cell_type": "code",
   "execution_count": null,
   "metadata": {},
   "outputs": [],
   "source": [
    "print(\"Range: {} \\n\".format(A.range_geometry()))\n",
    "print(\"Domain: {} \\n\".format(A.domain_geometry()))"
   ]
  },
  {
   "cell_type": "markdown",
   "metadata": {},
   "source": [
    "The `Operator` class also has a `norm` method."
   ]
  },
  {
   "cell_type": "code",
   "execution_count": null,
   "metadata": {},
   "outputs": [],
   "source": [
    "print(\"Operator norm: {}\\n\".format(A.norm()))"
   ]
  },
  {
   "cell_type": "markdown",
   "metadata": {},
   "source": [
    "The Framework provides a number of generic optimisation algorithms implementations. All algorithms share the same interface and behaviour. Algorithms are iterable Python objects which can be run in a for loop, can be stopped and warm restarted.\n",
    "\n",
    "The Conjugate Gradient Least Squares (CGLS) algorithm is commonly used for solving large systems of linear equations, due to its fast convergence. CGLS takes `operator`, measured data and initial value as an input."
   ]
  },
  {
   "cell_type": "code",
   "execution_count": null,
   "metadata": {},
   "outputs": [],
   "source": [
    "# initial estimate - zero array in this case \n",
    "initial = ig.allocate(0)\n",
    "\n",
    "# setup CGLS\n",
    "cgls = CGLS(initial=initial, \n",
    "            operator=A, \n",
    "            data=sino,\n",
    "            max_iteration = 10,\n",
    "            update_objective_interval = 1 )"
   ]
  },
  {
   "cell_type": "code",
   "execution_count": null,
   "metadata": {},
   "outputs": [],
   "source": [
    "# run N interations\n",
    "cgls.run(5, verbose=True)"
   ]
  },
  {
   "cell_type": "code",
   "execution_count": null,
   "metadata": {},
   "outputs": [],
   "source": [
    "# get and visualise the results\n",
    "recon_cgls = cgls.solution\n",
    "\n",
    "show2D([phantom, recon_fbp, recon_cgls], ['phantom', 'FBP', 'CGLS'], \\\n",
    "       cmap=cmap, num_cols=3, size=(15,10), origin='upper-left')"
   ]
  },
  {
   "cell_type": "markdown",
   "metadata": {},
   "source": [
    "Alternatively, tolerance can be used as a stopping criterion."
   ]
  },
  {
   "cell_type": "code",
   "execution_count": null,
   "metadata": {},
   "outputs": [],
   "source": [
    "# setup CGLS\n",
    "cgls = CGLS(initial=initial, \n",
    "            operator=A, \n",
    "            data=sino,\n",
    "            tolerance=1e-4, # default 1e-6,\n",
    "            max_iteration = 500,\n",
    "            update_objective_interval = 10)"
   ]
  },
  {
   "cell_type": "code",
   "execution_count": null,
   "metadata": {},
   "outputs": [],
   "source": [
    "# run N interations\n",
    "cgls.run(500, verbose=True)"
   ]
  },
  {
   "cell_type": "code",
   "execution_count": null,
   "metadata": {},
   "outputs": [],
   "source": [
    "# get and visusualise the results\n",
    "recon_cgls = cgls.solution\n",
    "\n",
    "show2D([phantom, recon_fbp, recon_cgls], ['phantom', 'FBP', 'CGLS'], \\\n",
    "       cmap=cmap, num_cols=3, size=(15,10), origin='upper-left')"
   ]
  },
  {
   "cell_type": "markdown",
   "metadata": {},
   "source": [
    "## Adding some complexity\n",
    "\n",
    "In the example above we worked with an ideal (i.e. noise- or artifacts-free) sinogram acquired over the sufficient number of rotation positions which is not always the case with datasets obtained in real experiments. Let us take a look at how both FBP and CGLS algorithms will perform on noisy and/or insufficient data."
   ]
  },
  {
   "cell_type": "markdown",
   "metadata": {},
   "source": [
    "Poisson noise will be applied to this noise-free sinogram. The severity of the noise can be adjusted by changing the `background_counts` variable."
   ]
  },
  {
   "cell_type": "code",
   "execution_count": null,
   "metadata": {},
   "outputs": [],
   "source": [
    "# Incident intensity: lower counts will increase the noise\n",
    "background_counts = 20000 \n",
    "\n",
    "# Convert the simulated absorption sinogram to transmission values using Lambert-Beer. \n",
    "# Use as mean for Poisson data generation.\n",
    "# Convert back to absorption sinogram.\n",
    "counts = background_counts * np.exp(-sino.as_array())\n",
    "tmp = np.exp(-sino.as_array())\n",
    "noisy_counts = np.random.poisson(counts)\n",
    "nonzero = noisy_counts > 0\n",
    "sino_out = np.zeros_like(sino.as_array())\n",
    "sino_out[nonzero] = -np.log(noisy_counts[nonzero] / background_counts)\n",
    "\n",
    "# allocate sino_noisy and fill with noisy data\n",
    "sino_noisy = ag.allocate()\n",
    "sino_noisy.fill(sino_out)"
   ]
  },
  {
   "cell_type": "code",
   "execution_count": null,
   "metadata": {},
   "outputs": [],
   "source": [
    "# visualise results\n",
    "show2D([sino, sino], ['ground truth sinogram', 'noisy sinogram'], \\\n",
    "       cmap=cmap, num_cols=2, size=(15,10), origin='upper-left')"
   ]
  },
  {
   "cell_type": "code",
   "execution_count": null,
   "metadata": {},
   "outputs": [],
   "source": [
    "# reconstruct noisy data\n",
    "# configure FBP\n",
    "fbp = FBP(ig, ag, device)\n",
    "# run on the AcquisitionData\n",
    "recon_fbp_noisy = fbp(sino_noisy)"
   ]
  },
  {
   "cell_type": "code",
   "execution_count": null,
   "metadata": {},
   "outputs": [],
   "source": [
    "# visualise results\n",
    "show2D([phantom, recon_fbp, recon_fbp_noisy], ['phantom', 'FBP, noise-free projections', 'FBP, noisy projections'], \\\n",
    "       cmap=cmap, num_cols=3, size=(15,10), origin='upper-left')"
   ]
  },
  {
   "cell_type": "markdown",
   "metadata": {},
   "source": [
    "The reconstruction above doesn't look particularly good. Let us try to reconstruct the same noisy dataset using the CGLS method. In CGLS without explicit regularisation, the number of iterations plays the role of a regularisation parameter. However, it is often unclear how many iterations is required to get 'good' reconstruction. To control how the reconstruction result changes with every iteration, we will visualise intermediate reconstruction results."
   ]
  },
  {
   "cell_type": "code",
   "execution_count": null,
   "metadata": {},
   "outputs": [],
   "source": [
    "# initial estimate - zero array in this case \n",
    "initial = ig.allocate(0)\n",
    "\n",
    "max_iter = 20\n",
    "step = 2\n",
    "\n",
    "# setup CGLS\n",
    "cgls = CGLS(initial=initial, \n",
    "            operator=A, \n",
    "            data=sino_noisy,\n",
    "            max_iteration = max_iter )\n",
    "\n",
    "for i in range(0, max_iter // step):\n",
    "    cgls.run(step, verbose=True)\n",
    "    \n",
    "    # get and visusualise the results\n",
    "    recon_cgls_dummy = cgls.solution\n",
    "\n",
    "    show2D([recon_cgls_dummy, recon_cgls_dummy - phantom],\n",
    "            [\"Iteration {}, objective {}\".format(i * step, cgls.loss[-1]), \"Difference from ground truth\"],\n",
    "            fix_range=True, cmap=cmap, origin='upper-left')"
   ]
  },
  {
   "cell_type": "markdown",
   "metadata": {},
   "source": [
    "You can see that after iteration 6, the reconstruction gets increasingly more noisy even though the objective value keeps decreasing. After iteration 10, you cannot see significant changes in the reconstruction result."
   ]
  },
  {
   "cell_type": "code",
   "execution_count": null,
   "metadata": {},
   "outputs": [],
   "source": [
    "# re-run CGLS reconstruction with 8 iterations\n",
    "# setup CGLS\n",
    "cgls = CGLS(initial=initial, \n",
    "            operator=A, \n",
    "            data=sino)\n",
    "cgls.max_iteration = 100\n",
    "\n",
    "cgls.run(6, verbose=True)\n",
    "    \n",
    "# get the results\n",
    "recon_cgls_noisy = cgls.solution"
   ]
  },
  {
   "cell_type": "markdown",
   "metadata": {},
   "source": [
    "### Constrained reconstruction"
   ]
  },
  {
   "cell_type": "markdown",
   "metadata": {},
   "source": [
    "Perhaps the most intuitive constraint one can enforce on reconstructed data is the non-negativity constraint. Indeed, CT attenuation values cannot be negative. Here we employ the SIRT algorithm,  an  algebraic  iterative  method  for  a particular weighted least-squares problem which in addition accepts certain convex constraints such as a non-negativity constraint. As with CGLS, it exhibits semi-convergence, however tends to require more iterations. We enforce box constraints (lower and upper bounds) with the `IndicatorBox` function."
   ]
  },
  {
   "cell_type": "code",
   "execution_count": null,
   "metadata": {},
   "outputs": [],
   "source": [
    "x0 = ig.allocate()\n",
    "constraint = IndicatorBox(lower=0)\n",
    "\n",
    "sirt = SIRT(max_iteration=100)\n",
    "sirt.set_up(initial=x0, \n",
    "            operator=A, \n",
    "            constraint=constraint, \n",
    "            data=sino_noisy)\n",
    "sirt.update_objective_interval = 10\n",
    "sirt.run(100)\n",
    "\n",
    "recon_sirt_noisy = sirt.solution"
   ]
  },
  {
   "cell_type": "code",
   "execution_count": null,
   "metadata": {},
   "outputs": [],
   "source": [
    "show2D([phantom, recon_fbp_noisy, recon_cgls_noisy, recon_sirt_noisy], \\\n",
    "       ['phantom', 'FBP, noisy projections', 'CGLS, noisy projections', 'SIRT, noisy projections'], \\\n",
    "       cmap=cmap, num_cols=2, size=(15,15), origin='upper-left', fix_range=True)"
   ]
  },
  {
   "cell_type": "code",
   "execution_count": null,
   "metadata": {},
   "outputs": [],
   "source": [
    "show2D([(recon_fbp_noisy-phantom).abs(), (recon_cgls_noisy-phantom).abs(), (recon_sirt_noisy-phantom).abs()], \\\n",
    "       ['FBP, noisy projections', 'CGLS, noisy projection', 'SIRT, noisy projection'], \\\n",
    "       cmap=cmap, num_cols=2, size=(15,15), origin='upper-left', fix_range=True)"
   ]
  }
 ],
 "metadata": {
  "kernelspec": {
   "display_name": "Python 3",
   "language": "python",
   "name": "python3"
  },
  "language_info": {
   "codemirror_mode": {
    "name": "ipython",
    "version": 3
   },
   "file_extension": ".py",
   "mimetype": "text/x-python",
   "name": "python",
   "nbconvert_exporter": "python",
   "pygments_lexer": "ipython3",
   "version": "3.8.10"
  }
 },
 "nbformat": 4,
 "nbformat_minor": 2
}
