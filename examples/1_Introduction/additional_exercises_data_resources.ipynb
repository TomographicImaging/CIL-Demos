{
 "cells": [
  {
   "cell_type": "code",
   "execution_count": null,
   "metadata": {},
   "outputs": [],
   "source": [
    "# -*- coding: utf-8 -*-\n",
    "#  Copyright 2021- 2022 United Kingdom Research and Innovation\n",
    "#  Copyright 2021 - 2022 The University of Manchester\n",
    "#  Copyright 2021 - 2022 Technical University of Denmark \n",
    "#\n",
    "#  Licensed under the Apache License, Version 2.0 (the \"License\");\n",
    "#  you may not use this file except in compliance with the License.\n",
    "#  You may obtain a copy of the License at\n",
    "#\n",
    "#      http://www.apache.org/licenses/LICENSE-2.0\n",
    "#\n",
    "#  Unless required by applicable law or agreed to in writing, software\n",
    "#  distributed under the License is distributed on an \"AS IS\" BASIS,\n",
    "#  WITHOUT WARRANTIES OR CONDITIONS OF ANY KIND, either express or implied.\n",
    "#  See the License for the specific language governing permissions and\n",
    "#  limitations under the License.\n",
    "#\n",
    "#   Authored by:    Jakob S. Jørgensen (DTU)\n",
    "#                   Laura Murgatroyd (UKRI-STFC)"
   ]
  },
  {
   "cell_type": "markdown",
   "metadata": {},
   "source": [
    "# Additional open-ended exercises, datasets and resources"
   ]
  },
  {
   "cell_type": "markdown",
   "metadata": {},
   "source": [
    "To further experiment with tomographic reconstruction and data processing using CIL we provide a few additional data sets, suggestions for experiments and links to CIL resources including publications, documentation and demos."
   ]
  },
  {
   "cell_type": "markdown",
   "metadata": {},
   "source": [
    "## Data sets\n",
    "\n",
    "The following data sets have been downloaded and are available on the STFC Cloud shared drive (read only). \n",
    "\n",
    "Most of the data sets provided are 3D. For faster execution times in the experiments we suggest to extract a single slice and work only with such a 2D data set. From the loaded 3D `AcquisitionData` object, `data3D`, a 2D slice `AcquisitionData` can be extracted using the `get_slice` method, for example\n",
    "\n",
    "`data2D = data3D.get_slice(vertical=27)`\n",
    "\n",
    "will extract vertical slice number 27 as a new 2D `AcquisitionData` object, `data2D`.\n",
    "\n",
    "For Cone3D cone-beam datasets only the central slice can be extracted as a Cone2D (fan-beam) dataset, this is done using\n",
    "\n",
    "`data2D = data3D.get_slice(vertical='centre')`\n",
    "\n",
    "If an even number of slices are available in `data3D`, then the above command will produce a slice that is interpolated from the two central slices.\n",
    "\n",
    "\n",
    "Nikon datasets can be loaded using the CIL `NikonDataReader` in the `cil.io` module.\n",
    "\n",
    "Zeiss datasets can be loaded using the CIL `ZEISSDataReader` in the `cil.io` module."
   ]
  },
  {
   "cell_type": "markdown",
   "metadata": {},
   "source": [
    "**Crystals in clay:**  \n",
    "\n",
    "Cone-beam Nikon data set of crystals in clay from, described at\n",
    "\n",
    "https://zenodo.org/record/4912635"
   ]
  },
  {
   "cell_type": "markdown",
   "metadata": {},
   "source": [
    "**SophiaBeads:**  \n",
    "\n",
    "Cone-beam Nikon data set of glass beads. Data sets with different trade-offs between numbers of projections and exposure time are available, the 256-projection data set is available on the STFC Cloud. Description at  \n",
    "\n",
    "https://zenodo.org/record/16474"
   ]
  },
  {
   "cell_type": "markdown",
   "metadata": {},
   "source": [
    "**LEGO laminography dataset:** \n",
    "\n",
    "A rotary laminography tomography dataset of a sample of LEGO brick acquired on a Nikon micro-CT instrument, described at\n",
    "\n",
    "https://zenodo.org/record/2540509"
   ]
  },
  {
   "cell_type": "markdown",
   "metadata": {},
   "source": [
    "**HDTomo datasets:**  \n",
    "\n",
    "Six Zeiss cone-beam data sets including the walnut dataset, as well as Kinder Surprise chocolate eggs, a USB stick and more, with descriptions at\n",
    "\n",
    "https://zenodo.org/record/4822516        "
   ]
  },
  {
   "cell_type": "markdown",
   "metadata": {},
   "source": [
    "**Sandstone:**  \n",
    "\n",
    "The parallel-beam sandstone synchrotron data set, both a small extracted data set and the full projections are available from \n",
    "\n",
    "https://zenodo.org/record/4912435"
   ]
  },
  {
   "cell_type": "markdown",
   "metadata": {},
   "source": [
    "#### Additional tomography data resources NOT on the STFC Cloud\n",
    "\n",
    "FIPS data: A collection of X-ray CT data sets is available from the Finnish Inverse Problems Society:\n",
    "\n",
    "https://www.fips.fi/dataset.php"
   ]
  },
  {
   "cell_type": "markdown",
   "metadata": {},
   "source": [
    "## Suggestions for experiments"
   ]
  },
  {
   "cell_type": "markdown",
   "metadata": {},
   "source": [
    "**Try reconstructing different real data sets:**  \n",
    "\n",
    "Choose one or more of the datasets listed above. Load the dataset, determine and carry out any preprocessing required, and compute an FBP or FDK reconstruction. Try also to reconstruct using your favourite iterative/regularized reconstruction method.  Apply CIL processors to preprocess data as necessary, possibly after having added noise, artifacts or reduced the datasets yourself.\n",
    "\n",
    "*Relevant notebooks:* 01_intro_walnut_conebeam.ipynb, 02_intro_sandstone_parallel_roi.ipynb, 03_preprocessing.ipynb"
   ]
  },
  {
   "cell_type": "markdown",
   "metadata": {},
   "source": [
    "**Synthetic data:**  \n",
    "\n",
    "Try out loading and generating simulated data from phantoms provided by CIL (cil.utilities.dataexample) or the TomoPhantom CIL plugin (cil.plugins.TomoPhantom). Choose either full data or incomplete data of your choice, add noise, and reconstruct using FBP or iterative methods SIRT or CGLS. \n",
    "\n",
    "*Relevant notebooks:* 03_preprocessing.ipynb,  04_FBP_CGLS_SIRT.ipynb"
   ]
  },
  {
   "cell_type": "markdown",
   "metadata": {},
   "source": [
    "**Reduced data reconstruction:**  \n",
    "\n",
    "Use CIL processors (e.g. Slicer or Binner or Masker/MaskGenerator) to remove parts of or downsample data sets, for example to obtain a reduced number of projections, a limited angle problem, truncated projections (region of interest data), exterior problem, etc. Compare for example different reconstruction methods at increasingly few projections.\n",
    "\n",
    "*Relevant notebooks:* 03_preprocessing.ipynb"
   ]
  },
  {
   "cell_type": "markdown",
   "metadata": {},
   "source": [
    "**Investigate \"inverse crime\":**  \n",
    "\n",
    "When simulating data, if we use the same model, i.e., LinearOperator for generating the data and for reconstructing, then we may obtain too promising results, because the data is \"too good\". For example we commit an inverse crime if we use a 256x256 phantom and generate data with a ProjectionOperator and then choose to also reconstruct on the same 256x256 domain using the same ProjectionOperator. Compare the inverse crime scenario reconstruction result with more realistic simulation using a phantom at finer resolution (e.g., 500x500, 1000x1000, 2000x2000 pixels, i.e. more but smaller pixels) and reconstruction onto a 256x256 grid.\n",
    "\n",
    "*Relevant notebooks:* 00_CIL_geometry.ipynb"
   ]
  },
  {
   "cell_type": "markdown",
   "metadata": {},
   "source": [
    "**Geometric artifacts:**  \n",
    "\n",
    "To obtain a high-quality reconstruction the acquisition geometry used in the reconstruction procedure must closely match the actual acquisition geometry of X-ray CT system. Otherwise geometric or misalignment artifacts will occur. Experiment with using one acquisition geometry for simulation of data and a modified acquisition geometry for the reconstruction to see the effect of different types and amounts of incorrect geometry. This could include different center of rotation, detector pixel size or orientation and for cone-/fan-beam different source to centre or centre to detector distances.\n",
    "\n",
    "*Relevant notebooks:* 00_CIL_geometry.ipynb"
   ]
  },
  {
   "cell_type": "markdown",
   "metadata": {},
   "source": [
    "## Resources\n",
    "\n",
    "**CIL documentation**\n",
    "\n",
    "https://tomographicimaging.github.io/CIL/\n",
    "\n",
    "\n",
    "**Main CIL GitHub repository**\n",
    "\n",
    "https://github.com/TomographicImaging/CIL\n",
    "\n",
    "\n",
    "**CIL demos and training material repository**\n",
    "\n",
    "https://github.com/TomographicImaging/CIL-Demos\n",
    "\n",
    "\n",
    "**Core Imaging Library -- Part I: a versatile Python framework for tomographic imaging**\n",
    "\n",
    "by Jakob S. Jørgensen, Evelina Ametova, Genoveva Burca, Gemma Fardell, Evangelos Papoutsellis, Edoardo Pasca, Kris Thielemans, Martin Turner, Ryan Warr, William R. B. Lionheart, Philip J. Withers\n",
    "\n",
    "https://arxiv.org/abs/2102.04560\n",
    "\n",
    "\n",
    "**Core Imaging Library -- Part II: Multichannel reconstruction for dynamic and spectral tomography**\n",
    "\n",
    "by Evangelos Papoutsellis, Evelina Ametova, Claire Delplancke, Gemma Fardell, Jakob S. Jørgensen, Edoardo Pasca, Martin Turner, Ryan Warr, William R. B. Lionheart, and Philip J. Withers\n",
    "\n",
    "https://arxiv.org/abs/2102.06126\n",
    "\n",
    "\n",
    "**Enhanced hyperspectral tomography for bioimaging by spatiospectral reconstruction**\n",
    "\n",
    "by Ryan Warr, Evelina Ametova, Robert J. Cernik, Gemma Fardell, Stephan Handschuh, Jakob S. Jørgensen, Evangelos Papoutsellis, Edoardo Pasca, and Philip J. Withers\n",
    "\n",
    "https://arxiv.org/abs/2103.04796\n",
    "\n",
    "\n",
    "**Crystalline phase discriminating neutron tomography using advanced reconstruction methods**\n",
    "\n",
    "by Evelina Ametova, Genoveva Burca, Suren Chilingaryan, Gemma Fardell, Jakob S. Jørgensen, Evangelos Papoutsellis, Edoardo Pasca, Ryan Warr, Martin Turner, William R B Lionheart, and Philip J Withers\n",
    "\n",
    "https://doi.org/10.1088/1361-6463/ac02f9"
   ]
  },
  {
   "cell_type": "code",
   "execution_count": null,
   "metadata": {},
   "outputs": [],
   "source": []
  }
 ],
 "metadata": {
  "kernelspec": {
   "display_name": "Python 3.8.11",
   "language": "python",
   "name": "python3"
  },
  "language_info": {
   "codemirror_mode": {
    "name": "ipython",
    "version": 3
   },
   "file_extension": ".py",
   "mimetype": "text/x-python",
   "name": "python",
   "nbconvert_exporter": "python",
   "pygments_lexer": "ipython3",
   "version": "3.8.11"
  },
  "vscode": {
   "interpreter": {
    "hash": "cf07678abc5cc77bc6e1a7d19b1e87ab0c29b83e7ee41c2bc72506d16d80ed44"
   }
  }
 },
 "nbformat": 4,
 "nbformat_minor": 4
}
