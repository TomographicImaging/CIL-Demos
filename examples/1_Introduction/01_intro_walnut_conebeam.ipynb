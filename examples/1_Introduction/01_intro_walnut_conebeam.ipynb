{
 "cells": [
  {
   "cell_type": "code",
   "execution_count": null,
   "id": "841fc56c",
   "metadata": {},
   "outputs": [],
   "source": [
    "# -*- coding: utf-8 -*-\n",
    "# Copyright 2022 United Kingdom Research and Innovation\n",
    "# Copyright 2022 The University of Manchester\n",
    "# Copyright 2021 Technical University of Denmark\n",
    "#\n",
    "#   Authors:        Jakob S. Jørgensen (DTU)\n",
    "#                   Edoardo Pasca (UKRI-STFC)\n",
    "#                   Laura Murgatroyd (UKRI-STFC)\n",
    "#                   Gemma Fardell (UKRI-STFC)\n",
    "#\n",
    "# Licensed under the Apache License, Version 2.0 (the \"License\");\n",
    "# you may not use this file except in compliance with the License.\n",
    "# You may obtain a copy of the License at\n",
    "#\n",
    "#    http://www.apache.org/licenses/LICENSE-2.0\n",
    "#\n",
    "# Unless required by applicable law or agreed to in writing, software\n",
    "# distributed under the License is distributed on an \"AS IS\" BASIS,\n",
    "# WITHOUT WARRANTIES OR CONDITIONS OF ANY KIND, either express or implied.\n",
    "# See the License for the specific language governing permissions and\n",
    "# limitations under the License.\n",
    "\n"
   ]
  },
  {
   "cell_type": "markdown",
   "id": "694dafc7",
   "metadata": {},
   "source": [
    "# Introductory demo of Core Imaging Library (CIL) \n",
    "\n",
    "### 3D laboratory micro-CT, cone-beam data of walnut"
   ]
  },
  {
   "cell_type": "markdown",
   "id": "53bb7665",
   "metadata": {},
   "source": [
    "First import all modules we will need:"
   ]
  },
  {
   "cell_type": "code",
   "execution_count": null,
   "id": "d48350f1",
   "metadata": {},
   "outputs": [],
   "source": [
    "import numpy as np\n",
    "import os\n",
    "\n",
    "from cil.io import TXRMDataReader, TIFFWriter\n",
    "from cil.processors import TransmissionAbsorptionConverter, CentreOfRotationCorrector, Slicer\n",
    "from cil.plugins.tigre import FBP\n",
    "from cil.recon import FDK\n",
    "from cil.utilities.display import show2D, show_geometry"
   ]
  },
  {
   "cell_type": "markdown",
   "id": "8bac0c33",
   "metadata": {},
   "source": [
    "Load the 3D cone-beam projection data of a walnut:"
   ]
  },
  {
   "cell_type": "code",
   "execution_count": null,
   "id": "b30864da",
   "metadata": {},
   "outputs": [],
   "source": [
    "base_dir = os.path.abspath(\"/mnt/materials/SIRF/Fully3D/CIL/\")\n",
    "data_name = \"Walnut\"\n",
    "filename = os.path.join(base_dir, \n",
    "                        data_name, \n",
    "                        \"valnut_2014-03-21_643_28\",\n",
    "                        \"tomo-A\",\n",
    "                        \"valnut_tomo-A.txrm\")\n",
    "\n",
    "data = TXRMDataReader(file_name=filename).read()"
   ]
  },
  {
   "cell_type": "markdown",
   "id": "6bce18d2",
   "metadata": {},
   "source": [
    "The data is loaded in as a CIL `AcquisitionData` object:"
   ]
  },
  {
   "cell_type": "code",
   "execution_count": null,
   "id": "44e35f82",
   "metadata": {},
   "outputs": [],
   "source": [
    "type(data)"
   ]
  },
  {
   "cell_type": "markdown",
   "id": "ccfb3788",
   "metadata": {},
   "source": [
    "We can call `print` for the data to get some basic information:"
   ]
  },
  {
   "cell_type": "code",
   "execution_count": null,
   "id": "1f2d6ac1",
   "metadata": {},
   "outputs": [],
   "source": [
    "print(data)"
   ]
  },
  {
   "cell_type": "markdown",
   "id": "167757f7",
   "metadata": {},
   "source": [
    "Note how labels refer to the different dimensions. We infer that this data set contains 1601 projections each size 1024x1024 pixels."
   ]
  },
  {
   "cell_type": "markdown",
   "id": "a8ab7f23",
   "metadata": {},
   "source": [
    "In addition to the data itself, `AcquisionData` contains geometric metadata in an `AcquisitionGeometry` object in the `geometry` field, which can be printed for more detailed information:"
   ]
  },
  {
   "cell_type": "code",
   "execution_count": null,
   "id": "36b08776",
   "metadata": {},
   "outputs": [],
   "source": [
    "print(data.geometry)"
   ]
  },
  {
   "cell_type": "markdown",
   "id": "a440046b",
   "metadata": {},
   "source": [
    "CIL can illustrate the scan setup visually from the AcquisitionData geometry:"
   ]
  },
  {
   "cell_type": "code",
   "execution_count": null,
   "id": "156a1649",
   "metadata": {},
   "outputs": [],
   "source": [
    "show_geometry(data.geometry)"
   ]
  },
  {
   "cell_type": "markdown",
   "id": "bf546b1b",
   "metadata": {},
   "source": [
    "We can use the dimension labels to extract and display 2D slices of data, such as a single projection:"
   ]
  },
  {
   "cell_type": "code",
   "execution_count": null,
   "id": "acf157f5",
   "metadata": {},
   "outputs": [],
   "source": [
    "show2D(data, slice_list=('angle',800))"
   ]
  },
  {
   "cell_type": "markdown",
   "id": "4880c37b",
   "metadata": {},
   "source": [
    "From the background value of 1.0 we infer that the data is transmission data (it is known to be already centered and flat field corrected) so we just need to convert to absorption/apply the negative logarithm, which can be done using a CIL processor, which will handle small/large outliers:"
   ]
  },
  {
   "cell_type": "code",
   "execution_count": null,
   "id": "ad8f9f5a",
   "metadata": {},
   "outputs": [],
   "source": [
    "data = TransmissionAbsorptionConverter()(data)"
   ]
  },
  {
   "cell_type": "markdown",
   "id": "f70801bc",
   "metadata": {},
   "source": [
    "We again take a look at a slice of the data, now a vertical one to see the central slice sinogram after negative logarithm:"
   ]
  },
  {
   "cell_type": "code",
   "execution_count": null,
   "id": "79d3752e",
   "metadata": {},
   "outputs": [],
   "source": [
    "show2D(data, slice_list=('vertical',512))"
   ]
  },
  {
   "cell_type": "markdown",
   "id": "93e9ca23-9c16-4f79-8761-7dc9fbc67d40",
   "metadata": {},
   "source": [
    "CIL supports different back-ends for which data order conventions may differ. Here we use the CIL reconstructor class which provides the FDK algorithm with filtering using Intel Performance Primitives library and TIGRE backprojection."
   ]
  },
  {
   "cell_type": "markdown",
   "id": "2062da8d-a175-4431-b17f-8c8bdf2522a6",
   "metadata": {},
   "source": [
    "We make sure that the data is in the correct order for TIGRE:"
   ]
  },
  {
   "cell_type": "code",
   "execution_count": null,
   "id": "3977ab3f",
   "metadata": {},
   "outputs": [],
   "source": [
    "data.reorder(order='tigre')"
   ]
  },
  {
   "cell_type": "markdown",
   "id": "294695a6-1c88-43f7-af06-ec85da423637",
   "metadata": {},
   "source": [
    "The last step to do is to correct for the centre of rotation misalignment. CIL offers 2 methods for finding the centre of rotation: [cross correlation](https://tomographicimaging.github.io/CIL/nightly/processors.html#cil.processors.CentreOfRotationCorrector.xcorrelation) and [image sharpness](https://tomographicimaging.github.io/CIL/nightly/processors.html#cil.processors.CentreOfRotationCorrector.image_sharpness). Here we will use image sharpness."
   ]
  },
  {
   "cell_type": "code",
   "execution_count": null,
   "id": "49be8978-6d24-439e-8aae-dd46cff6d768",
   "metadata": {},
   "outputs": [],
   "source": [
    "cofr = CentreOfRotationCorrector.image_sharpness(FBP=FBP)\n",
    "cofr(data, out=data)"
   ]
  },
  {
   "cell_type": "markdown",
   "id": "f0e80915-7430-49d2-b7a5-fe39a8d3452e",
   "metadata": {},
   "source": [
    "We can now inspect the geometry and see where the centre of rotation is."
   ]
  },
  {
   "cell_type": "code",
   "execution_count": null,
   "id": "4ec16716-bc4c-4cfe-b395-692dc2abb1ff",
   "metadata": {},
   "outputs": [],
   "source": [
    "print (data.geometry)"
   ]
  },
  {
   "cell_type": "markdown",
   "id": "f777563a-a3b7-47b2-b81f-170a377150cf",
   "metadata": {},
   "source": [
    "The data is now ready for reconstruction. To set up the FBP algorithm we must specify the size/geometry of the reconstruction volume. Here we use the default one:"
   ]
  },
  {
   "cell_type": "code",
   "execution_count": null,
   "id": "d0ae0659",
   "metadata": {},
   "outputs": [],
   "source": [
    "ig = data.geometry.get_ImageGeometry()"
   ]
  },
  {
   "cell_type": "markdown",
   "id": "5a1a719c",
   "metadata": {},
   "source": [
    "We can then create the FDK algorithm from CIL `recon` package, running on the GPU and reconstruct the data:"
   ]
  },
  {
   "cell_type": "code",
   "execution_count": null,
   "id": "549bddde",
   "metadata": {},
   "outputs": [],
   "source": [
    "fdk =  FDK(data, image_geometry=ig)\n",
    "recon = fdk.run()"
   ]
  },
  {
   "cell_type": "code",
   "execution_count": null,
   "id": "1da1fe3e",
   "metadata": {},
   "outputs": [],
   "source": [
    "show2D(recon, \n",
    "       slice_list=[('vertical', 512), \n",
    "                   ('horizontal_x', 512)], \n",
    "       fix_range=(-0.01,0.06))"
   ]
  },
  {
   "cell_type": "markdown",
   "id": "dae6075e",
   "metadata": {},
   "source": [
    "We can save the reconstructed volume to disk for example as a stack of TIFFs:"
   ]
  },
  {
   "cell_type": "code",
   "execution_count": null,
   "id": "203040cc",
   "metadata": {},
   "outputs": [],
   "source": [
    "# save_base_path = os.getcwd()\n",
    "# save_path = os.path.join(save_base_path, data_name)\n",
    "# os.makedirs(save_path)\n",
    "\n",
    "# TIFFWriter(data=recon, file_name=os.path.join(save_path, \"out\").write()"
   ]
  },
  {
   "cell_type": "markdown",
   "id": "f9f1dce2",
   "metadata": {},
   "source": [
    "We now demonstrate the effect of reducing the number of projections on the FDK reconstruction."
   ]
  },
  {
   "cell_type": "code",
   "execution_count": null,
   "id": "1e01e510",
   "metadata": {},
   "outputs": [],
   "source": [
    "from cil.processors import Slicer\n",
    "\n",
    "reduce_factor = 10\n",
    "\n",
    "data_reduced = Slicer(\n",
    "    roi={'angle': (0,-1,reduce_factor)}\n",
    ")(data)\n",
    "\n",
    "ig = data_reduced.geometry.get_ImageGeometry()\n",
    "fbp =  FDK(data_reduced, image_geometry=ig)\n",
    "recon_reduced = fbp.run()"
   ]
  },
  {
   "cell_type": "markdown",
   "id": "5a97ed27",
   "metadata": {},
   "source": [
    "We show the same slices as before:"
   ]
  },
  {
   "cell_type": "code",
   "execution_count": null,
   "id": "91e06051",
   "metadata": {},
   "outputs": [],
   "source": [
    "show2D(recon_reduced, \n",
    "       slice_list=[('vertical',512), ('horizontal_x', 512)], \n",
    "       fix_range=(-0.01,0.06))"
   ]
  },
  {
   "cell_type": "code",
   "execution_count": null,
   "id": "376b9223-4fc2-4afa-a1ef-72eb44f46046",
   "metadata": {},
   "outputs": [],
   "source": []
  }
 ],
 "metadata": {
  "kernelspec": {
   "display_name": "Python 3 (ipykernel)",
   "language": "python",
   "name": "python3"
  },
  "language_info": {
   "codemirror_mode": {
    "name": "ipython",
    "version": 3
   },
   "file_extension": ".py",
   "mimetype": "text/x-python",
   "name": "python",
   "nbconvert_exporter": "python",
   "pygments_lexer": "ipython3",
   "version": "3.9.10"
  }
 },
 "nbformat": 4,
 "nbformat_minor": 5
}
