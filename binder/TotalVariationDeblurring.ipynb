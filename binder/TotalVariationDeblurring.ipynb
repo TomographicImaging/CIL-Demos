{
 "cells": [
  {
   "cell_type": "code",
   "execution_count": null,
   "id": "b929b3d4",
   "metadata": {
        "jupyter": {
         "source_hidden": true}
   },
   "outputs": [],
   "source": [
    "# -*- coding: utf-8 -*-\n",
    "#  Copyright 2021 United Kingdom Research and Innovation\n",
    "#  Copyright 2021 The University of Manchester\n",
    "#\n",
    "#  Licensed under the Apache License, Version 2.0 (the \"License\");\n",
    "#  you may not use this file except in compliance with the License.\n",
    "#  You may obtain a copy of the License at\n",
    "#\n",
    "#      http://www.apache.org/licenses/LICENSE-2.0\n",
    "#\n",
    "#  Unless required by applicable law or agreed to in writing, software\n",
    "#  distributed under the License is distributed on an \"AS IS\" BASIS,\n",
    "#  WITHOUT WARRANTIES OR CONDITIONS OF ANY KIND, either express or implied.\n",
    "#  See the License for the specific language governing permissions and\n",
    "#  limitations under the License.\n",
    "#\n",
    "#   Authored by:    Evangelos Papoutsellis (UKRI-STFC)\n",
    "#                   Laura Murgatroyd (UKRI-STFC)"
   ]
  },
  {
   "cell_type": "markdown",
   "id": "2d4e368f-180a-4cf5-b6ee-dbea67c5a0c4",
   "metadata": {},
   "source": [
    "<h2><center> Total variation deblurring </center></h2>"
   ]
  },
  {
   "cell_type": "markdown",
   "id": "25e62372-8e1a-460c-a04f-21bf7b7c8634",
   "metadata": {},
   "source": [
    "### In this demo, we solve the following minimisation problem:\n",
    "\n",
    "$$\\begin{equation}\n",
    "\\underset{u}{\\operatorname{argmin}} \\frac{1}{2} \\| A u - g\\|^{2}_{2} + \\alpha\\,\\mathrm{TV}(u)\n",
    "\\end{equation}$$\n",
    "\n",
    "where,\n",
    "\n",
    "* g is a noisy data corrupted with Gaussian noise,\n",
    "* $A$ is a Blurring operator,\n",
    "* TV stands for the Total variation regulariser.\n",
    "\n",
    "To solve the above problem, we use the **Fast Iterative Shrinkage-Thresholding Algorithm (FISTA)**\n",
    "proposed in [BeckTeboulle](https://epubs.siam.org/doi/10.1137/080716542)."
   ]
  },
  {
   "cell_type": "code",
   "execution_count": null,
   "id": "d1c90a86-a2b5-42c5-bdac-3e77b323b112",
   "metadata": {},
   "outputs": [],
   "source": [
    "# Import libraries\n",
    "from cil.optimisation.algorithms import FISTA\n",
    "from cil.optimisation.operators import BlurringOperator\n",
    "from cil.optimisation.functions import L2NormSquared, LeastSquares, TotalVariation\n",
    "from cil.utilities import dataexample, noise\n",
    "from cil.utilities.display import show2D\n",
    "\n",
    "import numpy as np"
   ]
  },
  {
   "cell_type": "markdown",
   "id": "de100599-7643-442e-8e46-c2122beb05f1",
   "metadata": {},
   "source": [
    "We load an image from the `dataexample` class. In this demo, we use the `SHAPES` image. \n",
    "\n",
    "Other options are: \n",
    "\n",
    "* `BOAT`\n",
    "* `CAMERA`\n",
    "* `PEPPERS`(color)\n",
    "* `RESOLUTION_CHART` \n",
    "* `SIMPLE_PHANTOM_2D` \n",
    "* `RAINBOW` (color)"
   ]
  },
  {
   "cell_type": "code",
   "execution_count": null,
   "id": "f698f450-ad64-43fb-8a66-c07aedfcd41f",
   "metadata": {},
   "outputs": [],
   "source": [
    "# Load data\n",
    "data = dataexample.SHAPES.get()\n",
    "\n",
    "# Extract image geometry\n",
    "ig = data.geometry"
   ]
  },
  {
   "cell_type": "markdown",
   "id": "da338dd0-dd4f-4117-987b-2a0611caba16",
   "metadata": {},
   "source": [
    "Next, we define a **Point Spread Function (PSF)** and the BlurringOperator. To obtain our blurred and noisy image, we create the blurred image using the BlurringOperator and Gaussian noise is added with relatively small variance."
   ]
  },
  {
   "cell_type": "code",
   "execution_count": null,
   "id": "1a05b493-0d5f-4905-b273-6c9092d7661c",
   "metadata": {},
   "outputs": [],
   "source": [
    "# Parameters for point spread function PSF (size and std)\n",
    "ks          = 5; \n",
    "ksigma      = 2;\n",
    "\n",
    "# Create 1D PSF and 2D as outer product, then normalise.\n",
    "w           = np.exp(-np.arange(-(ks-1)/2,(ks-1)/2+1)**2/(2*ksigma**2))\n",
    "w.shape     = (ks,1)\n",
    "PSF         = w*np.transpose(w)\n",
    "PSF         = PSF/(PSF**2).sum()\n",
    "PSF         = PSF/PSF.sum()\n",
    "\n",
    "# Display PSF as image\n",
    "show2D(PSF, origin=\"upper\", title=\"PSF\", size=(10,10))\n",
    "\n",
    "# Create blurring operator and apply to clean image to produce blurred and display.\n",
    "BOP = BlurringOperator(PSF,ig)\n",
    "blurred_noisy = noise.gaussian(BOP.direct(data), seed = 10, var = 0.0001)\n",
    "\n",
    "# Show blurred and noisy image\n",
    "show2D(blurred_noisy, origin=\"upper\", title=\"Blurred+Noisy\", size=(10,10))"
   ]
  },
  {
   "cell_type": "markdown",
   "id": "e407d6e9-3389-4a92-aec3-b2a54665a143",
   "metadata": {},
   "source": [
    "Finally, we setup and run the FISTA algorithm using the Total variation regularisation. We can use either:\n",
    "\n",
    "* **TotalVariation** from CIL as ```alpha * TotalVariation(max_iteration=10)``` or \n",
    "* **FGP_TV** from the CCPi-Regularisation toolkit as ```alpha * FGP_TV(max_iteration=10, device='cpu')```.\n",
    "\n",
    "**Note:** Both functions implement the Fast Gradient Projection (FGP) algorithm inside their `proximal method`. In addition, the `FGP_TV` offers `cpu` and `gpu` acceleration options."
   ]
  },
  {
   "cell_type": "code",
   "execution_count": null,
   "id": "79af7215-1bcf-4694-a852-c9fde34be93f",
   "metadata": {},
   "outputs": [],
   "source": [
    "# Setup and run FISTA algorithm \n",
    "alpha = 0.05\n",
    "G = alpha * TotalVariation(max_iteration=10)\n",
    "F = LeastSquares(BOP, blurred_noisy)\n",
    "\n",
    "fista = FISTA(initial = ig.allocate(0), f = F, g = G, \n",
    "              update_objective_interval = 50)\n",
    "fista.run(200)  "
   ]
  },
  {
   "cell_type": "code",
   "execution_count": null,
   "id": "7d02afdc-6f73-4128-9518-fccf34b9468f",
   "metadata": {},
   "outputs": [],
   "source": [
    "show2D([data, blurred_noisy, fista.solution], \n",
    "       title=['Ground truth', 'Noisy Data (Gaussian)', 'Deblurred'], \n",
    "       origin=\"upper\", num_cols=3)"
   ]
  }
 ],
 "metadata": {
  "kernelspec": {
   "display_name": "cil_binder",
   "language": "python",
   "name": "python3"
  },
  "language_info": {
   "codemirror_mode": {
    "name": "ipython",
    "version": 3
   },
   "file_extension": ".py",
   "mimetype": "text/x-python",
   "name": "python",
   "nbconvert_exporter": "python",
   "pygments_lexer": "ipython3",
   "version": "3.12.11"
  }
 },
 "nbformat": 4,
 "nbformat_minor": 5
}
