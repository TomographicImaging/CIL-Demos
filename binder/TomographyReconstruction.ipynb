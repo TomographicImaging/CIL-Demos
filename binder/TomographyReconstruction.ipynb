{
 "cells": [
  {
   "cell_type": "markdown",
   "id": "2d4e368f-180a-4cf5-b6ee-dbea67c5a0c4",
   "metadata": {},
   "source": [
    "<h2><center> Tomography Reconstruction using CIL </center></h2>"
   ]
  },
  {
   "cell_type": "markdown",
   "id": "25e62372-8e1a-460c-a04f-21bf7b7c8634",
   "metadata": {},
   "source": [
    "### In this demo, we reconstruct simulated tomographic data using:\n",
    "\n",
    "* the Filtered Back Projection (FBP) algorithm, \n",
    "* Total variation (TV) regularisation under a non-negativity constraint\n",
    "\n",
    "    <a id='tv_reg'></a>\n",
    "    $$\\begin{equation}\n",
    "    \\underset{u}{\\operatorname{argmin}} \\frac{1}{2} \\| A u - g\\|^{2}_{2} + \\alpha\\,\\mathrm{TV}(u) + \\mathbb{I}_{\\{u\\geq0\\}}(u)\n",
    "    \\tag{1}\n",
    "    \\end{equation}$$\n",
    "\n",
    "    where,\n",
    "\n",
    "    * g is a noisy data corrupted with Gaussian noise and\n",
    "    * $A$ is the Projection operator."
   ]
  },
  {
   "cell_type": "code",
   "execution_count": null,
   "id": "3eff7f8f-df8f-462f-a097-1c2f5079b075",
   "metadata": {},
   "outputs": [],
   "source": [
    "# Import libraries\n",
    "\n",
    "from cil.framework import  AcquisitionGeometry\n",
    "\n",
    "from cil.optimisation.functions import L2NormSquared, BlockFunction, MixedL21Norm, IndicatorBox\n",
    "from cil.optimisation.operators import GradientOperator, BlockOperator\n",
    "from cil.optimisation.algorithms import PDHG\n",
    "from cil.plugins.astra.operators import ProjectionOperator\n",
    "from cil.plugins.astra.processors import FBP\n",
    "from cil.plugins import TomoPhantom\n",
    "from cil.utilities.display import show2D, show_geometry\n",
    "from cil.utilities import noise\n",
    "\n",
    "import matplotlib.pyplot as plt\n",
    "\n",
    "import numpy as np"
   ]
  },
  {
   "cell_type": "markdown",
   "id": "bb26bd6d-d292-4ec0-aaac-00ea093dc45c",
   "metadata": {},
   "source": [
    "We first configure our acquisition geometry, e.g., **2D parallel geometry**. Then, the image geometry is extracted and used to configure our phantom. To create our simulated phantoms, we use the [Tomophantom](https://github.com/dkazanc/TomoPhantom) library."
   ]
  },
  {
   "cell_type": "code",
   "execution_count": null,
   "id": "98d25e53-a482-4866-b96f-bff02aa54150",
   "metadata": {},
   "outputs": [],
   "source": [
    "# Detectors\n",
    "N = 256\n",
    "detectors =  N\n",
    "\n",
    "# Angles\n",
    "angles = np.linspace(0,180,180, dtype='float32')\n",
    "\n",
    "# Setup acquisition geometry\n",
    "ag = AcquisitionGeometry.create_Parallel2D()\\\n",
    "                        .set_angles(angles)\\\n",
    "                        .set_panel(detectors, pixel_size=0.1)\n",
    "# Get image geometry\n",
    "ig = ag.get_ImageGeometry()\n",
    "\n",
    "# Get phantom\n",
    "phantom = TomoPhantom.get_ImageData(12, ig)"
   ]
  },
  {
   "cell_type": "markdown",
   "id": "554f91bb-fa10-4a66-93dc-952afe88ea4f",
   "metadata": {},
   "source": [
    "Next, we create our simulated tomographic data by projecting our noiseless `phantom` to the acquisition space. Using the image geometry `ig` and acquisition geometry `ag`, we define the `ProjectionOperator` with `device=cpu` or `device=gpu`. Finally,  Gaussian noise is added to the noiseless sinogram."
   ]
  },
  {
   "cell_type": "code",
   "execution_count": null,
   "id": "203d1ab6-ecd4-4789-8e02-adf2f1f2c687",
   "metadata": {},
   "outputs": [],
   "source": [
    "# Create projection operator using Astra-Toolbox. Available CPU/CPU\n",
    "A = ProjectionOperator(ig, ag, device = 'cpu')\n",
    "\n",
    "# Create an acquisition data (numerically)\n",
    "sino = A.direct(phantom)\n",
    "\n",
    "# Simulate Gaussian noise for the sinogram\n",
    "gaussian_var = 0.5\n",
    "gaussian_mean = 0\n",
    "\n",
    "n1 = np.random.normal(gaussian_mean, gaussian_var, size = ag.shape)\n",
    "                      \n",
    "noisy_sino = ag.allocate()\n",
    "noisy_sino.fill(n1 + sino.array)\n",
    "noisy_sino.array[noisy_sino.array<0]=0\n",
    "\n",
    "# Show numerical and noisy sinograms\n",
    "show2D([phantom, sino, noisy_sino], title = ['Ground Truth','Sinogram','Noisy Sinogram'], num_cols=3, cmap = 'inferno')\n"
   ]
  },
  {
   "cell_type": "markdown",
   "id": "7f59da59-776e-48f3-81a6-e88188adf078",
   "metadata": {},
   "source": [
    "For our first reconstruction, we use the Filtered BackProjection algorithm, i.e., `FBP` applied to our noisy sinogram `noisy_sino`."
   ]
  },
  {
   "cell_type": "code",
   "execution_count": null,
   "id": "adf9f259-7837-45a0-b87d-a2cfbb510c86",
   "metadata": {},
   "outputs": [],
   "source": [
    "# Setup and run the FBP algorithm\n",
    "fbp_recon = FBP(ig, ag,  device = 'cpu')(noisy_sino)\n",
    "\n",
    "# Show reconstructions\n",
    "show2D([phantom, fbp_recon], \n",
    "       title = ['Ground Truth','FBP reconstruction'], \n",
    "       cmap = 'inferno', fix_range=(0,1.), size=(10,10))"
   ]
  },
  {
   "cell_type": "markdown",
   "id": "0cc1feb8-e1a8-4f9a-a753-89ade7885ea5",
   "metadata": {},
   "source": [
    "In the above reconstruction noise is not penalised. In order to remove noise artifacts, we will use the TotalVariation regularisation as shown in the minimisation problem above.\n",
    "\n",
    "We solve [(1)](#tv_reg), using the **Primal-Dual Hybrid Gradient (PDHG)** algorithm introduced in [ChambollePock](https://link.springer.com/article/10.1007/s10851-010-0251-1). We need to write [(1)](#tgv_reg) in the following general form $$\\underset{x\\in \\mathbb{X} }{\\operatorname{argmin}} f(Kx) + g(x).$$\n",
    "\n",
    "We let $x=u$ and\n",
    "\n",
    "* define an operator $K:\\mathbb{X}\\rightarrow\\mathbb{Y}$ as $\\\\[10pt]$\n",
    "\n",
    "    $$\\begin{equation}\n",
    "    K = \n",
    "    \\begin{bmatrix}\n",
    "    A \\\\\n",
    "    D \n",
    "    \\end{bmatrix} \\quad\\Rightarrow\\quad\n",
    "    Kx = Ku = \n",
    "    \\begin{bmatrix}\n",
    "    \\mathcal{A}u\\\\\n",
    "    Du\\\\\n",
    "    \\end{bmatrix} =\n",
    "    \\begin{bmatrix}\n",
    "    y_{1}\\\\\n",
    "    y_{2}\n",
    "    \\end{bmatrix} = y\\in \\mathbb{Y},\n",
    "    \\label{def_K}\n",
    "    \\end{equation}$$ \n",
    "    \n",
    "* define a function $f:\\mathbb{Y}\\rightarrow\\mathbb{R}$ as $\\\\[10pt]$\n",
    "\n",
    "    $$\\begin{equation}\n",
    "    \\begin{aligned}\n",
    "    & f(y)  := f(y_{1}, y_{2}) = f_{1}(y_{1}) +  f_{2}(y_{2}) , \\mbox{ where},\\\\[10pt]\n",
    "    & f_{1}(y_{1}) :=  \\frac{1}{2}\\| y_{1} - g\\|_{2}^{2},\\, f_{2}(y_{2}) :=  \\alpha \\|y_{2}\\|_{2,1}\n",
    "    \\end{aligned}\n",
    "    \\label{def_f}\n",
    "    \\end{equation}\\\\[10pt]$$\n",
    "    \n",
    "* and define a function $g(x) = g(u) = \\mathbb{I}_{\\{u\\geq0\\}}(u)$ for the non-negativity constraint.\n",
    "\n"
   ]
  },
  {
   "cell_type": "code",
   "execution_count": null,
   "id": "3a238555-32d7-47ed-ab27-218c6aea653b",
   "metadata": {},
   "outputs": [],
   "source": [
    "# Define BlockOperator K\n",
    "Grad = GradientOperator(ig)\n",
    "K = BlockOperator(A, Grad)\n",
    "\n",
    "# Define BlockFunction f\n",
    "alpha = 0.1\n",
    "f1 = 0.5 * L2NormSquared(b=noisy_sino)\n",
    "f2 = alpha * MixedL21Norm()\n",
    "f = BlockFunction(f1, f2)\n",
    "\n",
    "# Define Function g\n",
    "g = IndicatorBox(lower=0)\n",
    "\n",
    "# Primal/Dual stepsizes\n",
    "normK = K.norm()\n",
    "sigma = 1./normK\n",
    "tau = 1./normK\n",
    "\n",
    "# Setup and run PDHG\n",
    "pdhg = PDHG(f = f, g = g, operator = K, sigma = sigma, tau = tau,\n",
    "            update_objective_interval = 50)\n",
    "pdhg.run(200, verbose=2)"
   ]
  },
  {
   "cell_type": "markdown",
   "id": "d5c82f2d-4141-443e-b24c-8f3836569918",
   "metadata": {},
   "source": [
    "Finally, we compare the PDHG and FBP reconstructions and plot the middle line profiles."
   ]
  },
  {
   "cell_type": "code",
   "execution_count": null,
   "id": "7a0d672f-5369-4851-91b5-9f8ebc5f66fc",
   "metadata": {},
   "outputs": [],
   "source": [
    "show2D([pdhg.solution,fbp_recon, phantom], title = ['TV regularisation','FBP','Ground Truth'], cmap = 'inferno', num_cols=3, fix_range=(0,1.))\n",
    "\n",
    "# Plot middle line profile\n",
    "plt.figure(figsize=(30,15))\n",
    "plt.plot(phantom.get_slice(horizontal_y = int(N/2)).as_array(), label = 'Ground Truth', linewidth=5)\n",
    "plt.plot(fbp_recon.get_slice(horizontal_y = int(N/2)).as_array(), label = 'FBP', linewidth=5, linestyle='dashed')\n",
    "plt.plot(pdhg.solution.get_slice(horizontal_y = int(N/2)).as_array(), label = 'TV', linewidth=5)\n",
    "plt.legend()\n",
    "plt.title('Middle Line Profiles')\n",
    "plt.show()"
   ]
  }
 ],
 "metadata": {
  "kernelspec": {
   "display_name": "Python [conda env:cil_binder_intel] *",
   "language": "python",
   "name": "conda-env-cil_binder_intel-py"
  },
  "language_info": {
   "codemirror_mode": {
    "name": "ipython",
    "version": 3
   },
   "file_extension": ".py",
   "mimetype": "text/x-python",
   "name": "python",
   "nbconvert_exporter": "python",
   "pygments_lexer": "ipython3",
   "version": "3.7.10"
  }
 },
 "nbformat": 4,
 "nbformat_minor": 5
}
