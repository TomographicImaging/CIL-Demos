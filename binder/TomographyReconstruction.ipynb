{
 "cells": [
  {
   "cell_type": "code",
   "execution_count": null,
   "id": "0",
   "metadata": {
    "jupyter": {
     "source_hidden": true
    }
   },
   "outputs": [],
   "source": [
    "#  Copyright 2021 United Kingdom Research and Innovation\n",
    "#  Copyright 2021 The University of Manchester\n",
    "#\n",
    "#  Licensed under the Apache License, Version 2.0 (the \"License\");\n",
    "#  you may not use this file except in compliance with the License.\n",
    "#  You may obtain a copy of the License at\n",
    "#\n",
    "#      http://www.apache.org/licenses/LICENSE-2.0\n",
    "#\n",
    "#  Unless required by applicable law or agreed to in writing, software\n",
    "#  distributed under the License is distributed on an \"AS IS\" BASIS,\n",
    "#  WITHOUT WARRANTIES OR CONDITIONS OF ANY KIND, either express or implied.\n",
    "#  See the License for the specific language governing permissions and\n",
    "#  limitations under the License.\n",
    "#\n",
    "#   Authored by:    Evangelos Papoutsellis (UKRI-STFC)\n",
    "#                   Laura Murgatroyd (UKRI-STFC)"
   ]
  },
  {
   "cell_type": "markdown",
   "id": "1",
   "metadata": {},
   "source": [
    "<h2><center> Tomography Reconstruction using CIL </center></h2>"
   ]
  },
  {
   "cell_type": "markdown",
   "id": "2",
   "metadata": {},
   "source": [
    "### In this demo, we reconstruct simulated tomographic data using:\n",
    "\n",
    "* the Filtered Back Projection (FBP) algorithm, \n",
    "* Total variation (TV) regularisation under a non-negativity constraint\n",
    "\n",
    "    <a id='tv_reg'></a>\n",
    "    $$\\begin{equation}\n",
    "    \\underset{u}{\\operatorname{argmin}} \\frac{1}{2} \\| A u - g\\|^{2}_{2} + \\alpha\\,\\mathrm{TV}(u) + \\mathbb{I}_{\\{u\\geq0\\}}(u)\n",
    "    \\tag{1}\n",
    "    \\end{equation}$$\n",
    "\n",
    "    where,\n",
    "\n",
    "    * g is a noisy data corrupted with Gaussian noise and\n",
    "    * $A$ is the Projection operator."
   ]
  },
  {
   "cell_type": "code",
   "execution_count": null,
   "id": "3",
   "metadata": {},
   "outputs": [],
   "source": [
    "from cil.framework import  AcquisitionGeometry\n",
    "from cil.optimisation.functions import L2NormSquared, BlockFunction, MixedL21Norm, IndicatorBox\n",
    "from cil.optimisation.operators import GradientOperator, BlockOperator\n",
    "from cil.optimisation.algorithms import PDHG\n",
    "from cil.plugins.astra.operators import ProjectionOperator\n",
    "from cil.plugins.astra.processors import FBP\n",
    "from cil.plugins import TomoPhantom\n",
    "from cil.utilities.display import show2D\n",
    "\n",
    "import matplotlib.pyplot as plt\n",
    "import numpy as np"
   ]
  },
  {
   "cell_type": "markdown",
   "id": "4",
   "metadata": {},
   "source": [
    "We first configure our acquisition geometry, e.g., **2D parallel geometry**. Then, the image geometry is extracted and used to configure our phantom. To create our simulated phantoms, we use the [Tomophantom](https://github.com/dkazanc/TomoPhantom) library."
   ]
  },
  {
   "cell_type": "code",
   "execution_count": null,
   "id": "5",
   "metadata": {},
   "outputs": [],
   "source": [
    "# Detectors\n",
    "N = 256\n",
    "detectors =  N\n",
    "\n",
    "# Angles\n",
    "angles = np.linspace(0,180,180, dtype='float32')\n",
    "\n",
    "# Setup acquisition geometry\n",
    "ag = AcquisitionGeometry.create_Parallel2D()\\\n",
    "                        .set_angles(angles)\\\n",
    "                        .set_panel(detectors, pixel_size=0.1)\n",
    "# Get image geometry\n",
    "ig = ag.get_ImageGeometry()\n",
    "\n",
    "# Get phantom\n",
    "phantom = TomoPhantom.get_ImageData(12, ig)"
   ]
  },
  {
   "cell_type": "markdown",
   "id": "6",
   "metadata": {},
   "source": [
    "Next, we create our simulated tomographic data by projecting our noiseless `phantom` to the acquisition space. Using the image geometry `ig` and acquisition geometry `ag`, we define the `ProjectionOperator` with `device=cpu` or `device=gpu`. Finally,  Gaussian noise is added to the noiseless sinogram."
   ]
  },
  {
   "cell_type": "code",
   "execution_count": null,
   "id": "7",
   "metadata": {},
   "outputs": [],
   "source": [
    "# Create projection operator using Astra-Toolbox. Available CPU/CPU\n",
    "A = ProjectionOperator(ig, ag, device='cpu')\n",
    "\n",
    "# Create an acquisition data (numerically)\n",
    "sino = A.direct(phantom)\n",
    "\n",
    "# Simulate Gaussian noise for the sinogram\n",
    "gaussian_var = 0.5\n",
    "gaussian_mean = 0\n",
    "\n",
    "n1 = np.random.normal(gaussian_mean, gaussian_var, size=ag.shape)\n",
    "\n",
    "noisy_sino = ag.allocate()\n",
    "noisy_sino.fill(n1 + sino.array)\n",
    "noisy_sino.array[noisy_sino.array<0] = 0\n",
    "\n",
    "# Show numerical and noisy sinograms\n",
    "show2D([phantom, sino, noisy_sino], title=['Ground Truth','Sinogram','Noisy Sinogram'], num_cols=3, cmap='inferno');"
   ]
  },
  {
   "cell_type": "markdown",
   "id": "8",
   "metadata": {},
   "source": [
    "For our first reconstruction, we use the Filtered BackProjection algorithm, i.e., `FBP` applied to our noisy sinogram `noisy_sino`."
   ]
  },
  {
   "cell_type": "code",
   "execution_count": null,
   "id": "9",
   "metadata": {},
   "outputs": [],
   "source": [
    "# Setup and run the FBP algorithm\n",
    "fbp_recon = FBP(ig, ag, device='cpu')(noisy_sino)\n",
    "\n",
    "# Show reconstructions\n",
    "show2D([phantom, fbp_recon],\n",
    "       title = ['Ground Truth','FBP reconstruction'],\n",
    "       cmap = 'inferno', fix_range=(0,1.), size=(10,10));"
   ]
  },
  {
   "cell_type": "markdown",
   "id": "10",
   "metadata": {},
   "source": [
    "In the above reconstruction noise is not penalised. In order to remove noise artifacts, we will use the TotalVariation regularisation as shown in the minimisation problem above.\n",
    "\n",
    "We solve [(1)](#tv_reg), using the **Primal-Dual Hybrid Gradient (PDHG)** algorithm introduced in [ChambollePock](https://link.springer.com/article/10.1007/s10851-010-0251-1). We need to write [(1)](#tgv_reg) in the following general form $$\\underset{x\\in \\mathbb{X} }{\\operatorname{argmin}} f(Kx) + g(x).$$\n",
    "\n",
    "We let $x=u$ and\n",
    "\n",
    "* define an operator $K:\\mathbb{X}\\rightarrow\\mathbb{Y}$ as $\\\\[10pt]$\n",
    "\n",
    "    $$\\begin{equation}\n",
    "    K = \n",
    "    \\begin{bmatrix}\n",
    "    A \\\\\n",
    "    D \n",
    "    \\end{bmatrix} \\quad\\Rightarrow\\quad\n",
    "    Kx = Ku = \n",
    "    \\begin{bmatrix}\n",
    "    \\mathcal{A}u\\\\\n",
    "    Du\\\\\n",
    "    \\end{bmatrix} =\n",
    "    \\begin{bmatrix}\n",
    "    y_{1}\\\\\n",
    "    y_{2}\n",
    "    \\end{bmatrix} = y\\in \\mathbb{Y},\n",
    "    \\label{def_K}\n",
    "    \\end{equation}$$ \n",
    "    \n",
    "* define a function $f:\\mathbb{Y}\\rightarrow\\mathbb{R}$ as $\\\\[10pt]$\n",
    "\n",
    "    $$\\begin{equation}\n",
    "    \\begin{aligned}\n",
    "    & f(y)  := f(y_{1}, y_{2}) = f_{1}(y_{1}) +  f_{2}(y_{2}) , \\mbox{ where},\\\\[10pt]\n",
    "    & f_{1}(y_{1}) :=  \\frac{1}{2}\\| y_{1} - g\\|_{2}^{2},\\, f_{2}(y_{2}) :=  \\alpha \\|y_{2}\\|_{2,1}\n",
    "    \\end{aligned}\n",
    "    \\label{def_f}\n",
    "    \\end{equation}\\\\[10pt]$$\n",
    "    \n",
    "* and define a function $g(x) = g(u) = \\mathbb{I}_{\\{u\\geq0\\}}(u)$ for the non-negativity constraint.\n",
    "\n"
   ]
  },
  {
   "cell_type": "code",
   "execution_count": null,
   "id": "11",
   "metadata": {},
   "outputs": [],
   "source": [
    "# Define BlockOperator K\n",
    "Grad = GradientOperator(ig)\n",
    "K = BlockOperator(A, Grad)\n",
    "\n",
    "# Define BlockFunction f\n",
    "alpha = 0.1\n",
    "f1 = 0.5 * L2NormSquared(b=noisy_sino)\n",
    "f2 = alpha * MixedL21Norm()\n",
    "f = BlockFunction(f1, f2)\n",
    "\n",
    "# Define Function g\n",
    "g = IndicatorBox(lower=0)\n",
    "\n",
    "# Primal/Dual stepsizes\n",
    "normK = K.norm()\n",
    "sigma = 1./normK\n",
    "tau = 1./normK\n",
    "\n",
    "# Setup and run PDHG\n",
    "pdhg = PDHG(f=f, g=g, operator=K, sigma=sigma, tau=tau, update_objective_interval=5)\n",
    "pdhg.run(40, verbose=2)\n",
    "#pdhg.run(200, verbose=2) # might take a bit too long to run on binder"
   ]
  },
  {
   "cell_type": "markdown",
   "id": "12",
   "metadata": {},
   "source": [
    "Finally, we compare the PDHG and FBP reconstructions and plot the middle line profiles."
   ]
  },
  {
   "cell_type": "code",
   "execution_count": null,
   "id": "13",
   "metadata": {},
   "outputs": [],
   "source": [
    "show2D([pdhg.solution, fbp_recon, phantom], title=['TV regularisation','FBP','Ground Truth'], cmap='inferno', num_cols=3, fix_range=(0,1))\n",
    "\n",
    "# Plot middle line profile\n",
    "plt.figure(figsize=(30,15))\n",
    "plt.plot(phantom.get_slice(horizontal_y=N//2).as_array(), label='Ground Truth', linewidth=5)\n",
    "plt.plot(fbp_recon.get_slice(horizontal_y=N//2).as_array(), label='FBP', linewidth=5, linestyle='dashed')\n",
    "plt.plot(pdhg.solution.get_slice(horizontal_y=N//2).as_array(), label='TV', linewidth=5)\n",
    "plt.legend()\n",
    "plt.title('Middle Line Profiles')\n",
    "plt.show()"
   ]
  }
 ],
 "metadata": {
  "kernelspec": {
   "display_name": "cil_binder",
   "language": "python",
   "name": "python3"
  },
  "language_info": {
   "codemirror_mode": {
    "name": "ipython"
   },
   "file_extension": ".py",
   "mimetype": "text/x-python",
   "name": "python",
   "nbconvert_exporter": "python"
  }
 },
 "nbformat": 4,
 "nbformat_minor": 5
}
