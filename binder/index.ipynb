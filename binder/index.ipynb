{
 "cells": [
  {
   "cell_type": "markdown",
   "id": "0",
   "metadata": {},
   "source": [
    "## Core Imaging Library demos\n",
    "\n",
    "-   [Denoising](TotalVariationDenoising.ipynb)\n",
    "-   [Deblurring](TotalVariationDeblurring.ipynb)\n",
    "-   [Inpainting](TotalGeneralisedVariationInpainting.ipynb)\n",
    "-   [Tomography reconstruction](TomographyReconstruction.ipynb)\n",
    "-   [Deblurring PyData22](PyData22_deblurring.ipynb)"
   ]
  }
 ],
 "metadata": {
  "kernelspec": {
   "display_name": "Python [conda env:cil2_demos]",
   "language": "python",
   "name": "conda-env-cil2_demos-py"
  },
  "language_info": {
   "codemirror_mode": {
    "name": "ipython"
   },
   "file_extension": ".py",
   "mimetype": "text/x-python",
   "name": "python",
   "nbconvert_exporter": "python"
  }
 },
 "nbformat": 4,
 "nbformat_minor": 5
}
