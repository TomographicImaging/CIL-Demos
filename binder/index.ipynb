{
 "cells": [
  {
   "cell_type": "markdown",
   "id": "b49fe429-9dd4-4350-9e7f-332d7b1c1108",
   "metadata": {},
   "source": [
    "## Core Imaging Library demos\n",
    "\n",
    "-   [Denoising](TotalVariationDenoising.ipynb)\n",
    "-   [Deblurring](TotalVariationDeblurring.ipynb)\n",
    "-   [Inpainting](TotalVariationDenoising.ipynb)\n",
    "-   [Tomography](TotalVariationDenoising.ipynb)"
   ]
  }
 ],
 "metadata": {
  "kernelspec": {
   "display_name": "Python [conda env:cil2_demos] *",
   "language": "python",
   "name": "conda-env-cil2_demos-py"
  },
  "language_info": {
   "codemirror_mode": {
    "name": "ipython",
    "version": 3
   },
   "file_extension": ".py",
   "mimetype": "text/x-python",
   "name": "python",
   "nbconvert_exporter": "python",
   "pygments_lexer": "ipython3",
   "version": "3.8.8"
  }
 },
 "nbformat": 4,
 "nbformat_minor": 5
}
