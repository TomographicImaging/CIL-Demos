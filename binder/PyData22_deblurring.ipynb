{
 "cells": [
  {
   "cell_type": "code",
   "execution_count": null,
   "id": "0",
   "metadata": {
    "jupyter": {
     "source_hidden": true
    }
   },
   "outputs": [],
   "source": [
    "#  Copyright 2021 United Kingdom Research and Innovation\n",
    "#  Copyright 2021 The University of Manchester\n",
    "#\n",
    "#  Licensed under the Apache License, Version 2.0 (the \"License\");\n",
    "#  you may not use this file except in compliance with the License.\n",
    "#  You may obtain a copy of the License at\n",
    "#\n",
    "#      http://www.apache.org/licenses/LICENSE-2.0\n",
    "#\n",
    "#  Unless required by applicable law or agreed to in writing, software\n",
    "#  distributed under the License is distributed on an \"AS IS\" BASIS,\n",
    "#  WITHOUT WARRANTIES OR CONDITIONS OF ANY KIND, either express or implied.\n",
    "#  See the License for the specific language governing permissions and\n",
    "#  limitations under the License.\n",
    "#\n",
    "#   Authored by:    CIL Developers"
   ]
  },
  {
   "cell_type": "markdown",
   "id": "1",
   "metadata": {},
   "source": [
    "# Demo 1: Deblurring as an example of inverse problems in CIL"
   ]
  },
  {
   "cell_type": "markdown",
   "id": "2",
   "metadata": {
    "tags": []
   },
   "source": [
    "In this demo we show how to set up an image deblurring inverse problem in CIL and how to solve it with several choices of regularizers."
   ]
  },
  {
   "cell_type": "markdown",
   "id": "3",
   "metadata": {},
   "source": [
    "First we import all tools needed:"
   ]
  },
  {
   "cell_type": "code",
   "execution_count": null,
   "id": "4",
   "metadata": {},
   "outputs": [],
   "source": [
    "from cil.optimisation.algorithms import FISTA\n",
    "from cil.optimisation.operators import BlurringOperator\n",
    "from cil.optimisation.functions import LeastSquares, L2NormSquared, L1Norm, TotalVariation, ZeroFunction\n",
    "from cil.utilities import dataexample, noise\n",
    "from cil.utilities.display import show2D\n",
    "from cil.optimisation.utilities.callbacks import TextProgressCallback\n",
    "\n",
    "import numpy as np"
   ]
  },
  {
   "cell_type": "markdown",
   "id": "5",
   "metadata": {},
   "source": [
    "### A. Setting up the direct problem"
   ]
  },
  {
   "cell_type": "markdown",
   "id": "6",
   "metadata": {},
   "source": [
    "CIL comes with a number of test images such as\n",
    "- `BOAT`\n",
    "- `CAMERA`\n",
    "- `PEPPERS`(a colour image)\n",
    "- `RESOLUTION_CHART` \n",
    "- `SIMPLE_PHANTOM_2D` \n",
    "- `RAINBOW` (a colour image)\n",
    "\n",
    "In this demo, we load the `RESOLUTION_CHART` image:"
   ]
  },
  {
   "cell_type": "code",
   "execution_count": null,
   "id": "7",
   "metadata": {},
   "outputs": [],
   "source": [
    "u_true = dataexample.RESOLUTION_CHART.get()\n",
    "print(u_true)"
   ]
  },
  {
   "cell_type": "markdown",
   "id": "8",
   "metadata": {},
   "source": [
    "We can display the image (first we define a plotting function to use for consistency throughout):"
   ]
  },
  {
   "cell_type": "code",
   "execution_count": null,
   "id": "9",
   "metadata": {},
   "outputs": [],
   "source": [
    "def myshow(image, origin=\"upper\", size=(8,8), fix_range=(0,1), **kwargs):\n",
    "    show2D(image, origin=origin, size=size, fix_range=fix_range, **kwargs)"
   ]
  },
  {
   "cell_type": "code",
   "execution_count": null,
   "id": "10",
   "metadata": {},
   "outputs": [],
   "source": [
    "myshow(u_true)"
   ]
  },
  {
   "cell_type": "markdown",
   "id": "11",
   "metadata": {},
   "source": [
    "We see that `u_true` is an instance of the CIL `ImageData` class. More image metadata is available in the image's `geometry`:"
   ]
  },
  {
   "cell_type": "code",
   "execution_count": null,
   "id": "12",
   "metadata": {},
   "outputs": [],
   "source": [
    "print(type(u_true))\n",
    "ig = u_true.geometry\n",
    "print(ig)"
   ]
  },
  {
   "cell_type": "markdown",
   "id": "13",
   "metadata": {},
   "source": [
    "We consider the deblurring problem\n",
    "\n",
    "$$ d = A u + \\eta$$\n",
    "\n",
    "where \n",
    "- $u$ is the unknown sharp image\n",
    "- $A$ is a linear operator representing blurring\n",
    "- $\\eta$ is additive Gaussian noise\n",
    "- $d$ is the blurred and noisy image."
   ]
  },
  {
   "cell_type": "markdown",
   "id": "14",
   "metadata": {},
   "source": [
    "To set up the direct problem we specify a **point spread function (PSF)** to blur the image through a convolution:"
   ]
  },
  {
   "cell_type": "code",
   "execution_count": null,
   "id": "15",
   "metadata": {},
   "outputs": [],
   "source": [
    "# Parameters for point spread function PSF (size and std)\n",
    "ks          = 5\n",
    "ksigma      = 2\n",
    "\n",
    "# Create 1D PSF and 2D as outer product, then normalise.\n",
    "w           = np.exp(-np.arange(-(ks-1)/2,(ks-1)/2+1)**2/(2*ksigma**2))\n",
    "w.shape     = (ks,1)\n",
    "PSF         = w*np.transpose(w)\n",
    "PSF         = PSF/(PSF**2).sum()\n",
    "PSF         = PSF/PSF.sum()\n",
    "\n",
    "# Display PSF as image\n",
    "myshow(PSF, title=\"PSF\", fix_range=False)"
   ]
  },
  {
   "cell_type": "markdown",
   "id": "16",
   "metadata": {},
   "source": [
    "To be able to apply the blurring to our test image we specify a **BlurringOperator**:"
   ]
  },
  {
   "cell_type": "code",
   "execution_count": null,
   "id": "17",
   "metadata": {},
   "outputs": [],
   "source": [
    "A = BlurringOperator(PSF, ig)"
   ]
  },
  {
   "cell_type": "markdown",
   "id": "18",
   "metadata": {},
   "source": [
    "We apply the blurring operator to the test image and display the blurred image:"
   ]
  },
  {
   "cell_type": "code",
   "execution_count": null,
   "id": "19",
   "metadata": {},
   "outputs": [],
   "source": [
    "u_blur = A.direct(u_true)\n",
    "myshow(u_blur)"
   ]
  },
  {
   "cell_type": "markdown",
   "id": "20",
   "metadata": {},
   "source": [
    "We finally add some Gaussian noise to the blurred image:"
   ]
  },
  {
   "cell_type": "code",
   "execution_count": null,
   "id": "21",
   "metadata": {},
   "outputs": [],
   "source": [
    "u_blur_noise = noise.gaussian(u_blur, seed=10, var=0.01)\n",
    "myshow(u_blur_noise)"
   ]
  },
  {
   "cell_type": "markdown",
   "id": "22",
   "metadata": {},
   "source": [
    "### B. Specifying and solving the inverse problem as optimization problem"
   ]
  },
  {
   "cell_type": "markdown",
   "id": "23",
   "metadata": {},
   "source": [
    "We formulate the image deblurring problem as an optimization problem to simultaneously fit to the data and enforce regularization on the solution. We use a simple least squares data-fitting term with the blurring operator and try out a few different regularizers $\\Psi(u)$ in the general form optimization problem:"
   ]
  },
  {
   "cell_type": "markdown",
   "id": "24",
   "metadata": {},
   "source": [
    "$$\n",
    "\\min_u  \\| A u - d\\|^{2}_{2} + \\alpha\\,\\Psi(u)\n",
    "$$\n",
    "\n",
    "The choice of $\\Psi(u)$ determines the regularization to apply. We first try without regularization, $\\Psi(u) = 0$, leaving us with the simpler least-squares optimization problem\n",
    "$$\n",
    "\\min_u  \\| A u - d\\|^{2}_{2}\n",
    "$$"
   ]
  },
  {
   "cell_type": "markdown",
   "id": "25",
   "metadata": {},
   "source": [
    "We set up a `LeastSquares` function object:"
   ]
  },
  {
   "cell_type": "code",
   "execution_count": null,
   "id": "26",
   "metadata": {},
   "outputs": [],
   "source": [
    "F = LeastSquares(A, u_blur_noise)\n",
    "print(F)"
   ]
  },
  {
   "cell_type": "markdown",
   "id": "27",
   "metadata": {},
   "source": [
    "`F` is the objective or cost function that we want to minimize. As an example we evaluate it at the zero image:"
   ]
  },
  {
   "cell_type": "code",
   "execution_count": null,
   "id": "28",
   "metadata": {},
   "outputs": [],
   "source": [
    "zero_image = ig.allocate(0.0)\n",
    "F(zero_image)"
   ]
  },
  {
   "cell_type": "markdown",
   "id": "29",
   "metadata": {},
   "source": [
    "And for the image of all one values - this apparently has a smaller `F` value so is closer to minimizer:"
   ]
  },
  {
   "cell_type": "code",
   "execution_count": null,
   "id": "30",
   "metadata": {},
   "outputs": [],
   "source": [
    "F(zero_image + 1)"
   ]
  },
  {
   "cell_type": "markdown",
   "id": "31",
   "metadata": {},
   "source": [
    "We set up an instance of the `FISTA` algorithm with just the `F`, specify starting point and how often to print intermediate results:"
   ]
  },
  {
   "cell_type": "code",
   "execution_count": null,
   "id": "32",
   "metadata": {},
   "outputs": [],
   "source": [
    "alg_LS = FISTA(initial=zero_image, f=F, g=ZeroFunction(), update_objective_interval=5)"
   ]
  },
  {
   "cell_type": "markdown",
   "id": "33",
   "metadata": {},
   "source": [
    "Once set up, we can then run it for some iterations and inspect the preliminary resulting image. We use a callback to print out our objective function values every `update_objective_interval` and at the end of our iterations. "
   ]
  },
  {
   "cell_type": "code",
   "execution_count": null,
   "id": "34",
   "metadata": {},
   "outputs": [],
   "source": [
    "alg_LS.run(10, callbacks=[TextProgressCallback()])\n",
    "myshow(alg_LS.solution)"
   ]
  },
  {
   "cell_type": "markdown",
   "id": "35",
   "metadata": {},
   "source": [
    "Still looking blurry and also more noisy. We try running more iterations (note how the algorithm can be resumed):"
   ]
  },
  {
   "cell_type": "code",
   "execution_count": null,
   "id": "36",
   "metadata": {},
   "outputs": [],
   "source": [
    "alg_LS.run(10, callbacks=[TextProgressCallback()])\n",
    "myshow(alg_LS.solution)"
   ]
  },
  {
   "cell_type": "markdown",
   "id": "37",
   "metadata": {},
   "source": [
    "The image may be getting a bit sharper but also a lot noisier."
   ]
  },
  {
   "cell_type": "markdown",
   "id": "38",
   "metadata": {},
   "source": [
    "We need to use some regularization to handle the noise that is exploding by the inversion. We start by trying classic Tikhonov regularization\n",
    "$$ \\Psi(u) = \\alpha \\cdot \\|u\\|^2 = \\alpha \\cdot \\sum_j u_j^2$$\n",
    "which we specify as a CIL `L2NormSquared` function:"
   ]
  },
  {
   "cell_type": "code",
   "execution_count": null,
   "id": "39",
   "metadata": {},
   "outputs": [],
   "source": [
    "G_L2 = 0.2 * L2NormSquared()"
   ]
  },
  {
   "cell_type": "markdown",
   "id": "40",
   "metadata": {},
   "source": [
    "Another `FISTA` algorithm instance is set up, now with the regularizer passed:"
   ]
  },
  {
   "cell_type": "code",
   "execution_count": null,
   "id": "41",
   "metadata": {},
   "outputs": [],
   "source": [
    "alg_L2 = FISTA(initial=zero_image, f=F, g=G_L2, update_objective_interval=5)"
   ]
  },
  {
   "cell_type": "markdown",
   "id": "42",
   "metadata": {},
   "source": [
    "We run some iterations and display the result:"
   ]
  },
  {
   "cell_type": "code",
   "execution_count": null,
   "id": "43",
   "metadata": {},
   "outputs": [],
   "source": [
    "alg_L2.run(20, callbacks=[TextProgressCallback()])\n",
    "myshow(alg_L2.solution)"
   ]
  },
  {
   "cell_type": "markdown",
   "id": "44",
   "metadata": {},
   "source": [
    "This is handling the noise better but it is still very smooth, which is the expected behaviour of Tikhonov regularization which introduces smoothing.\n",
    "\n",
    "We try instead L1-norm regularization, which attempts to enforce sparsity of the image\n",
    "$$\\Psi(u)= \\| u\\|_1  = \\sum_j |u_j| $$\n",
    "which in CIL looks like"
   ]
  },
  {
   "cell_type": "code",
   "execution_count": null,
   "id": "45",
   "metadata": {},
   "outputs": [],
   "source": [
    "G_L1 = 0.2 * L1Norm()"
   ]
  },
  {
   "cell_type": "markdown",
   "id": "46",
   "metadata": {},
   "source": [
    "The `FISTA` instance is set up in the same way as before, with the new `g`:"
   ]
  },
  {
   "cell_type": "code",
   "execution_count": null,
   "id": "47",
   "metadata": {},
   "outputs": [],
   "source": [
    "alg_L1 = FISTA(initial=zero_image, f=F, g=G_L1, update_objective_interval=5)"
   ]
  },
  {
   "cell_type": "markdown",
   "id": "48",
   "metadata": {},
   "source": [
    "We run some iterations and display the result:"
   ]
  },
  {
   "cell_type": "code",
   "execution_count": null,
   "id": "49",
   "metadata": {},
   "outputs": [],
   "source": [
    "alg_L1.run(20, callbacks=[TextProgressCallback()])\n",
    "myshow(alg_L1.solution)"
   ]
  },
  {
   "cell_type": "markdown",
   "id": "50",
   "metadata": {},
   "source": [
    "This produces a sharper image, with some of the noise reduced, but still very noisy.\n",
    "\n",
    "We finally try Total Variation regularization\n",
    "$$ \\Psi(u) = TV(u) = \\|\\nabla u\\|_{2,1} $$\n",
    "which attempts to make the gradient image sparse, which corresponds to a piecewise constant image."
   ]
  },
  {
   "cell_type": "code",
   "execution_count": null,
   "id": "51",
   "metadata": {},
   "outputs": [],
   "source": [
    "G_TV = 0.02 * TotalVariation()"
   ]
  },
  {
   "cell_type": "code",
   "execution_count": null,
   "id": "52",
   "metadata": {},
   "outputs": [],
   "source": [
    "alg_TV = FISTA(initial=zero_image, f=F, g=G_TV, update_objective_interval=1)"
   ]
  },
  {
   "cell_type": "code",
   "execution_count": null,
   "id": "53",
   "metadata": {},
   "outputs": [],
   "source": [
    "alg_TV.run(10, callbacks=[TextProgressCallback()])\n",
    "myshow(alg_TV.solution)"
   ]
  },
  {
   "cell_type": "markdown",
   "id": "54",
   "metadata": {},
   "source": [
    "We see the noise is reduced a lot and the larger bars are well recovered. However the smaller bars are blending together.  One can play with the choice regularization parameter to study the trade-off.\n",
    "\n",
    "In general, TV tends to reproduce larger features like this very well from noisy data, but lose small features."
   ]
  },
  {
   "cell_type": "markdown",
   "id": "55",
   "metadata": {},
   "source": [
    "Finally we compare all the reconstructions:"
   ]
  },
  {
   "cell_type": "code",
   "execution_count": null,
   "id": "56",
   "metadata": {},
   "outputs": [],
   "source": [
    "myshow([u_true, u_blur_noise, alg_LS.solution,  alg_L2.solution, alg_L1.solution, alg_TV.solution],\n",
    "       title=['Original', 'Blurred and noisy', 'Unregularised Least squares', 'L2',  'L1', 'TV'],\n",
    "       num_cols=3)"
   ]
  }
 ],
 "metadata": {
  "kernelspec": {
   "display_name": "cil_binder4",
   "language": "python",
   "name": "python3"
  },
  "language_info": {
   "codemirror_mode": {
    "name": "ipython"
   },
   "file_extension": ".py",
   "mimetype": "text/x-python",
   "name": "python",
   "nbconvert_exporter": "python"
  }
 },
 "nbformat": 4,
 "nbformat_minor": 5
}
