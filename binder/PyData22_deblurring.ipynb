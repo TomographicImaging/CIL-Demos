{
 "cells": [
  {
   "cell_type": "markdown",
   "id": "2d4e368f-180a-4cf5-b6ee-dbea67c5a0c4",
   "metadata": {},
   "source": [
    "# Demo 1: Deblurring as an example of inverse problems in CIL"
   ]
  },
  {
   "cell_type": "markdown",
   "id": "25e62372-8e1a-460c-a04f-21bf7b7c8634",
   "metadata": {
    "tags": []
   },
   "source": [
    "In this demo we show how to set up an image deblurring inverse problem in CIL and how to solve it with several choices of regularizers."
   ]
  },
  {
   "cell_type": "markdown",
   "id": "1f9dc3c2-390b-4298-b4a8-14280e2037ff",
   "metadata": {},
   "source": [
    "First we import all tools needed:"
   ]
  },
  {
   "cell_type": "code",
   "execution_count": null,
   "id": "d1c90a86-a2b5-42c5-bdac-3e77b323b112",
   "metadata": {},
   "outputs": [],
   "source": [
    "# From CIL\n",
    "from cil.optimisation.algorithms import FISTA\n",
    "from cil.optimisation.operators import BlurringOperator\n",
    "from cil.optimisation.functions import LeastSquares, L2NormSquared, L1Norm, TotalVariation\n",
    "from cil.utilities import dataexample, noise\n",
    "from cil.utilities.display import show2D\n",
    "\n",
    "# Third-party\n",
    "import numpy as np"
   ]
  },
  {
   "cell_type": "markdown",
   "id": "4dd73744-23fe-4f64-95d2-a3946c294884",
   "metadata": {},
   "source": [
    "### A. Setting up the direct problem"
   ]
  },
  {
   "cell_type": "markdown",
   "id": "de100599-7643-442e-8e46-c2122beb05f1",
   "metadata": {},
   "source": [
    "CIL comes with a number of test images such as\n",
    "- `BOAT`\n",
    "- `CAMERA`\n",
    "- `PEPPERS`(color)\n",
    "- `RESOLUTION_CHART` \n",
    "- `SIMPLE_PHANTOM_2D` \n",
    "- `RAINBOW` (color)\n",
    "\n",
    "In this demo, we load the `RESOLUTION_CHART` image:"
   ]
  },
  {
   "cell_type": "code",
   "execution_count": null,
   "id": "4e014304-1c11-48bf-aa61-30397a092db6",
   "metadata": {},
   "outputs": [],
   "source": [
    "u_true = dataexample.RESOLUTION_CHART.get()\n",
    "print(u_true)"
   ]
  },
  {
   "cell_type": "markdown",
   "id": "26a794aa-50b1-47f6-852b-b82c1d4d32ab",
   "metadata": {},
   "source": [
    "We can display the image (first we define a plotting function to use for consistency throughout):"
   ]
  },
  {
   "cell_type": "code",
   "execution_count": null,
   "id": "18dd4c4f-3765-4408-a814-4d146919cc52",
   "metadata": {},
   "outputs": [],
   "source": [
    "myshow = lambda image : show2D(image, origin=\"upper\", size=(8,8), fix_range=(0,1))"
   ]
  },
  {
   "cell_type": "code",
   "execution_count": null,
   "id": "a908a22b-d686-45dd-b117-5a52dadc24bc",
   "metadata": {},
   "outputs": [],
   "source": [
    "myshow(u_true)"
   ]
  },
  {
   "cell_type": "markdown",
   "id": "bd26a60f-8afe-4162-b949-1d94563ecd2d",
   "metadata": {},
   "source": [
    "We see that `u_true` is an instance of the CIL `ImageData` class. More image metadata is available in the image's `geometry`:"
   ]
  },
  {
   "cell_type": "code",
   "execution_count": null,
   "id": "9744fe5c-1737-443f-98f3-1966d81b5d9d",
   "metadata": {},
   "outputs": [],
   "source": [
    "print(type(u_true))\n",
    "print('\\n')\n",
    "\n",
    "ig = u_true.geometry\n",
    "print(ig)"
   ]
  },
  {
   "cell_type": "markdown",
   "id": "fa89407d-3a73-4747-9b40-9e561b7c477a",
   "metadata": {},
   "source": [
    "We consider the deblurring problem\n",
    "\n",
    "$$ d = A u + \\eta$$\n",
    "\n",
    "where \n",
    "- $u$ is the unknown sharp image\n",
    "- $A$ is a linear operator representing blurring\n",
    "- $\\eta$ is additive Gaussian noise\n",
    "- $d$ is the blurred and noisy image."
   ]
  },
  {
   "cell_type": "markdown",
   "id": "57739e7b-9864-41b8-bbe2-2636da0353ee",
   "metadata": {},
   "source": [
    "To set up the direct problem we specify a **point spread function (PSF)** to blur the image through a convolution:"
   ]
  },
  {
   "cell_type": "code",
   "execution_count": null,
   "id": "6beaf0e1-bbf1-427a-aed9-3349b2ce4e56",
   "metadata": {},
   "outputs": [],
   "source": [
    "# Parameters for point spread function PSF (size and std)\n",
    "ks          = 5; \n",
    "ksigma      = 2;\n",
    "\n",
    "# Create 1D PSF and 2D as outer product, then normalise.\n",
    "w           = np.exp(-np.arange(-(ks-1)/2,(ks-1)/2+1)**2/(2*ksigma**2))\n",
    "w.shape     = (ks,1)\n",
    "PSF         = w*np.transpose(w)\n",
    "PSF         = PSF/(PSF**2).sum()\n",
    "PSF         = PSF/PSF.sum()\n",
    "\n",
    "# Display PSF as image\n",
    "show2D(PSF, origin=\"upper\", title=\"PSF\", size=(8,8))"
   ]
  },
  {
   "cell_type": "markdown",
   "id": "da338dd0-dd4f-4117-987b-2a0611caba16",
   "metadata": {},
   "source": [
    "To be able to apply the blurring to our test image we specify a **BlurringOperator**:"
   ]
  },
  {
   "cell_type": "code",
   "execution_count": null,
   "id": "a751f696-189e-46c8-a8f6-b863af3a863a",
   "metadata": {},
   "outputs": [],
   "source": [
    "A = BlurringOperator(PSF, ig)"
   ]
  },
  {
   "cell_type": "markdown",
   "id": "b02c2c24-76d0-47e8-bf55-8334488af2dd",
   "metadata": {},
   "source": [
    "We apply the blurring operator to the test image and display the blurred image:"
   ]
  },
  {
   "cell_type": "code",
   "execution_count": null,
   "id": "2b4fea19-551f-4e48-9f8c-a5fde198e9bc",
   "metadata": {},
   "outputs": [],
   "source": [
    "u_blur = A.direct(u_true)\n",
    "myshow(u_blur)"
   ]
  },
  {
   "cell_type": "markdown",
   "id": "64deaef0-c87f-48ce-a238-9b1e8508e612",
   "metadata": {},
   "source": [
    "We finally add some Gaussian noise to the blurred image:"
   ]
  },
  {
   "cell_type": "code",
   "execution_count": null,
   "id": "0ec329c5-36b7-40ee-88f6-2520643ea419",
   "metadata": {},
   "outputs": [],
   "source": [
    "u_blur_noise = noise.gaussian(u_blur, seed=10, var=0.01)\n",
    "myshow(u_blur_noise)"
   ]
  },
  {
   "cell_type": "markdown",
   "id": "5a9c505e-4729-4bae-a8d8-48285ef6bf3a",
   "metadata": {},
   "source": [
    "### B. Specifying and solving the inverse problem as optimization problem"
   ]
  },
  {
   "cell_type": "markdown",
   "id": "59a15049-1654-4896-9191-34a57bd4abb2",
   "metadata": {},
   "source": [
    "We formulate the image deblurring problem as an optimization problem to simultaneously fit to the data and enforce regularization on the solution. We use a simple least squares data-fitting term with the blurring operator and try out a few different regularizers $\\Psi(u)$ in the general form optimization problem:"
   ]
  },
  {
   "cell_type": "markdown",
   "id": "9a4b311f-bcb2-4c8c-bbf8-2937b62752d1",
   "metadata": {},
   "source": [
    "$$\n",
    "\\min_u  \\| A u - d\\|^{2}_{2} + \\alpha\\,\\Psi(u)\n",
    "$$\n",
    "\n",
    "The choice of $\\Psi(u)$ determines the regularization to apply. We first try without regularization, $\\Psi(u) = 0$, leaving us with the simpler least-squares optimization problem\n",
    "$$\n",
    "\\min_u  \\| A u - d\\|^{2}_{2}\n",
    "$$"
   ]
  },
  {
   "cell_type": "markdown",
   "id": "46b33c83-e611-42b0-ac4d-2bac4826b79d",
   "metadata": {},
   "source": [
    "We set up a `LeastSquares` function object:"
   ]
  },
  {
   "cell_type": "code",
   "execution_count": null,
   "id": "d2260df8-a5af-4048-81cf-9bf8001dc41b",
   "metadata": {},
   "outputs": [],
   "source": [
    "F = LeastSquares(A, u_blur_noise)\n",
    "print(F)"
   ]
  },
  {
   "cell_type": "markdown",
   "id": "779945a1-cd96-44f2-83bc-fb38e4a5c3a3",
   "metadata": {},
   "source": [
    "`F` is the objective or cost function that we want to minimize. As an example we evaluate it at the zero image:"
   ]
  },
  {
   "cell_type": "code",
   "execution_count": null,
   "id": "52e1c85c-c5b6-43fc-808c-e99db8d3906b",
   "metadata": {},
   "outputs": [],
   "source": [
    "zero_image = ig.allocate(0.0)\n",
    "F(zero_image)"
   ]
  },
  {
   "cell_type": "markdown",
   "id": "df61a4f2-cfcc-4a5b-aa6a-7e7d2f21839a",
   "metadata": {},
   "source": [
    "And for the image of all one values - this apparently has a smaller `F` value so is closer to minimizer:"
   ]
  },
  {
   "cell_type": "code",
   "execution_count": null,
   "id": "e85161fb-e961-4d57-9f65-d7a702a1f799",
   "metadata": {},
   "outputs": [],
   "source": [
    "F(zero_image + 1)"
   ]
  },
  {
   "cell_type": "markdown",
   "id": "e7500ca4-e36f-46cb-afb2-bce012a80087",
   "metadata": {},
   "source": [
    "We set up an instance of the `FISTA` algorithm with just the `F`, specify starting point, max iterations and how often to print intermediate results:"
   ]
  },
  {
   "cell_type": "code",
   "execution_count": null,
   "id": "4142e2e9-f94d-4a45-b083-3fafbdb5896f",
   "metadata": {},
   "outputs": [],
   "source": [
    "alg_LS = FISTA(initial=zero_image, \n",
    "               f=F, \n",
    "               max_iteration=2000, \n",
    "               update_objective_interval=50)"
   ]
  },
  {
   "cell_type": "markdown",
   "id": "67c3f4f0-a964-4638-b040-fba7496e34d4",
   "metadata": {},
   "source": [
    "Once set up, we can then run it for some iterations and inspect the preliminary resulting image:"
   ]
  },
  {
   "cell_type": "code",
   "execution_count": null,
   "id": "b73b688a-430b-4b78-8f00-5f69a433e6a1",
   "metadata": {},
   "outputs": [],
   "source": [
    "alg_LS.run(10)\n",
    "myshow(alg_LS.solution)"
   ]
  },
  {
   "cell_type": "markdown",
   "id": "ce5a2f6c-9708-479e-b314-7b1e574a32db",
   "metadata": {},
   "source": [
    "Still looking blurry and also more noisy. We try running more iterations (note how the algorithm can be resumed):"
   ]
  },
  {
   "cell_type": "code",
   "execution_count": null,
   "id": "0fde484b-2940-452a-9c43-b64919e0361d",
   "metadata": {},
   "outputs": [],
   "source": [
    "alg_LS.run(90)\n",
    "myshow(alg_LS.solution)"
   ]
  },
  {
   "cell_type": "markdown",
   "id": "85a62bcf-df67-4455-b9af-ba2577094c82",
   "metadata": {},
   "source": [
    "The image may be getting a bit sharper but also a lot noisier. If we run even more iterations, this just continues:"
   ]
  },
  {
   "cell_type": "code",
   "execution_count": null,
   "id": "60d22780-376c-4ce5-9bf9-113b38b8df4e",
   "metadata": {},
   "outputs": [],
   "source": [
    "alg_LS.run(400)\n",
    "myshow(alg_LS.solution)"
   ]
  },
  {
   "cell_type": "markdown",
   "id": "5d4d9c07-ab7a-4e2b-ae2c-28a6672d94fc",
   "metadata": {},
   "source": [
    "We need to use some regularization to handle the noise that is exploding by the inversion. We start by trying classic Tikhonov regularization\n",
    "$$ \\Psi(u) = \\alpha \\cdot \\|u\\|^2 = \\alpha \\cdot \\sum_j u_j^2$$\n",
    "which we specify as a CIL `L2NormSquared` function:"
   ]
  },
  {
   "cell_type": "code",
   "execution_count": null,
   "id": "53c967ff-e377-4a2f-bcdc-d980dfc9a9d8",
   "metadata": {},
   "outputs": [],
   "source": [
    "G_L2 = 0.2*L2NormSquared()"
   ]
  },
  {
   "cell_type": "markdown",
   "id": "93e46009-ff81-434e-8669-54bd9ebcc710",
   "metadata": {},
   "source": [
    "Another `FISTA` algorithm instance is set up, now with the regularizer passed:"
   ]
  },
  {
   "cell_type": "code",
   "execution_count": null,
   "id": "d716e47a-db62-49fe-92b0-afe674b71019",
   "metadata": {},
   "outputs": [],
   "source": [
    "alg_L2 = FISTA(initial=zero_image, \n",
    "               f=F, \n",
    "               g=G_L2,\n",
    "               max_iteration=2000, \n",
    "               update_objective_interval=50)"
   ]
  },
  {
   "cell_type": "markdown",
   "id": "9d082870-9bfe-4af0-96b5-a429acac7d92",
   "metadata": {},
   "source": [
    "We run some iterations and display the result:"
   ]
  },
  {
   "cell_type": "code",
   "execution_count": null,
   "id": "89e4d901-1be5-412f-b09e-9ce3aa24c176",
   "metadata": {},
   "outputs": [],
   "source": [
    "alg_L2.run(100)\n",
    "myshow(alg_L2.solution)"
   ]
  },
  {
   "cell_type": "markdown",
   "id": "319eb999-576d-4dde-bf7e-a7fa03fb1b3b",
   "metadata": {},
   "source": [
    "This is handling the noise better but it is still very smooth, which is the expected behaviour of Tikhonov regularization which introduces smoothing.\n",
    "\n",
    "We try instead L1-norm regularization, which attempts to enforce sparsity of the image\n",
    "$$\\Psi(u)= \\| u\\|_1  = \\sum_j |u_j| $$\n",
    "which in CIL looks like"
   ]
  },
  {
   "cell_type": "code",
   "execution_count": null,
   "id": "a80168f9-9505-4ec6-836b-3b2d5fb4c794",
   "metadata": {},
   "outputs": [],
   "source": [
    "G_L1 = 0.2*L1Norm()"
   ]
  },
  {
   "cell_type": "markdown",
   "id": "6a51258a-ffff-4ff5-9947-816e1143e07b",
   "metadata": {},
   "source": [
    "The `FISTA` instance is set up in the same way as before, with the new `g`:"
   ]
  },
  {
   "cell_type": "code",
   "execution_count": null,
   "id": "f377931b-190f-4b5a-b0a6-7d0fadbc8c39",
   "metadata": {},
   "outputs": [],
   "source": [
    "alg_L1 = FISTA(initial=zero_image, \n",
    "               f=F, \n",
    "               g=G_L1,\n",
    "               max_iteration=2000, \n",
    "               update_objective_interval=50)"
   ]
  },
  {
   "cell_type": "markdown",
   "id": "823cfbc5-8e63-4690-835c-4da6b85accf4",
   "metadata": {},
   "source": [
    "We run some iterations and display the result:"
   ]
  },
  {
   "cell_type": "code",
   "execution_count": null,
   "id": "d3245f5a-ad39-425f-8570-dac00847631c",
   "metadata": {},
   "outputs": [],
   "source": [
    "alg_L1.run(200)\n",
    "myshow(alg_L1.solution)"
   ]
  },
  {
   "cell_type": "markdown",
   "id": "5115049c-da5f-492d-a050-2eec89b3df5f",
   "metadata": {},
   "source": [
    "This produces a sharper image, with some of the noise reduced, but still very noisy.\n",
    "\n",
    "We finally try Total Variation regularization\n",
    "$$ \\Psi(u) = TV(u) = \\|\\nabla u\\|_{2,1} $$\n",
    "which attempts to make the gradient image sparse, which correcsponds to a piecewise constant image."
   ]
  },
  {
   "cell_type": "code",
   "execution_count": null,
   "id": "c23e8275-e45c-4a76-8ecb-6b7ea1982ae3",
   "metadata": {},
   "outputs": [],
   "source": [
    "G_TV = 0.02 * TotalVariation()"
   ]
  },
  {
   "cell_type": "code",
   "execution_count": null,
   "id": "b1d921df-375d-4161-ab4e-9651c584259f",
   "metadata": {},
   "outputs": [],
   "source": [
    "alg_TV = FISTA(initial=zero_image, \n",
    "               f=F, \n",
    "               g=G_TV,\n",
    "               max_iteration=2000, \n",
    "               update_objective_interval=50)"
   ]
  },
  {
   "cell_type": "code",
   "execution_count": null,
   "id": "7de135de-d463-487a-afe5-6a7978c4665b",
   "metadata": {},
   "outputs": [],
   "source": [
    "alg_TV.run(200)\n",
    "myshow(alg_TV.solution)"
   ]
  },
  {
   "cell_type": "markdown",
   "id": "f564d2db-1c80-4b21-abb3-e6dab7da8b40",
   "metadata": {},
   "source": [
    "We see the noise is reduced a lot and the larger bars are well recovered. However the smaller bars are blending together.  One can play with the choice regularization parameter to study the trade-off.\n",
    "\n",
    "In general, TV tends to reproduce larger features like this very well from noisy data, but lose small features."
   ]
  },
  {
   "cell_type": "markdown",
   "id": "f12eb4b9-602a-4c3b-bfe6-ff63f2eed6b8",
   "metadata": {},
   "source": [
    "Finally we compare all the reconstructions:"
   ]
  },
  {
   "cell_type": "code",
   "execution_count": null,
   "id": "5cbfce90-2f33-4034-9225-d95100e06a3b",
   "metadata": {},
   "outputs": [],
   "source": [
    "show2D([u_true, u_blur_noise, alg_LS.solution,  alg_L2.solution, alg_L1.solution, alg_TV.solution], \n",
    "       title=['Original', 'Blurred and noisy', 'Unregularized Least squares', 'L2',  'L1', 'TV'], \n",
    "       origin=\"upper\", \n",
    "       fix_range=(0,1), \n",
    "       num_cols=3)"
   ]
  }
 ],
 "metadata": {
  "kernelspec": {
   "display_name": "Python 3 (ipykernel)",
   "language": "python",
   "name": "python3"
  },
  "language_info": {
   "codemirror_mode": {
    "name": "ipython",
    "version": 3
   },
   "file_extension": ".py",
   "mimetype": "text/x-python",
   "name": "python",
   "nbconvert_exporter": "python",
   "pygments_lexer": "ipython3",
   "version": "3.9.10"
  }
 },
 "nbformat": 4,
 "nbformat_minor": 5
}
