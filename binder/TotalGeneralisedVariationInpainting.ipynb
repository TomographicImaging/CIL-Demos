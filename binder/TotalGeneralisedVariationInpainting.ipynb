{
 "cells": [
  {
   "cell_type": "code",
   "execution_count": null,
   "id": "0",
   "metadata": {
    "jupyter": {
     "source_hidden": true
    }
   },
   "outputs": [],
   "source": [
    "#  Copyright 2021 United Kingdom Research and Innovation\n",
    "#  Copyright 2021 The University of Manchester\n",
    "#\n",
    "#  Licensed under the Apache License, Version 2.0 (the \"License\");\n",
    "#  you may not use this file except in compliance with the License.\n",
    "#  You may obtain a copy of the License at\n",
    "#\n",
    "#      http://www.apache.org/licenses/LICENSE-2.0\n",
    "#\n",
    "#  Unless required by applicable law or agreed to in writing, software\n",
    "#  distributed under the License is distributed on an \"AS IS\" BASIS,\n",
    "#  WITHOUT WARRANTIES OR CONDITIONS OF ANY KIND, either express or implied.\n",
    "#  See the License for the specific language governing permissions and\n",
    "#  limitations under the License.\n",
    "#\n",
    "#   Authored by:    Evangelos Papoutsellis (UKRI-STFC)\n",
    "#                   Gemma Fardell (UKRI-STFC)\n",
    "#                   Laura Murgatroyd (UKRI-STFC)"
   ]
  },
  {
   "cell_type": "markdown",
   "id": "1",
   "metadata": {},
   "source": [
    "<h2><center> Total Generalised Variation Inpainting </center></h2>"
   ]
  },
  {
   "cell_type": "markdown",
   "id": "2",
   "metadata": {},
   "source": [
    "### In this demo, we solve the following minimisation problem:\n",
    "\n",
    "<a id='tgv_reg'></a>\n",
    "$$\\begin{equation}\n",
    "\\underset{u}{\\operatorname{argmin}} \\|\\mathcal{M}u-g\\|_{1} + \\mathrm{TGV}_{\\alpha, \\beta}(u)\n",
    "\\tag{1}\n",
    "\\end{equation}$$\n",
    "\n",
    "where,\n",
    "\n",
    "* $g$ is a corrupted image with missing pixels, defined by the inpainting domain $\\mathcal{D}\\setminus\\Omega$. \n",
    "* $\\mathcal{M}$ is a diagonal operator with ones in the diagonal elements corresponding to pixels in $\\Omega\\setminus\\mathcal{D}$ and zeros in $\\mathcal{D}$.\n",
    "* $\\mathrm{TGV}_{\\alpha, \\beta}$ stands for the **Total Generalised Variation** introduced in [Bredies_et_al](https://epubs.siam.org/doi/abs/10.1137/090769521?mobileUi=0) and is defined as\n",
    "\n",
    "$$\\begin{equation}\n",
    "\\mathrm{TGV}_{\\alpha, \\beta}(u) = \\min_{w} \\alpha \\|D u - w \\|_{2,1} + \\beta\\|\\mathcal{E}w\\|_{2,1},\n",
    "\\end{equation}\n",
    "$$\n",
    "where,\n",
    "\n",
    "* $\\alpha$ and $\\beta$ are regularising parameters and \n",
    "* $\\mathcal{E}w = \\frac{1}{2}(D w + D w^{T})$ denotes the symmetrized gradient operator.\n"
   ]
  },
  {
   "cell_type": "code",
   "execution_count": null,
   "id": "3",
   "metadata": {},
   "outputs": [],
   "source": [
    "from cil.utilities import dataexample, noise\n",
    "from cil.optimisation.operators import MaskOperator, BlockOperator, SymmetrisedGradientOperator, \\\n",
    "                                GradientOperator, ZeroOperator, IdentityOperator, ChannelwiseOperator\n",
    "from cil.optimisation.functions import ZeroFunction, L1Norm, MixedL21Norm, BlockFunction\n",
    "from cil.optimisation.algorithms import PDHG\n",
    "\n",
    "from mpl_toolkits.axes_grid1 import AxesGrid\n",
    "import matplotlib.pyplot as plt\n",
    "import numpy as np\n",
    "\n",
    "from PIL import Image, ImageFont, ImageDraw"
   ]
  },
  {
   "cell_type": "markdown",
   "id": "4",
   "metadata": {},
   "source": [
    "We first load the _RAINBOW_ image from the dataexample class and create a text inpainted domain using the **Pillow** library."
   ]
  },
  {
   "cell_type": "code",
   "execution_count": null,
   "id": "5",
   "metadata": {},
   "outputs": [],
   "source": [
    "# Load Rainbow data\n",
    "data = dataexample.RAINBOW.get(size=(256,256))\n",
    "data.reorder(['horizontal_y', 'horizontal_x','channel'])\n",
    "ig = data.geometry\n",
    "im = data.array"
   ]
  },
  {
   "cell_type": "markdown",
   "id": "6",
   "metadata": {},
   "source": [
    "Note: If you are on a windows machine it is possible that you do not have access to the font file \"DejaVuSerif.tff\". If you get an error on line `font = ImageFont.truetype('DejaVuSerif.ttf', 50)` then we recommend that you download the files from https://www.fontsquirrel.com/fonts/dejavu-serif, place the \"DejaVuSerif.tff\" file in the same folder as this notebook and change the line to be `font = ImageFont.truetype('./DejaVuSerif.ttf', 50)`."
   ]
  },
  {
   "cell_type": "code",
   "execution_count": null,
   "id": "7",
   "metadata": {},
   "outputs": [],
   "source": [
    "# Create inpainted image using Pillow\n",
    "data_PIL = Image.fromarray(np.uint8(im*255)).convert('RGB')\n",
    "text = \"\\n               This is a double rainbow.\\n               Remove the text using CIL. \\n\"*5\n",
    "draw = ImageDraw.Draw(data_PIL)\n",
    "font = ImageFont.truetype('DejaVuSerif.ttf', 12)\n",
    "draw.text((0, 0), text, (0, 0, 0), font=font)\n",
    "\n",
    "tmp_np = np.array(data_PIL)\n",
    "data_np = tmp_np/tmp_np.max()\n",
    "data_inpainted= ig.allocate()\n",
    "data_inpainted.fill(data_np)\n",
    "\n",
    "plt.figure(figsize=(10,10))\n",
    "plt.imshow(data_inpainted.as_array())\n",
    "plt.colorbar()\n",
    "plt.show()"
   ]
  },
  {
   "cell_type": "markdown",
   "id": "8",
   "metadata": {},
   "source": [
    "Then, we create a mask array, based on the missing text and applied it to the Red, Green and Blue channels of the coloured image using the **ChannelwiseOperator**. Finally, salt and pepper noise is added to create the `noisy_data`."
   ]
  },
  {
   "cell_type": "code",
   "execution_count": null,
   "id": "9",
   "metadata": {},
   "outputs": [],
   "source": [
    "# Create mask from corrupted image and apply MaskOperator channelwise\n",
    "mask2D = ((data_inpainted-data).abs().as_array()==0)[:,:,0]\n",
    "\n",
    "mask = ig.get_slice(channel=0).allocate(dtype=bool)\n",
    "mask.fill(mask2D)\n",
    "\n",
    "# Define ChannelwiseOperator\n",
    "MO = ChannelwiseOperator(MaskOperator(mask), 3, dimension = 'append')\n",
    "\n",
    "# Add salt and pepper noise\n",
    "noisy_data = noise.saltnpepper(data_inpainted, amount=0.01, seed = 10)\n",
    "noisy_data = MO.direct(noisy_data)\n",
    "\n",
    "f, ax = plt.subplots(1,2, figsize=(15,10))\n",
    "ax[0].imshow(mask.as_array())\n",
    "ax[0].title.set_text(\"Mask\")\n",
    "\n",
    "ax[1].imshow(noisy_data.as_array())\n",
    "ax[1].title.set_text(\"Corrupted data\")"
   ]
  },
  {
   "cell_type": "markdown",
   "id": "10",
   "metadata": {},
   "source": [
    "In order to solve [(1)](#tgv_reg), we use the  **Primal-Dual Hybrid Gradient (PDHG)** algorithm, introduced in [ChambollePock](https://link.springer.com/article/10.1007/s10851-010-0251-1). We setup and run the PDHG algorithm using the Total Generalised variation regularisation. We need to write the minimisation problem:\n",
    "\n",
    "$$\\begin{equation}\n",
    "    (u^{*},w^{*}) =\\underset{u, w}{\\operatorname{argmin}} \\|\\mathcal{M}u -b\\|_{1} + \\alpha \\|D u - w \\|_{2,1} + \\beta\\|\\mathcal{E}w\\|_{2,1}    \n",
    "\\end{equation}$$\n",
    "\n",
    "in the following general form $$\\underset{x\\in \\mathbb{X}}{\\operatorname{argmin}} f(Kx) + g(x).$$\n",
    "\n",
    "Let $x = (u, w)\\in \\mathbb{X}$ and \n",
    "\n",
    "* define an operator $K:\\mathbb{X}\\rightarrow\\mathbb{Y}$ as$\\\\[10pt]$\n",
    "\n",
    "    $$\\begin{equation}\n",
    "    K = \n",
    "    \\begin{bmatrix}\n",
    "    \\mathcal{M} & \\mathcal{O}\\\\\n",
    "    D & -\\mathcal{I}\\\\\n",
    "    \\mathcal{O} & \\mathcal{E}\n",
    "    \\end{bmatrix} \\quad\\Rightarrow\\quad\n",
    "    Kx = \n",
    "    K \\begin{bmatrix}\n",
    "    u\\\\\n",
    "    w\n",
    "    \\end{bmatrix}=\n",
    "    \\begin{bmatrix}\n",
    "    \\mathcal{M}u\\\\\n",
    "    Du - w\\\\\n",
    "    \\mathcal{E}w\n",
    "    \\end{bmatrix} = \n",
    "    \\begin{bmatrix}\n",
    "    y_{1}\\\\\n",
    "    y_{2}\\\\\n",
    "    y_{3}\n",
    "    \\end{bmatrix} = y\\in \\mathbb{Y},\n",
    "    \\label{def_K}\n",
    "    \\end{equation}$$\n",
    "\n",
    "* define a function $f:\\mathbb{Y}\\rightarrow\\mathbb{R}$ as$\\\\[10pt]$\n",
    "\n",
    "    $$\\begin{equation}\n",
    "    \\begin{aligned}\n",
    "    & f(y)  := f(y_{1}, y_{2}, y_{3}) = f_{1}(y_{1}) +  f_{2}(y_{2})  +  f_{3}(y_{3}), \\mbox{ where},\\\\[10pt]\n",
    "    & f_{1}(y_{1}) :=  \\| y_{1} - b\\|_1,\\, f_{2}(y_{2}) :=  \\alpha \\|y_{2}\\|_{2,1},\\, f_{3}(y_{3}) := \\beta\\|y_{3}\\|_{2,1},\n",
    "    \\end{aligned}\n",
    "    \\label{def_f}\n",
    "    \\end{equation}\\\\[10pt]$$\n",
    "    \n",
    "* and define a function $g(x) = g(u,w) = O(u)\\equiv 0 $, i.e., the zero function. "
   ]
  },
  {
   "cell_type": "code",
   "execution_count": null,
   "id": "11",
   "metadata": {},
   "outputs": [],
   "source": [
    "# Setup PDHG for TGV regularisation\n",
    "alpha = 0.7\n",
    "beta = 0.2\n",
    "\n",
    "# Define BlockFunction f\n",
    "f1 = L1Norm(b=noisy_data)\n",
    "f2 = alpha * MixedL21Norm()\n",
    "f3 = beta * MixedL21Norm()\n",
    "f = BlockFunction(f1, f2, f3)\n",
    "\n",
    "# Define function g\n",
    "g = ZeroFunction()\n",
    "\n",
    "# Define BlockOperator K\n",
    "K11 = MO\n",
    "K21 = GradientOperator(ig)\n",
    "K32 = SymmetrisedGradientOperator(K21.range)\n",
    "K12 = ZeroOperator(K32.domain, ig)\n",
    "K22 = IdentityOperator(K21.range)\n",
    "K31 = ZeroOperator(ig, K32.range)\n",
    "K = BlockOperator(K11, K12, K21, -K22, K31, K32, shape=(3,2) )\n",
    "\n",
    "# Compute operator Norm\n",
    "normK = K.norm()\n",
    "sigma = 1.\n",
    "tau = 1./(sigma*normK**2)\n",
    "\n",
    "# Setup and run the PDHG algorithm\n",
    "pdhg = PDHG(f=f, g=g, operator=K, sigma=sigma, tau=tau, update_objective_interval=5)\n",
    "iterations = 20\n",
    "#iterations = 400 # might take a bit too long to run on binder\n",
    "pdhg.run(iterations, verbose=2)"
   ]
  },
  {
   "cell_type": "markdown",
   "id": "12",
   "metadata": {},
   "source": [
    "Note that we only run 20 iterations due to slow runtime on binder, so artefacts will still be visible.\n",
    "\n",
    "If you run this notebook locally, it will be much quicker — try using 400 iterations to almost completely recover the original image."
   ]
  },
  {
   "cell_type": "code",
   "execution_count": null,
   "id": "13",
   "metadata": {},
   "outputs": [],
   "source": [
    "show_images = [data, noisy_data, pdhg.solution.get_item(0),\n",
    "               (pdhg.solution.get_item(0)-data).abs()+0.1]\n",
    "title_image = [\"Ground Truth\", \"Corrupted Data\", f\"TGV ({iterations} iters)\", \"Absolute difference\"]\n",
    "\n",
    "fig = plt.figure(figsize=(20, 20))\n",
    "grid = AxesGrid(fig, 111, nrows_ncols=(2, 2), axes_pad=0.45)\n",
    "\n",
    "k = 0\n",
    "for ax in grid:\n",
    "    im = ax.imshow(show_images[k].as_array())\n",
    "    ax.set_title(title_image[k],fontsize=25)\n",
    "    k+=1\n",
    "\n",
    "plt.show()"
   ]
  }
 ],
 "metadata": {
  "kernelspec": {
   "display_name": "cil_binder",
   "language": "python",
   "name": "python3"
  },
  "language_info": {
   "codemirror_mode": {
    "name": "ipython"
   },
   "file_extension": ".py",
   "mimetype": "text/x-python",
   "name": "python",
   "nbconvert_exporter": "python"
  }
 },
 "nbformat": 4,
 "nbformat_minor": 5
}
