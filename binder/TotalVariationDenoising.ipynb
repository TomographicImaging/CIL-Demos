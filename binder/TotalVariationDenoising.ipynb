{
 "cells": [
  {
   "cell_type": "code",
   "execution_count": null,
   "id": "59c55522",
   "metadata": {
    "jupyter": {
     "source_hidden": true
    }
   },
   "outputs": [],
   "source": [
    "# -*- coding: utf-8 -*-\n",
    "#  Copyright 2021 United Kingdom Research and Innovation\n",
    "#  Copyright 2021 The University of Manchester\n",
    "#\n",
    "#  Licensed under the Apache License, Version 2.0 (the \"License\");\n",
    "#  you may not use this file except in compliance with the License.\n",
    "#  You may obtain a copy of the License at\n",
    "#\n",
    "#      http://www.apache.org/licenses/LICENSE-2.0\n",
    "#\n",
    "#  Unless required by applicable law or agreed to in writing, software\n",
    "#  distributed under the License is distributed on an \"AS IS\" BASIS,\n",
    "#  WITHOUT WARRANTIES OR CONDITIONS OF ANY KIND, either express or implied.\n",
    "#  See the License for the specific language governing permissions and\n",
    "#  limitations under the License.\n",
    "#\n",
    "#   Authored by:    Evangelos Papoutsellis (UKRI-STFC)"
   ]
  },
  {
   "cell_type": "markdown",
   "id": "2d4e368f-180a-4cf5-b6ee-dbea67c5a0c4",
   "metadata": {},
   "source": [
    "<h2><center> Total variation denoising </center></h2>"
   ]
  },
  {
   "cell_type": "markdown",
   "id": "25e62372-8e1a-460c-a04f-21bf7b7c8634",
   "metadata": {},
   "source": [
    "### In this demo, we solve the following minimisation problem:\n",
    "\n",
    "$$\\begin{equation}\n",
    "\\underset{u}{\\operatorname{argmin}} \\frac{1}{2} \\| u - g\\|^{2}_{2} + \\alpha \\mathrm{TV}(u)\n",
    "\\end{equation}$$\n",
    "\n",
    "where,\n",
    "\n",
    "* g is a noisy data corrupted with Gaussian noise,\n",
    "* TV stands for the Total variation regulariser.\n",
    "\n",
    "To solve the above problem, we use the **Fast Gradient Projection (FGP)** algorithm, proposed in [BeckTeboulle](https://ieeexplore.ieee.org/document/5173518)."
   ]
  },
  {
   "cell_type": "code",
   "execution_count": null,
   "id": "d1c90a86-a2b5-42c5-bdac-3e77b323b112",
   "metadata": {},
   "outputs": [],
   "source": [
    "# Import libraries\n",
    "from cil.optimisation.functions import TotalVariation\n",
    "from cil.utilities import dataexample, noise\n",
    "from cil.utilities.display import show2D"
   ]
  },
  {
   "cell_type": "markdown",
   "id": "fba6fa3c-9411-44d4-8681-5081f4ceac79",
   "metadata": {},
   "source": [
    "We load an image from the `dataexample` class. In this demo, we use the `CAMERA` image. \n",
    "\n",
    "Other options are: \n",
    "\n",
    "* `BOAT`\n",
    "* `CAMERA`\n",
    "* `PEPPERS`(color)\n",
    "* `RESOLUTION_CHART` \n",
    "* `SIMPLE_PHANTOM_2D` \n",
    "* `RAINBOW` (color)"
   ]
  },
  {
   "cell_type": "code",
   "execution_count": null,
   "id": "7c366197-2088-4af0-b20f-62f33182ee0a",
   "metadata": {},
   "outputs": [],
   "source": [
    "# Load data\n",
    "data = dataexample.CAMERA.get()\n",
    "\n",
    "# Add gaussian noise\n",
    "noisy_data = noise.gaussian(data, seed = 10, var = 0.02)"
   ]
  },
  {
   "cell_type": "markdown",
   "id": "c7980e9a-e5db-48ce-a680-8bfc40a0cf79",
   "metadata": {},
   "source": [
    "We use the **proximal method** of the **TotalVariation** class which implements the FGP algorithm."
   ]
  },
  {
   "cell_type": "code",
   "execution_count": null,
   "id": "51149b58-ea03-4fdd-9eae-3fb75a243f97",
   "metadata": {},
   "outputs": [],
   "source": [
    "alpha = 0.15\n",
    "TV = alpha * TotalVariation(max_iteration=100)\n",
    "proxTV = TV.proximal(noisy_data, tau=1.0)"
   ]
  },
  {
   "cell_type": "code",
   "execution_count": null,
   "id": "cd01ebdd-7925-4496-8e0e-d5da51e817e4",
   "metadata": {},
   "outputs": [],
   "source": [
    "show2D([data, noisy_data, proxTV], \n",
    "       title=['Ground truth', 'Noisy Data (Gaussian)', 'Total variation'], \n",
    "       origin=\"upper\", num_cols=3)"
   ]
  }
 ],
 "metadata": {
  "kernelspec": {
   "display_name": "cil_binder",
   "language": "python",
   "name": "python3"
  },
  "language_info": {
   "codemirror_mode": {
    "name": "ipython",
    "version": 3
   },
   "file_extension": ".py",
   "mimetype": "text/x-python",
   "name": "python",
   "nbconvert_exporter": "python",
   "pygments_lexer": "ipython3",
   "version": "3.12.11"
  }
 },
 "nbformat": 4,
 "nbformat_minor": 5
}
