{
 "cells": [
  {
   "cell_type": "code",
   "execution_count": null,
   "metadata": {},
   "outputs": [],
   "source": [
    "# -*- coding: utf-8 -*-\n",
    "#  Copyright 2021 - 2024 United Kingdom Research and Innovation\n",
    "#  Copyright 2021 - 2024 The University of Manchester\n",
    "#\n",
    "#  Licensed under the Apache License, Version 2.0 (the \"License\");\n",
    "#  you may not use this file except in compliance with the License.\n",
    "#  You may obtain a copy of the License at\n",
    "#\n",
    "#      http://www.apache.org/licenses/LICENSE-2.0\n",
    "#\n",
    "#  Unless required by applicable law or agreed to in writing, software\n",
    "#  distributed under the License is distributed on an \"AS IS\" BASIS,\n",
    "#  WITHOUT WARRANTIES OR CONDITIONS OF ANY KIND, either express or implied.\n",
    "#  See the License for the specific language governing permissions and\n",
    "#  limitations under the License.\n",
    "#\n",
    "#   Authored by:    Mariam Demir (UKRI-STFC)"
   ]
  },
  {
   "cell_type": "markdown",
   "metadata": {},
   "source": [
    "### Create AcquisitionGeometry Using Dataset Metadata\n",
    "This example shows how to use the dataset's metadata to manually create and visualise the AcquisitionGeometry, and the AcquisitionData. "
   ]
  },
  {
   "cell_type": "code",
   "execution_count": null,
   "metadata": {},
   "outputs": [],
   "source": [
    "import os\n",
    "from cil.io import TIFFStackReader\n",
    "from cil.framework import AcquisitionGeometry, AcquisitionData\n",
    "from cil.utilities.display import show_geometry\n",
    "from cil.utilities.display import show2D\n",
    "from zipfile import ZipFile\n",
    "import numpy as np"
   ]
  },
  {
   "cell_type": "markdown",
   "metadata": {},
   "source": [
    "Download and extract the file `SparseBeads_B12_L1` from Zenodo [here](https://zenodo.org/records/290117/files/SparseBeads_B12_L1.zip)."
   ]
  },
  {
   "cell_type": "code",
   "execution_count": null,
   "metadata": {},
   "outputs": [],
   "source": [
    "!wget -P ../data https://zenodo.org/records/290117/files/SparseBeads_B12_L1.zip\n",
    "\n",
    "z = ZipFile(os.path.expanduser(\"../data/SparseBeads_B12_L1.zip\"))\n",
    "z.extractall(os.path.expanduser(\"../data/\"))\n",
    "!rm -rf ../data/SparseBeads_B12_L1.zip"
   ]
  },
  {
   "cell_type": "markdown",
   "metadata": {},
   "source": [
    "First let's load the raw data file and look at its properties:"
   ]
  },
  {
   "cell_type": "code",
   "execution_count": null,
   "metadata": {},
   "outputs": [],
   "source": [
    "file_name = '../data/SparseBeads_B12_L1/CentreSlice/Sinograms/SparseBeads_B12_L1_0001.tif'\n",
    "data_reader = TIFFStackReader(file_name)\n",
    "data = data_reader.read()\n",
    "\n",
    "print(data, \"\\n\", data.shape)"
   ]
  },
  {
   "cell_type": "markdown",
   "metadata": {},
   "source": [
    "We can see the data is an array of pixel intensities of 2520 projections, containing 2000 horizontal pixels and a single vertical slice. "
   ]
  },
  {
   "cell_type": "markdown",
   "metadata": {},
   "source": [
    "We know this dataset has fan-beam geometry, so we create a Cone2D (a.k.a. fan-beam) AcquisitionGeometry object.\n",
    "\n",
    "We need to specify the `source_position`, `detector_position`, and `detector_direction` used in the experiment.  \n",
    "For this dataset, this metadata is stored in the file `SparseBeads_B12_L1.xtek2dct`. The location of the metadata may vary across systems and data-saving methods.\n",
    "\n",
    "The following coordinates describe the source and detector positions:\n",
    "* `SrcToObject=121.932688713074` \n",
    "* `SrcToDetector=1400.207` \n",
    "\n",
    "In CIL, the object (sample)'s coordinate is treated as the **0 position**.  \n",
    " The source position is therefore 0 - `SrcToObject`.  \n",
    " The detector position is `SrcToDetector` - `SrcToObject`.\n",
    "\n",
    "Finally, we set the `num_pixels` to the number of horizontal pixels, and the `pixel_size`:"
   ]
  },
  {
   "cell_type": "code",
   "execution_count": null,
   "metadata": {},
   "outputs": [],
   "source": [
    "SrcToObject=121.932688713074\n",
    "SrcToDetector=1400.207\n",
    "\n",
    "src_coord = 0 - SrcToObject\n",
    "detec_coord = SrcToDetector - SrcToObject\n",
    "\n",
    "cone_geom = AcquisitionGeometry.create_Cone2D(source_position= [0, src_coord], \n",
    "                                              detector_position= [0, detec_coord], \n",
    "                                              detector_direction_x= [1, 0]) \\\n",
    "                                .set_panel(num_pixels=data.shape[1], pixel_size=[0.2, 0.2])"
   ]
  },
  {
   "cell_type": "markdown",
   "metadata": {},
   "source": [
    "To complete the geometry information, we generate a list of angles based on the number of projections and the `AngularStep`:"
   ]
  },
  {
   "cell_type": "code",
   "execution_count": null,
   "metadata": {},
   "outputs": [],
   "source": [
    "Projections=2520\n",
    "AngularStep=0.142857142857143\n",
    "\n",
    "angles = np.linspace(0, Projections*AngularStep, Projections, endpoint=False)\n",
    "\n",
    "cone_geom.set_angles(angles=angles)"
   ]
  },
  {
   "cell_type": "markdown",
   "metadata": {},
   "source": [
    "Now we have created our geometry. We can visualise it to check that it looks accurate, with the correct shape and source/detector positions:"
   ]
  },
  {
   "cell_type": "code",
   "execution_count": null,
   "metadata": {},
   "outputs": [],
   "source": [
    "show_geometry(cone_geom)"
   ]
  },
  {
   "cell_type": "markdown",
   "metadata": {},
   "source": [
    "In CIL, we store the data and the `AcquisitionGeometry` in an `AcquisitionData` object, which is needed to use many of CIL's reconstruction and visualisation tools:"
   ]
  },
  {
   "cell_type": "code",
   "execution_count": null,
   "metadata": {},
   "outputs": [],
   "source": [
    "sparse_beads = AcquisitionData(array=data, geometry=cone_geom)\n",
    "print(sparse_beads)"
   ]
  },
  {
   "cell_type": "markdown",
   "metadata": {},
   "source": [
    "Using `show2D()`, we can view a central projection of the data:"
   ]
  },
  {
   "cell_type": "code",
   "execution_count": null,
   "metadata": {},
   "outputs": [],
   "source": [
    "show2D(sparse_beads)"
   ]
  },
  {
   "cell_type": "markdown",
   "metadata": {},
   "source": [
    "### Checking The Reconstruction\n",
    "##### Below we use the FDK algorithm to reconstruct this dataset, and check that the geometry is correct:"
   ]
  },
  {
   "cell_type": "code",
   "execution_count": null,
   "metadata": {},
   "outputs": [],
   "source": [
    "from cil.recon import FDK\n",
    "from cil.processors import TransmissionAbsorptionConverter\n",
    "\n",
    "# Convert data to absorption data\n",
    "sparse_beads = TransmissionAbsorptionConverter()(sparse_beads)\n",
    "\n",
    "# Perform reconstruction\n",
    "recon = FDK(sparse_beads).run()\n",
    "\n",
    "# Apply a mask to show the beads only\n",
    "recon.apply_circular_mask(0.9)\n"
   ]
  },
  {
   "cell_type": "code",
   "execution_count": null,
   "metadata": {},
   "outputs": [],
   "source": [
    "show2D(recon)"
   ]
  },
  {
   "cell_type": "markdown",
   "metadata": {},
   "source": [
    "Above we can see that there are double edges over each bead, which indicates that the centre of rotation is slightly off.\n",
    "\n",
    "We can use the `CentreOfRotationCorrector` processor to correct the centre of rotation offset, and perform the reconstruction again:"
   ]
  },
  {
   "cell_type": "code",
   "execution_count": null,
   "metadata": {},
   "outputs": [],
   "source": [
    "from cil.processors import CentreOfRotationCorrector\n",
    "\n",
    "processor = CentreOfRotationCorrector.image_sharpness()\n",
    "processor.set_input(sparse_beads)\n",
    "centred_data = processor.get_output()"
   ]
  },
  {
   "cell_type": "code",
   "execution_count": null,
   "metadata": {},
   "outputs": [],
   "source": [
    "# Perform reconstruction\n",
    "recon = FDK(centred_data).run()\n",
    "\n",
    "# Apply a mask to show the beads only\n",
    "recon.apply_circular_mask(0.9)"
   ]
  },
  {
   "cell_type": "markdown",
   "metadata": {},
   "source": [
    "Now the geometry is more accurate, and results in a more reasonable reconstruction without the double edges:"
   ]
  },
  {
   "cell_type": "code",
   "execution_count": null,
   "metadata": {},
   "outputs": [],
   "source": [
    "show2D(recon)"
   ]
  }
 ],
 "metadata": {
  "kernelspec": {
   "display_name": "cil",
   "language": "python",
   "name": "python3"
  },
  "language_info": {
   "codemirror_mode": {
    "name": "ipython",
    "version": 3
   },
   "file_extension": ".py",
   "mimetype": "text/x-python",
   "name": "python",
   "nbconvert_exporter": "python",
   "pygments_lexer": "ipython3",
   "version": "3.10.15"
  }
 },
 "nbformat": 4,
 "nbformat_minor": 2
}
