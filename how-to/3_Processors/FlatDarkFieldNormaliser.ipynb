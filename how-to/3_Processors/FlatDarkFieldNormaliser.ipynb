{
 "cells": [
  {
   "cell_type": "code",
   "execution_count": null,
   "metadata": {},
   "outputs": [],
   "source": [
    "# -*- coding: utf-8 -*-\n",
    "#  Copyright 2021 - 2024 United Kingdom Research and Innovation\n",
    "#  Copyright 2021 - 2024 The University of Manchester\n",
    "#\n",
    "#  Licensed under the Apache License, Version 2.0 (the \"License\");\n",
    "#  you may not use this file except in compliance with the License.\n",
    "#  You may obtain a copy of the License at\n",
    "#\n",
    "#      http://www.apache.org/licenses/LICENSE-2.0\n",
    "#\n",
    "#  Unless required by applicable law or agreed to in writing, software\n",
    "#  distributed under the License is distributed on an \"AS IS\" BASIS,\n",
    "#  WITHOUT WARRANTIES OR CONDITIONS OF ANY KIND, either express or implied.\n",
    "#  See the License for the specific language governing permissions and\n",
    "#  limitations under the License.\n",
    "#\n",
    "#   Authored by:    Mariam Demir (UKRI-STFC)"
   ]
  },
  {
   "cell_type": "markdown",
   "metadata": {},
   "source": [
    "### Normalise Data Using Flat and Dark Field Projections\n",
    "##### Detectors can contain fixed pattern noise and varying pixel-to-pixel sensitivies, this can result in artifacts in the tomogram.\n",
    "##### To correct for detector artifacts, we can take dark and flat field images. Dark field images are taken without any signal or sample. Flat field images are taken with the signal, but no sample. The intensities in these images can be subtracted from the sample projections.\n",
    "##### This example shows how to use the `Normaliser` processor to perform flat and dark field corrections on projections"
   ]
  },
  {
   "cell_type": "code",
   "execution_count": null,
   "metadata": {},
   "outputs": [],
   "source": [
    "from cil.io import TIFFStackReader\n",
    "from cil.framework import AcquisitionGeometry, AcquisitionData\n",
    "from cil.processors import Normaliser\n",
    "from cil.utilities import dataexample\n",
    "from cil.utilities.display import show_geometry\n",
    "from cil.utilities.display import show2D\n",
    "import numpy as np\n",
    "import os"
   ]
  },
  {
   "cell_type": "markdown",
   "metadata": {},
   "source": [
    "In a previous How-To, we showed how to load the `sandstone` dataset from .tif files.  \n",
    "Shown below is a central slice from this dataset - Notice the horizontal lines running through the image, as well as the pixel intensities (right) are not within 0 and 1.\n",
    "\n",
    "This is data that needs flat and dark field correcting. In this How-To, we will be using the `Normaliser` processor."
   ]
  },
  {
   "cell_type": "code",
   "execution_count": null,
   "metadata": {},
   "outputs": [],
   "source": [
    "%store -r sandstone\n",
    "show2D(sandstone)"
   ]
  },
  {
   "cell_type": "markdown",
   "metadata": {},
   "source": [
    "First, load the dark and flat field projections separately. We create a list of paths to the known dark and flat field files:"
   ]
  },
  {
   "cell_type": "code",
   "execution_count": null,
   "metadata": {},
   "outputs": [],
   "source": [
    "datapath = '../data/sandstone/proj'\n",
    "\n",
    "darkfiles = [\"BBii_0001.tif\", \"BBii_0002.tif\"]\n",
    "flatfiles = [\"BBii_0031.tif\", \"BBii_0032.tif\", \"BBii_1632.tif\", \"BBii_1633.tif\"]\n",
    "\n",
    "darkfiles = [os.path.join(datapath, file) for file in darkfiles]\n",
    "flatfiles = [os.path.join(datapath, file) for file in flatfiles]"
   ]
  },
  {
   "cell_type": "markdown",
   "metadata": {},
   "source": [
    "The `TIFFStackReader` is used to read in the file data:"
   ]
  },
  {
   "cell_type": "code",
   "execution_count": null,
   "metadata": {},
   "outputs": [],
   "source": [
    "tiff_reader = TIFFStackReader(file_name=flatfiles)\n",
    "flat = tiff_reader.read()\n",
    "\n",
    "tiff_reader = TIFFStackReader(file_name=darkfiles)\n",
    "dark = tiff_reader.read()"
   ]
  },
  {
   "cell_type": "markdown",
   "metadata": {},
   "source": [
    "Now we can take a look at a slice from the dark and flat field projections:"
   ]
  },
  {
   "cell_type": "code",
   "execution_count": null,
   "metadata": {},
   "outputs": [],
   "source": [
    "show2D([dark, flat], title=['Flatfield', 'Darkfield'])"
   ]
  },
  {
   "cell_type": "markdown",
   "metadata": {},
   "source": [
    "We can now use the `Normaliser` processor on the `sandstone` dataset.  \n",
    "We compute a mean of pixel intensities from the `flat` and `dark` projections, which are passed as `flat_field` and `dark_field`."
   ]
  },
  {
   "cell_type": "code",
   "execution_count": null,
   "metadata": {},
   "outputs": [],
   "source": [
    "norm = Normaliser(flat_field=np.mean(flat, axis=0),\n",
    "                   dark_field=np.mean(dark, axis=0))\n",
    "norm.set_input(dataset=sandstone)\n",
    "\n",
    "sandstone_norm = norm.get_output()"
   ]
  },
  {
   "cell_type": "markdown",
   "metadata": {},
   "source": [
    "Below we can see a comparison of the raw `sandstone` dataset vs. the normalised `sandstone_norm` data:\n",
    "\n",
    "The pixel intensities are between 0 and 1, and the horizontal lines have been corrected"
   ]
  },
  {
   "cell_type": "code",
   "execution_count": null,
   "metadata": {},
   "outputs": [],
   "source": [
    "show2D([sandstone, sandstone_norm], title=['Sandstone', 'Normalised Sandstone'])"
   ]
  }
 ],
 "metadata": {
  "kernelspec": {
   "display_name": "cil",
   "language": "python",
   "name": "python3"
  },
  "language_info": {
   "codemirror_mode": {
    "name": "ipython",
    "version": 3
   },
   "file_extension": ".py",
   "mimetype": "text/x-python",
   "name": "python",
   "nbconvert_exporter": "python",
   "pygments_lexer": "ipython3",
   "version": "3.10.15"
  }
 },
 "nbformat": 4,
 "nbformat_minor": 2
}
