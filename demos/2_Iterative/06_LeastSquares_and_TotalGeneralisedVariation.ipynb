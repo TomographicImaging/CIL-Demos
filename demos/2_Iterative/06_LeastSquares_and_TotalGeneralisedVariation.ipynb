{
 "cells": [
  {
   "cell_type": "code",
   "execution_count": null,
   "id": "0f62c3ce",
   "metadata": {},
   "outputs": [],
   "source": [
    "# -*- coding: utf-8 -*-\n",
    "#  Copyright 2021 - 2022 United Kingdom Research and Innovation\n",
    "#  Copyright 2021 - 2022 The University of Manchester\n",
    "#  Copyright 2021 - 2022 Technical University of Denmark\n",
    "#\n",
    "#  Licensed under the Apache License, Version 2.0 (the \"License\");\n",
    "#  you may not use this file except in compliance with the License.\n",
    "#  You may obtain a copy of the License at\n",
    "#\n",
    "#      http://www.apache.org/licenses/LICENSE-2.0\n",
    "#\n",
    "#  Unless required by applicable law or agreed to in writing, software\n",
    "#  distributed under the License is distributed on an \"AS IS\" BASIS,\n",
    "#  WITHOUT WARRANTIES OR CONDITIONS OF ANY KIND, either express or implied.\n",
    "#  See the License for the specific language governing permissions and\n",
    "#  limitations under the License.\n",
    "#\n",
    "#   Authored by:    Edoardo Pasca (UKRI-STFC)\n"
   ]
  },
  {
   "cell_type": "markdown",
   "id": "694dafc7",
   "metadata": {},
   "source": [
    "# Tomographic reconstruction with Least Squares and Total Generalised Variation regularisation\n",
    "\n",
    "### Dataset (probably the ICASSP24 challenge?)"
   ]
  },
  {
   "cell_type": "markdown",
   "id": "127515ba",
   "metadata": {},
   "source": [
    "This exercise walks through the steps needed to load in and reconstruct by FDK a 3D cone-beam dataset of a walnut, acquired by laboratory micro-CT.\n",
    "\n",
    "Learning objectives are:\n",
    "- Set up an optimisation problem to solve Least Squares data fitting with Total Generalised Variation regularisation\n",
    "- Solve the problem with the PDHG algorithm\n",
    "\n",
    "This example requires the dataset from https://zenodo.org/records/8377374 :\n",
    "\n",
    "If running locally please download the data and update the 'path' variable below.\n",
    "\n",
    "\n",
    "## Total Generalised Variation\n",
    "\n",
    "For an introduction on TGV, refer to [Core Imaging Library part II](http://doi.org/10.1098/rsta.2020.0193) section 3b.\n",
    "\n",
    "$$\n",
    "u^* = \\arg\\min_u \\frac{1}{2} \\| A u - b \\|_2^2 + TGV_{\\alpha, \\delta}(u)\n",
    "$$\n",
    "\n",
    "This can be written as \n",
    "\n",
    "$$\n",
    "u^*, w^* = \\arg\\min_{u, w} \\frac{1}{2} \\| A u - b \\|_2^2 + \\alpha  \\left( \\| \\nabla u - w \\|_{2,1} + \\delta \\| \\mathcal{E} w \\|_{2,1} \\right)\n",
    "$$\n",
    "\n",
    "where $\\mathcal{E}$ is the symmetrised gradient operator, `SymmetrisedGradientOperator` in `ccpi.optimisation.operators`. $u$ is the image, $w$ is the gradient auxiliary variable and $\\alpha$ and $\\delta$ are the regularisation parameters. Notice that the second term of the regularisation function is scaled\n",
    "by $\\delta$ in order to provide a way of explaining this to the user.\n"
   ]
  },
  {
   "cell_type": "code",
   "execution_count": null,
   "id": "89d2596e",
   "metadata": {},
   "outputs": [],
   "source": [
    "path = '/mnt/materials/SIRF/Fully3D/CIL/Walnut'"
   ]
  },
  {
   "cell_type": "code",
   "execution_count": null,
   "id": "223ecd0f",
   "metadata": {},
   "outputs": [],
   "source": [
    "# remove some annoying warnings\n",
    "import logging\n",
    "logger = logging.getLogger('dxchange')\n",
    "logger.setLevel(logging.ERROR)"
   ]
  },
  {
   "cell_type": "markdown",
   "id": "53bb7665",
   "metadata": {},
   "source": [
    "First import all of the modules we will need:"
   ]
  },
  {
   "cell_type": "code",
   "execution_count": null,
   "id": "d48350f1",
   "metadata": {},
   "outputs": [],
   "source": [
    "import os\n",
    "\n",
    "from cil.optimisation.functions import MixedL21Norm, BlockFunction, L2NormSquared\n",
    "from cil.optimisation.operators import BlockOperator, IdentityOperator, GradientOperator, \\\n",
    "    SymmetrisedGradientOperator, ZeroOperator\n",
    "\n",
    "from cil.utilities.display import show2D, show_geometry\n",
    "from cil.utilities.jupyter import islicer, link_islicer\n",
    "\n",
    "from cil.framework import ImageGeometry, AcquisitionGeometry, DataOrder\n",
    "from cil.utilities.display import show2D, show_geometry, show1D\n",
    "from cil.framework import AcquisitionData\n",
    "from cil.recon import FDK\n",
    "from cil.plugins.tigre import ProjectionOperator\n",
    "from cil.utilities.quality_measures import mse\n",
    "from cil.framework import ImageData\n",
    "from cil.optimisation.functions import ZeroFunction\n",
    "from cil.optimisation.algorithms import PDHG\n",
    "\n",
    "from cil.processors import Padder\n",
    "\n",
    "import numpy as np\n"
   ]
  },
  {
   "cell_type": "markdown",
   "id": "3ddd1224",
   "metadata": {},
   "source": [
    "Load the data by setting the `AcquisitionGeometry` as described in the dataset documentation."
   ]
  },
  {
   "cell_type": "code",
   "execution_count": null,
   "id": "17baa44c",
   "metadata": {},
   "outputs": [],
   "source": [
    "#%%\n",
    "print (data.shape)\n",
    "print (DataOrder.ASTRA_AG_LABELS)\n",
    "#%%\n",
    "image_size = [300, 300, 300]\n",
    "image_shape = [256, 256, 256]\n",
    "voxel_size = [1.171875, 1.171875, 1.171875]\n",
    "\n",
    "detector_shape = [256, 256]\n",
    "detector_size = [600, 600]\n",
    "pixel_size = [2.34375, 2.34375]\n",
    "\n",
    "distance_source_origin = 575\n",
    "distance_source_detector = 1050\n",
    "\n",
    "#  S---------O------D\n",
    "#\n",
    "\n",
    "angles = np.linspace(0, 2*np.pi, 360, endpoint=False)\n",
    "#%%\n",
    "AG = AcquisitionGeometry.create_Cone3D(source_position=[0, -distance_source_origin, 0],\\\n",
    "                                       detector_position=[0, distance_source_detector-distance_source_origin, 0],)\\\n",
    "                                        .set_angles(-angles, angle_unit='radian')\\\n",
    "                                        .set_panel(detector_shape, pixel_size, origin='bottom-left')\\\n",
    "                                        .set_labels(DataOrder.ASTRA_AG_LABELS[:])\n",
    "ig = ImageGeometry(voxel_num_x=image_shape[0], voxel_num_y=image_shape[1], voxel_num_z=image_shape[2],\\\n",
    "                     voxel_size_x=voxel_size[0], voxel_size_y=voxel_size[1], voxel_size_z=voxel_size[2])\n",
    "#%%\n"
   ]
  },
  {
   "cell_type": "markdown",
   "id": "67e54c21",
   "metadata": {},
   "source": [
    "Visualise the geometries. Are they correct?"
   ]
  },
  {
   "cell_type": "code",
   "execution_count": null,
   "id": "948b7739",
   "metadata": {},
   "outputs": [],
   "source": [
    "\n",
    "show_geometry(AG, ig)\n"
   ]
  },
  {
   "cell_type": "markdown",
   "id": "48f666e9",
   "metadata": {},
   "source": [
    "Load the data into a numpy array and then into an `AcquisitionData` object with the appropriate `AcquisitionGeometry`."
   ]
  },
  {
   "cell_type": "code",
   "execution_count": null,
   "id": "7c0db231",
   "metadata": {},
   "outputs": [],
   "source": [
    "dose = 'low'\n",
    "data_directory = '/opt/data/ICASSP24/train/train/'\n",
    "filename = os.path.join(data_directory, f'0000_sino_{dose}_dose.npy')\n",
    "\n",
    "data=np.asarray(np.load(filename,allow_pickle=True), dtype=np.float32)\n",
    "\n",
    "ad = AcquisitionData(data, geometry=AG)\n",
    "\n",
    "#%%\n"
   ]
  },
  {
   "cell_type": "markdown",
   "id": "b0d898ef",
   "metadata": {},
   "source": [
    "Pad the acquisition data to avoid artefacts in the reconstruction."
   ]
  },
  {
   "cell_type": "code",
   "execution_count": null,
   "id": "3753e93b",
   "metadata": {},
   "outputs": [],
   "source": [
    "\n",
    "# 256 + 2*pad=256*sqrt(2)\n",
    "pad = np.ceil( 256*(np.sqrt(2)-1)/2 ).astype(np.int32)\n",
    "ad = Padder(pad_width={'horizontal':100})(ad)\n",
    "#%%\n",
    "ad.reorder('tigre')"
   ]
  },
  {
   "cell_type": "markdown",
   "id": "5c608cf6",
   "metadata": {},
   "source": [
    "Let's try in 2D first"
   ]
  },
  {
   "cell_type": "code",
   "execution_count": null,
   "id": "6161f8a8",
   "metadata": {},
   "outputs": [],
   "source": [
    "data2d = ad.get_slice(vertical='centre')\n",
    "ig2d = ig.get_slice(vertical='centre')"
   ]
  },
  {
   "cell_type": "markdown",
   "id": "838a9a61",
   "metadata": {},
   "source": [
    "To set up the optimisation problem, let's first define the projection operator $A$."
   ]
  },
  {
   "cell_type": "code",
   "execution_count": null,
   "id": "42938d6a",
   "metadata": {},
   "outputs": [],
   "source": [
    "# Define ProjectionOperator A\n",
    "A = ProjectionOperator(ig2d, data2d.geometry)\n"
   ]
  },
  {
   "cell_type": "markdown",
   "id": "9ad609b2",
   "metadata": {},
   "source": [
    "### regularisation parameters"
   ]
  },
  {
   "cell_type": "code",
   "execution_count": null,
   "id": "40a3331e",
   "metadata": {},
   "outputs": [],
   "source": [
    "alpha = 100.\n",
    "gamma = 1.0"
   ]
  },
  {
   "cell_type": "markdown",
   "id": "5eb186ca",
   "metadata": {},
   "source": [
    "We are ready to construct the block operator. Remember that the rows of the `BlockOperator` have the same range, while the columns have the same domain."
   ]
  },
  {
   "cell_type": "code",
   "execution_count": null,
   "id": "16e9bd6c",
   "metadata": {},
   "outputs": [],
   "source": [
    "beta = alpha / gamma\n",
    "    \n",
    "\n",
    "# Define BlockOperator K\n",
    "            \n",
    "# Set up the 3 operator A, Grad and Epsilon                           \n",
    "# A, the projection operator is passed by the user    \n",
    "K11 = A\n",
    "K21 = alpha * GradientOperator(K11.domain)\n",
    "# https://tomographicimaging.github.io/CIL/nightly/optimisation.html#cil.optimisation.operators.SymmetrisedGradientOperator\n",
    "K32 = beta * SymmetrisedGradientOperator(K21.range)\n",
    "# these define the domain and range of the other operators\n",
    "K12 = ZeroOperator(K32.domain, K11.range)\n",
    "K22 = -alpha * IdentityOperator(domain_geometry=K21.range, range_geometry=K32.range)\n",
    "K31 = ZeroOperator(K11.domain, K32.range)\n",
    "\n",
    "K = BlockOperator(K11, K12, K21, K22, K31, K32, shape=(3,2) )"
   ]
  },
  {
   "cell_type": "markdown",
   "id": "074ed8a3",
   "metadata": {},
   "source": [
    "Let's define the data fidelity term. We will use the `LeastSquares` class and the norms for the TGV terms. We will block them in a `BlockFunction` object."
   ]
  },
  {
   "cell_type": "code",
   "execution_count": null,
   "id": "657bd834",
   "metadata": {},
   "outputs": [],
   "source": [
    "\n",
    "f1 = 0.5 * L2NormSquared(b=data)\n",
    "f2 = MixedL21Norm()\n",
    "f3 = MixedL21Norm() \n",
    "F = BlockFunction(f1, f2, f3)         "
   ]
  },
  {
   "cell_type": "markdown",
   "id": "7b5ebbdf",
   "metadata": {},
   "source": [
    "It's almost all set to initialise the PDHG algorithm. We can add an additional constraint in the function $g$ accepted by PDHG. For this we will start with no constraint: `ZeroFunction`. Another option is the `IndicatorBox` for upper and lower bounds."
   ]
  },
  {
   "cell_type": "code",
   "execution_count": null,
   "id": "9c6f2b9e",
   "metadata": {},
   "outputs": [],
   "source": [
    "g = ZeroFunction()"
   ]
  },
  {
   "cell_type": "markdown",
   "id": "4ec07ac3",
   "metadata": {},
   "source": [
    "It's time to initialise the PDHG algorithm."
   ]
  },
  {
   "cell_type": "code",
   "execution_count": null,
   "id": "da6484da",
   "metadata": {},
   "outputs": [],
   "source": [
    "algo = PDHG(f=F, g=g, operator=K, max_iteration=2000, update_objective_interval=100)"
   ]
  },
  {
   "cell_type": "markdown",
   "id": "4b75b285",
   "metadata": {},
   "source": [
    "### Find the right step sizes\n",
    "Need to do a parameter search for the step sizes. We will use the `gammad` parameter. Try setting it very small and very large and see how the algorithm behaves. You should find a value that makes the algorithm converge in a reasonable number of iterations."
   ]
  },
  {
   "cell_type": "code",
   "execution_count": null,
   "id": "6d714b5d",
   "metadata": {},
   "outputs": [],
   "source": [
    "\n",
    "gammad = 11\n",
    "# sigma/tau = gammad\n",
    " \n",
    "tau = 1 /  ( K.norm() * gammad )\n",
    "sigma = gammad / K.norm()\n",
    "\n",
    "algo.set_step_sizes(sigma=sigma, tau=tau)\n",
    "\n",
    "#%%\n",
    "# RUN PDHG\n",
    "algo.run(1000,verbose=2)"
   ]
  }
 ],
 "metadata": {
  "kernelspec": {
   "display_name": "Python 3.8.11 ('cil22.0.0')",
   "language": "python",
   "name": "python3"
  },
  "language_info": {
   "codemirror_mode": {
    "name": "ipython",
    "version": 3
   },
   "file_extension": ".py",
   "mimetype": "text/x-python",
   "name": "python",
   "nbconvert_exporter": "python",
   "pygments_lexer": "ipython3",
   "version": "3.8.11"
  },
  "vscode": {
   "interpreter": {
    "hash": "d173adcb8818c1a2fad2c7891b776805f2cf7024afa7edf806266d9ac061bb3a"
   }
  }
 },
 "nbformat": 4,
 "nbformat_minor": 5
}
