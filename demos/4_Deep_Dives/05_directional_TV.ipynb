{
 "cells": [
  {
   "cell_type": "code",
   "execution_count": 72,
   "metadata": {},
   "outputs": [],
   "source": [
    "# -*- coding: utf-8 -*-\n",
    "#  Copyright 2024 -  United Kingdom Research and Innovation\n",
    "#  Copyright 2024 -  The University of Manchester\n",
    "#\n",
    "#  Licensed under the Apache License, Version 2.0 (the \"License\");\n",
    "#  you may not use this file except in compliance with the License.\n",
    "#  You may obtain a copy of the License at\n",
    "#\n",
    "#      http://www.apache.org/licenses/LICENSE-2.0\n",
    "#\n",
    "#  Unless required by applicable law or agreed to in writing, software\n",
    "#  distributed under the License is distributed on an \"AS IS\" BASIS,\n",
    "#  WITHOUT WARRANTIES OR CONDITIONS OF ANY KIND, either express or implied.\n",
    "#  See the License for the specific language governing permissions and\n",
    "#  limitations under the License.\n",
    "#\n",
    "#  Authored by:    Margaret Duff (STFC-UKRI)\n",
    "#                  Vaggelis Papoutellis (Finden)  \n",
    "# "
   ]
  },
  {
   "cell_type": "code",
   "execution_count": null,
   "metadata": {},
   "outputs": [],
   "source": [
    "from cil.optimisation.functions import L2NormSquared, TotalVariation, MixedL21Norm\n",
    "from cil.optimisation.operators import BlockOperator, FiniteDifferenceOperator, CompositionOperator, DiagonalOperator\n",
    "from cil.optimisation.algorithms import PDHG\n",
    "from cil.utilities import dataexample\n",
    "from cil.plugins.ccpi_regularisation.functions import FGP_dTV\n",
    "import numpy as np \n",
    "\n",
    "from cil.utilities import dataexample\n",
    "from cil.utilities.display import show2D\n",
    "from cil.recon import FDK\n",
    "from cil.processors import TransmissionAbsorptionConverter, Slicer\n",
    "\n",
    "import numpy as np\n",
    "\n",
    "from cil.plugins.tigre import ProjectionOperator\n",
    "from cil.optimisation.algorithms import FISTA\n",
    "from cil.optimisation.functions import LeastSquares, TotalVariation\n",
    "from cil.optimisation.operators import  BlurringOperator\n",
    "\n",
    "import matplotlib.pyplot as plt\n",
    "\n",
    "# set up default colour map for visualisation\n",
    "cmap = \"gray\"\n",
    "\n",
    "# set the backend for FBP and the ProjectionOperator\n",
    "device = 'gpu'\n",
    "\n",
    "import cil\n",
    "print(cil.__version__)\n"
   ]
  },
  {
   "cell_type": "markdown",
   "metadata": {},
   "source": [
    "\n",
    "# Simulated sphere cone beam reconstruction using directional total variation "
   ]
  },
  {
   "cell_type": "markdown",
   "metadata": {},
   "source": [
    "In this notebook we motivate and demonstrate the directional TV regulariser from the CCPi regularisation toolkit. We use this regulariser to reconstruct a slice from a simulated sphere cone beam dataset where the forward model involves a gaussian blur and then a tomographic cone beam projection. We then show how this regulariser could be implemented using the CIL optimisation toolkit. "
   ]
  },
  {
   "cell_type": "markdown",
   "metadata": {},
   "source": [
    "## Load, create and show the data"
   ]
  },
  {
   "cell_type": "markdown",
   "metadata": {},
   "source": [
    "We use the simulated spheres dataset contained in the CIL `dataexample` module. We consider just the central slice for this notebook. "
   ]
  },
  {
   "cell_type": "code",
   "execution_count": null,
   "metadata": {},
   "outputs": [],
   "source": [
    "#%% Load data\n",
    "ground_truth = dataexample.SIMULATED_SPHERE_VOLUME.get()\n",
    "\n",
    "data = dataexample.SIMULATED_CONE_BEAM_DATA.get()\n",
    "\n",
    "data = data.get_slice(vertical='centre')\n",
    "ag = data.geometry\n",
    "absorption = TransmissionAbsorptionConverter()(data)\n",
    "\n",
    "ground_truth = ground_truth.get_slice(vertical='centre')\n",
    "ig = ground_truth.geometry\n",
    "\n",
    "show2D([ground_truth], title = ['Ground Truth'], origin = 'upper', num_cols = 1)\n"
   ]
  },
  {
   "cell_type": "markdown",
   "metadata": {},
   "source": [
    "For the forward model, we will innclude both a tomographic projection and a blurr. In the next cell, we define a point spread function and pass this to the CIL `BlurringOperator`."
   ]
  },
  {
   "cell_type": "code",
   "execution_count": 75,
   "metadata": {},
   "outputs": [],
   "source": [
    "def psf(n=5, sig=1.):\n",
    "    \"\"\"\n",
    "    creates psf with side length `n` and a sigma of `sig`\n",
    "    \"\"\"\n",
    "    ax = np.linspace(-(n - 1) / 2., (n - 1) / 2., n)\n",
    "    gauss = np.exp(-0.5 * np.square(ax) / np.square(sig))\n",
    "    kernel = np.outer(gauss, gauss)\n",
    "    return kernel / np.sum(kernel)\n",
    "PSF = psf(5,2)\n",
    "G = BlurringOperator(PSF,ig )"
   ]
  },
  {
   "cell_type": "markdown",
   "metadata": {},
   "source": [
    "We now define the tomographic projection operator. "
   ]
  },
  {
   "cell_type": "code",
   "execution_count": 76,
   "metadata": {},
   "outputs": [],
   "source": [
    "A = ProjectionOperator(image_geometry=ig, \n",
    "                       acquisition_geometry=ag)"
   ]
  },
  {
   "cell_type": "markdown",
   "metadata": {},
   "source": [
    "We now compose the two opertors and apply it to our ground truth data before adding noise. We compare the original sinogram with the new noisy and blurred sinogram. "
   ]
  },
  {
   "cell_type": "code",
   "execution_count": null,
   "metadata": {},
   "outputs": [],
   "source": [
    "\n",
    "forward=CompositionOperator(A, G)\n",
    "\n",
    "noisy_absorption=forward.direct(ground_truth) \n",
    "noisy_absorption+= 0.1*noisy_absorption.array.max()*noisy_absorption.geometry.allocate('random')\n",
    "\n",
    "show2D([absorption, noisy_absorption], title = ['Absorption', 'Noisy absorption'], origin = 'upper', num_cols = 2)\n",
    "\n",
    "\n"
   ]
  },
  {
   "cell_type": "markdown",
   "metadata": {},
   "source": [
    "We use the tomography forward model (ignoring the blurring operator) to do an FDK reconstruction on this data. As expected, it is both blurred and noisy compared to the ground truth image. In the next few sections, we will try and improve this reconstruction.\n"
   ]
  },
  {
   "cell_type": "code",
   "execution_count": null,
   "metadata": {},
   "outputs": [],
   "source": [
    "recon_FDK = FDK(noisy_absorption, image_geometry=ig).run()\n",
    "\n",
    "show2D([ground_truth, recon_FDK], title = ['Ground Truth', 'FDK Reconstruction'], origin = 'upper', num_cols = 2)"
   ]
  },
  {
   "cell_type": "markdown",
   "metadata": {},
   "source": [
    "## FISTA + TV Recon \n",
    "\n",
    "As a baseline we try a TV reconstruction with a non-negativity constraint, using the FISTA algorithm, minimising the objective \n",
    "\n",
    "$$ \\arg \\min_x \\|AGx-y\\|_2^2  + \\alpha g(x)$$ \n",
    "\n",
    " where $G$ is the blurring operator, $A$ the tomographic projection, $ y$ the noisy measured data and $g$ is the TV regulariser with regularisation paramater $\\alpha$. \n",
    "\n",
    " We try a few regularisation parameters and visualise the results: "
   ]
  },
  {
   "cell_type": "code",
   "execution_count": null,
   "metadata": {},
   "outputs": [],
   "source": [
    "for alpha in [1, 10, 100, 200]:\n",
    "    F = LeastSquares(A = forward, b = noisy_absorption)\n",
    "    G = alpha*TotalVariation(lower=0)\n",
    "\n",
    "    algo_tv=FISTA(initial=ig.allocate(0), f=F, g=G, update_objective_interval=10) \n",
    "    algo_tv.run(250)\n",
    "    show2D([ground_truth, recon_FDK, algo_tv.solution], title = ['Ground Truth', 'FDK Reconstruction', 'TV solution, alpha = {}'.format(alpha)], origin = 'upper', num_cols = 3, fix_range=(0,0.004))\n",
    "    show2D([ground_truth, recon_FDK - ground_truth, algo_tv.solution - ground_truth], title = ['Ground Truth', 'FDK reconstruction error', 'TV solution error, alpha = {}'.format(alpha)], origin = 'upper', num_cols = 3, fix_range=[(0,0.004),(-0.004,0.004),(-0.004,0.004)], cmap=['gray', 'seismic', 'seismic'])\n",
    "\n",
    " "
   ]
  },
  {
   "cell_type": "markdown",
   "metadata": {},
   "source": [
    "## Directional Total Variation \n",
    "\n",
    "The directional total variation regulariser uses a reference image. The idea is that the $dTV(x)$ function is small if all the gradients of $x$ are parallel to the gradients of a reference image. "
   ]
  },
  {
   "cell_type": "markdown",
   "metadata": {},
   "source": [
    "We definethe directional total variation regulariser\n",
    "\n",
    "$$g(x) =dTV(x):= \\sum_i|D_i\\nabla x_i|_2$$\n",
    "\n",
    " where the sum is over the pixels $i$ and where $D$ is a weighting vector filed on the gradient in $x$ dependent on the normalised gradient, $\\zeta$,  of the reference image, $\\nu$ so \n",
    "$$D=I-\\zeta \\zeta^T$$\n",
    "and $$\\zeta = -\\dfrac{\\nabla \\nu }{\\sqrt{\\eta^2+|\\nabla\\nu|^2}}$$ where $0<\\eta<<\\|\\nabla\\nu\\|$.\n",
    "\n",
    "\n",
    "We can see that if $\\nabla x= \\gamma \\nabla \\nu$, the gradients of $x$ are a multiple of the gradients of the referece image,  then\n",
    "\n",
    " $$D\\nabla x = \\gamma D\\nabla \\nu= \\gamma (I-\\zeta \\zeta^T)\\nabla \\nu= \\gamma \\left(\\nabla \\nu -\\dfrac{\\nabla \\nu }{\\sqrt{\\eta^2+|\\nabla\\nu|^2}} \\dfrac{\\nabla \\nu^T }{\\sqrt{\\eta^2+|\\nabla\\nu|^2}} \\nabla \\nu \\right)=\\gamma\\nabla \\nu \\left(1-(1+\\mathcal{O}(\\frac{\\eta^2}{\\|\\nabla\\nu\\|^2}) )\\right) \\approx 0.$$\n",
    "\n",
    "We can also see if the gradient of the reconstructed image and the reference image are perpendicular, $\\nabla x^T\\nabla \\nu=0$, then\n",
    "\n",
    "$$D\\nabla x (I-\\zeta \\zeta^T)\\nabla x= \\nabla \\nu - \\dfrac{\\nabla \\nu }{\\sqrt{\\eta^2+|\\nabla\\nu|^2}} \\dfrac{\\nabla \\nu^T }{\\sqrt{\\eta^2+|\\nabla\\nu|^2}} \\nabla x =\\nabla \\nu $$\n",
    "\n",
    " and is non-zero. \n",
    "\n",
    "This regulariser encourages the gradient of the reconstructed image to be equal to or parallel to the gradient of the reference image. \n",
    "\n",
    "The CCPi regularisation toolkit implementation also allows us to add a non-negativity constraint. \n",
    "\n"
   ]
  },
  {
   "cell_type": "markdown",
   "metadata": {},
   "source": [
    "### Create reference image \n",
    "\n",
    "To use this regulariser we need a reference image. In the next cell we create a reference image using some of the spheres in the ground truth image. "
   ]
  },
  {
   "cell_type": "code",
   "execution_count": null,
   "metadata": {},
   "outputs": [],
   "source": [
    "#%% create masks\n",
    "top = ig.allocate(0)\n",
    "bottom = ig.allocate(0)\n",
    "middle= ig.allocate(0)\n",
    "\n",
    "top.fill(\n",
    "    np.asarray(ground_truth.array > 0.8 * ground_truth.max(), \n",
    "               dtype=np.float32)\n",
    "    )\n",
    "bottom.fill(\n",
    "    np.asarray(np.invert(ground_truth.array < 0.4 * ground_truth.max()), \n",
    "               dtype=np.float32)\n",
    ")\n",
    "middle.fill(\n",
    "    np.asarray(np.invert(  ground_truth.array< 0.7 * ground_truth.max()), \n",
    "               dtype=np.float32)\n",
    ")\n",
    "\n",
    "\n",
    "reference=top*0.2+bottom*0.7+ middle*0.9\n",
    "show2D([ground_truth, reference], title = ['Ground Truth', 'Reference'], origin = 'upper', num_cols = 2)"
   ]
  },
  {
   "cell_type": "markdown",
   "metadata": {},
   "source": [
    "### Results using dTV\n",
    "We can now compare the dTV results for a number of values of alpha. "
   ]
  },
  {
   "cell_type": "code",
   "execution_count": null,
   "metadata": {},
   "outputs": [],
   "source": [
    "for alpha in [1, 10, 100, 1000]:\n",
    "    eta = 0.01\n",
    "    F = LeastSquares(A = forward, b = noisy_absorption)\n",
    "    G=FGP_dTV(reference=reference, alpha=alpha, eta=eta, nonnegativity=True)\n",
    "\n",
    "    algo_dtv=FISTA(initial=ig.allocate(0), f=F, g=G, update_objective_interval=10)\n",
    "    algo_dtv.run(250)\n",
    "    show2D([ground_truth, recon_FDK, algo_tv.solution, reference,  algo_dtv.solution], title = ['Ground Truth', 'FDK Reconstruction', 'TV solution, alpha = 200', 'Reference image',  'dTV solution, alpha = {}'.format(alpha)], origin = 'upper', num_cols = 5, fix_range=[(0,0.004),(0,0.004),(0,0.004),(0,2),(0,0.004)])\n",
    "    show2D([ground_truth, recon_FDK - ground_truth, algo_tv.solution - ground_truth, reference,  algo_dtv.solution - ground_truth], title = ['Ground Truth', 'FDK reconstruction error', 'TV solution error, alpha = 200', 'Reference image',  'dTV solution error, alpha = {}'.format(alpha)], origin = 'upper', num_cols = 5, fix_range=[(0,0.004),(-0.004,0.004),(-0.004,0.004),(0,2),(-0.004,0.004)], cmap=['gray', 'seismic', 'seismic', 'gray', 'seismic'],)\n",
    "\n",
    "\n"
   ]
  },
  {
   "cell_type": "markdown",
   "metadata": {},
   "source": [
    "Too small a value of alpha and the solution is unstable because of the blurring operator, for intermediate values of alpha, the dTV reconstruction gives sharp edges around the spheres in the reference image and blurrier reconstructions of the other spheres. For too large values of alpha, the dTV solution fails to reconstruct the spheres not in the original image "
   ]
  },
  {
   "cell_type": "markdown",
   "metadata": {},
   "source": [
    "For a value of alpha that is too small we see evidence that the inverse problem is ill posed the noise has been amplified by the reconstruction"
   ]
  },
  {
   "cell_type": "markdown",
   "metadata": {},
   "source": [
    "## Directional TV regularisation, written in CIL "
   ]
  },
  {
   "cell_type": "markdown",
   "metadata": {},
   "source": [
    "In this section we consider a denoising problem, denoising the FDK reconstruction using the directional TV regularisation term, i.e. solving the problem\n",
    "\n",
    "$$ \\arg \\min_x \\|x-x_{FDK}\\|_2^2  + \\alpha dTV(x) .$$ \n",
    "\n",
    "We use PDHG, which usually solves problems of the form \n",
    "$$\n",
    "\\min_{x\\in\\mathbb{X}} \\mathcal{F}(K x) + \\mathcal{G}(x)\n",
    "\\tag{PDHG form}\n",
    "$$\n",
    "\n",
    "where $F$ and $G$ need to have a calculable proximal and proximal conjugate,  respectively.  We choose $G$ to be the `L2NormSquared` function and build the $dTV$ function with an operator composed with the `MixedL21Norm` function which has a calculable proximal. "
   ]
  },
  {
   "cell_type": "code",
   "execution_count": null,
   "metadata": {},
   "outputs": [],
   "source": [
    "eta = 0.01\n",
    "alpha = 0.01\n",
    "\n",
    "\n",
    "# fidelity term\n",
    "g = L2NormSquared( b=recon_FDK)\n",
    "\n",
    "# setup operator for directional TV\n",
    "DY = FiniteDifferenceOperator(ig, direction=1)\n",
    "DX = FiniteDifferenceOperator(ig, direction=0)\n",
    "\n",
    "Grad = BlockOperator(DY, DX)\n",
    "grad_ref = Grad.direct(reference)\n",
    "denom = (eta**2 + grad_ref.pnorm(2)**2).sqrt()\n",
    "xi = grad_ref/denom\n",
    "\n",
    "A1 = DY - CompositionOperator(DiagonalOperator(xi[0]**2),DY) - CompositionOperator(DiagonalOperator(xi[0]*xi[1]),DX)\n",
    "A2 = DX - CompositionOperator(DiagonalOperator(xi[0]*xi[1]),DY) - CompositionOperator(DiagonalOperator(xi[1]**2),DX)\n",
    "\n",
    "operator = BlockOperator(A1, A2)\n",
    "\n",
    "f = alpha * MixedL21Norm()\n",
    "\n",
    "# use primal acceleration, g being strongly convex\n",
    "pdhg = PDHG(f = f, g = g, operator = operator,  update_objective_interval = 100, gamma_g = 1.)\n",
    "pdhg.run(500)        \n",
    "\n",
    "\n",
    "show2D([ground_truth, recon_FDK, algo_tv.solution, reference,  pdhg.solution], title = ['Ground Truth', 'FDK Reconstruction', 'TV solution, alpha = 200', 'Reference image',  'dTV solution'], origin = 'upper', num_cols = 5, fix_range=[(0,0.004),(0,0.004),(0,0.004),(0,2),(0,0.004)])\n",
    "show2D([ground_truth, recon_FDK-ground_truth, algo_tv.solution-ground_truth, reference,  pdhg.solution-ground_truth], title = ['Ground Truth', 'FDK Reconstruction error', 'TV solution error, alpha = 200', 'Reference image',  'dTV solution error'], origin = 'upper', cmap=['gray', 'seismic', 'seismic', 'gray', 'seismic'], num_cols = 5, fix_range=[(0, 0.004),(-0.004, 0.004),(-0.004, 0.004),(0,2),(-0.008, 0.008)])\n"
   ]
  },
  {
   "cell_type": "markdown",
   "metadata": {},
   "source": [
    "With less information, in the form of the forward model, the outcome is not as good, but arguably still better than the TV reconstruction. "
   ]
  },
  {
   "cell_type": "markdown",
   "metadata": {},
   "source": [
    "## Note \n",
    "This notebook is not quite complete. It would be good to use a CIL dTV implementation for the full forward problem. However, CIL currently can't take the proximal of an operator composed with a function so there is no proximal defined for the CIL LeastSquares function (https://github.com/TomographicImaging/CIL/issues/1561)."
   ]
  }
 ],
 "metadata": {
  "kernelspec": {
   "display_name": "cil_24_2_0",
   "language": "python",
   "name": "python3"
  },
  "language_info": {
   "codemirror_mode": {
    "name": "ipython",
    "version": 3
   },
   "file_extension": ".py",
   "mimetype": "text/x-python",
   "name": "python",
   "nbconvert_exporter": "python",
   "pygments_lexer": "ipython3",
   "version": "3.12.7"
  }
 },
 "nbformat": 4,
 "nbformat_minor": 2
}
