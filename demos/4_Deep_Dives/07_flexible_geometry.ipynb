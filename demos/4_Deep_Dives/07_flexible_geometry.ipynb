{
 "cells": [
  {
   "cell_type": "markdown",
   "id": "d74f3d0b",
   "metadata": {},
   "source": [
    "# -*- coding: utf-8 -*-\n",
    "#  Copyright 2025 -  United Kingdom Research and Innovation\n",
    "#\n",
    "#  Licensed under the Apache License, Version 2.0 (the \"License\");\n",
    "#  you may not use this file except in compliance with the License.\n",
    "#  You may obtain a copy of the License at\n",
    "#\n",
    "#      http://www.apache.org/licenses/LICENSE-2.0\n",
    "#\n",
    "#  Unless required by applicable law or agreed to in writing, software\n",
    "#  distributed under the License is distributed on an \"AS IS\" BASIS,\n",
    "#  WITHOUT WARRANTIES OR CONDITIONS OF ANY KIND, either express or implied.\n",
    "#  See the License for the specific language governing permissions and\n",
    "#  limitations under the License.\n",
    "#\n",
    "#  Authored by:    Laura Murgatroyd (STFC-UKRI)\n",
    "#                  Franck Vidal (STFC-UKRI)\n",
    "#                  Gemma Fardell (STFC-UKRI)"
   ]
  },
  {
   "cell_type": "markdown",
   "id": "564ce55c",
   "metadata": {},
   "source": [
    "# Flexible Geometry"
   ]
  },
  {
   "cell_type": "markdown",
   "id": "cc622abe",
   "metadata": {
    "vscode": {
     "languageId": "plaintext"
    }
   },
   "source": [
    "This notebook introduces the `Cone3D_Flex` `AcquisitionGeometry` which allows setting a different source and detector position for each acquired radiograph.\n",
    "\n",
    "Learning objectives:\n",
    "- Create a `Cone3D_Flex` `AcquisitionGeometry`\n",
    "- Reconstruct using FDK from ASTRA\n",
    "- Compare the forward projections to the radiographs\n",
    "- Reconstruct using SIRT"
   ]
  },
  {
   "cell_type": "code",
   "execution_count": null,
   "id": "ee9bf71c",
   "metadata": {},
   "outputs": [],
   "source": [
    "from cil.io import TIFFStackReader\n",
    "from cil.utilities.display import show2D, show_SOUV_geometry_vectors, show_geometry\n",
    "from cil.framework import ImageGeometry, AcquisitionGeometry, AcquisitionData\n",
    "import os\n",
    "from cil.utilities.jupyter import islicer\n",
    "import matplotlib\n",
    "import numpy as np\n",
    "from cil.plugins.astra import FBP\n",
    "from cil.processors import TransmissionAbsorptionConverter"
   ]
  },
  {
   "cell_type": "markdown",
   "id": "d4038f74",
   "metadata": {
    "vscode": {
     "languageId": "plaintext"
    }
   },
   "source": [
    "## Load the Radiographs"
   ]
  },
  {
   "cell_type": "markdown",
   "id": "0243618e",
   "metadata": {},
   "source": [
    "The data consists of TIFF files - the projections, and a CSV file which contains the source and detector positions for each angle"
   ]
  },
  {
   "cell_type": "code",
   "execution_count": null,
   "id": "a0591617",
   "metadata": {},
   "outputs": [],
   "source": [
    "filepath=r\"C:\\Users\\lhe97136\\Work\\GitHub\\non-standard-CT\\output\\non-standard-trajectories\\projections\"\n"
   ]
  },
  {
   "cell_type": "markdown",
   "id": "f79b29d1",
   "metadata": {
    "vscode": {
     "languageId": "plaintext"
    }
   },
   "source": [
    "First let's load and view the projections"
   ]
  },
  {
   "cell_type": "code",
   "execution_count": null,
   "id": "a9917fc7",
   "metadata": {},
   "outputs": [],
   "source": [
    "projection_array = TIFFStackReader(filepath).read()"
   ]
  },
  {
   "cell_type": "code",
   "execution_count": null,
   "id": "ee710a08",
   "metadata": {},
   "outputs": [],
   "source": [
    "show2D([projection_array]*2, slice_list=[0,100])"
   ]
  },
  {
   "cell_type": "code",
   "execution_count": null,
   "id": "747e8d42",
   "metadata": {},
   "outputs": [],
   "source": [
    "print(projection_array.shape)"
   ]
  },
  {
   "cell_type": "markdown",
   "id": "cf55567f",
   "metadata": {},
   "source": [
    "### Display the Sinogram"
   ]
  },
  {
   "cell_type": "code",
   "execution_count": null,
   "id": "da4a54f4",
   "metadata": {},
   "outputs": [],
   "source": [
    "show2D([projection_array], slice_list=(1,80), title='Projection Array')"
   ]
  },
  {
   "cell_type": "markdown",
   "id": "b7d03cb9",
   "metadata": {},
   "source": [
    "Let's examine the projections using islicer - do you see anything unusual?"
   ]
  },
  {
   "cell_type": "code",
   "execution_count": null,
   "id": "b343076f",
   "metadata": {},
   "outputs": [],
   "source": [
    "islicer(projection_array, title='Projection Array')"
   ]
  },
  {
   "cell_type": "markdown",
   "id": "2e1a7360",
   "metadata": {},
   "source": [
    "It looks like the dragon is bouncing up and down! This is because some or all of the following are varying between each radiograph:\n",
    "- detector position\n",
    "- detector angle\n",
    "- source position\n",
    "\n",
    "The data came with a CSV file which describes this geometry for each radiograph."
   ]
  },
  {
   "cell_type": "markdown",
   "id": "8a2e87bb",
   "metadata": {},
   "source": [
    "# Read the Geometry Information"
   ]
  },
  {
   "cell_type": "markdown",
   "id": "6984f88e",
   "metadata": {},
   "source": [
    "Now we'll read the information from the csv file:"
   ]
  },
  {
   "cell_type": "code",
   "execution_count": null,
   "id": "30ed8d4b",
   "metadata": {},
   "outputs": [],
   "source": [
    "csv_filepath = os.path.join(filepath, 'geom.csv')\n",
    "\n",
    "column_names = [\"fname\",\n",
    "    \"source position (x)\", \"source position (y)\", \"source position (z)\",\n",
    "    \"imager centre (x)\", \"imager centre (y)\", \"imager centre (z)\",\n",
    "    \"imager u vector (x)\", \"imager u vector (y)\", \"imager u vector (z)\",\n",
    "    \"imager v vector (x)\", \"imager v vector (y)\", \"imager v vector (z)\",\n",
    "    \"angle\",\n",
    "];\n",
    "\n",
    "# fname,source position (x),source position (y),source position (z),imager centre (x),imager centre (y),imager centre (z),imager u vector (x),imager u vector (y),imager u vector (z),imager v vector (x),imager v vector (y),imager v vector (z),angle\n",
    "\n",
    "# read the csv file:\n",
    "import pandas as pd\n",
    "df = pd.read_csv(csv_filepath)\n",
    "\n",
    "source_position_set = df[['source position (x)', 'source position (y)', 'source position (z)']].values\n",
    "detector_position_set = df[['imager centre (x)', 'imager centre (y)', 'imager centre (z)']].values\n",
    "detector_direction_x_set = df[['imager u vector (x)', 'imager u vector (y)', 'imager u vector (z)']].values\n",
    "detector_direction_y_set = df[['imager v vector (x)', 'imager v vector (y)', 'imager v vector (z)']].values\n",
    "angles = df['angle'].values\n"
   ]
  },
  {
   "cell_type": "markdown",
   "id": "04494c6c",
   "metadata": {},
   "source": [
    "# Create a CIL Acquisition Geometry"
   ]
  },
  {
   "cell_type": "markdown",
   "id": "7597f278",
   "metadata": {},
   "source": [
    "To define the acquisition geometry in CIL, we create a Cone3D_Flex Acquisition Geometry.\n",
    "\n",
    "This requires us to set:\n",
    "- `source_position_set` - This is a list of 3D vectors describing the position of the source for each radiograph acquired.\n",
    "- `detector_position_set` - This is a list of 3D vectors describing the position of the detector for each radiograph acquired.\n",
    "- `detector_direction_x_set` - This is a list of 3D vectors describing the direction of the detector_x\n",
    "- `detector_direction_y_set` - This is a list of 3D vectors describing the direction of the detector_y\n",
    "\n",
    "We have read all of these from the csv in the cell above!"
   ]
  },
  {
   "cell_type": "code",
   "execution_count": null,
   "id": "a45e3420",
   "metadata": {},
   "outputs": [],
   "source": [
    "acq_geometry = AcquisitionGeometry.create_Cone3D_SOUV(source_position_set, detector_position_set,\n",
    "                                                detector_direction_x_set, detector_direction_y_set)\n"
   ]
  },
  {
   "cell_type": "markdown",
   "id": "a66eee20",
   "metadata": {},
   "source": [
    "Note: we could also have set the `volume_centre_position`. This is a 3D vector describing the position of the centre of the reconstructed volume (x,y,z). We have not set this, which means it will be set to the default of [0,0,0]: the origin."
   ]
  },
  {
   "cell_type": "markdown",
   "id": "4ec5ee52",
   "metadata": {},
   "source": [
    "As with other geometry types in CIL, we also need to set the panel size, pixel size, and data labels. Printing the data shape and examining the radiographs we showed above helps us with this:"
   ]
  },
  {
   "cell_type": "code",
   "execution_count": null,
   "id": "fc9a86b8",
   "metadata": {},
   "outputs": [],
   "source": [
    "print(projection_array.shape)"
   ]
  },
  {
   "cell_type": "markdown",
   "id": "8bfd8e85",
   "metadata": {},
   "source": [
    "We can see that we have 500 angles and our panel is 160x160"
   ]
  },
  {
   "cell_type": "markdown",
   "id": "1bb16de2",
   "metadata": {},
   "source": [
    "TODO: how do we explain where we get the pixel size from? We got it from gvxr originally\n",
    "pixel_size = (0.25, 0.25)"
   ]
  },
  {
   "cell_type": "code",
   "execution_count": null,
   "id": "a430db74",
   "metadata": {},
   "outputs": [],
   "source": [
    "number_of_pixels = projection_array.shape[1:3]\n",
    "pixel_size = (0.25, 0.25)"
   ]
  },
  {
   "cell_type": "code",
   "execution_count": null,
   "id": "825425a4",
   "metadata": {},
   "outputs": [],
   "source": [
    "acq_geometry.set_panel(number_of_pixels, pixel_size)\n",
    "acq_geometry.set_labels(['angle','vertical','horizontal'])"
   ]
  },
  {
   "cell_type": "markdown",
   "id": "fb2f011b",
   "metadata": {},
   "source": [
    "The standard CIL definitions of axes are shown in this image:\n",
    "\n",
    "![title](images/07_cone_geometry_example.png)"
   ]
  },
  {
   "cell_type": "markdown",
   "id": "f5812a49",
   "metadata": {},
   "source": [
    "This display tool allows us to visualise the motion of the source and detector throughout the scan:"
   ]
  },
  {
   "cell_type": "code",
   "execution_count": null,
   "id": "f539eb87",
   "metadata": {},
   "outputs": [],
   "source": [
    "show_SOUV_geometry_vectors(acq_geometry);"
   ]
  },
  {
   "cell_type": "markdown",
   "id": "7df2c631",
   "metadata": {},
   "source": [
    "If we print the acquisition geometry, we can also see the first few source and detector positions, and detector vectors:"
   ]
  },
  {
   "cell_type": "code",
   "execution_count": null,
   "id": "235b236d",
   "metadata": {},
   "outputs": [],
   "source": [
    "print(acq_geometry)"
   ]
  },
  {
   "cell_type": "markdown",
   "id": "afdc6509",
   "metadata": {},
   "source": [
    "TODO: add comment about show_geometry not used for this geom type"
   ]
  },
  {
   "cell_type": "markdown",
   "id": "1040c4c8",
   "metadata": {},
   "source": [
    "# Reconstruct with ASTRA"
   ]
  },
  {
   "cell_type": "markdown",
   "id": "660fc769",
   "metadata": {},
   "source": [
    "Now we can create our CIL AcquisitionData as normal. We'll be reconstructing with ASTRA so we also reorder the data to enable this:"
   ]
  },
  {
   "cell_type": "code",
   "execution_count": null,
   "id": "dd3b703a",
   "metadata": {},
   "outputs": [],
   "source": [
    "acq_data = AcquisitionData(projection_array, geometry=acq_geometry)\n",
    "acq_data.reorder(order='astra')"
   ]
  },
  {
   "cell_type": "markdown",
   "id": "0a36f35d",
   "metadata": {},
   "source": [
    "We need to convert to absoprtion data first:"
   ]
  },
  {
   "cell_type": "code",
   "execution_count": null,
   "id": "6aae084f",
   "metadata": {},
   "outputs": [],
   "source": [
    "absorp_data = TransmissionAbsorptionConverter()(acq_data)"
   ]
  },
  {
   "cell_type": "code",
   "execution_count": null,
   "id": "90fc3128",
   "metadata": {},
   "outputs": [],
   "source": [
    "show2D(absorp_data.array[:,0])"
   ]
  },
  {
   "cell_type": "markdown",
   "id": "3c490839",
   "metadata": {},
   "source": [
    "Reconstructing requires setting an image geometry. This is the description of the reconstruction volume. We can get a default image geometry from our AcquisitionData:"
   ]
  },
  {
   "cell_type": "code",
   "execution_count": null,
   "id": "dc753f8f",
   "metadata": {},
   "outputs": [],
   "source": [
    "image_geometry = absorp_data.geometry.get_ImageGeometry()\n",
    "print(image_geometry)"
   ]
  },
  {
   "cell_type": "markdown",
   "id": "f017ecb1",
   "metadata": {},
   "source": [
    "The default ImageGeometry is constructed using an average of the magnification values across all of the projectons."
   ]
  },
  {
   "cell_type": "code",
   "execution_count": null,
   "id": "13f02933",
   "metadata": {},
   "outputs": [],
   "source": [
    "fbp = FBP(absorp_data.geometry.get_ImageGeometry(), absorp_data.geometry) \n",
    "fbp.set_input(absorp_data)"
   ]
  },
  {
   "cell_type": "code",
   "execution_count": null,
   "id": "0d07ea1c",
   "metadata": {},
   "outputs": [],
   "source": [
    "recon = fbp.get_output()\n",
    "\n",
    "show2D(recon, title='Reconstruction')"
   ]
  },
  {
   "cell_type": "code",
   "execution_count": null,
   "id": "cc86e684",
   "metadata": {},
   "outputs": [],
   "source": [
    "\n",
    "from cil.plugins.astra import ProjectionOperator\n",
    "\n",
    "\n",
    "PO = ProjectionOperator( recon.geometry, absorp_data.geometry)\n",
    "\n",
    "forward_projection = PO.direct(recon)"
   ]
  },
  {
   "cell_type": "code",
   "execution_count": null,
   "id": "73c28a69",
   "metadata": {},
   "outputs": [],
   "source": [
    "show2D([forward_projection.array[:,100,:], absorp_data.array[:,100,:]], title=[\"Forward Proj 10\", \"Proj 10\"])"
   ]
  },
  {
   "cell_type": "markdown",
   "id": "282af845",
   "metadata": {},
   "source": [
    "# SIRT"
   ]
  },
  {
   "cell_type": "code",
   "execution_count": null,
   "id": "0c3b5cb6",
   "metadata": {},
   "outputs": [],
   "source": [
    "from cil.optimisation.algorithms import CGLS, SIRT\n",
    "\n",
    "x0 = recon.geometry.copy().allocate(0)\n",
    "\n",
    "sirt = SIRT(initial=x0, operator=PO, data=absorp_data)\n",
    "sirt.update_objective_interval = 10\n",
    "sirt.run(100)\n",
    "\n",
    "recon_sirt = sirt.solution"
   ]
  },
  {
   "cell_type": "code",
   "execution_count": null,
   "id": "81178e7e",
   "metadata": {},
   "outputs": [],
   "source": [
    "show2D(recon_sirt, title='SIRT Reconstruction')"
   ]
  },
  {
   "cell_type": "code",
   "execution_count": null,
   "id": "46c11196",
   "metadata": {},
   "outputs": [],
   "source": [
    "show2D([recon, recon_sirt], title=['FBP Reconstruction', 'SIRT Reconstruction'])"
   ]
  }
 ],
 "metadata": {
  "kernelspec": {
   "display_name": "gvxr-tutorials",
   "language": "python",
   "name": "python3"
  },
  "language_info": {
   "codemirror_mode": {
    "name": "ipython",
    "version": 3
   },
   "file_extension": ".py",
   "mimetype": "text/x-python",
   "name": "python",
   "nbconvert_exporter": "python",
   "pygments_lexer": "ipython3",
   "version": "3.11.11"
  }
 },
 "nbformat": 4,
 "nbformat_minor": 5
}
