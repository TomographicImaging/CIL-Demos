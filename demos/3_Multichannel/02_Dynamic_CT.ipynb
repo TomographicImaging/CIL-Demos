{
 "cells": [
  {
   "cell_type": "code",
   "execution_count": null,
   "id": "0",
   "metadata": {},
   "outputs": [],
   "source": [
    "#  Copyright 2019 - 2022 United Kingdom Research and Innovation\n",
    "#  Copyright 2019 - 2022 The University of Manchester\n",
    "#\n",
    "#  Licensed under the Apache License, Version 2.0 (the \"License\");\n",
    "#  you may not use this file except in compliance with the License.\n",
    "#  You may obtain a copy of the License at\n",
    "#\n",
    "#      http://www.apache.org/licenses/LICENSE-2.0\n",
    "#\n",
    "#  Unless required by applicable law or agreed to in writing, software\n",
    "#  distributed under the License is distributed on an \"AS IS\" BASIS,\n",
    "#  WITHOUT WARRANTIES OR CONDITIONS OF ANY KIND, either express or implied.\n",
    "#  See the License for the specific language governing permissions and\n",
    "#  limitations under the License.\n",
    "#\n",
    "#   Authored by:    Evangelos Papoutsellis (UKRI-STFC)\n",
    "#                   Gemma Fardell (UKRI-STFC)\n",
    "#                   Laura Murgatroyd (UKRI-STFC)\n",
    "#                   Casper da Costa-Luis (UKRI-STFC)"
   ]
  },
  {
   "cell_type": "markdown",
   "id": "1",
   "metadata": {},
   "source": [
    "# Dynamic Sparse CT\n",
    "\n",
    "In this demo, we focus on different reconstruction methods for sparse dynamic CT using an open-access dynamic dataset available from [Heikkilä_et_al_Zenodo](https://zenodo.org/record/3696817#.YKTRP5MzZp9). The aim is to demonstrate how to increase\n",
    "the temporal resolution, or to reduce the radiation dose of a CT scan, without sacrificing\n",
    "the quality of the reconstructions.\n",
    "\n",
    "The gel phantom simulates diffusion of liquids inside plant stems, namely the flow of iodine-based contrast agents used in high resolution tomographic X-ray imaging of plants. In order to test different reconstruction methods, this radiation resistant phantom with similar diffusion properties was constructed. For more information, please see [Heikkilä_et_al](https://arxiv.org/abs/2003.02841).\n",
    "\n",
    "\n",
    "## Learning objectives\n",
    "\n",
    "- Create a **2D + channels** acquisition geometry for the dynamic tomographic data. Channels correspond to different time steps (frames).\n",
    "\n",
    "\n",
    "\n",
    "- Create **sparse data** using the `Slicer` processor.\n",
    "\n",
    "\n",
    "\n",
    "- Run FBP reconstruction for every time-channel.\n",
    "\n",
    "\n",
    "\n",
    "- Setup PDHG for 2 different regularisers:\n",
    "\n",
    "    * Spatiotemporal Total Variation: regularisation applied equally along the spatial and temporal dimensions (channels).\n",
    "        \n",
    "    * **Directional Total Variation (dTV)**: regularisation applied for each channel using a reference image reference."
   ]
  },
  {
   "cell_type": "markdown",
   "id": "2",
   "metadata": {},
   "source": [
    "## Data\n",
    "\n",
    "This example requires `GelPhantomData_b4.mat` and `GelPhantom_extra_frames.mat` data from https://zenodo.org/record/3696817#.YKTRP5MzZp9\n",
    "\n",
    "The direct download urls are:\n",
    " - https://zenodo.org/record/3696817/files/GelPhantomData_b4.mat\n",
    " - https://zenodo.org/record/3696817/files/GelPhantom_extra_frames.mat\n",
    "\n",
    "Once downloaded update `path_common` to run the script."
   ]
  },
  {
   "cell_type": "code",
   "execution_count": null,
   "id": "3",
   "metadata": {},
   "outputs": [],
   "source": [
    "#Set the path to the directory containing the data\n",
    "path_common = '/mnt/materials/SIRF/Fully3D/CIL/GelPhantom'"
   ]
  },
  {
   "cell_type": "code",
   "execution_count": null,
   "id": "4",
   "metadata": {},
   "outputs": [],
   "source": [
    "# Import libraries\n",
    "from cil.framework import AcquisitionGeometry\n",
    "from cil.io import NEXUSDataWriter, NEXUSDataReader\n",
    "from cil.optimisation.algorithms import PDHG\n",
    "from cil.optimisation.operators import GradientOperator, BlockOperator\n",
    "from cil.optimisation.functions import IndicatorBox, BlockFunction, L2NormSquared, MixedL21Norm\n",
    "from cil.plugins.astra import ProjectionOperator, FBP\n",
    "from cil.plugins.ccpi_regularisation.functions import FGP_dTV\n",
    "from cil.processors import Slicer\n",
    "from cil.utilities.display import show2D, show_geometry\n",
    "from cil.utilities.jupyter import islicer\n",
    "\n",
    "import numpy as np\n",
    "from tqdm.auto import trange\n",
    "from utilities_dynamic_ct import read_frames, read_extra_frames\n",
    "from IPython.display import clear_output"
   ]
  },
  {
   "cell_type": "markdown",
   "id": "5",
   "metadata": {},
   "source": [
    "## Data information: Gel phantom\n",
    "\n",
    "The sample is an agarose-gel phantom, perfused with a liquid contrast agent in a 50ml Falcon test tube (ø 29 × 115mm). The aim of this experiment was to simulate diffusion of liquids inside plant stems, which cannot withstand high radiation doses from a denser set of measurement angles. After the agarose solidified, five intact plastic straws were made into the gel and filled with 20% sucrose solution to guarantee the diffusion by directing osmosis to the gel body.\n",
    "\n",
    "Every measurement consists of 360 projections with 282 detector bins obtained from a flat-panel circular-scan cone-beam microCT-scanner. Only the central slice is provided, resulting in a 2D __fanbeam geometry__. The primary measurements consisted of 17 consecutive time frames, with initial stage of no contrast agent followed by steady increase and diffusion into the gel body over time. Data is given in two different resolutions corresponding to reconstructions of size:\n",
    "\n",
    "* 256 x 256: **GelPhantomData_b4.mat**\n",
    "* 512 x 512: **GelPhantomData_b2.mat**\n",
    "\n",
    "For this notebook, a 256x256 resolution is selected. In addition to the primary measurements, a more densely sampled measurements from the first time step and an additional 18th time step are provided in **GelPhantom_extra_frames.mat**\n",
    "\n",
    "* Pre-scan: **720 projections**\n",
    "* Post-scan: **1600 projections**"
   ]
  },
  {
   "cell_type": "markdown",
   "id": "6",
   "metadata": {},
   "source": [
    "### Load and read dynamic data (mat files)"
   ]
  },
  {
   "cell_type": "code",
   "execution_count": null,
   "id": "7",
   "metadata": {},
   "outputs": [],
   "source": [
    "data_mat = \"GelPhantomData_b4\"\n",
    "file_info = read_frames(path_common, data_mat)"
   ]
  },
  {
   "cell_type": "markdown",
   "id": "8",
   "metadata": {},
   "source": [
    "From the `file_info` variable, we have all the information in order to define our acquisition geometry and create our CIL acquisition data.\n",
    "\n",
    "**Note that the pixel size of the detector is wrong. The correct pixel size should be doubled.**"
   ]
  },
  {
   "cell_type": "code",
   "execution_count": null,
   "id": "9",
   "metadata": {},
   "outputs": [],
   "source": [
    "# Get sinograms + metadata\n",
    "sinograms = file_info['sinograms']\n",
    "frames = sinograms.shape[0]\n",
    "angles = file_info['angles']\n",
    "distanceOriginDetector = file_info['distanceOriginDetector']\n",
    "distanceSourceOrigin = file_info['distanceSourceOrigin']\n",
    "# Correct the pixel size\n",
    "pixelSize = 2*file_info['pixelSize']\n",
    "numDetectors = file_info['numDetectors']"
   ]
  },
  {
   "cell_type": "markdown",
   "id": "10",
   "metadata": {},
   "source": [
    "### **Exercise 1: Create acquisition and image geometries**\n",
    "\n",
    "For this dataset, we have a 2D cone geometry with 17 time channels. Using the metadata above, we can define the acquisition geometry `ag` with \n",
    "\n",
    "\n",
    "```python\n",
    "ag = AcquisitionGeometry.create_Cone2D(source_position = [0, distanceSourceOrigin],\n",
    "                                       detector_position = [0, -distanceOriginDetector])\\\n",
    "    .set_panel(numDetectors, pixelSize)\\\n",
    "    .set_channels(frames)\\\n",
    "    .set_angles(angles, angle_unit=\"radian\")\\\n",
    "    .set_labels(['channel','angle', 'horizontal'])\n",
    "```\n",
    "\n",
    "For the image geometry `ig` we use the following code and crop our image domain to `[256,256]`:\n",
    "\n",
    "```python    \n",
    "ig = ag.get_ImageGeometry()\n",
    "```"
   ]
  },
  {
   "cell_type": "code",
   "execution_count": null,
   "id": "11",
   "metadata": {},
   "outputs": [],
   "source": [
    "# Create acquisition + image geometries\n",
    "ag = AcquisitionGeometry.create_Cone2D(source_position = ...,\n",
    "                                       detector_position = ...)\\\n",
    "    .set_panel(numDetectors, ...)\\\n",
    "    .set_channels(...)\\\n",
    "    .set_angles(angles, angle_unit=\"radian\")\\\n",
    "    .set_labels(['channel','angle', 'horizontal'])\n",
    "ig = ag.get_ImageGeometry()\n",
    "ig.voxel_num_x = 256\n",
    "ig.voxel_num_y = 256"
   ]
  },
  {
   "cell_type": "markdown",
   "id": "12",
   "metadata": {},
   "source": [
    "### **Exercise 1: Solution**"
   ]
  },
  {
   "cell_type": "code",
   "execution_count": null,
   "id": "13",
   "metadata": {},
   "outputs": [],
   "source": [
    "# Create acquisition + image geometries\n",
    "ag = AcquisitionGeometry.create_Cone2D(source_position = [0, distanceSourceOrigin],\n",
    "                                       detector_position = [0, -distanceOriginDetector])\\\n",
    "    .set_panel(numDetectors, pixelSize)\\\n",
    "    .set_channels(frames)\\\n",
    "    .set_angles(angles, angle_unit=\"radian\")\\\n",
    "    .set_labels(['channel','angle', 'horizontal'])\n",
    "ig = ag.get_ImageGeometry()\n",
    "ig.voxel_num_x = 256\n",
    "ig.voxel_num_y = 256"
   ]
  },
  {
   "cell_type": "markdown",
   "id": "14",
   "metadata": {},
   "source": [
    "Then, we create an `AcquisitionData` by allocating space from the acquisition geometry `ag`. This is filled with every **sinogram per time channel**."
   ]
  },
  {
   "cell_type": "code",
   "execution_count": null,
   "id": "15",
   "metadata": {},
   "outputs": [],
   "source": [
    "data = ag.allocate()\n",
    "for i in range(frames):\n",
    "   data.fill(sinograms[i], channel=i)"
   ]
  },
  {
   "cell_type": "markdown",
   "id": "16",
   "metadata": {},
   "source": [
    "### Show acquisition data"
   ]
  },
  {
   "cell_type": "code",
   "execution_count": null,
   "id": "17",
   "metadata": {},
   "outputs": [],
   "source": [
    "islicer(data, direction=0, cmap=\"inferno\", title=\"Time frame\")"
   ]
  },
  {
   "cell_type": "markdown",
   "id": "18",
   "metadata": {},
   "source": [
    "### Show acquisition geometry"
   ]
  },
  {
   "cell_type": "code",
   "execution_count": null,
   "id": "19",
   "metadata": {},
   "outputs": [],
   "source": [
    "show_geometry(ag);"
   ]
  },
  {
   "cell_type": "markdown",
   "id": "20",
   "metadata": {},
   "source": [
    "### Create Sparse CT data\n",
    "\n",
    "In order to simulate a sparse acquisition, from the total of 360 projections we select a number of projections depending on the size of the `step`:\n",
    "\n",
    "- step = 1 --> 360/1 projections\n",
    "- step = 5 --> 360/5 = 72 projections\n",
    "- step = 10 --> 360/10 = 36 projections\n",
    "- step = 20 --> 360/20 = 18 projections\n",
    "\n",
    "We create the sparse data using the `Slicer` processor. For every case, we show the dynamic data for 4 different time frames and save them using the `NEXUSDataWriter` processor in the `SparseData` directory."
   ]
  },
  {
   "cell_type": "code",
   "execution_count": null,
   "id": "21",
   "metadata": {},
   "outputs": [],
   "source": [
    "# Create and save Sparse Data with different angular sampling: 18, 36, 72, 360 projections\n",
    "for step in (1, 5, 10, 20):\n",
    "    name_proj = f\"data_{360/step:.0f}\"\n",
    "    new_data = Slicer(roi={'angle':(0,360,step)})(data)\n",
    "    ag = new_data.geometry\n",
    "\n",
    "    show2D(new_data, slice_list=[0, 5, 10, 16], num_cols=4, origin=\"upper\",\n",
    "           cmap=\"inferno\", title=f\"Projections {360/step:.0f}\", size=(25, 20))\n",
    "\n",
    "    writer = NEXUSDataWriter(file_name=f\"SparseData/{name_proj}.nxs\", data=new_data)\n",
    "    writer.write()\n"
   ]
  },
  {
   "cell_type": "markdown",
   "id": "22",
   "metadata": {},
   "source": [
    "### Load sparse CT data\n",
    "\n",
    "For the rest of the notebook, we use the sparse acquisition data `data_36`, i.e., only **36 projections** and perform the following:\n",
    "\n",
    "- FBP reconstruction per time frame.\n",
    "- Spatiotemporal TV reconstruction.\n",
    "- Directional Total variation.\n",
    "\n",
    "For the other cases, you can change the value of the `num_proj` below. Available data are: `data_18`, `data_36`, `data_72` and `data_360`."
   ]
  },
  {
   "cell_type": "code",
   "execution_count": null,
   "id": "23",
   "metadata": {},
   "outputs": [],
   "source": [
    "num_proj = 36\n",
    "reader = NEXUSDataReader(file_name=f\"SparseData/data_{num_proj}.nxs\")\n",
    "data = reader.load_data()\n",
    "ag = data.geometry"
   ]
  },
  {
   "cell_type": "markdown",
   "id": "24",
   "metadata": {},
   "source": [
    "## Channelwise FBP\n",
    "\n",
    "For the **channelwise** FBP reconstruction, we perform the following steps\n",
    "\n",
    "- Allocate a space using the full image geometry (2D+channels) `ig` geometry. \n",
    "- Extract the 2D acquisition and image geometries, using `ag.get_slice(channel=0)` and `ig.get_slice(channel=0)`.\n",
    "- Run FBP reconstruction using the 2D sinogram data for every time frame.\n",
    "- Fill the 2D FBP reconstruction with respect to the `channel=i` using the `fill` method."
   ]
  },
  {
   "cell_type": "code",
   "execution_count": null,
   "id": "25",
   "metadata": {},
   "outputs": [],
   "source": [
    "fbp_recon = ig.allocate()\n",
    "\n",
    "ag2D = ag.get_slice(channel=0)\n",
    "ig2D = ig.get_slice(channel=0)\n",
    "fbp = FBP(ig2D,ag2D)\n",
    "\n",
    "for i in trange(ig.channels, unit=\"timeframe\"):\n",
    "    data_single_channel = data.get_slice(channel=i)\n",
    "    fbp.set_input(data_single_channel)\n",
    "    fbp_recon.fill(fbp.get_output(), channel=i)\n",
    "\n",
    "show2D(fbp_recon, slice_list=[0, 5, 10, 16], num_cols=4, origin=\"upper\", fix_range=(0,0.065),\n",
    "       cmap=\"inferno\", title=f\"Projections {i}\", size=(25, 20))\n",
    "\n",
    "writer = NEXUSDataWriter(file_name=f\"FBP_reconstructions/FBP_projections_{num_proj}.nxs\", data=fbp_recon)\n",
    "writer.write()"
   ]
  },
  {
   "cell_type": "markdown",
   "id": "26",
   "metadata": {},
   "source": [
    "### **Exercise 2: Total Variation reconstruction**\n",
    "\n",
    "For the TV reconstruction, we use the **Explicit formulation** of the PDHG algorithm. See the [PDHG notebook](../2_Iterative/03_PDHG.ipynb) for more information.\n",
    "\n",
    "- Define the `ProjectionOperator` and the `GradientOperator` using `correlation=SpaceChannels`.\n",
    "\n",
    "\n",
    "```python    \n",
    "\n",
    "        A = ProjectionOperator(ig, ag, 'gpu')        \n",
    "        Grad = GradientOperator(ig, correlation = \"SpaceChannels\") \n",
    "    \n",
    "```\n",
    "\n",
    "\n",
    "- Use the `BlockOperator` to define the operator $K$. \n",
    "\n",
    "    \n",
    "\n",
    "```python    \n",
    "\n",
    "        K = BlockOperator(A, Grad)        \n",
    "            \n",
    "```\n",
    "\n",
    "\n",
    "- Use the `BlockFunction` to define the function $\\mathcal{F}$ that contains the fidelity term `L2NormSquared(b=data)` and the regularisation term `alpha_tv * MixedL21Norm()`, with `alpha_tv = 0.00063`. Finally, use the `IndicatorBox(lower=0.0)` to enforce a non-negativity constraint for the function $\\mathcal{G}$.\n",
    "\n",
    "\n",
    "```python    \n",
    "\n",
    "        F = BlockFunction(0.5*L2NormSquared(b=data), alpha_tv * MixedL21Norm()) \n",
    "        G = IndicatorBox(lower=0)\n",
    "            \n",
    "```\n"
   ]
  },
  {
   "cell_type": "code",
   "execution_count": null,
   "id": "27",
   "metadata": {},
   "outputs": [],
   "source": [
    "A = ...\n",
    "Grad = ...\n",
    "\n",
    "K = BlockOperator(A, Grad)\n",
    "\n",
    "alpha_tv = 0.00054\n",
    "F = BlockFunction(..., alpha_tv * ...)\n",
    "G = IndicatorBox(lower=0)\n",
    "\n",
    "normK = K.norm()\n",
    "sigma = 1./normK\n",
    "tau = 1./normK\n",
    "\n",
    "pdhg_tv = PDHG(f = ..., g = ..., operator=..., update_objective_interval=100)\n",
    "pdhg_tv.run(500, verbose=1)\n",
    "\n",
    "tv_recon = pdhg_tv.solution"
   ]
  },
  {
   "cell_type": "markdown",
   "id": "28",
   "metadata": {},
   "source": [
    "### **Exercise 2: Solution**"
   ]
  },
  {
   "cell_type": "code",
   "execution_count": null,
   "id": "29",
   "metadata": {},
   "outputs": [],
   "source": [
    "A = ProjectionOperator(ig, ag, 'gpu')\n",
    "Grad = GradientOperator(ig, correlation=\"SpaceChannels\")\n",
    "\n",
    "K = BlockOperator(A, Grad)\n",
    "\n",
    "alpha_tv = 0.00054\n",
    "F = BlockFunction(0.5*L2NormSquared(b=data), alpha_tv * MixedL21Norm())\n",
    "G = IndicatorBox(lower=0)\n",
    "\n",
    "normK = K.norm()\n",
    "sigma = 1./normK\n",
    "tau = 1./normK\n",
    "\n",
    "pdhg_tv = PDHG(f=F, g=G, operator=K, update_objective_interval=100)\n",
    "pdhg_tv.run(500, verbose=1)\n",
    "\n",
    "tv_recon = pdhg_tv.solution"
   ]
  },
  {
   "cell_type": "markdown",
   "id": "30",
   "metadata": {},
   "source": [
    "### Show TV reconstruction for 4 different time frames"
   ]
  },
  {
   "cell_type": "code",
   "execution_count": null,
   "id": "31",
   "metadata": {},
   "outputs": [],
   "source": [
    "titles_sinos = [f\"Time-frame {i}\" for i in (0, 5, 10, 16)]\n",
    "\n",
    "show2D(tv_recon, slice_list = [0,5,10,16], num_cols=4, origin=\"upper\",fix_range=(0,0.065),\n",
    "       cmap=\"inferno\", title=titles_sinos, size=(25, 20))\n",
    "\n",
    "writer = NEXUSDataWriter(file_name=f\"TV_reconstructions/TV_reconstruction_projections_{num_proj}.nxs\", data=tv_recon)\n",
    "writer.write()"
   ]
  },
  {
   "cell_type": "markdown",
   "id": "32",
   "metadata": {},
   "source": [
    "## Directional Total Variation\n",
    "\n",
    "For our final reconstruction, we use a **structure-based prior**, namely the directional Total Variation (dTV) introduced in [Ehrhardt MJ, Arridge SR](https://doi.org/10.1109/tip.2013.2277775).\n",
    "\n",
    "In comparison with the Total variation regulariser, \n",
    "$$\n",
    "\\mathrm{TV}(u) = \\|\\nabla u\\|_{2,1} = \\sum |\\nabla u\\|_{2},\n",
    "$$\n",
    "\n",
    "in the Direction Total variation, a weight in front of the gradient is used based on a **reference image**. This acts as prior information from which edge structures are propagated into the reconstruction process. For example, an image from another modality, e.g., MRI, , can be used in the PET reconstruction, see [Ehrhardt2016](https://ieeexplore.ieee.org/document/7452643/), [Ehrhardt2016MRI](https://epubs.siam.org/doi/10.1137/15M1047325). Another popular setup, is to use either both modalities or even channels in a joint reconstruction problem simultaneously, improving significantly the quality of the image, see for instance [Knoll et al](https://ieeexplore.ieee.org/document/7466848), [Kazantsev_2018](https://doi.org/10.1088/1361-6420/aaba86).\n",
    "\n",
    "**Definition:** The dTV regulariser of the image $u$ given the reference image $v$ is defined as \n",
    "\n",
    "$$\n",
    "d\\mathrm{TV}(u,v)  := \\|D_{v}\\nabla u\\|_{2,1} = \\sum_{i,j=1}^{M,N} \\big(|D_{v}\\nabla u|_{2}\\big)_{i,j},\n",
    "$$\n",
    "\n",
    "where the weight $D_{v}$ depends on the normalised gradient $\\xi_{v}$ of the reference image $v$, \n",
    "\n",
    "$$\n",
    "D_{v} = \\mathbb{I}_{2\\times2} - \\xi_{v}\\xi_{v}^T, \\quad \\xi_{v} = \\frac{\\nabla v}{\\sqrt{\\eta^{2} + |\\nabla v|_{2}^{2}}}, \\quad \\eta>0.\n",
    "$$\n",
    "\n",
    "In this dynamic sparse CT framework, we apply the dTV regulariser for each time frame $t$ which results to the following minimisation problem:\n",
    "\n",
    "$$\n",
    "u^{*}_{t} = \\underset{u}{\\operatorname{argmin}}  \\, \\frac{1}{2}\\| A_\\text{sc} u_{t}  - b_{t} \\|^{2} + \\alpha \\, d\\mathrm{TV}(u_{t}, v_{t}),\n",
    "$$\n",
    "\n",
    "where $A_\\text{sc}$, $b_{t}$, $u^{*}_{t}$, denote the single channel `ProjectionOperator`, the sinogram data and the reconstructed image for the time frame $t$ respectively.\n",
    "\n"
   ]
  },
  {
   "cell_type": "markdown",
   "id": "33",
   "metadata": {},
   "source": [
    "### Reference images\n",
    "\n",
    "In terms of the reference images $(v_{t})_{t=0}^{16}$, we are going to use the FBP reconstructions of the additional tomographic data. There are two datasets in `GelPhantom_extra_frames.mat` with dense sampled measurements from the first and last (18th) time steps:\n",
    "\n",
    "- Pre-scan data with 720 projections\n",
    "- Post-scan data with 1600 projections\n",
    "\n",
    "We first read the matlab files and create the following acquisition data:\n",
    "\n",
    "- data_pre_scan\n",
    "- data_post_scan"
   ]
  },
  {
   "cell_type": "markdown",
   "id": "34",
   "metadata": {},
   "source": [
    "### Read matlab files for the extra frames"
   ]
  },
  {
   "cell_type": "code",
   "execution_count": null,
   "id": "35",
   "metadata": {},
   "outputs": [],
   "source": [
    "data_mat_extra = \"GelPhantom_extra_frames\"\n",
    "\n",
    "pre_scan_info = read_extra_frames(path_common, data_mat_extra, \"GelPhantomFrame1_b4\")\n",
    "post_scan_info = read_extra_frames(path_common, data_mat_extra, \"GelPhantomFrame18_b4\")"
   ]
  },
  {
   "cell_type": "markdown",
   "id": "36",
   "metadata": {},
   "source": [
    "### Acquisition geometry for the 1st frame: 720 projections"
   ]
  },
  {
   "cell_type": "code",
   "execution_count": null,
   "id": "37",
   "metadata": {},
   "outputs": [],
   "source": [
    "ag2D_pre_scan = AcquisitionGeometry.create_Cone2D(source_position=[0, pre_scan_info['distanceSourceOrigin']],\n",
    "                                                  detector_position=[0, -pre_scan_info['distanceOriginDetector']])\\\n",
    "    .set_panel(num_pixels = pre_scan_info['numDetectors'], pixel_size = 2*pre_scan_info['pixelSize'])\\\n",
    "    .set_angles(pre_scan_info['angles'])\\\n",
    "    .set_labels(['angle', 'horizontal'])"
   ]
  },
  {
   "cell_type": "markdown",
   "id": "38",
   "metadata": {},
   "source": [
    "### Acquisition geometry for the 18th frame: 1600 projections"
   ]
  },
  {
   "cell_type": "code",
   "execution_count": null,
   "id": "39",
   "metadata": {},
   "outputs": [],
   "source": [
    "ag2D_post_scan = AcquisitionGeometry.create_Cone2D(source_position=[0, post_scan_info['distanceSourceOrigin']],\n",
    "                                                   detector_position=[0, -post_scan_info['distanceOriginDetector']])\\\n",
    "    .set_panel(num_pixels = post_scan_info['numDetectors'], pixel_size = 2*post_scan_info['pixelSize'])\\\n",
    "    .set_angles(post_scan_info['angles'])\\\n",
    "    .set_labels(['angle', 'horizontal'])"
   ]
  },
  {
   "cell_type": "markdown",
   "id": "40",
   "metadata": {},
   "source": [
    "### Create Acquisition data: Pre-scan, Post-scan"
   ]
  },
  {
   "cell_type": "code",
   "execution_count": null,
   "id": "41",
   "metadata": {},
   "outputs": [],
   "source": [
    "data_pre_scan = ag2D_pre_scan.allocate()\n",
    "data_pre_scan.fill(pre_scan_info['sinograms'])\n",
    "\n",
    "data_post_scan = ag2D_post_scan.allocate()\n",
    "data_post_scan.fill(post_scan_info['sinograms'])\n",
    "\n",
    "show2D([data_pre_scan,data_post_scan], title=[\"Pre-scan 720 projections\", \"Post-scan 1600 projections\"], cmap=\"inferno\", size=(10,10));"
   ]
  },
  {
   "cell_type": "markdown",
   "id": "42",
   "metadata": {},
   "source": [
    "### FBP reconstruction (Reference images)\n",
    "\n",
    "For the FBP reconstruction of the pre/post scan we use the 2D image geometry, `ig2D` and the corresponding acquisition geometries `ag2D_pre_scan` and `ag2D_post_scan`."
   ]
  },
  {
   "cell_type": "markdown",
   "id": "43",
   "metadata": {},
   "source": [
    "### **Exercise 3: Perform FBP to obtain the reference images**"
   ]
  },
  {
   "cell_type": "code",
   "execution_count": null,
   "id": "44",
   "metadata": {},
   "outputs": [],
   "source": [
    "fbp_recon_pre_scan = FBP(..., ag2D_pre_scan)(...)\n",
    "fbp_recon_post_scan = FBP(ig2D, ...)(...)"
   ]
  },
  {
   "cell_type": "markdown",
   "id": "45",
   "metadata": {},
   "source": [
    "### **Exercise 3: Solution**"
   ]
  },
  {
   "cell_type": "code",
   "execution_count": null,
   "id": "46",
   "metadata": {},
   "outputs": [],
   "source": [
    "fbp_recon_pre_scan = FBP(ig2D, ag2D_pre_scan)(data_pre_scan)\n",
    "fbp_recon_post_scan = FBP(ig2D, ag2D_post_scan)(data_post_scan)"
   ]
  },
  {
   "cell_type": "markdown",
   "id": "47",
   "metadata": {},
   "source": [
    "### Show and save the reference images"
   ]
  },
  {
   "cell_type": "code",
   "execution_count": null,
   "id": "48",
   "metadata": {},
   "outputs": [],
   "source": [
    "show2D([fbp_recon_pre_scan,fbp_recon_post_scan],\n",
    "       title=[\"FBP: Pre-scan\", \"FBP: Post-scan\"], cmap=\"inferno\", origin=\"upper\", fix_range=(0,0.065))\n",
    "\n",
    "writer = NEXUSDataWriter(file_name=f\"FBP_reconstructions/FBP_pre_scan.nxs\", data=fbp_recon_pre_scan)\n",
    "writer.write()\n",
    "\n",
    "writer = NEXUSDataWriter(file_name=f\"FBP_reconstructions/FBP_post_scan.nxs\", data=fbp_recon_post_scan)\n",
    "writer.write()"
   ]
  },
  {
   "cell_type": "markdown",
   "id": "49",
   "metadata": {},
   "source": [
    "### Edge information from the normalised gradient $\\,\\xi_{v}$\n",
    "\n",
    "In the following we compute the normalised gradient $\\,\\xi_{v}$ for the two reference images using different $\\eta$ values:\n",
    "\n",
    "$$\\xi_{v} = \\frac{\\nabla v}{\\sqrt{\\eta^{2} + |\\nabla v|_{2}^{2}}}, \\quad \\eta>0$$"
   ]
  },
  {
   "cell_type": "code",
   "execution_count": null,
   "id": "50",
   "metadata": {},
   "outputs": [],
   "source": [
    "def xi_vector_field(image, eta):\n",
    "    ig = image.geometry\n",
    "    ig.voxel_size_x = 1.\n",
    "    ig.voxel_size_y = 1.\n",
    "    G = GradientOperator(ig)\n",
    "    numerator = G.direct(image)\n",
    "    denominator = np.sqrt(eta**2 + numerator.get_item(0)**2 + numerator.get_item(1)**2)\n",
    "    xi = numerator/denominator\n",
    "\n",
    "    return (xi.get_item(0)**2 + xi.get_item(1)**2).sqrt()\n",
    "\n",
    "etas = [0.001, 0.005]\n",
    "\n",
    "xi_post_scan = []\n",
    "xi_pre_scan = []\n",
    "\n",
    "for i in etas:\n",
    "    xi_post_scan.append(xi_vector_field(fbp_recon_post_scan, i))\n",
    "    xi_pre_scan.append(xi_vector_field(fbp_recon_pre_scan, i))"
   ]
  },
  {
   "cell_type": "markdown",
   "id": "51",
   "metadata": {},
   "source": [
    "### Edge information from the pre-scan and post-scan reference images"
   ]
  },
  {
   "cell_type": "code",
   "execution_count": null,
   "id": "52",
   "metadata": {},
   "outputs": [],
   "source": [
    "title_etas = [f\"$\\\\eta$ = {eta}\" for eta in etas]\n",
    "show2D(xi_pre_scan, cmap=\"inferno\", title=title_etas, origin=\"upper\", num_cols=2, size=(10,10))\n",
    "show2D(xi_post_scan, cmap=\"inferno\", title=title_etas, origin=\"upper\", num_cols=2,size=(10,10));"
   ]
  },
  {
   "cell_type": "markdown",
   "id": "53",
   "metadata": {},
   "source": [
    "## Directional Total variation reconstruction \n",
    "\n",
    "In total we have 17 time frames, and we need 17 reference images.  Due to a slight movement of the sample at the beginning of the experiment, we apply the pre-scan reference image for the first time frame and use the post-scan reference image for the remaining time frames. \n",
    "\n",
    "One could apply other configurations for the reference image in the intermediate time frames. For example, in order to reconstruct the $(t+1)$th time frame, one could use the $t$th time frame reconstruction as reference. A more sophisticated reference selection approach is applied in hyperspectral computed tomography in [Kazantsev_2018](https://iopscience.iop.org/article/10.1088/1361-6420/aaba86)."
   ]
  },
  {
   "cell_type": "markdown",
   "id": "54",
   "metadata": {},
   "source": [
    "### Setup and run the PDHG algorithm"
   ]
  },
  {
   "cell_type": "markdown",
   "id": "55",
   "metadata": {},
   "source": [
    "In order to solve the [Dynamic dTV](#Directional-Total-Variation) problem, we use the implicit formulation of the PDHG algorithm, where the **Fast Gradient Projection** algorithm, under the **dTV** regulariser, is used for the inner proximal problem.\n",
    "\n",
    "- We first define the single slice `ProjectionOperator` using the 2D image and acquisition geometries and compute the `sigma` and `tau` stepsizes.\n",
    "\n",
    "\n",
    "```python    \n",
    "\n",
    "    K = ProjectionOperator(ig2D, ag2D, 'gpu') \n",
    "\n",
    "    normK = K.norm()\n",
    "    sigma = 1./normK\n",
    "    tau = 1./normK   \n",
    "    \n",
    "```\n",
    "\n",
    "\n",
    "- We allocate space for the dTV reconstruction, i.e., `dtv_recon` using the full image geometry `ig`.\n",
    "\n",
    "\n",
    "\n",
    "- Use the following values: `max_iteration=100`, `alpha_dtv = 0.0072`, `eta=0.005`.\n",
    "\n",
    "\n",
    "\n",
    "\n",
    "- Loop over all the time frames (`tf`) and update :\n",
    "\n",
    "    - the fidelity term `0.5 * L2NormSquared(b=data.subset(channel=tf)` for the function $\\mathcal{F}$,        \n",
    "        \n",
    "    - the regularisation term ( $\\mathcal{G}$ ) using the `FGP_dTV` function class from the CIL plugin of the CCPi-Regularisation Toolkit. For `tf=0` the pre-scan reference is used and for `tf>0` the post-scan reference is used.    \n",
    "    \n",
    "    \n",
    "    "
   ]
  },
  {
   "cell_type": "markdown",
   "id": "56",
   "metadata": {},
   "source": [
    "### Define single slice projection operator"
   ]
  },
  {
   "cell_type": "code",
   "execution_count": null,
   "id": "57",
   "metadata": {},
   "outputs": [],
   "source": [
    "K = ProjectionOperator(ig2D, ag2D, 'gpu')"
   ]
  },
  {
   "cell_type": "markdown",
   "id": "58",
   "metadata": {},
   "source": [
    "### Parameters for the dTV regulariser and the PDHG algorithm"
   ]
  },
  {
   "cell_type": "code",
   "execution_count": null,
   "id": "59",
   "metadata": {},
   "outputs": [],
   "source": [
    "normK = K.norm()\n",
    "sigma = 1./normK\n",
    "tau = 1./normK\n",
    "\n",
    "dtv_recon = ig.allocate()\n",
    "\n",
    "max_iterations = 100\n",
    "alpha_dtv = 0.0072\n",
    "eta = 0.005"
   ]
  },
  {
   "cell_type": "markdown",
   "id": "60",
   "metadata": {},
   "source": [
    "### Loop over all channels and update:\n",
    "\n",
    "* the acquisition data in the `L2NormSquared` fidelity term,\n",
    "* the reference image in the `FGP_dTV` regulariser."
   ]
  },
  {
   "cell_type": "code",
   "execution_count": null,
   "id": "61",
   "metadata": {},
   "outputs": [],
   "source": [
    "for tf in trange(ig.channels, unit=\"timeframe\"):\n",
    "    F = 0.5 * L2NormSquared(b=data.get_slice(channel=tf))\n",
    "    G = alpha_dtv * FGP_dTV(reference=(fbp_recon_pre_scan if tf==0 else fbp_recon_post_scan), eta=eta, device='gpu')\n",
    "\n",
    "    pdhg_dtv = PDHG(f=F, g=G, operator=K, tau=tau, sigma=sigma, update_objective_interval=1000)\n",
    "    pdhg_dtv.run(max_iterations, verbose=0)\n",
    "    clear_output(wait=True)\n",
    "\n",
    "    dtv_recon.fill(pdhg_dtv.solution, channel=tf)"
   ]
  },
  {
   "cell_type": "code",
   "execution_count": null,
   "id": "62",
   "metadata": {},
   "outputs": [],
   "source": [
    "show2D(dtv_recon, slice_list = [0,5,10,16], num_cols=4, origin=\"upper\",fix_range=(0,0.065),\n",
    "       cmap=\"inferno\", title=titles_sinos, size=(25, 20));"
   ]
  },
  {
   "cell_type": "markdown",
   "id": "63",
   "metadata": {},
   "source": [
    "## FBP vs TV vs dTV reconstructions vs FBP (360 projections).\n",
    "\n",
    "For our final comparison, we reconstruct the full dataset, i.e., 360 projections and compare it with the FBP, TV and dTV reconstruction with 36 projection."
   ]
  },
  {
   "cell_type": "code",
   "execution_count": null,
   "id": "64",
   "metadata": {},
   "outputs": [],
   "source": [
    "# Load data with 360 projections\n",
    "reader = NEXUSDataReader(file_name=\"SparseData/data_360.nxs\")\n",
    "data_360 = reader.load_data()\n",
    "ag2D = data_360.geometry.get_slice(channel=0)\n",
    "\n",
    "# Perform channelwise FBP reconstruction\n",
    "fbp_recon_360 = ig.allocate()\n",
    "fbp = FBP(ig2D, ag2D)\n",
    "for i in range(ig.channels):\n",
    "    data_single_channel = data_360.get_slice(channel=i)\n",
    "    fbp.set_input(data_single_channel)\n",
    "    fbp_recon_360.fill(fbp.get_output(), channel=i)"
   ]
  },
  {
   "cell_type": "markdown",
   "id": "65",
   "metadata": {},
   "source": [
    "### Show FBP, TV, dTV with 36 projections and FBP with 360 projections. "
   ]
  },
  {
   "cell_type": "code",
   "execution_count": null,
   "id": "66",
   "metadata": {},
   "outputs": [],
   "source": [
    "for time_frame in (0, 5, 10, 16):\n",
    "    print(f\"Time-frame {time_frame}\")\n",
    "    show2D([fbp_recon, tv_recon, dtv_recon, fbp_recon_360], slice_list=time_frame, num_cols=4, origin=\"upper\", fix_range=(0,0.065),\n",
    "           cmap=\"inferno\", title=['FBP', 'TV', 'dTV', 'FBP full'], size=(25, 20))"
   ]
  },
  {
   "cell_type": "markdown",
   "id": "67",
   "metadata": {},
   "source": [
    "### **Exercise 4**\n",
    "\n",
    "As an additional **Exercise**, you can try other configurations, namely the datasets `data_18` and `data_72` by changing the [number of projections](#Load-sparse-CT-data). The optimal regularisation parameters for spatiotemporal TV and dTV are reported in Table 1 in [Papoutsellis et al](https://arxiv.org/pdf/2102.06126.pdf#page=7)."
   ]
  },
  {
   "cell_type": "markdown",
   "id": "68",
   "metadata": {},
   "source": [
    "## Conclusions\n",
    "\n",
    "In this notebook, we presented three different reconstruction methods for undersampled dynamic tomographic data. The **channelwise FBP** and the **Spatiotemporal TV** and **Directional TV** regularisation. We focused on the reconstruction of the dataset with 36 projections out of 360 projections. "
   ]
  }
 ],
 "metadata": {
  "kernelspec": {
   "display_name": "cil_24.1",
   "language": "python",
   "name": "python3"
  },
  "language_info": {
   "codemirror_mode": {
    "name": "ipython",
    "version": 3
   },
   "file_extension": ".py",
   "mimetype": "text/x-python",
   "name": "python",
   "nbconvert_exporter": "python",
   "pygments_lexer": "ipython3",
   "version": "3.12.3"
  }
 },
 "nbformat": 4,
 "nbformat_minor": 5
}
