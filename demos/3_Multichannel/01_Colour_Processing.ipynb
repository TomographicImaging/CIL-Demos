{
 "cells": [
  {
   "cell_type": "code",
   "execution_count": 1,
   "id": "0",
   "metadata": {},
   "outputs": [],
   "source": [
    "#  Copyright 2019 - 2022 United Kingdom Research and Innovation\n",
    "#  Copyright 2019 - 2022 The University of Manchester\n",
    "#\n",
    "#  Licensed under the Apache License, Version 2.0 (the \"License\");\n",
    "#  you may not use this file except in compliance with the License.\n",
    "#  You may obtain a copy of the License at\n",
    "#\n",
    "#      http://www.apache.org/licenses/LICENSE-2.0\n",
    "#\n",
    "#  Unless required by applicable law or agreed to in writing, software\n",
    "#  distributed under the License is distributed on an \"AS IS\" BASIS,\n",
    "#  WITHOUT WARRANTIES OR CONDITIONS OF ANY KIND, either express or implied.\n",
    "#  See the License for the specific language governing permissions and\n",
    "#  limitations under the License.\n",
    "#\n",
    "#   Authored by:    Evangelos Papoutsellis (UKRI-STFC)\n",
    "#                   Gemma Fardell (UKRI-STFC)\n",
    "#                   Laura Murgatroyd (UKRI-STFC)\n",
    "#                   Letizia Protopapa (UKRI-STFC)\n",
    "#                   Casper da Costa-Luis (UKRI-STFC)\n",
    "#                   Margaret Duff (UKRI-STFC)"
   ]
  },
  {
   "cell_type": "markdown",
   "id": "1",
   "metadata": {},
   "source": [
    "# Colour Processing\n",
    "\n",
    "In this notebook, we present how to **denoise** and **inpaint** our first **multichannel** data using CIL, i.e., a data with only 3 channels that contains information from the **Red**, **Green** and **Blue** bands. We start by loading a colour image from CIL."
   ]
  },
  {
   "cell_type": "code",
   "execution_count": 2,
   "id": "2",
   "metadata": {},
   "outputs": [],
   "source": [
    "# import dataexample that contains different colour images\n",
    "from cil.utilities import dataexample, noise\n",
    "\n",
    "# import other libraries\n",
    "import matplotlib.pyplot as plt\n",
    "from mpl_toolkits.axes_grid1 import AxesGrid\n",
    "from cil.utilities.display import show2D\n",
    "from cil.framework import BlockDataContainer    "
   ]
  },
  {
   "cell_type": "code",
   "execution_count": 3,
   "id": "3",
   "metadata": {},
   "outputs": [],
   "source": [
    "# Load Rainbow image\n",
    "data = dataexample.RAINBOW.get(size=(500, 500), scale=(0, 1))\n",
    "data.reorder(['horizontal_y', 'horizontal_x','channel'])"
   ]
  },
  {
   "cell_type": "markdown",
   "id": "4",
   "metadata": {},
   "source": [
    "## Show colour image and RGB channels"
   ]
  },
  {
   "cell_type": "code",
   "execution_count": null,
   "id": "5",
   "metadata": {},
   "outputs": [],
   "source": [
    "plt.figure(figsize=(10,10))\n",
    "plt.imshow(data.array)\n",
    "plt.title(\"Colour Image\")\n",
    "plt.show()\n",
    "\n",
    "show2D(data, slice_list=[('channel',0),('channel',1),('channel',2)],\n",
    "       title=[\"Red\",\"Green\",\"Blue\"], origin=\"upper\", num_cols=3);"
   ]
  },
  {
   "cell_type": "markdown",
   "id": "6",
   "metadata": {},
   "source": [
    "### Imaging Model\n",
    "\n",
    "Let $u:\\Omega\\subset\\mathbb{R}^{N\\times M}\\rightarrow\\mathbb{R}^{N\\times M\\times3}$ a colour image that depicts a real _perfect_ scene (the unknown). Typically, we assume that $u$ has been transformed through a continuous and linear operation $\\mathcal{L}$ (**forward operator**). Additionally, we have a noisy component $\\eta$ that usually follows a certain distribution, e.g., **Gaussian** , **Salt and Pepper (Impluse)**. The **Imaging model** is defined as\n",
    "\n",
    "$$\n",
    "u_{0} = \\mathcal{L}u + \\eta\\,.\n",
    "$$\n",
    "\n",
    "* **Image Denoising:** $\\mathcal{L}$ is the Identity operator and we are trying to remove the noise from $u_{0}$ in order to reconstruct $u$.\n",
    "\n",
    "<table><tr><td><img src='Images/denoising_fig1.png'>\n",
    "</td><td><img src='Images/inpainting_fig2.png'></td></tr></table>\n",
    "\n",
    "\n",
    "* **Image Inpainting:** $\\mathcal{L}=\\mathcal{X}_{\\Omega\\setminus D}$ is the characteristic function defined as\n",
    "\n",
    "$$\\mathcal{X}_{\\Omega\\setminus \\mathcal{D}}(x) = \n",
    "\\begin{cases}\n",
    "1, & x\\in \\Omega\\setminus D\\\\\n",
    "0, & \\text{otherwise}\n",
    "\\end{cases},\n",
    "$$\n",
    "    \n",
    "where $\\mathcal{D}$ is a subdomain of $\\Omega$ (**inpainting domain**). In the inpainting domain there is no data information available and we are trying to reconstruct $u$ based on the information provided from the known region of $u_{0}$. \n",
    "    \n",
    "<table><tr><td><img src='Images/inpainting_fig1.png'>\n",
    "</td><td><img src='Images/inpainting_fig2.png'></td></tr></table>    "
   ]
  },
  {
   "cell_type": "markdown",
   "id": "7",
   "metadata": {},
   "source": [
    "In this notebook, we will consider the cases of \n",
    "\n",
    "* denoising a noisy image corrupted by additive Gaussian noise,\n",
    "* inpainting + denoising a noisy image corrupted by Salt \\& Pepper noise with missing text information."
   ]
  },
  {
   "cell_type": "markdown",
   "id": "8",
   "metadata": {},
   "source": [
    "## Colour Denoising\n",
    "\n",
    "We solve the following minimisation problem to denoise our coloured image:\n",
    "\n",
    "$$\n",
    "u^{*} = \\underset{u}{\\operatorname{argmin}}  \\frac{1}{2}\\| b - u \\|^{2}_{2} + \\alpha\\,\\mathrm{VTV}(u)\n",
    "$$\n",
    "\n",
    "where the data $b$ is corrupted with Gaussian noise and $\\mathrm{\\textbf{VTV}}$ is the **Vectorial** extension of the classical Total variation regularisation for coloured images. We recall that the definition of the (isotropic) Total Variation, used for gray-valued images, is\n",
    "\n",
    "$$\n",
    "\\mathrm{TV}(u) = \\|Du\\|_{2,1} = \\sum_{i,j}^{M,N}\\big(|(D_{y}u, D_{x}u)|_{2}\\big)_{i,j} =  \\sum_{i,j}^{M,N} \\big(\\sqrt{ (D_{y}u_{k})^{2} + (D_{x}u_{k})^{2}}\\big)_{i,j}.\n",
    "$$\n",
    "\n",
    "Now, for vector-valued images the gradient is $Du=(Du_{1}, Du_{2}, Du_{3})$, where for each **RGB** channels $k=1,2,3$, $Du_{k}:=(D_{y}u_{k}, D_{x}u_{k})$. \n",
    "\n",
    "For this type of multichannel data, we can create different configurations on how the **colour channels**, the **derivatives** and the **image pixels** are correlated and under which norm. One generic approach for this regulariser is presented in [Duran et al](https://arxiv.org/pdf/1508.01308.pdf#page=8), where the **Collaborative Total variation** is introduced, i.e.,\n",
    "\n",
    "$$\n",
    "\\|A\\|_{p,q,r} := \\bigg(\\sum_{i=1}^{N}\\quad\\bigg(\\sum_{j=1}^{M}\\quad\\bigg(\\sum_{k=1}^{C} |A_{i,j,k}|^{p}\\bigg)^{\\frac{q}{p}}\\quad\\bigg)^{\\frac{r}{q}}\\quad\\bigg)^{\\frac{1}{r}}\\quad .\n",
    "$$\n",
    "\n",
    "For simplicity, in this notebook, we will use the _Channelwise TV_ definition, namely, \n",
    "\n",
    "$$\n",
    "\\mathrm{VTV}(u)  := \\|D u\\|_{2,1}  = \\sum_{k=1}^{3}\\sum_{i,j=1}^{M,N} (|Du_{k}|_{2})_{i,j} = \n",
    "                 \\sum_{k=1}^{3}\\sum_{i,j=1}^{M,N} \\big( \\sqrt{ (D_{y}u_{k})^{2} + (D_{x}u_{k})^{2}}\\big) = \\sum_{k=1}^{3} \\mathrm{TV}(u_{k}).\n",
    "$$\n",
    "\n",
    "The above definition corresponds to the $\\ell_{2,1,1}$ (derivative, pixels, colour) Collaborative TV. This means that, an $\\ell_{2}$ norm is applied for the **derivatives**, followed by an $\\ell_{1}$ norm for the **pixels** of the image and a final $\\ell_{1}$ norm for the three **channels**."
   ]
  },
  {
   "cell_type": "code",
   "execution_count": 5,
   "id": "9",
   "metadata": {},
   "outputs": [],
   "source": [
    "# Import Total variation\n",
    "from cil.optimisation.functions import TotalVariation"
   ]
  },
  {
   "cell_type": "markdown",
   "id": "10",
   "metadata": {},
   "source": [
    "### Load data and corrupt with gaussian noise"
   ]
  },
  {
   "cell_type": "code",
   "execution_count": 6,
   "id": "11",
   "metadata": {},
   "outputs": [],
   "source": [
    "# Load Rainbow data\n",
    "data = dataexample.RAINBOW.get(size=(500,500), scale=(0,1))\n",
    "data.reorder(['horizontal_y', 'horizontal_x','channel'])\n",
    "\n",
    "noisy_data = noise.gaussian(data, seed=10, var=0.005)"
   ]
  },
  {
   "cell_type": "code",
   "execution_count": null,
   "id": "12",
   "metadata": {},
   "outputs": [],
   "source": [
    "images = [data.as_array(), noisy_data.as_array(),\n",
    "          data.as_array()[:,:,0], noisy_data.as_array()[:,:,0],\n",
    "          data.as_array()[:,:,1], noisy_data.as_array()[:,:,1],\n",
    "          data.as_array()[:,:,2], noisy_data.as_array()[:,:,2]]\n",
    "\n",
    "#create our custom colour maps for RGB images\n",
    "from matplotlib.colors import LinearSegmentedColormap\n",
    "colors = [(0, 0, 0), (1, 0, 0)] # first color is black, last is red\n",
    "cm_r = LinearSegmentedColormap.from_list(\"Custom\", colors, N=20)\n",
    "colors = [(0, 0, 0), (0, 1, 0)] # first color is black, last is green\n",
    "cm_g = LinearSegmentedColormap.from_list(\"Custom\", colors, N=20)\n",
    "colors = [(0, 0, 0), (0, 0, 1)] # first color is black, last is blue\n",
    "cm_b = LinearSegmentedColormap.from_list(\"Custom\", colors, N=20)\n",
    "\n",
    "labels_y = [\"Red\", \"Green\",\"Blue\"]\n",
    "labels_x = [\"Ground truth\",\"Noisy data\"]\n",
    "\n",
    "# set fontszie xticks/yticks\n",
    "plt.rcParams['xtick.labelsize']=15\n",
    "plt.rcParams['ytick.labelsize']=15\n",
    "\n",
    "fig = plt.figure(figsize=(20, 20))\n",
    "\n",
    "grid = AxesGrid(fig, 111,\n",
    "                nrows_ncols=(4, 2),\n",
    "                axes_pad=0.1)\n",
    "\n",
    "for k, ax in enumerate(grid):\n",
    "    img = ax.imshow(images[k])\n",
    "    if k < 2:\n",
    "        ax.set_title(labels_x[k],fontsize=25)\n",
    "    elif k==2:\n",
    "        ax.set_ylabel(labels_y[0],fontsize=25)\n",
    "        img.set_cmap(cm_r)\n",
    "    elif k==3:\n",
    "        img.set_cmap(cm_r)\n",
    "    elif k==4:\n",
    "        ax.set_ylabel(labels_y[1],fontsize=25)\n",
    "        img.set_cmap(cm_g)\n",
    "    elif k== 5:\n",
    "        img.set_cmap(cm_g)\n",
    "    elif k==6:\n",
    "        ax.set_ylabel(labels_y[2],fontsize=25)\n",
    "        img.set_cmap(cm_b)\n",
    "    elif k==7:\n",
    "        img.set_cmap(cm_b)\n",
    "\n",
    "plt.show()"
   ]
  },
  {
   "cell_type": "markdown",
   "id": "13",
   "metadata": {},
   "source": [
    "We solve the above minimisation problem using the `proximal` method of the `TotalVariation` class that was used in previous notebooks. Recall, that given a function $f$, the _proximal operator of_ $f$ is\n",
    "\n",
    "$$\\mathrm{prox}_{\\tau f}(x) := \\underset{u}{\\operatorname{argmin}}\\frac{1}{2}\\|x-u\\|_{2}^{2} + \\tau f(u), \\quad \\text{for any } x.$$\n",
    "\n",
    "This definition is exactly the same as the [above minimisation problem](#Colour-Denoising), if we replace $f$ by $\\alpha\\mathrm{VTV}$, $x$ with $b$ and $\\tau=1.0$. Therefore, the _proximal operator of VTV at_ $b$ is \n",
    "\n",
    "$$\\mathrm{prox}_{\\tau (\\alpha \\mathrm{VTV})}(b)\\, .$$\n",
    "\n"
   ]
  },
  {
   "cell_type": "code",
   "execution_count": 8,
   "id": "14",
   "metadata": {},
   "outputs": [],
   "source": [
    "alpha = 0.05\n",
    "TV = alpha * TotalVariation(max_iteration=500, backend='numpy')\n",
    "proxTV = TV.proximal(noisy_data, tau=1.0)"
   ]
  },
  {
   "cell_type": "code",
   "execution_count": null,
   "id": "15",
   "metadata": {},
   "outputs": [],
   "source": [
    "images = [data.as_array(), noisy_data.as_array(), proxTV.as_array(),\n",
    "          data.as_array()[:,:,0], noisy_data.as_array()[:,:,0], proxTV.as_array()[:,:,0],\n",
    "          data.as_array()[:,:,1], noisy_data.as_array()[:,:,1], proxTV.as_array()[:,:,1],\n",
    "          data.as_array()[:,:,2], noisy_data.as_array()[:,:,2], proxTV.as_array()[:,:,2]],\n",
    "\n",
    "labels_x = [\"Ground Truth\", \"Noisy Data\", \"TV denoising\",\n",
    "            \"(Red) Ground Truth\", \" (Red) Noisy Data\", \"(Red) TV denoising\",\n",
    "            \"(Green) Ground Truth\", \"(Green) Noisy Data\", \" (Green) TV denoising\",\n",
    "            \"(Blue) Ground Truth\", \"(Blue) Noisy Data\", \"(Blue) TV denoising\"]\n",
    "\n",
    "# set fontsize xticks/yticks\n",
    "plt.rcParams['xtick.labelsize'] = 12\n",
    "plt.rcParams['ytick.labelsize'] = 12\n",
    "\n",
    "fig = plt.figure(figsize=(25, 25))\n",
    "\n",
    "grid = AxesGrid(fig, 111,\n",
    "                nrows_ncols=(4, 3),\n",
    "                axes_pad=0.5,\n",
    "                cbar_mode=None)\n",
    "\n",
    "for k, ax in enumerate(grid):\n",
    "    img = ax.imshow(images[0][k])\n",
    "    ax.set_title(labels_x[k],fontsize=25)\n",
    "    if k >= 9:\n",
    "        img.set_cmap(cm_b)\n",
    "    elif k >= 6:\n",
    "        img.set_cmap(cm_g)\n",
    "    elif k >= 3:\n",
    "        img.set_cmap(cm_r)\n",
    "\n",
    "cbar = ax.cax.colorbar(img)\n",
    "plt.show()"
   ]
  },
  {
   "cell_type": "markdown",
   "id": "16",
   "metadata": {},
   "source": [
    "### **Exercise : Use the PDHG algorithm to solve the above problem**\n",
    "\n",
    "The triplet $(K, \\mathcal{F}, \\mathcal{G})$ is defined as:\n",
    "\n",
    "* $K = D \\Longleftrightarrow$ `K = GradientOperator(noisy_data.geometry)` .\n",
    "\n",
    "\n",
    "\n",
    "* $\\mathcal{F}(z) = \\alpha\\,\\|z\\|_{2,1}\\Longleftrightarrow$ `F = alpha * MixedL21Norm()` .\n",
    "\n",
    "\n",
    "\n",
    "* $\\mathcal{G}(u) = \\frac{1}{2}\\|b - u \\|^{2}_{2}\\, \\Longleftrightarrow$ `G = 0.5 * L2NormSquared(b=noisy_data)` .\n"
   ]
  },
  {
   "cell_type": "markdown",
   "id": "17",
   "metadata": {},
   "source": [
    "## Colour Inpainting\n",
    "\n",
    "Given an image where a specific region is unknown, the task of image inpainting is to recover the missing region $\\mathcal{D}$ from the known part of the image $\\Omega$. For this example, we will use the _rainbow image_,  where we are trying to remove a repeated text (+ salt and pepper noise) from the image that represents the unknown domain $\\mathcal{D}$."
   ]
  },
  {
   "cell_type": "markdown",
   "id": "18",
   "metadata": {},
   "source": [
    "### Create corrupted image\n",
    "\n",
    "We use the *Pillow* library to add text in our image.\n",
    "\n",
    "Note: If you are on a windows machine it is possible that you do not have access to the font file \"DejaVuSerif.tff\". If you get an error on line `font = ImageFont.truetype('DejaVuSerif.ttf', 50)` then we recommend that you download the files from https://www.fontsquirrel.com/fonts/dejavu-serif, place the \"DejaVuSerif.tff\" file in the same folder as this notebook and change the line to be `font = ImageFont.truetype('./DejaVuSerif.ttf', 50)`."
   ]
  },
  {
   "cell_type": "code",
   "execution_count": 10,
   "id": "19",
   "metadata": {},
   "outputs": [],
   "source": [
    "# Import libraries\n",
    "import numpy as np\n",
    "from PIL import Image, ImageFont, ImageDraw"
   ]
  },
  {
   "cell_type": "code",
   "execution_count": null,
   "id": "20",
   "metadata": {},
   "outputs": [],
   "source": [
    "# Numpy array\n",
    "img_np = data.array\n",
    "\n",
    "# Add text to the image\n",
    "img_pil = Image.fromarray(np.uint8(img_np*255)).convert('RGB')\n",
    "text = \"\\n    This is a double \\\n",
    "        \\n         rainbow \\n\"*3\n",
    "\n",
    "draw = ImageDraw.Draw(img_pil)\n",
    "font = ImageFont.truetype('DejaVuSerif.ttf', 50)\n",
    "draw.text((0, 0), text, (0, 0, 0), font=font)\n",
    "\n",
    "# Pillow image to numpy\n",
    "im1 = np.array(img_pil)\n",
    "\n",
    "# Rescale numpy array\n",
    "img_np_rescale = im1/im1.max()\n",
    "\n",
    "# Get image geometry\n",
    "ig = data.geometry\n",
    "\n",
    "# Create ImageData\n",
    "data_with_text = ig.allocate()\n",
    "data_with_text.fill(img_np_rescale)\n",
    "\n",
    "# Show rainbow with text\n",
    "plt.figure(figsize=(10,10))\n",
    "plt.imshow(data_with_text.array)\n",
    "plt.title(\"Rainbow with text\")\n",
    "plt.show()"
   ]
  },
  {
   "cell_type": "markdown",
   "id": "21",
   "metadata": {},
   "source": [
    "### Create the mask representing the $\\mathcal{D}$ region"
   ]
  },
  {
   "cell_type": "code",
   "execution_count": null,
   "id": "22",
   "metadata": {},
   "outputs": [],
   "source": [
    "# Mask that contains only text information\n",
    "mask_boolean = (data_with_text-data).abs().as_array()==0\n",
    "\n",
    "# Show rainbow with text\n",
    "plt.figure(figsize=(10,10))\n",
    "plt.imshow(mask_boolean[:,:,0])\n",
    "plt.title(\"Mask: (Yellow=True, Blue=False)\")\n",
    "plt.show()"
   ]
  },
  {
   "cell_type": "markdown",
   "id": "23",
   "metadata": {},
   "source": [
    "### Apply the mask for the RGB channels\n",
    "\n",
    "Our mask plays the role of the characteristic function defined [above](#Imaging-Model). Here, we use the `MaskOperator` that applies a mask to our image for all the red, green and blue channels using the `ChannelwiseOperator`."
   ]
  },
  {
   "cell_type": "code",
   "execution_count": 13,
   "id": "24",
   "metadata": {},
   "outputs": [],
   "source": [
    "from cil.optimisation.operators import MaskOperator, ChannelwiseOperator"
   ]
  },
  {
   "cell_type": "code",
   "execution_count": 14,
   "id": "25",
   "metadata": {},
   "outputs": [],
   "source": [
    "mask = ig.get_slice(channel=0).allocate()\n",
    "mask.fill(mask_boolean[:,:,0])\n",
    "MO = ChannelwiseOperator(MaskOperator(mask), 3, dimension='append')"
   ]
  },
  {
   "cell_type": "markdown",
   "id": "26",
   "metadata": {},
   "source": [
    "### Add salt and pepper noise"
   ]
  },
  {
   "cell_type": "code",
   "execution_count": null,
   "id": "27",
   "metadata": {},
   "outputs": [],
   "source": [
    "noisy_data = noise.saltnpepper(data_with_text, amount=0.01, seed=10)\n",
    "noisy_data = MO.direct(noisy_data)\n",
    "\n",
    "# noisy_data = MO.direct(data)\n",
    "\n",
    "plt.figure(figsize=(10, 10))\n",
    "plt.imshow(noisy_data.as_array())\n",
    "plt.title(\"Corrupted image: Missing information + Salt and pepper noise\")\n",
    "plt.show()"
   ]
  },
  {
   "cell_type": "markdown",
   "id": "28",
   "metadata": {},
   "source": [
    "## Inpainting with Total Variation vs Total Generalised Variation \n",
    "\n",
    "We will use two different regularisation in order to restore the above corrupted image. We start with the TV regularisation described above and its generalisation, namely the Total Generalised Variation (TGV) introduced in [Bredies et al](https://epubs.siam.org/doi/abs/10.1137/090769521?mobileUi=0). \n",
    "\n",
    "### Total Generalised Variation \n",
    "\n",
    "TGV is a higher-order regulariser, that is able to obtain piecewise smooth solutions and restore staircasing artifacts that TV promotes. We let $\\alpha, \\beta>0$ be two regularisation parameters and define\n",
    "\n",
    "$$\n",
    "\\mathrm{TGV}_{\\alpha, \\beta}(u) = \\min_{w} \\alpha \\|D u - w \\|_{2,1} + \\beta\\|\\mathcal{E}w\\|_{2,1},\n",
    "$$\n",
    "\n",
    "where $\\mathcal{E}$ denotes the **Symmetrised Gradient** operator defined as \n",
    "\n",
    "$$\n",
    "\\mathcal{E}w = \\frac{1}{2}(D w + D w^{T}).\n",
    "$$\n",
    "\n",
    "#### Total Generalised Variation with the L1 norm\n",
    "The minimisation problems, using the $L^{1}$ norm as a data fidelity term which is suitable for salt & pepper noise, are:\n",
    "\n",
    "$$\n",
    "u^{*} =\\underset{u}{\\operatorname{argmin}} \\|\\mathcal{M}u-b\\|_{1} + \\alpha\\mathrm{VTV}(u) \n",
    "$$\n",
    "\n",
    "and \n",
    "\n",
    "$$\n",
    "\\begin{aligned}\n",
    "u^{*} =\\underset{u}{\\operatorname{argmin}} & \\|\\mathcal{M}u-b\\|_{1} + \\mathrm{TGV}_{\\alpha, \\beta}(u) \\Leftrightarrow \\\\\n",
    "(u^{*},w^{*}) =\\underset{u, w}{\\operatorname{argmin}} &  \\|\\mathcal{M}u -b\\|_{1} + \\alpha \\|D u - w \\|_{2,1} + \\beta\\|\\mathcal{E}w\\|_{2,1},\n",
    "\\end{aligned}\n",
    "$$\n",
    "\n",
    "where the $\\mathcal{M}$ is a diagonal operator with 1 in the diagonal elements corresponding to pixels in $\\Omega\\setminus\\mathcal{D}$ and 0 in $\\mathcal{D}$.\n",
    "\n",
    "We solve the above problems using the **PDHG** algorithm described in previous notebooks."
   ]
  },
  {
   "cell_type": "code",
   "execution_count": 16,
   "id": "29",
   "metadata": {},
   "outputs": [],
   "source": [
    "# Import libraries\n",
    "from cil.optimisation.operators import BlockOperator, SymmetrisedGradientOperator, GradientOperator, ZeroOperator, IdentityOperator\n",
    "from cil.optimisation.functions import ZeroFunction, L1Norm, MixedL21Norm, BlockFunction\n",
    "from cil.optimisation.algorithms import PDHG"
   ]
  },
  {
   "cell_type": "markdown",
   "id": "30",
   "metadata": {},
   "source": [
    "### Setup and run the PDHG algorithm for $\\mathrm{TV}-L^{1}$"
   ]
  },
  {
   "cell_type": "code",
   "execution_count": null,
   "id": "31",
   "metadata": {},
   "outputs": [],
   "source": [
    "Grad = GradientOperator(ig, backend='numpy')\n",
    "K = BlockOperator(Grad, MO)\n",
    "\n",
    "alpha_tv = 0.5\n",
    "f1 = alpha_tv * MixedL21Norm()\n",
    "f2 = L1Norm(b=noisy_data)\n",
    "F = BlockFunction(f1, f2)\n",
    "\n",
    "G = ZeroFunction()\n",
    "\n",
    "pdhg_tv = PDHG(f=F, g=G, operator=K, update_objective_interval=1000, initial=noisy_data)\n",
    "pdhg_tv.run(500, verbose=1)"
   ]
  },
  {
   "cell_type": "markdown",
   "id": "32",
   "metadata": {},
   "source": [
    "### Setup and run the PDHG algorithm for $\\mathrm{TGV}-L^1$ \n",
    "\n",
    "Recall, that we need to define the triplet ($K$,  $\\mathcal{F}$, $\\mathcal{G}$) and write the above problem into the following form:\n",
    "\n",
    "$$\n",
    "u^{*} =\\underset{u}{\\operatorname{argmin}} \\mathcal{F}(Ku) + \\mathcal{G}(u).\n",
    "$$\n",
    "\n",
    "Let $\\textbf{u} = (u, w)\\in \\mathbb{X}$ and define an operator $K:\\mathbb{X}\\rightarrow\\mathbb{Y}$ as\n",
    "\n",
    "$$\n",
    "K = \n",
    "\\begin{bmatrix}\n",
    "\\mathcal{M} & \\mathcal{O}\\\\\n",
    "D & -\\mathcal{I}\\\\\n",
    "\\mathcal{O} & \\mathcal{E}\n",
    "\\end{bmatrix} \\quad\\Rightarrow\\quad\n",
    "K\\textbf{u} = \n",
    "K \\begin{bmatrix}\n",
    "u\\\\\n",
    "w\n",
    "\\end{bmatrix}=\n",
    "\\begin{bmatrix}\n",
    "\\mathcal{M}u\\\\\n",
    "Du - w\\\\\n",
    "\\mathcal{E}w\n",
    "\\end{bmatrix} = \n",
    "\\begin{bmatrix}\n",
    "y_{1}\\\\\n",
    "y_{2}\\\\\n",
    "y_{3}\n",
    "\\end{bmatrix} = \\textbf{y}\\in \\mathbb{Y},\n",
    "$$\n",
    "\n",
    "where $\\mathcal{O}$, $\\mathcal{I}$ denote the zero and identity operators respectively.\n",
    "\n",
    "For the function $\\mathcal{F}$, we have that\n",
    "\n",
    "$$\n",
    "\n",
    "\\begin{aligned}\n",
    "& \\mathcal{F}(\\textbf{y})  := \\mathcal{F}(y_{1}, y_{2}, y_{3}) = f_{1}(y_{1}) +  f_{2}(y_{2})  +  f_{3}(y_{3}), \\text{ where},\\\\\n",
    "& f_{1}(y_{1}) :=  \\| y_{1} - b\\|_1,\\, f_{2}(y_{2}) :=  \\alpha \\|y_{2}\\|_{2,1},\\, f_{3}(y_{3}) := \\beta\\|y_{3}\\|_{2,1},\n",
    "\\end{aligned}\n",
    "$$\n",
    "\n",
    "and for the function $\\mathcal{G}$, $\\mathcal{G}(\\textbf{u}) = \\mathcal{G}(u,w) = O(u)\\equiv 0 $ is the zero function. \n",
    "\n",
    "We conclude that\n",
    "\n",
    "$$\n",
    "\\begin{aligned}\n",
    "f(K\\textbf{u}) + g(\\textbf{u}) & = f\\bigg(\\begin{bmatrix}\n",
    "\\mathcal{M}u\\\\\n",
    "Du - w\\\\\n",
    "\\mathcal{E}w\n",
    "\\end{bmatrix}\\bigg)  = f_{1}(\\mathcal{M}u) + f_{2}(Du-w) + f_{3}(\\mathcal{E}w) \\\\\n",
    "& = \\|\\mathcal{M}u -b\\|_{1} + \\alpha \\|D u - w \\|_{2,1} + \\beta\\|\\mathcal{E}w\\|_{2,1},\n",
    "\\end{aligned}\n",
    "$$\n",
    "\n",
    "which is exactly the objective function as we had in [Total Generalised Variation with the $L^{1}$ norm](#Total-Generalised-Variation-with-the-L1-norm).\n",
    "\n",
    "Note that running the next cell can take about 8mins. "
   ]
  },
  {
   "cell_type": "code",
   "execution_count": null,
   "id": "33",
   "metadata": {},
   "outputs": [],
   "source": [
    "# Regularisation parameters\n",
    "alpha_tgv = 0.4\n",
    "beta_tgv = 0.2\n",
    "\n",
    "# Define BlockOperator K\n",
    "K11 = MO\n",
    "K21 = Grad\n",
    "K32 = SymmetrisedGradientOperator(K21.range)\n",
    "K12 = ZeroOperator(K32.domain, ig)\n",
    "K22 = IdentityOperator(K21.range)\n",
    "K31 = ZeroOperator(ig, K32.range)\n",
    "K = BlockOperator(K11, K12, K21, -K22, K31, K32, shape=(3, 2))\n",
    "\n",
    "# Define BlockFunction f\n",
    "f2 = alpha_tgv * MixedL21Norm()\n",
    "f3 = beta_tgv * MixedL21Norm()\n",
    "f1 = L1Norm(b=noisy_data)\n",
    "\n",
    "F = BlockFunction(f1, f2, f3)\n",
    "\n",
    "# Setup and run the PDHG algorithm\n",
    "pdhg_tgv = PDHG(f=F, g=G, operator=K, update_objective_interval=10, initial=BlockDataContainer(noisy_data, Grad.direct(noisy_data), shape=(2,1)), sigma=1.4/K.norm(), tau=1.4/K.norm(), check_convergence=False)\n",
    "pdhg_tgv.run(1000, verbose=1)"
   ]
  },
  {
   "cell_type": "code",
   "execution_count": null,
   "id": "34",
   "metadata": {},
   "outputs": [],
   "source": [
    "images = [data, pdhg_tv.solution, (pdhg_tv.solution-data).abs()*3,\n",
    "          noisy_data, pdhg_tgv.solution[0], (pdhg_tgv.solution[0]-data).abs()*3]\n",
    "\n",
    "labels_x = [\"Ground Truth\", \"TV inpainting/denoising\", \"|Ground Truth - TV|\",\n",
    "            \"Corrupted Image\", \"TGV inpainting/denoising\", \"|Ground Truth - TGV|\"]\n",
    "\n",
    "# set fontsize xticks/yticks\n",
    "plt.rcParams['xtick.labelsize'] = 15\n",
    "plt.rcParams['ytick.labelsize'] = 15\n",
    "\n",
    "fig = plt.figure(figsize=(20, 20))\n",
    "\n",
    "grid = AxesGrid(fig, 111,\n",
    "                nrows_ncols=(2, 3),\n",
    "                axes_pad=0.8,\n",
    "                cbar_mode='single',\n",
    "                cbar_location='bottom',\n",
    "                cbar_size=0.5,\n",
    "                cbar_pad=0.3)\n",
    "\n",
    "for ax, im, lab in zip(grid, images, labels_x):\n",
    "    img = ax.imshow(im.as_array().clip(0, 1))\n",
    "    ax.set_title(lab, fontsize=25)\n",
    "\n",
    "cbar = ax.cax.colorbar(img)\n",
    "plt.show()"
   ]
  },
  {
   "attachments": {},
   "cell_type": "markdown",
   "id": "35",
   "metadata": {},
   "source": [
    "<h1><center>Conclusions</center></h1>\n",
    "\n",
    "In this notebook, we presented how to reconstruct multichannel data with 3 channels, using two different regularisers and data fitting terms. The following notebooks will demonstrate how to reconstruct multichannel data for CT applications:\n",
    "\n",
    "* **Dynamic CT**: Channels contain temporal information from the acquisition data.\n",
    "* **Hyperspectral CT**: Channels contain spectral energy information acquired from an energy-sensitive X-ray detector.\n"
   ]
  }
 ],
 "metadata": {
  "kernelspec": {
   "display_name": "cil_24_2_0",
   "language": "python",
   "name": "python3"
  },
  "language_info": {
   "codemirror_mode": {
    "name": "ipython",
    "version": 3
   },
   "file_extension": ".py",
   "mimetype": "text/x-python",
   "name": "python",
   "nbconvert_exporter": "python",
   "pygments_lexer": "ipython3",
   "version": "3.12.7"
  }
 },
 "nbformat": 4,
 "nbformat_minor": 5
}
