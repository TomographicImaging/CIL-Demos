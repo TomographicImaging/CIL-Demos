{
 "cells": [
  {
   "cell_type": "code",
   "execution_count": null,
   "id": "0",
   "metadata": {},
   "outputs": [],
   "source": [
    "# -*- coding: utf-8 -*-\n",
    "#  Copyright 2021 - 2022 United Kingdom Research and Innovation\n",
    "#  Copyright 2021 - 2022 The University of Manchester\n",
    "#  Copyright 2021 - 2022 Technical University of Denmark \n",
    "#\n",
    "#  Licensed under the Apache License, Version 2.0 (the \"License\");\n",
    "#  you may not use this file except in compliance with the License.\n",
    "#  You may obtain a copy of the License at\n",
    "#\n",
    "#      http://www.apache.org/licenses/LICENSE-2.0\n",
    "#\n",
    "#  Unless required by applicable law or agreed to in writing, software\n",
    "#  distributed under the License is distributed on an \"AS IS\" BASIS,\n",
    "#  WITHOUT WARRANTIES OR CONDITIONS OF ANY KIND, either express or implied.\n",
    "#  See the License for the specific language governing permissions and\n",
    "#  limitations under the License.\n",
    "#\n",
    "#   Authored by:    Jakob S. Jørgensen (DTU)\n",
    "#                   Edoardo Pasca (UKRI-STFC)\n",
    "#                   Laura Murgatroyd (UKRI-STFC)\n",
    "#                   Gemma Fardell (UKRI-STFC)\n",
    "#                   Hannah Robarts (UKRI-STFC)"
   ]
  },
  {
   "cell_type": "markdown",
   "id": "1",
   "metadata": {},
   "source": [
    "# Key points demonstrated in this notebook:\n",
    "\n",
    "\n",
    "\n",
    "- ### Use CIL data readers to read in data \n",
    "\n",
    "- ### Use CIL Processors to manipulate, reduce and preprocess projection data\n",
    "\n",
    "- ### Use CIL Plugins for `ASTRA` or `TIGRE` toolbox for forward and back-projection\n",
    "\n",
    "- ### Use FDK for filtered back-projection reconstruction\n",
    "\n",
    "- ### Use CIL display tools `show2D` and `islicer` to visualise data and reconstructions\n",
    "\n",
    "- ### Use iterative algorithms such as `SIRT` as an alternative for bad data\n",
    "\n",
    "- ### Modify image geometry to reduce reconstruction volume to save memory and time\n",
    "\n",
    "# Data-set used in this notebook:\n",
    "\n",
    "  ### If you are running the notebook locally, install the data (`usb.zip`) from: https://zenodo.org/record/4822516#.YvJW5vfTXu0"
   ]
  },
  {
   "cell_type": "markdown",
   "id": "2",
   "metadata": {},
   "source": [
    "First import all modules we will need:"
   ]
  },
  {
   "cell_type": "code",
   "execution_count": null,
   "id": "3",
   "metadata": {},
   "outputs": [],
   "source": [
    "import numpy as np\n",
    "import os\n",
    "import matplotlib.pyplot as plt\n",
    "\n",
    "from cil.io import ZEISSDataReader, TIFFWriter\n",
    "from cil.processors import TransmissionAbsorptionConverter, CentreOfRotationCorrector, Slicer\n",
    "from cil.framework import AcquisitionData\n",
    "from cil.recon import FDK\n",
    "from cil.utilities.display import show2D, show1D, show_geometry\n",
    "from cil.utilities.jupyter import islicer, link_islicer"
   ]
  },
  {
   "cell_type": "markdown",
   "id": "4",
   "metadata": {},
   "source": [
    "Load the 3D cone-beam projection data of the USB:"
   ]
  },
  {
   "cell_type": "code",
   "execution_count": null,
   "id": "5",
   "metadata": {},
   "outputs": [],
   "source": [
    "# Please set the filename yourself, if you are running the notebook locally:\n",
    "filename = \"/mnt/materials/SIRF/Fully3D/CIL/Usb/gruppe 4_2014-03-20_1404_12/tomo-A/gruppe 4_tomo-A.txrm\"\n",
    "\n",
    "data = ZEISSDataReader(file_name=filename).read()"
   ]
  },
  {
   "cell_type": "markdown",
   "id": "6",
   "metadata": {},
   "source": [
    "The data is loaded in as a CIL `AcquisitionData` object:"
   ]
  },
  {
   "cell_type": "code",
   "execution_count": null,
   "id": "7",
   "metadata": {},
   "outputs": [],
   "source": [
    "type(data)"
   ]
  },
  {
   "cell_type": "markdown",
   "id": "8",
   "metadata": {},
   "source": [
    "We can call `print` for the data to get some basic information:"
   ]
  },
  {
   "cell_type": "code",
   "execution_count": null,
   "id": "9",
   "metadata": {},
   "outputs": [],
   "source": [
    "print(data)"
   ]
  },
  {
   "cell_type": "markdown",
   "id": "10",
   "metadata": {},
   "source": [
    "Note how labels refer to the different dimensions. We infer that this data set contains 801 projections each size 1024x1024 pixels."
   ]
  },
  {
   "cell_type": "markdown",
   "id": "11",
   "metadata": {},
   "source": [
    "In addition to the data itself, `AcquisitionData` contains geometric metadata in an `AcquisitionGeometry` object in the `geometry` field, which can be printed for more detailed information:"
   ]
  },
  {
   "cell_type": "code",
   "execution_count": null,
   "id": "12",
   "metadata": {},
   "outputs": [],
   "source": [
    "print(data.geometry)"
   ]
  },
  {
   "cell_type": "markdown",
   "id": "13",
   "metadata": {},
   "source": [
    "CIL can illustrate the scan setup visually from the AcquisitionData geometry:"
   ]
  },
  {
   "cell_type": "code",
   "execution_count": null,
   "id": "14",
   "metadata": {},
   "outputs": [],
   "source": [
    "show_geometry(data.geometry)"
   ]
  },
  {
   "cell_type": "markdown",
   "id": "15",
   "metadata": {},
   "source": [
    "We can use the dimension labels to extract and display 2D slices of data, such as a single projection:"
   ]
  },
  {
   "cell_type": "code",
   "execution_count": null,
   "id": "16",
   "metadata": {},
   "outputs": [],
   "source": [
    "show2D(data, slice_list=('angle',220))"
   ]
  },
  {
   "cell_type": "markdown",
   "id": "17",
   "metadata": {},
   "source": [
    "From the background value of 1.0 we infer that the data is transmission data (it is known to be already centered and flat field corrected) so we just need to convert to absorption/apply the negative logarithm, which can be done using a CIL processor, which will handle small/large outliers:"
   ]
  },
  {
   "cell_type": "code",
   "execution_count": null,
   "id": "18",
   "metadata": {},
   "outputs": [],
   "source": [
    "data = TransmissionAbsorptionConverter()(data)"
   ]
  },
  {
   "cell_type": "markdown",
   "id": "19",
   "metadata": {},
   "source": [
    "We again take a look at a slice of the data, now a vertical one to see the central slice sinogram after negative logarithm:"
   ]
  },
  {
   "cell_type": "code",
   "execution_count": null,
   "id": "20",
   "metadata": {},
   "outputs": [],
   "source": [
    "show2D(data, slice_list=('vertical',512))"
   ]
  },
  {
   "cell_type": "markdown",
   "id": "21",
   "metadata": {},
   "source": [
    "## Crop data by 200 pixels on both sides to save memory and computation time"
   ]
  },
  {
   "cell_type": "code",
   "execution_count": null,
   "id": "22",
   "metadata": {},
   "outputs": [],
   "source": [
    "data = Slicer(roi={'horizontal':(200,-200)})(data)\n",
    "show2D(data, slice_list=('vertical',512))"
   ]
  },
  {
   "cell_type": "markdown",
   "id": "23",
   "metadata": {},
   "source": [
    "CIL supports different back-ends for which data order conventions may differ. Here we use the FDK algorithm from the TIGRE Toolbox, which requires us to permute the data array into the right order:"
   ]
  },
  {
   "cell_type": "code",
   "execution_count": null,
   "id": "24",
   "metadata": {},
   "outputs": [],
   "source": [
    "data.dimension_labels"
   ]
  },
  {
   "cell_type": "code",
   "execution_count": null,
   "id": "25",
   "metadata": {},
   "outputs": [],
   "source": [
    "data.reorder(order='tigre')\n",
    "data.dimension_labels"
   ]
  },
  {
   "cell_type": "markdown",
   "id": "26",
   "metadata": {},
   "source": [
    "The data is now ready for reconstruction. When setting up the FDK algorithm we can specify the size/geometry of the reconstruction volume. Here we use the default one:"
   ]
  },
  {
   "cell_type": "code",
   "execution_count": null,
   "id": "27",
   "metadata": {},
   "outputs": [],
   "source": [
    "ig = data.geometry.get_ImageGeometry()"
   ]
  },
  {
   "cell_type": "markdown",
   "id": "28",
   "metadata": {},
   "source": [
    "We can then create the FDK algorithm (the equivalent of FBP for cone-beam) from TIGRE running on the GPU and reconstruct the data:"
   ]
  },
  {
   "cell_type": "code",
   "execution_count": null,
   "id": "29",
   "metadata": {},
   "outputs": [],
   "source": [
    "recon = FDK(data, ig).run()"
   ]
  },
  {
   "cell_type": "code",
   "execution_count": null,
   "id": "30",
   "metadata": {},
   "outputs": [],
   "source": [
    "show2D(recon, slice_list=[('vertical',512), ('horizontal_x', 325)], fix_range=(-0.1,1))"
   ]
  },
  {
   "cell_type": "markdown",
   "id": "31",
   "metadata": {},
   "source": [
    "## Offset initial angle to align reconstruction"
   ]
  },
  {
   "cell_type": "code",
   "execution_count": null,
   "id": "32",
   "metadata": {},
   "outputs": [],
   "source": [
    "# Note: The ZEISSDataReader reads the angles as radians, so we need to set the angle unit here:\n",
    "data.geometry.set_angles(data.geometry.angles, initial_angle=-11.5*np.pi/180, angle_unit='radian')\n"
   ]
  },
  {
   "cell_type": "code",
   "execution_count": null,
   "id": "33",
   "metadata": {},
   "outputs": [],
   "source": [
    "recon = FDK(data).run()"
   ]
  },
  {
   "cell_type": "code",
   "execution_count": null,
   "id": "34",
   "metadata": {},
   "outputs": [],
   "source": [
    "show2D(recon, slice_list=[('vertical',512), ('horizontal_x', 325)], fix_range=(-0.1,1))"
   ]
  },
  {
   "cell_type": "markdown",
   "id": "35",
   "metadata": {},
   "source": [
    "## Use interactive islicer to flick through slices"
   ]
  },
  {
   "cell_type": "code",
   "execution_count": null,
   "id": "36",
   "metadata": {},
   "outputs": [],
   "source": [
    "islicer(recon,direction='vertical',size=10, minmax=(0.1,1))"
   ]
  },
  {
   "cell_type": "code",
   "execution_count": null,
   "id": "37",
   "metadata": {},
   "outputs": [],
   "source": [
    "islicer(recon,direction='horizontal_x',size=10, minmax=(0.1,1))"
   ]
  },
  {
   "cell_type": "markdown",
   "id": "38",
   "metadata": {},
   "source": [
    "## Extract and reconstruct only central 2D slice"
   ]
  },
  {
   "cell_type": "code",
   "execution_count": null,
   "id": "39",
   "metadata": {},
   "outputs": [],
   "source": [
    "data2d = data.get_slice(vertical='centre')"
   ]
  },
  {
   "cell_type": "code",
   "execution_count": null,
   "id": "40",
   "metadata": {},
   "outputs": [],
   "source": [
    "data2d.dimension_labels"
   ]
  },
  {
   "cell_type": "code",
   "execution_count": null,
   "id": "41",
   "metadata": {},
   "outputs": [],
   "source": [
    "show2D(data2d)"
   ]
  },
  {
   "cell_type": "code",
   "execution_count": null,
   "id": "42",
   "metadata": {},
   "outputs": [],
   "source": [
    "ig2d = data2d.geometry.get_ImageGeometry()"
   ]
  },
  {
   "cell_type": "code",
   "execution_count": null,
   "id": "43",
   "metadata": {},
   "outputs": [],
   "source": [
    "recon2d = FDK(data2d, ig2d).run()"
   ]
  },
  {
   "cell_type": "code",
   "execution_count": null,
   "id": "44",
   "metadata": {},
   "outputs": [],
   "source": [
    "show2D(recon2d,fix_range=(0,1))"
   ]
  },
  {
   "cell_type": "markdown",
   "id": "45",
   "metadata": {},
   "source": [
    "## Simulate limited angle scenario with few projections"
   ]
  },
  {
   "cell_type": "code",
   "execution_count": null,
   "id": "46",
   "metadata": {},
   "outputs": [],
   "source": [
    "idx = [*range(50,400,10)] +  [*range(450,800,10)] \n",
    "\n",
    "# A number of other projection index ranges tried\n",
    "# idx = [*range(50,350,10)] + [*range(450,750,10)] #+ [*range(400,500)] + [*range(600,700)]\n",
    "# idx = [*range(50,150,10)] +  [*range(200,350,10)] + [*range(450,550,10)] + [*range(600,750,10)]\n",
    "# idx = [*range(25,375,10)] +  [*range(425,775,10)]\n",
    "# idx = [*range(0,125,10)] +  [*range(275,525,10)] + [*range(675,800,10)]\n",
    "# idx = [*range(50,200,5)] + [*range(300,450,10)] + [*range(550,800,20)]\n",
    "# idx = [*range(100,350,10)] +  [*range(500,750,10)]\n",
    "# idx = [*range(0,100,20)] + [*range(350,500,20)] +  [*range(750,800,20)]"
   ]
  },
  {
   "cell_type": "code",
   "execution_count": null,
   "id": "47",
   "metadata": {},
   "outputs": [],
   "source": [
    "plt.figure(figsize=(20,10)).set_facecolor('xkcd:white')\n",
    "\n",
    "plt.subplot(1,2,1)\n",
    "plt.plot(np.cos(data2d.geometry.angles), np.sin(data2d.geometry.angles),'.')\n",
    "plt.axis('equal')\n",
    "plt.title('All angles',fontsize=20)\n",
    "\n",
    "plt.subplot(1,2,2)\n",
    "plt.plot(np.cos(data2d.geometry.angles[idx]+(90-11.5)*np.pi/180), np.sin(data2d.geometry.angles[idx]+(90-11.5)*np.pi/180),'.')\n",
    "plt.axis('equal')\n",
    "plt.title('Limited and few angles',fontsize=20)"
   ]
  },
  {
   "cell_type": "markdown",
   "id": "48",
   "metadata": {},
   "source": [
    "## Manually extract numpy array with selected projections only"
   ]
  },
  {
   "cell_type": "code",
   "execution_count": null,
   "id": "49",
   "metadata": {},
   "outputs": [],
   "source": [
    "data_array = data2d.as_array()[idx,:]"
   ]
  },
  {
   "cell_type": "code",
   "execution_count": null,
   "id": "50",
   "metadata": {},
   "outputs": [],
   "source": [
    "data_array.shape"
   ]
  },
  {
   "cell_type": "code",
   "execution_count": null,
   "id": "51",
   "metadata": {},
   "outputs": [],
   "source": [
    "data2d.as_array().shape"
   ]
  },
  {
   "cell_type": "markdown",
   "id": "52",
   "metadata": {},
   "source": [
    "## Create updated geometry with selected angles only"
   ]
  },
  {
   "cell_type": "code",
   "execution_count": null,
   "id": "53",
   "metadata": {},
   "outputs": [],
   "source": [
    "ag_reduced = data2d.geometry.copy()"
   ]
  },
  {
   "cell_type": "code",
   "execution_count": null,
   "id": "54",
   "metadata": {},
   "outputs": [],
   "source": [
    "ag_reduced.set_angles(ag_reduced.angles[idx], initial_angle=-11.5*np.pi/180, angle_unit='radian')"
   ]
  },
  {
   "cell_type": "markdown",
   "id": "55",
   "metadata": {},
   "source": [
    "## Combine to new `AcquisitionData` with selected data only"
   ]
  },
  {
   "cell_type": "code",
   "execution_count": null,
   "id": "56",
   "metadata": {},
   "outputs": [],
   "source": [
    "data2d_reduced = AcquisitionData(data_array, geometry=ag_reduced)"
   ]
  },
  {
   "cell_type": "markdown",
   "id": "57",
   "metadata": {},
   "source": [
    "## Reconstruct by FDK"
   ]
  },
  {
   "cell_type": "code",
   "execution_count": null,
   "id": "58",
   "metadata": {},
   "outputs": [],
   "source": [
    "recon2d_reduced = FDK(data2d_reduced, ig2d).run()"
   ]
  },
  {
   "cell_type": "code",
   "execution_count": null,
   "id": "59",
   "metadata": {},
   "outputs": [],
   "source": [
    "show2D(recon2d_reduced, fix_range=(-0.1,1))"
   ]
  },
  {
   "cell_type": "markdown",
   "id": "60",
   "metadata": {},
   "source": [
    "## Try iterative SIRT reconstruction"
   ]
  },
  {
   "cell_type": "markdown",
   "id": "61",
   "metadata": {},
   "source": [
    "Now set up the discrete linear inverse problem `Ax = b` and solve weighted least-squares problem using the SIRT algorithm:"
   ]
  },
  {
   "cell_type": "code",
   "execution_count": null,
   "id": "62",
   "metadata": {},
   "outputs": [],
   "source": [
    "from cil.plugins.astra.operators import ProjectionOperator\n",
    "from cil.optimisation.algorithms import SIRT"
   ]
  },
  {
   "cell_type": "code",
   "execution_count": null,
   "id": "63",
   "metadata": {},
   "outputs": [],
   "source": [
    "A = ProjectionOperator(ig2d, ag_reduced, device=\"gpu\")"
   ]
  },
  {
   "cell_type": "markdown",
   "id": "64",
   "metadata": {},
   "source": [
    "## Specify initial guess and initialise algorithm"
   ]
  },
  {
   "cell_type": "code",
   "execution_count": null,
   "id": "65",
   "metadata": {},
   "outputs": [],
   "source": [
    "x0 = ig2d.allocate(0.0)"
   ]
  },
  {
   "cell_type": "code",
   "execution_count": null,
   "id": "66",
   "metadata": {},
   "outputs": [],
   "source": [
    "mysirt = SIRT(initial=x0, operator=A, data=data2d_reduced)"
   ]
  },
  {
   "cell_type": "markdown",
   "id": "67",
   "metadata": {},
   "source": [
    "## Run a low number of iterations and inspect intermediate result"
   ]
  },
  {
   "cell_type": "code",
   "execution_count": null,
   "id": "68",
   "metadata": {},
   "outputs": [],
   "source": [
    "mysirt.run(10, verbose=1)"
   ]
  },
  {
   "cell_type": "code",
   "execution_count": null,
   "id": "69",
   "metadata": {},
   "outputs": [],
   "source": [
    "show2D(mysirt.solution, fix_range=(-0.1, 1))"
   ]
  },
  {
   "cell_type": "markdown",
   "id": "70",
   "metadata": {},
   "source": [
    "## Run more iterations and inspect"
   ]
  },
  {
   "cell_type": "code",
   "execution_count": null,
   "id": "71",
   "metadata": {},
   "outputs": [],
   "source": [
    "mysirt.run(90, verbose=1)"
   ]
  },
  {
   "cell_type": "code",
   "execution_count": null,
   "id": "72",
   "metadata": {},
   "outputs": [],
   "source": [
    "show2D(mysirt.solution, fix_range=(-0.1, 1))"
   ]
  },
  {
   "cell_type": "markdown",
   "id": "73",
   "metadata": {},
   "source": [
    "## Run even more iterations for final SIRT reconstruction"
   ]
  },
  {
   "cell_type": "code",
   "execution_count": null,
   "id": "74",
   "metadata": {},
   "outputs": [],
   "source": [
    "mysirt.run(900, verbose=1)"
   ]
  },
  {
   "cell_type": "code",
   "execution_count": null,
   "id": "75",
   "metadata": {},
   "outputs": [],
   "source": [
    "show2D(mysirt.solution, fix_range=(-0.1, 1))"
   ]
  },
  {
   "cell_type": "markdown",
   "id": "76",
   "metadata": {},
   "source": [
    "## Add non-negativity constraint using input `lower=0.0`"
   ]
  },
  {
   "cell_type": "code",
   "execution_count": null,
   "id": "77",
   "metadata": {},
   "outputs": [],
   "source": [
    "mysirt_lower0 = SIRT(initial=x0, operator=A, data=data2d_reduced, lower=0.0, update_objective_interval=50)"
   ]
  },
  {
   "cell_type": "code",
   "execution_count": null,
   "id": "78",
   "metadata": {},
   "outputs": [],
   "source": [
    "mysirt_lower0.run(1000, verbose=1)"
   ]
  },
  {
   "cell_type": "code",
   "execution_count": null,
   "id": "79",
   "metadata": {},
   "outputs": [],
   "source": [
    "show2D(mysirt_lower0.solution, fix_range=(-0.1, 1))"
   ]
  },
  {
   "cell_type": "markdown",
   "id": "80",
   "metadata": {},
   "source": [
    "## Compare all reduced data reconstructions in tighter colour range"
   ]
  },
  {
   "cell_type": "code",
   "execution_count": null,
   "id": "81",
   "metadata": {},
   "outputs": [],
   "source": [
    "show2D([recon2d_reduced, mysirt.solution, mysirt_lower0.solution], title=[\"FDK\",\"SIRT\",\"SIRT nonneg\"], num_cols=3, fix_range=(-0.3,0.5))"
   ]
  },
  {
   "cell_type": "markdown",
   "id": "82",
   "metadata": {},
   "source": [
    "## Compare horizontal line profiles "
   ]
  },
  {
   "cell_type": "code",
   "execution_count": null,
   "id": "83",
   "metadata": {
    "tags": []
   },
   "outputs": [],
   "source": [
    "linenumy = 258\n",
    "\n",
    "show1D([recon2d_reduced,mysirt.solution,mysirt_lower0.solution],\n",
    "       slice_list=[('horizontal_y',linenumy)],\n",
    "       dataset_labels=['fbp','unconstrained','constrained'],\n",
    "      line_colours=['black','blue','orange'],\n",
    "      line_styles=['dotted','dashed','solid'],\n",
    "      size=(12,8))"
   ]
  },
  {
   "cell_type": "markdown",
   "id": "84",
   "metadata": {},
   "source": [
    "## Go back to full data FDK reconstruction, adjust reconstruction geometry to save time and memory"
   ]
  },
  {
   "cell_type": "code",
   "execution_count": null,
   "id": "85",
   "metadata": {},
   "outputs": [],
   "source": [
    "show2D(recon2d,fix_range=(-0.1,1))"
   ]
  },
  {
   "cell_type": "code",
   "execution_count": null,
   "id": "86",
   "metadata": {},
   "outputs": [],
   "source": [
    "print(ig2d)"
   ]
  },
  {
   "cell_type": "markdown",
   "id": "87",
   "metadata": {},
   "source": [
    "## Reduce the number of voxels"
   ]
  },
  {
   "cell_type": "code",
   "execution_count": null,
   "id": "88",
   "metadata": {},
   "outputs": [],
   "source": [
    "ig2d.voxel_num_x = 200\n",
    "ig2d.voxel_num_y = 500"
   ]
  },
  {
   "cell_type": "code",
   "execution_count": null,
   "id": "89",
   "metadata": {},
   "outputs": [],
   "source": [
    "print(ig2d)"
   ]
  },
  {
   "cell_type": "code",
   "execution_count": null,
   "id": "90",
   "metadata": {},
   "outputs": [],
   "source": [
    "recon2d = FDK(data2d, ig2d).run()\n",
    "show2D(recon2d,fix_range=(0,1))"
   ]
  },
  {
   "cell_type": "markdown",
   "id": "91",
   "metadata": {},
   "source": [
    "## Centre the reconstruction volume around the sample:"
   ]
  },
  {
   "cell_type": "code",
   "execution_count": null,
   "id": "92",
   "metadata": {},
   "outputs": [],
   "source": [
    "ig2d.center_x = 30*ig2d.voxel_size_x\n",
    "ig2d.center_y = -40*ig2d.voxel_size_y"
   ]
  },
  {
   "cell_type": "code",
   "execution_count": null,
   "id": "93",
   "metadata": {},
   "outputs": [],
   "source": [
    "print(ig2d)"
   ]
  },
  {
   "cell_type": "code",
   "execution_count": null,
   "id": "94",
   "metadata": {},
   "outputs": [],
   "source": [
    "recon2d = FDK(data2d, ig2d).run()\n",
    "show2D(recon2d,fix_range=(0,1))"
   ]
  },
  {
   "cell_type": "markdown",
   "id": "95",
   "metadata": {},
   "source": [
    "## Further reduce the reconstruction volume"
   ]
  },
  {
   "cell_type": "code",
   "execution_count": null,
   "id": "96",
   "metadata": {},
   "outputs": [],
   "source": [
    "ig2d.voxel_num_x = 100\n",
    "ig2d.voxel_num_y = 400"
   ]
  },
  {
   "cell_type": "code",
   "execution_count": null,
   "id": "97",
   "metadata": {},
   "outputs": [],
   "source": [
    "print(ig2d)"
   ]
  },
  {
   "cell_type": "code",
   "execution_count": null,
   "id": "98",
   "metadata": {},
   "outputs": [],
   "source": [
    "recon2d = FDK(data2d, ig2d).run()\n",
    "show2D(recon2d,fix_range=(0,1))"
   ]
  },
  {
   "cell_type": "code",
   "execution_count": null,
   "id": "99",
   "metadata": {},
   "outputs": [],
   "source": [
    "print(ig2d)"
   ]
  },
  {
   "cell_type": "markdown",
   "id": "100",
   "metadata": {},
   "source": [
    "## Increase voxel size by a factor"
   ]
  },
  {
   "cell_type": "code",
   "execution_count": null,
   "id": "101",
   "metadata": {},
   "outputs": [],
   "source": [
    "ig2d.voxel_size_x = 4*ig2d.voxel_size_x\n",
    "ig2d.voxel_size_y = 4*ig2d.voxel_size_y\n",
    "print(ig2d)"
   ]
  },
  {
   "cell_type": "code",
   "execution_count": null,
   "id": "102",
   "metadata": {},
   "outputs": [],
   "source": [
    "recon2d = FDK(data2d, ig2d).run()\n",
    "show2D(recon2d,fix_range=(0,1))"
   ]
  },
  {
   "cell_type": "markdown",
   "id": "103",
   "metadata": {},
   "source": [
    "## Reduce number of voxels by same factor"
   ]
  },
  {
   "cell_type": "code",
   "execution_count": null,
   "id": "104",
   "metadata": {},
   "outputs": [],
   "source": [
    "ig2d.voxel_num_x = 25\n",
    "ig2d.voxel_num_y = 100"
   ]
  },
  {
   "cell_type": "code",
   "execution_count": null,
   "id": "105",
   "metadata": {},
   "outputs": [],
   "source": [
    "recon2d = FDK(data2d, ig2d).run()\n",
    "show2D(recon2d,fix_range=(0,1))"
   ]
  }
 ],
 "metadata": {
  "kernelspec": {
   "display_name": "cil_24.3",
   "language": "python",
   "name": "python3"
  },
  "language_info": {
   "codemirror_mode": {
    "name": "ipython",
    "version": 3
   },
   "file_extension": ".py",
   "mimetype": "text/x-python",
   "name": "python",
   "nbconvert_exporter": "python",
   "pygments_lexer": "ipython3",
   "version": "3.12.8"
  }
 },
 "nbformat": 4,
 "nbformat_minor": 5
}
