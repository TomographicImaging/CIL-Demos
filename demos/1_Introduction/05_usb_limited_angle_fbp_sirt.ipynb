{
 "cells": [
  {
   "cell_type": "code",
   "execution_count": null,
   "id": "9f16e03d",
   "metadata": {},
   "outputs": [],
   "source": [
    "# -*- coding: utf-8 -*-\n",
    "#  Copyright 2021 - 2022 United Kingdom Research and Innovation\n",
    "#  Copyright 2021 - 2022 The University of Manchester\n",
    "#  Copyright 2021 - 2022 Technical University of Denmark \n",
    "#\n",
    "#  Licensed under the Apache License, Version 2.0 (the \"License\");\n",
    "#  you may not use this file except in compliance with the License.\n",
    "#  You may obtain a copy of the License at\n",
    "#\n",
    "#      http://www.apache.org/licenses/LICENSE-2.0\n",
    "#\n",
    "#  Unless required by applicable law or agreed to in writing, software\n",
    "#  distributed under the License is distributed on an \"AS IS\" BASIS,\n",
    "#  WITHOUT WARRANTIES OR CONDITIONS OF ANY KIND, either express or implied.\n",
    "#  See the License for the specific language governing permissions and\n",
    "#  limitations under the License.\n",
    "#\n",
    "#   Authored by:    Jakob S. Jørgensen (DTU)\n",
    "#                   Edoardo Pasca (UKRI-STFC)\n",
    "#                   Laura Murgatroyd (UKRI-STFC)\n",
    "#                   Gemma Fardell (UKRI-STFC)"
   ]
  },
  {
   "cell_type": "markdown",
   "id": "694dafc7",
   "metadata": {},
   "source": [
    "# Key points demonstrated in this notebook:\n",
    "\n",
    "\n",
    "\n",
    "- ### Use CIL data readers to read in data \n",
    "\n",
    "- ### Use CIL Processors to manipulate, reduce and preprocess projection data\n",
    "\n",
    "- ### Use CIL Plugins for `ASTRA` or `TIGRE` toolbox for forward and back-projection\n",
    "\n",
    "- ### Use FBP for filtered back-projection reconstruction\n",
    "\n",
    "- ### Use CIL display tools `show2D` and `islicer` to visualise data and reconstructions\n",
    "\n",
    "- ### Use iterative algorithms such as `SIRT` as alternative if bad data\n",
    "\n",
    "- ### Modify image geometry to reduce reconstruction volume to save memory and time\n",
    "\n",
    "# Data-set used in this notebook:\n",
    "\n",
    "  ### If you are running the notebook locally, install the data (`usb.zip`) from: https://zenodo.org/record/4822516#.YvJW5vfTXu0"
   ]
  },
  {
   "cell_type": "markdown",
   "id": "53bb7665",
   "metadata": {},
   "source": [
    "First import all modules we will need:"
   ]
  },
  {
   "cell_type": "code",
   "execution_count": null,
   "id": "d48350f1",
   "metadata": {},
   "outputs": [],
   "source": [
    "import numpy as np\n",
    "import os\n",
    "import matplotlib.pyplot as plt\n",
    "\n",
    "from cil.io import ZEISSDataReader, TIFFWriter\n",
    "from cil.processors import TransmissionAbsorptionConverter, CentreOfRotationCorrector, Slicer\n",
    "from cil.framework import AcquisitionData\n",
    "from cil.plugins.astra import FBP\n",
    "from cil.utilities.display import show2D, show_geometry\n",
    "from cil.utilities.jupyter import islicer, link_islicer"
   ]
  },
  {
   "cell_type": "markdown",
   "id": "8bac0c33",
   "metadata": {},
   "source": [
    "Load the 3D cone-beam projection data of the USB:"
   ]
  },
  {
   "cell_type": "code",
   "execution_count": null,
   "id": "b30864da",
   "metadata": {},
   "outputs": [],
   "source": [
    "# Please set the filename yourself, if you are running the notebook locally:\n",
    "filename = \"/mnt/materials/SIRF/Fully3D/CIL/Usb/gruppe 4_2014-03-20_1404_12/tomo-A/gruppe 4_tomo-A.txrm\"\n",
    "\n",
    "data = ZEISSDataReader(file_name=filename).read()"
   ]
  },
  {
   "cell_type": "markdown",
   "id": "6bce18d2",
   "metadata": {},
   "source": [
    "The data is loaded in as a CIL `AcquisitionData` object:"
   ]
  },
  {
   "cell_type": "code",
   "execution_count": null,
   "id": "44e35f82",
   "metadata": {},
   "outputs": [],
   "source": [
    "type(data)"
   ]
  },
  {
   "cell_type": "markdown",
   "id": "ccfb3788",
   "metadata": {},
   "source": [
    "We can call `print` for the data to get some basic information:"
   ]
  },
  {
   "cell_type": "code",
   "execution_count": null,
   "id": "1f2d6ac1",
   "metadata": {},
   "outputs": [],
   "source": [
    "print(data)"
   ]
  },
  {
   "cell_type": "markdown",
   "id": "167757f7",
   "metadata": {},
   "source": [
    "Note how labels refer to the different dimensions. We infer that this data set contains 801 projections each size 1024x1024 pixels."
   ]
  },
  {
   "cell_type": "markdown",
   "id": "a8ab7f23",
   "metadata": {},
   "source": [
    "In addition to the data itself, `AcquisitionData` contains geometric metadata in an `AcquisitionGeometry` object in the `geometry` field, which can be printed for more detailed information:"
   ]
  },
  {
   "cell_type": "code",
   "execution_count": null,
   "id": "36b08776",
   "metadata": {},
   "outputs": [],
   "source": [
    "print(data.geometry)"
   ]
  },
  {
   "cell_type": "markdown",
   "id": "a440046b",
   "metadata": {},
   "source": [
    "CIL can illustrate the scan setup visually from the AcquisitionData geometry:"
   ]
  },
  {
   "cell_type": "code",
   "execution_count": null,
   "id": "156a1649",
   "metadata": {},
   "outputs": [],
   "source": [
    "show_geometry(data.geometry)"
   ]
  },
  {
   "cell_type": "markdown",
   "id": "bf546b1b",
   "metadata": {},
   "source": [
    "We can use the dimension labels to extract and display 2D slices of data, such as a single projection:"
   ]
  },
  {
   "cell_type": "code",
   "execution_count": null,
   "id": "acf157f5",
   "metadata": {},
   "outputs": [],
   "source": [
    "show2D(data, slice_list=('angle',220))"
   ]
  },
  {
   "cell_type": "markdown",
   "id": "4880c37b",
   "metadata": {},
   "source": [
    "From the background value of 1.0 we infer that the data is transmission data (it is known to be already centered and flat field corrected) so we just need to convert to absorption/apply the negative logarithm, which can be done using a CIL processor, which will handle small/large outliers:"
   ]
  },
  {
   "cell_type": "code",
   "execution_count": null,
   "id": "ad8f9f5a",
   "metadata": {},
   "outputs": [],
   "source": [
    "data = TransmissionAbsorptionConverter()(data)"
   ]
  },
  {
   "cell_type": "markdown",
   "id": "f70801bc",
   "metadata": {},
   "source": [
    "We again take a look at a slice of the data, now a vertical one to see the central slice sinogram after negative logarithm:"
   ]
  },
  {
   "cell_type": "code",
   "execution_count": null,
   "id": "79d3752e",
   "metadata": {},
   "outputs": [],
   "source": [
    "show2D(data, slice_list=('vertical',512))"
   ]
  },
  {
   "cell_type": "markdown",
   "id": "59d08ff8",
   "metadata": {},
   "source": [
    "## Crop data by 200 pixels on both sides to save memory and computation time"
   ]
  },
  {
   "cell_type": "code",
   "execution_count": null,
   "id": "f2f63940",
   "metadata": {},
   "outputs": [],
   "source": [
    "data = Slicer(roi={'horizontal':(200,-200)})(data)\n",
    "show2D(data, slice_list=('vertical',512))"
   ]
  },
  {
   "cell_type": "markdown",
   "id": "4899ed4d",
   "metadata": {},
   "source": [
    "CIL supports different back-ends for which data order conventions may differ. Here we use the FBP algorithm from the ASTRA Toolbox, which requires us to permute the data array into the right order:"
   ]
  },
  {
   "cell_type": "code",
   "execution_count": null,
   "id": "2e637a4c-010a-4338-816a-4b870944493b",
   "metadata": {},
   "outputs": [],
   "source": [
    "data.dimension_labels"
   ]
  },
  {
   "cell_type": "code",
   "execution_count": null,
   "id": "cd260350-99e5-4728-9ec0-70cece315223",
   "metadata": {},
   "outputs": [],
   "source": [
    "data.reorder(order='astra')\n",
    "data.dimension_labels"
   ]
  },
  {
   "cell_type": "markdown",
   "id": "a1e0e6f5",
   "metadata": {},
   "source": [
    "The data is now ready for reconstruction. To set up the FBP algorithm we must specify the size/geometry of the reconstruction volume. Here we use the default one:"
   ]
  },
  {
   "cell_type": "code",
   "execution_count": null,
   "id": "d0ae0659",
   "metadata": {},
   "outputs": [],
   "source": [
    "ig = data.geometry.get_ImageGeometry()"
   ]
  },
  {
   "cell_type": "markdown",
   "id": "5a1a719c",
   "metadata": {},
   "source": [
    "We can then create the FBP algorithm (really FDK since 3D cone-beam) from ASTRA running on the GPU and reconstruct the data:"
   ]
  },
  {
   "cell_type": "code",
   "execution_count": null,
   "id": "549bddde",
   "metadata": {},
   "outputs": [],
   "source": [
    "fbp =  FBP(ig, data.geometry)\n",
    "recon = fbp(data)"
   ]
  },
  {
   "cell_type": "code",
   "execution_count": null,
   "id": "1da1fe3e",
   "metadata": {},
   "outputs": [],
   "source": [
    "show2D(recon, slice_list=[('vertical',512), ('horizontal_x', 325)], fix_range=(-0.1,1))"
   ]
  },
  {
   "cell_type": "markdown",
   "id": "56e9b660",
   "metadata": {},
   "source": [
    "## Offset initial angle to align reconstruction"
   ]
  },
  {
   "cell_type": "code",
   "execution_count": null,
   "id": "79914c47",
   "metadata": {},
   "outputs": [],
   "source": [
    "# Note: The ZEISSDataReader reads the angles as radians, so we need to set the angle unit here:\n",
    "data.geometry.set_angles(data.geometry.angles, initial_angle=-11.5*np.pi/180, angle_unit='radian')\n"
   ]
  },
  {
   "cell_type": "code",
   "execution_count": null,
   "id": "6ace8b77",
   "metadata": {},
   "outputs": [],
   "source": [
    "fbp =  FBP(ig, data.geometry)\n",
    "recon = fbp(data)"
   ]
  },
  {
   "cell_type": "code",
   "execution_count": null,
   "id": "074ea508",
   "metadata": {},
   "outputs": [],
   "source": [
    "show2D(recon, slice_list=[('vertical',512), ('horizontal_x', 325)], fix_range=(-0.1,1))"
   ]
  },
  {
   "cell_type": "markdown",
   "id": "665e19c1",
   "metadata": {},
   "source": [
    "## Use interactive islicer to flick through slices"
   ]
  },
  {
   "cell_type": "code",
   "execution_count": null,
   "id": "d241dfde",
   "metadata": {},
   "outputs": [],
   "source": [
    "islicer(recon,direction='vertical',size=10, minmax=(0.1,1))"
   ]
  },
  {
   "cell_type": "code",
   "execution_count": null,
   "id": "74407396",
   "metadata": {},
   "outputs": [],
   "source": [
    "islicer(recon,direction='horizontal_x',size=10, minmax=(0.1,1))"
   ]
  },
  {
   "cell_type": "markdown",
   "id": "cb2c5f37",
   "metadata": {},
   "source": [
    "## Extract and reconstruct only central 2D slice"
   ]
  },
  {
   "cell_type": "code",
   "execution_count": null,
   "id": "ef8476a4",
   "metadata": {},
   "outputs": [],
   "source": [
    "data2d = data.get_slice(vertical='centre')"
   ]
  },
  {
   "cell_type": "code",
   "execution_count": null,
   "id": "19721473",
   "metadata": {},
   "outputs": [],
   "source": [
    "data2d.dimension_labels"
   ]
  },
  {
   "cell_type": "code",
   "execution_count": null,
   "id": "feaf4bf5",
   "metadata": {},
   "outputs": [],
   "source": [
    "show2D(data2d)"
   ]
  },
  {
   "cell_type": "code",
   "execution_count": null,
   "id": "a5182822",
   "metadata": {},
   "outputs": [],
   "source": [
    "ig2d = data2d.geometry.get_ImageGeometry()"
   ]
  },
  {
   "cell_type": "code",
   "execution_count": null,
   "id": "4371ffb0",
   "metadata": {},
   "outputs": [],
   "source": [
    "recon2d = FBP(ig2d,data2d.geometry)(data2d)"
   ]
  },
  {
   "cell_type": "code",
   "execution_count": null,
   "id": "d3571292",
   "metadata": {},
   "outputs": [],
   "source": [
    "show2D(recon2d,fix_range=(0,1))"
   ]
  },
  {
   "cell_type": "markdown",
   "id": "0518544f",
   "metadata": {},
   "source": [
    "## Simulate limited angle scenario with few projections"
   ]
  },
  {
   "cell_type": "code",
   "execution_count": null,
   "id": "12240505",
   "metadata": {},
   "outputs": [],
   "source": [
    "idx = [*range(50,400,10)] +  [*range(450,800,10)] \n",
    "\n",
    "# A number of other projection index ranges tried\n",
    "# idx = [*range(50,350,10)] + [*range(450,750,10)] #+ [*range(400,500)] + [*range(600,700)]\n",
    "# idx = [*range(50,150,10)] +  [*range(200,350,10)] + [*range(450,550,10)] + [*range(600,750,10)]\n",
    "# idx = [*range(25,375,10)] +  [*range(425,775,10)]\n",
    "# idx = [*range(0,125,10)] +  [*range(275,525,10)] + [*range(675,800,10)]\n",
    "# idx = [*range(50,200,5)] + [*range(300,450,10)] + [*range(550,800,20)]\n",
    "# idx = [*range(100,350,10)] +  [*range(500,750,10)]\n",
    "# idx = [*range(0,100,20)] + [*range(350,500,20)] +  [*range(750,800,20)]"
   ]
  },
  {
   "cell_type": "code",
   "execution_count": null,
   "id": "0e693e1c",
   "metadata": {},
   "outputs": [],
   "source": [
    "plt.figure(figsize=(20,10)).set_facecolor('xkcd:white')\n",
    "\n",
    "plt.subplot(1,2,1)\n",
    "plt.plot(np.cos(data2d.geometry.angles), np.sin(data2d.geometry.angles),'.')\n",
    "plt.axis('equal')\n",
    "plt.title('All angles',fontsize=20)\n",
    "\n",
    "plt.subplot(1,2,2)\n",
    "plt.plot(np.cos(data2d.geometry.angles[idx]+(90-11.5)*np.pi/180), np.sin(data2d.geometry.angles[idx]+(90-11.5)*np.pi/180),'.')\n",
    "plt.axis('equal')\n",
    "plt.title('Limited and few angles',fontsize=20)"
   ]
  },
  {
   "cell_type": "markdown",
   "id": "7b6d77cd",
   "metadata": {},
   "source": [
    "## Manually extract numpy array with selected projections only"
   ]
  },
  {
   "cell_type": "code",
   "execution_count": null,
   "id": "5d0170b3",
   "metadata": {},
   "outputs": [],
   "source": [
    "data_array = data2d.as_array()[idx,:]"
   ]
  },
  {
   "cell_type": "code",
   "execution_count": null,
   "id": "897b7fe7",
   "metadata": {},
   "outputs": [],
   "source": [
    "data_array.shape"
   ]
  },
  {
   "cell_type": "code",
   "execution_count": null,
   "id": "9ba3f832",
   "metadata": {},
   "outputs": [],
   "source": [
    "data2d.as_array().shape"
   ]
  },
  {
   "cell_type": "markdown",
   "id": "26d2fe65",
   "metadata": {},
   "source": [
    "## Create updated geometry with selected angles only"
   ]
  },
  {
   "cell_type": "code",
   "execution_count": null,
   "id": "48ee01c8",
   "metadata": {},
   "outputs": [],
   "source": [
    "ag_reduced = data2d.geometry.copy()"
   ]
  },
  {
   "cell_type": "code",
   "execution_count": null,
   "id": "75a2d69d",
   "metadata": {},
   "outputs": [],
   "source": [
    "ag_reduced.set_angles(ag_reduced.angles[idx], initial_angle=-11.5*np.pi/180, angle_unit='radian')"
   ]
  },
  {
   "cell_type": "markdown",
   "id": "703ba289",
   "metadata": {},
   "source": [
    "## Combine to new `AcquisitionData` with selected data only"
   ]
  },
  {
   "cell_type": "code",
   "execution_count": null,
   "id": "1e0943d0",
   "metadata": {},
   "outputs": [],
   "source": [
    "data2d_reduced = AcquisitionData(data_array, geometry=ag_reduced)"
   ]
  },
  {
   "cell_type": "markdown",
   "id": "7846d194",
   "metadata": {},
   "source": [
    "## Reconstruct by FBP"
   ]
  },
  {
   "cell_type": "code",
   "execution_count": null,
   "id": "74fd245d",
   "metadata": {},
   "outputs": [],
   "source": [
    "recon2d_reduced = FBP(ig2d,ag_reduced)(data2d_reduced)"
   ]
  },
  {
   "cell_type": "code",
   "execution_count": null,
   "id": "7ee07fa1",
   "metadata": {},
   "outputs": [],
   "source": [
    "show2D(recon2d_reduced, fix_range=(-0.1,1))"
   ]
  },
  {
   "cell_type": "markdown",
   "id": "6f9bb03f",
   "metadata": {},
   "source": [
    "## Try iterative SIRT reconstruction"
   ]
  },
  {
   "cell_type": "markdown",
   "id": "4b904627",
   "metadata": {},
   "source": [
    "Now set up the discrete linear inverse problem `Ax = b` and solve weighted least-squares problem using the SIRT algorithm:"
   ]
  },
  {
   "cell_type": "code",
   "execution_count": null,
   "id": "4dcfab85",
   "metadata": {},
   "outputs": [],
   "source": [
    "from cil.plugins.astra.operators import ProjectionOperator\n",
    "from cil.optimisation.algorithms import SIRT"
   ]
  },
  {
   "cell_type": "code",
   "execution_count": null,
   "id": "06eadbc6",
   "metadata": {},
   "outputs": [],
   "source": [
    "A = ProjectionOperator(ig2d, ag_reduced, device=\"gpu\")"
   ]
  },
  {
   "cell_type": "markdown",
   "id": "f7b5790c",
   "metadata": {},
   "source": [
    "## Specify initial guess and initialise algorithm"
   ]
  },
  {
   "cell_type": "code",
   "execution_count": null,
   "id": "2ed73aba",
   "metadata": {},
   "outputs": [],
   "source": [
    "x0 = ig2d.allocate(0.0)"
   ]
  },
  {
   "cell_type": "code",
   "execution_count": null,
   "id": "3894390e",
   "metadata": {},
   "outputs": [],
   "source": [
    "mysirt = SIRT(initial=x0, operator=A, data=data2d_reduced, max_iteration=1000)"
   ]
  },
  {
   "cell_type": "markdown",
   "id": "c1892964",
   "metadata": {},
   "source": [
    "## Run a low number of iterations and inspect intermediate result"
   ]
  },
  {
   "cell_type": "code",
   "execution_count": null,
   "id": "3669df02",
   "metadata": {},
   "outputs": [],
   "source": [
    "mysirt.run(10, verbose=1)"
   ]
  },
  {
   "cell_type": "code",
   "execution_count": null,
   "id": "3ebc22fa",
   "metadata": {},
   "outputs": [],
   "source": [
    "show2D(mysirt.solution, fix_range=(-0.1, 1))"
   ]
  },
  {
   "cell_type": "markdown",
   "id": "97719f2f",
   "metadata": {},
   "source": [
    "## Run more iterations and inspect"
   ]
  },
  {
   "cell_type": "code",
   "execution_count": null,
   "id": "b4a9aab0",
   "metadata": {},
   "outputs": [],
   "source": [
    "mysirt.run(90, verbose=1)"
   ]
  },
  {
   "cell_type": "code",
   "execution_count": null,
   "id": "52c6b4d2",
   "metadata": {},
   "outputs": [],
   "source": [
    "show2D(mysirt.solution, fix_range=(-0.1, 1))"
   ]
  },
  {
   "cell_type": "markdown",
   "id": "3fd105a3",
   "metadata": {},
   "source": [
    "## Run even more iterations for final SIRT reconstruction"
   ]
  },
  {
   "cell_type": "code",
   "execution_count": null,
   "id": "fe94e2b9",
   "metadata": {},
   "outputs": [],
   "source": [
    "mysirt.run(900, verbose=1)"
   ]
  },
  {
   "cell_type": "code",
   "execution_count": null,
   "id": "244b6099",
   "metadata": {},
   "outputs": [],
   "source": [
    "show2D(mysirt.solution, fix_range=(-0.1, 1))"
   ]
  },
  {
   "cell_type": "markdown",
   "id": "41dde11c",
   "metadata": {},
   "source": [
    "## Add non-negativity constraint using input `lower=0.0`"
   ]
  },
  {
   "cell_type": "code",
   "execution_count": null,
   "id": "7c7db6dc",
   "metadata": {},
   "outputs": [],
   "source": [
    "mysirt_lower0 = SIRT(initial=x0, operator=A, data=data2d_reduced, max_iteration=1000, lower=0.0, update_objective_interval=50)"
   ]
  },
  {
   "cell_type": "code",
   "execution_count": null,
   "id": "f9987a5f",
   "metadata": {},
   "outputs": [],
   "source": [
    "mysirt_lower0.run(1000, verbose=1)"
   ]
  },
  {
   "cell_type": "code",
   "execution_count": null,
   "id": "5ccad235",
   "metadata": {},
   "outputs": [],
   "source": [
    "show2D(mysirt_lower0.solution, fix_range=(-0.1, 1))"
   ]
  },
  {
   "cell_type": "markdown",
   "id": "94590475",
   "metadata": {},
   "source": [
    "## Compare all reduced data reconstructions in tighter colour range"
   ]
  },
  {
   "cell_type": "code",
   "execution_count": null,
   "id": "ebfd3a5b",
   "metadata": {},
   "outputs": [],
   "source": [
    "show2D([recon2d_reduced, mysirt.solution, mysirt_lower0.solution], title=[\"FBP\",\"SIRT\",\"SIRT nonneg\"], num_cols=3, fix_range=(-0.3,0.5))"
   ]
  },
  {
   "cell_type": "markdown",
   "id": "43c38bb5",
   "metadata": {},
   "source": [
    "## Compare horizontal line profiles "
   ]
  },
  {
   "cell_type": "code",
   "execution_count": null,
   "id": "75493346",
   "metadata": {},
   "outputs": [],
   "source": [
    "linenumy = 258\n",
    "\n",
    "plt.figure(figsize=(20,10)).set_facecolor('xkcd:white')\n",
    "plt.plot(recon2d_reduced.get_slice(horizontal_y=linenumy).as_array(),':k',label=\"fbp\")\n",
    "plt.plot(mysirt.solution.get_slice(horizontal_y=linenumy).as_array(),label=\"unconstrained\")\n",
    "plt.plot(mysirt_lower0.solution.get_slice(horizontal_y=linenumy).as_array(), label=\"constrained\")\n",
    "plt.legend(fontsize=20)"
   ]
  },
  {
   "cell_type": "markdown",
   "id": "e6b3c494",
   "metadata": {},
   "source": [
    "## Go back to full data FBP reconstruction, adjust reconstruction geometry to save time and memory"
   ]
  },
  {
   "cell_type": "code",
   "execution_count": null,
   "id": "1bd5aa38",
   "metadata": {},
   "outputs": [],
   "source": [
    "show2D(recon2d,fix_range=(-0.1,1))"
   ]
  },
  {
   "cell_type": "code",
   "execution_count": null,
   "id": "59be8b7c",
   "metadata": {},
   "outputs": [],
   "source": [
    "print(ig2d)"
   ]
  },
  {
   "cell_type": "markdown",
   "id": "da7b20a3",
   "metadata": {},
   "source": [
    "## Reduce the number of voxels"
   ]
  },
  {
   "cell_type": "code",
   "execution_count": null,
   "id": "d2478967",
   "metadata": {},
   "outputs": [],
   "source": [
    "ig2d.voxel_num_x = 200\n",
    "ig2d.voxel_num_y = 500"
   ]
  },
  {
   "cell_type": "code",
   "execution_count": null,
   "id": "e6005d88",
   "metadata": {},
   "outputs": [],
   "source": [
    "print(ig2d)"
   ]
  },
  {
   "cell_type": "code",
   "execution_count": null,
   "id": "1e722777",
   "metadata": {},
   "outputs": [],
   "source": [
    "recon2d = FBP(ig2d, data2d.geometry)(data2d)\n",
    "show2D(recon2d,fix_range=(0,1))"
   ]
  },
  {
   "cell_type": "markdown",
   "id": "ce3fae8a",
   "metadata": {},
   "source": [
    "## Centre the reconstruction volume around the sample:"
   ]
  },
  {
   "cell_type": "code",
   "execution_count": null,
   "id": "25cf4223",
   "metadata": {},
   "outputs": [],
   "source": [
    "ig2d.center_x = 30*ig2d.voxel_size_x\n",
    "ig2d.center_y = -40*ig2d.voxel_size_y"
   ]
  },
  {
   "cell_type": "code",
   "execution_count": null,
   "id": "55c20523",
   "metadata": {},
   "outputs": [],
   "source": [
    "print(ig2d)"
   ]
  },
  {
   "cell_type": "code",
   "execution_count": null,
   "id": "09008aaa",
   "metadata": {},
   "outputs": [],
   "source": [
    "recon2d = FBP(ig2d,data2d.geometry)(data2d)\n",
    "show2D(recon2d,fix_range=(0,1))"
   ]
  },
  {
   "cell_type": "markdown",
   "id": "3729ff81",
   "metadata": {},
   "source": [
    "## Further reduce the reconstruction volume"
   ]
  },
  {
   "cell_type": "code",
   "execution_count": null,
   "id": "f6aa2864",
   "metadata": {},
   "outputs": [],
   "source": [
    "ig2d.voxel_num_x = 100\n",
    "ig2d.voxel_num_y = 400"
   ]
  },
  {
   "cell_type": "code",
   "execution_count": null,
   "id": "6fbbaec3",
   "metadata": {},
   "outputs": [],
   "source": [
    "print(ig2d)"
   ]
  },
  {
   "cell_type": "code",
   "execution_count": null,
   "id": "17d36cc9",
   "metadata": {},
   "outputs": [],
   "source": [
    "recon2d = FBP(ig2d,data2d.geometry)(data2d)\n",
    "show2D(recon2d,fix_range=(0,1))"
   ]
  },
  {
   "cell_type": "code",
   "execution_count": null,
   "id": "29f376a1",
   "metadata": {},
   "outputs": [],
   "source": [
    "print(ig2d)"
   ]
  },
  {
   "cell_type": "markdown",
   "id": "fdc3349f",
   "metadata": {},
   "source": [
    "## Increase voxel size by a factor"
   ]
  },
  {
   "cell_type": "code",
   "execution_count": null,
   "id": "5846fd3e",
   "metadata": {},
   "outputs": [],
   "source": [
    "ig2d.voxel_size_x = 4*ig2d.voxel_size_x\n",
    "ig2d.voxel_size_y = 4*ig2d.voxel_size_y\n",
    "print(ig2d)"
   ]
  },
  {
   "cell_type": "code",
   "execution_count": null,
   "id": "26056ed0",
   "metadata": {},
   "outputs": [],
   "source": [
    "recon2d = FBP(ig2d,data2d.geometry)(data2d)\n",
    "show2D(recon2d,fix_range=(0,1))"
   ]
  },
  {
   "cell_type": "markdown",
   "id": "a42505a4",
   "metadata": {},
   "source": [
    "## Reduce number of voxels by same factor"
   ]
  },
  {
   "cell_type": "code",
   "execution_count": null,
   "id": "9fe77a32",
   "metadata": {},
   "outputs": [],
   "source": [
    "ig2d.voxel_num_x = 25\n",
    "ig2d.voxel_num_y = 100"
   ]
  },
  {
   "cell_type": "code",
   "execution_count": null,
   "id": "6609c1a9",
   "metadata": {},
   "outputs": [],
   "source": [
    "recon2d = FBP(ig2d,data2d.geometry)(data2d)\n",
    "show2D(recon2d,fix_range=(0,1))"
   ]
  },
  {
   "cell_type": "code",
   "execution_count": null,
   "id": "684f7324",
   "metadata": {},
   "outputs": [],
   "source": []
  }
 ],
 "metadata": {
  "kernelspec": {
   "display_name": "Python 3.8.11",
   "language": "python",
   "name": "python3"
  },
  "language_info": {
   "codemirror_mode": {
    "name": "ipython",
    "version": 3
   },
   "file_extension": ".py",
   "mimetype": "text/x-python",
   "name": "python",
   "nbconvert_exporter": "python",
   "pygments_lexer": "ipython3",
   "version": "3.8.11"
  },
  "vscode": {
   "interpreter": {
    "hash": "cf07678abc5cc77bc6e1a7d19b1e87ab0c29b83e7ee41c2bc72506d16d80ed44"
   }
  }
 },
 "nbformat": 4,
 "nbformat_minor": 5
}
