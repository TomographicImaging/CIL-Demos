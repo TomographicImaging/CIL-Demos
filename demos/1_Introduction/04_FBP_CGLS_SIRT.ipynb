{
 "cells": [
  {
   "cell_type": "code",
   "execution_count": 1,
   "metadata": {},
   "outputs": [],
   "source": [
    "# -*- coding: utf-8 -*-\n",
    "#  Copyright 2021 - 2022 United Kingdom Research and Innovation\n",
    "#  Copyright 2021 - 2022 The University of Manchester\n",
    "#  Copyright 2021 - 2022 The Karlsruhe Institute of Technology\n",
    "#  Copyright 2021 - 2022 Technical University of Denmark \n",
    "#\n",
    "#  Licensed under the Apache License, Version 2.0 (the \"License\");\n",
    "#  you may not use this file except in compliance with the License.\n",
    "#  You may obtain a copy of the License at\n",
    "#\n",
    "#      http://www.apache.org/licenses/LICENSE-2.0\n",
    "#\n",
    "#  Unless required by applicable law or agreed to in writing, software\n",
    "#  distributed under the License is distributed on an \"AS IS\" BASIS,\n",
    "#  WITHOUT WARRANTIES OR CONDITIONS OF ANY KIND, either express or implied.\n",
    "#  See the License for the specific language governing permissions and\n",
    "#  limitations under the License.\n",
    "#\n",
    "#   Authored by:    Evelina Ametova (KIT)\n",
    "#                   Jakob S. Jørgensen (DTU)\n",
    "#                   Gemma Fardell (UKRI-STFC)\n",
    "#                   Laura Murgatroyd (UKRI-STFC)\n",
    "#                   Edoardo Pasca (UKRI-STFC)\n",
    "#                   Hannah Robarts (UKRI-STFC)"
   ]
  },
  {
   "cell_type": "markdown",
   "metadata": {},
   "source": [
    "# Reconstruction intro\n",
    "## FBP, CGLS, SIRT\n",
    "\n",
    "**The goal** of this notebook is to get familiar with the CIL `Algorithm` and `Operator` classes through basic Conjugate Gradient Least Squares (CGLS) reconstruction and Simultaneous Image Reconstruction Technique (SIRT).\n",
    "\n",
    "**Learning objectives**\n",
    "\n",
    "In the end of this session, participants will be able to:\n",
    "- formulate CT reconstruction as an optimisation problem and solve it iteratively\n",
    "- introduce constraints in the optimisation problem\n",
    "- visualise final and intermediate reconstruction results"
   ]
  },
  {
   "cell_type": "code",
   "execution_count": 1,
   "metadata": {
    "tags": []
   },
   "outputs": [
    {
     "ename": "TypeError",
     "evalue": "",
     "output_type": "error",
     "traceback": [
      "\u001b[0;31m---------------------------------------------------------------------------\u001b[0m",
      "\u001b[0;31mTypeError\u001b[0m                                 Traceback (most recent call last)",
      "Cell \u001b[0;32mIn[1], line 5\u001b[0m\n\u001b[1;32m      2\u001b[0m \u001b[38;5;28;01mfrom\u001b[39;00m \u001b[38;5;21;01mcil\u001b[39;00m\u001b[38;5;21;01m.\u001b[39;00m\u001b[38;5;21;01mframework\u001b[39;00m \u001b[38;5;28;01mimport\u001b[39;00m ImageData, ImageGeometry\n\u001b[1;32m      3\u001b[0m \u001b[38;5;28;01mfrom\u001b[39;00m \u001b[38;5;21;01mcil\u001b[39;00m\u001b[38;5;21;01m.\u001b[39;00m\u001b[38;5;21;01mframework\u001b[39;00m \u001b[38;5;28;01mimport\u001b[39;00m AcquisitionGeometry, AcquisitionData\n\u001b[0;32m----> 5\u001b[0m \u001b[38;5;28;01mfrom\u001b[39;00m \u001b[38;5;21;01mcil\u001b[39;00m\u001b[38;5;21;01m.\u001b[39;00m\u001b[38;5;21;01mprocessors\u001b[39;00m \u001b[38;5;28;01mimport\u001b[39;00m Slicer, AbsorptionTransmissionConverter, TransmissionAbsorptionConverter\n\u001b[1;32m      7\u001b[0m \u001b[38;5;28;01mfrom\u001b[39;00m \u001b[38;5;21;01mcil\u001b[39;00m\u001b[38;5;21;01m.\u001b[39;00m\u001b[38;5;21;01moptimisation\u001b[39;00m\u001b[38;5;21;01m.\u001b[39;00m\u001b[38;5;21;01mfunctions\u001b[39;00m \u001b[38;5;28;01mimport\u001b[39;00m IndicatorBox\n\u001b[1;32m      8\u001b[0m \u001b[38;5;28;01mfrom\u001b[39;00m \u001b[38;5;21;01mcil\u001b[39;00m\u001b[38;5;21;01m.\u001b[39;00m\u001b[38;5;21;01moptimisation\u001b[39;00m\u001b[38;5;21;01m.\u001b[39;00m\u001b[38;5;21;01malgorithms\u001b[39;00m \u001b[38;5;28;01mimport\u001b[39;00m CGLS, SIRT\n",
      "File \u001b[0;32m~/miniconda3/envs/cil_tests/lib/python3.10/site-packages/cil/processors/__init__.py:27\u001b[0m\n\u001b[1;32m     25\u001b[0m \u001b[38;5;28;01mfrom\u001b[39;00m \u001b[38;5;21;01m.\u001b[39;00m\u001b[38;5;21;01mAbsorptionTransmissionConverter\u001b[39;00m \u001b[38;5;28;01mimport\u001b[39;00m AbsorptionTransmissionConverter\n\u001b[1;32m     26\u001b[0m \u001b[38;5;28;01mfrom\u001b[39;00m \u001b[38;5;21;01m.\u001b[39;00m\u001b[38;5;21;01mTransmissionAbsorptionConverter\u001b[39;00m \u001b[38;5;28;01mimport\u001b[39;00m TransmissionAbsorptionConverter\n\u001b[0;32m---> 27\u001b[0m \u001b[38;5;28;01mfrom\u001b[39;00m \u001b[38;5;21;01m.\u001b[39;00m\u001b[38;5;21;01mMasker\u001b[39;00m \u001b[38;5;28;01mimport\u001b[39;00m Masker\n\u001b[1;32m     28\u001b[0m \u001b[38;5;28;01mfrom\u001b[39;00m \u001b[38;5;21;01m.\u001b[39;00m\u001b[38;5;21;01mPadder\u001b[39;00m \u001b[38;5;28;01mimport\u001b[39;00m Padder\n\u001b[1;32m     29\u001b[0m \u001b[38;5;28;01mfrom\u001b[39;00m \u001b[38;5;21;01m.\u001b[39;00m\u001b[38;5;21;01mPaganinProcessor\u001b[39;00m \u001b[38;5;28;01mimport\u001b[39;00m PaganinProcessor\n",
      "File \u001b[0;32m~/miniconda3/envs/cil_tests/lib/python3.10/site-packages/cil/processors/Masker.py:21\u001b[0m\n\u001b[1;32m     19\u001b[0m \u001b[38;5;28;01mfrom\u001b[39;00m \u001b[38;5;21;01mcil\u001b[39;00m\u001b[38;5;21;01m.\u001b[39;00m\u001b[38;5;21;01mframework\u001b[39;00m \u001b[38;5;28;01mimport\u001b[39;00m DataProcessor, AcquisitionData, ImageData, ImageGeometry, DataContainer\n\u001b[1;32m     20\u001b[0m \u001b[38;5;28;01mimport\u001b[39;00m \u001b[38;5;21;01mnumpy\u001b[39;00m\n\u001b[0;32m---> 21\u001b[0m \u001b[38;5;28;01mfrom\u001b[39;00m \u001b[38;5;21;01mscipy\u001b[39;00m \u001b[38;5;28;01mimport\u001b[39;00m interpolate\n\u001b[1;32m     23\u001b[0m \u001b[38;5;28;01mclass\u001b[39;00m \u001b[38;5;21;01mMasker\u001b[39;00m(DataProcessor):\n\u001b[1;32m     24\u001b[0m \u001b[38;5;250m    \u001b[39m\u001b[38;5;124mr\u001b[39m\u001b[38;5;124;03m'''\u001b[39;00m\n\u001b[1;32m     25\u001b[0m \u001b[38;5;124;03m    Processor to fill missing values provided by mask.\u001b[39;00m\n\u001b[1;32m     26\u001b[0m \u001b[38;5;124;03m    Please use the desired method to configure a processor for your needs.\u001b[39;00m\n\u001b[0;32m   (...)\u001b[0m\n\u001b[1;32m     43\u001b[0m \n\u001b[1;32m     44\u001b[0m \u001b[38;5;124;03m    '''\u001b[39;00m\n",
      "File \u001b[0;32m<frozen importlib._bootstrap>:1075\u001b[0m, in \u001b[0;36m_handle_fromlist\u001b[0;34m(module, fromlist, import_, recursive)\u001b[0m\n",
      "File \u001b[0;32m~/miniconda3/envs/cil_tests/lib/python3.10/site-packages/scipy/__init__.py:134\u001b[0m, in \u001b[0;36m__getattr__\u001b[0;34m(name)\u001b[0m\n\u001b[1;32m    132\u001b[0m \u001b[38;5;28;01mdef\u001b[39;00m \u001b[38;5;21m__getattr__\u001b[39m(name):\n\u001b[1;32m    133\u001b[0m     \u001b[38;5;28;01mif\u001b[39;00m name \u001b[38;5;129;01min\u001b[39;00m submodules:\n\u001b[0;32m--> 134\u001b[0m         \u001b[38;5;28;01mreturn\u001b[39;00m \u001b[43m_importlib\u001b[49m\u001b[38;5;241;43m.\u001b[39;49m\u001b[43mimport_module\u001b[49m\u001b[43m(\u001b[49m\u001b[38;5;124;43mf\u001b[39;49m\u001b[38;5;124;43m'\u001b[39;49m\u001b[38;5;124;43mscipy.\u001b[39;49m\u001b[38;5;132;43;01m{\u001b[39;49;00m\u001b[43mname\u001b[49m\u001b[38;5;132;43;01m}\u001b[39;49;00m\u001b[38;5;124;43m'\u001b[39;49m\u001b[43m)\u001b[49m\n\u001b[1;32m    135\u001b[0m     \u001b[38;5;28;01melse\u001b[39;00m:\n\u001b[1;32m    136\u001b[0m         \u001b[38;5;28;01mtry\u001b[39;00m:\n",
      "File \u001b[0;32m~/miniconda3/envs/cil_tests/lib/python3.10/importlib/__init__.py:126\u001b[0m, in \u001b[0;36mimport_module\u001b[0;34m(name, package)\u001b[0m\n\u001b[1;32m    124\u001b[0m             \u001b[38;5;28;01mbreak\u001b[39;00m\n\u001b[1;32m    125\u001b[0m         level \u001b[38;5;241m+\u001b[39m\u001b[38;5;241m=\u001b[39m \u001b[38;5;241m1\u001b[39m\n\u001b[0;32m--> 126\u001b[0m \u001b[38;5;28;01mreturn\u001b[39;00m \u001b[43m_bootstrap\u001b[49m\u001b[38;5;241;43m.\u001b[39;49m\u001b[43m_gcd_import\u001b[49m\u001b[43m(\u001b[49m\u001b[43mname\u001b[49m\u001b[43m[\u001b[49m\u001b[43mlevel\u001b[49m\u001b[43m:\u001b[49m\u001b[43m]\u001b[49m\u001b[43m,\u001b[49m\u001b[43m \u001b[49m\u001b[43mpackage\u001b[49m\u001b[43m,\u001b[49m\u001b[43m \u001b[49m\u001b[43mlevel\u001b[49m\u001b[43m)\u001b[49m\n",
      "File \u001b[0;32m~/miniconda3/envs/cil_tests/lib/python3.10/site-packages/scipy/interpolate/__init__.py:167\u001b[0m\n\u001b[1;32m      1\u001b[0m \u001b[38;5;124;03m\"\"\"\u001b[39;00m\n\u001b[1;32m      2\u001b[0m \u001b[38;5;124;03m========================================\u001b[39;00m\n\u001b[1;32m      3\u001b[0m \u001b[38;5;124;03mInterpolation (:mod:`scipy.interpolate`)\u001b[39;00m\n\u001b[0;32m   (...)\u001b[0m\n\u001b[1;32m    165\u001b[0m \u001b[38;5;124;03m(should not be used in new code).\u001b[39;00m\n\u001b[1;32m    166\u001b[0m \u001b[38;5;124;03m\"\"\"\u001b[39;00m\n\u001b[0;32m--> 167\u001b[0m \u001b[38;5;28;01mfrom\u001b[39;00m \u001b[38;5;21;01m.\u001b[39;00m\u001b[38;5;21;01m_interpolate\u001b[39;00m \u001b[38;5;28;01mimport\u001b[39;00m \u001b[38;5;241m*\u001b[39m\n\u001b[1;32m    168\u001b[0m \u001b[38;5;28;01mfrom\u001b[39;00m \u001b[38;5;21;01m.\u001b[39;00m\u001b[38;5;21;01m_fitpack_py\u001b[39;00m \u001b[38;5;28;01mimport\u001b[39;00m \u001b[38;5;241m*\u001b[39m\n\u001b[1;32m    170\u001b[0m \u001b[38;5;66;03m# New interface to fitpack library:\u001b[39;00m\n",
      "File \u001b[0;32m~/miniconda3/envs/cil_tests/lib/python3.10/site-packages/scipy/interpolate/_interpolate.py:12\u001b[0m\n\u001b[1;32m      9\u001b[0m \u001b[38;5;28;01mfrom\u001b[39;00m \u001b[38;5;21;01mscipy\u001b[39;00m\u001b[38;5;21;01m.\u001b[39;00m\u001b[38;5;21;01m_lib\u001b[39;00m\u001b[38;5;21;01m.\u001b[39;00m\u001b[38;5;21;01m_util\u001b[39;00m \u001b[38;5;28;01mimport\u001b[39;00m copy_if_needed\n\u001b[1;32m     10\u001b[0m \u001b[38;5;28;01mfrom\u001b[39;00m \u001b[38;5;21;01mscipy\u001b[39;00m\u001b[38;5;21;01m.\u001b[39;00m\u001b[38;5;21;01mspecial\u001b[39;00m \u001b[38;5;28;01mimport\u001b[39;00m comb\n\u001b[0;32m---> 12\u001b[0m \u001b[38;5;28;01mfrom\u001b[39;00m \u001b[38;5;21;01m.\u001b[39;00m \u001b[38;5;28;01mimport\u001b[39;00m _fitpack_py\n\u001b[1;32m     13\u001b[0m \u001b[38;5;28;01mfrom\u001b[39;00m \u001b[38;5;21;01m.\u001b[39;00m\u001b[38;5;21;01m_polyint\u001b[39;00m \u001b[38;5;28;01mimport\u001b[39;00m _Interpolator1D\n\u001b[1;32m     14\u001b[0m \u001b[38;5;28;01mfrom\u001b[39;00m \u001b[38;5;21;01m.\u001b[39;00m \u001b[38;5;28;01mimport\u001b[39;00m _ppoly\n",
      "File \u001b[0;32m~/miniconda3/envs/cil_tests/lib/python3.10/site-packages/scipy/interpolate/_fitpack_py.py:8\u001b[0m\n\u001b[1;32m      5\u001b[0m \u001b[38;5;28;01mimport\u001b[39;00m \u001b[38;5;21;01mnumpy\u001b[39;00m \u001b[38;5;28;01mas\u001b[39;00m \u001b[38;5;21;01mnp\u001b[39;00m\n\u001b[1;32m      7\u001b[0m \u001b[38;5;66;03m# These are in the API for fitpack even if not used in fitpack.py itself.\u001b[39;00m\n\u001b[0;32m----> 8\u001b[0m \u001b[38;5;28;01mfrom\u001b[39;00m \u001b[38;5;21;01m.\u001b[39;00m\u001b[38;5;21;01m_fitpack_impl\u001b[39;00m \u001b[38;5;28;01mimport\u001b[39;00m bisplrep, bisplev, dblint  \u001b[38;5;66;03m# noqa: F401\u001b[39;00m\n\u001b[1;32m      9\u001b[0m \u001b[38;5;28;01mfrom\u001b[39;00m \u001b[38;5;21;01m.\u001b[39;00m \u001b[38;5;28;01mimport\u001b[39;00m _fitpack_impl \u001b[38;5;28;01mas\u001b[39;00m _impl\n\u001b[1;32m     10\u001b[0m \u001b[38;5;28;01mfrom\u001b[39;00m \u001b[38;5;21;01m.\u001b[39;00m\u001b[38;5;21;01m_bsplines\u001b[39;00m \u001b[38;5;28;01mimport\u001b[39;00m BSpline\n",
      "File \u001b[0;32m~/miniconda3/envs/cil_tests/lib/python3.10/site-packages/scipy/interpolate/_fitpack_impl.py:103\u001b[0m\n\u001b[1;32m     52\u001b[0m _iermess \u001b[38;5;241m=\u001b[39m {\n\u001b[1;32m     53\u001b[0m     \u001b[38;5;241m0\u001b[39m: [\u001b[38;5;124m\"\u001b[39m\u001b[38;5;124mThe spline has a residual sum of squares fp such that \u001b[39m\u001b[38;5;124m\"\u001b[39m\n\u001b[1;32m     54\u001b[0m         \u001b[38;5;124m\"\u001b[39m\u001b[38;5;124mabs(fp-s)/s<=0.001\u001b[39m\u001b[38;5;124m\"\u001b[39m, \u001b[38;5;28;01mNone\u001b[39;00m],\n\u001b[0;32m   (...)\u001b[0m\n\u001b[1;32m     68\u001b[0m     \u001b[38;5;124m'\u001b[39m\u001b[38;5;124munknown\u001b[39m\u001b[38;5;124m'\u001b[39m: [\u001b[38;5;124m\"\u001b[39m\u001b[38;5;124mAn error occurred\u001b[39m\u001b[38;5;124m\"\u001b[39m, \u001b[38;5;167;01mTypeError\u001b[39;00m]\n\u001b[1;32m     69\u001b[0m }\n\u001b[1;32m     71\u001b[0m _iermess2 \u001b[38;5;241m=\u001b[39m {\n\u001b[1;32m     72\u001b[0m     \u001b[38;5;241m0\u001b[39m: [\u001b[38;5;124m\"\u001b[39m\u001b[38;5;124mThe spline has a residual sum of squares fp such that \u001b[39m\u001b[38;5;124m\"\u001b[39m\n\u001b[1;32m     73\u001b[0m         \u001b[38;5;124m\"\u001b[39m\u001b[38;5;124mabs(fp-s)/s<=0.001\u001b[39m\u001b[38;5;124m\"\u001b[39m, \u001b[38;5;28;01mNone\u001b[39;00m],\n\u001b[0;32m   (...)\u001b[0m\n\u001b[1;32m     99\u001b[0m     \u001b[38;5;124m'\u001b[39m\u001b[38;5;124munknown\u001b[39m\u001b[38;5;124m'\u001b[39m: [\u001b[38;5;124m\"\u001b[39m\u001b[38;5;124mAn error occurred\u001b[39m\u001b[38;5;124m\"\u001b[39m, \u001b[38;5;167;01mTypeError\u001b[39;00m]\n\u001b[1;32m    100\u001b[0m }\n\u001b[1;32m    102\u001b[0m _parcur_cache \u001b[38;5;241m=\u001b[39m {\u001b[38;5;124m'\u001b[39m\u001b[38;5;124mt\u001b[39m\u001b[38;5;124m'\u001b[39m: array([], \u001b[38;5;28mfloat\u001b[39m), \u001b[38;5;124m'\u001b[39m\u001b[38;5;124mwrk\u001b[39m\u001b[38;5;124m'\u001b[39m: array([], \u001b[38;5;28mfloat\u001b[39m),\n\u001b[0;32m--> 103\u001b[0m                  \u001b[38;5;124m'\u001b[39m\u001b[38;5;124miwrk\u001b[39m\u001b[38;5;124m'\u001b[39m: \u001b[43marray\u001b[49m\u001b[43m(\u001b[49m\u001b[43m[\u001b[49m\u001b[43m]\u001b[49m\u001b[43m,\u001b[49m\u001b[43m \u001b[49m\u001b[43mdfitpack_int\u001b[49m\u001b[43m)\u001b[49m, \u001b[38;5;124m'\u001b[39m\u001b[38;5;124mu\u001b[39m\u001b[38;5;124m'\u001b[39m: array([], \u001b[38;5;28mfloat\u001b[39m),\n\u001b[1;32m    104\u001b[0m                  \u001b[38;5;124m'\u001b[39m\u001b[38;5;124mub\u001b[39m\u001b[38;5;124m'\u001b[39m: \u001b[38;5;241m0\u001b[39m, \u001b[38;5;124m'\u001b[39m\u001b[38;5;124mue\u001b[39m\u001b[38;5;124m'\u001b[39m: \u001b[38;5;241m1\u001b[39m}\n\u001b[1;32m    107\u001b[0m \u001b[38;5;28;01mdef\u001b[39;00m \u001b[38;5;21msplprep\u001b[39m(x, w\u001b[38;5;241m=\u001b[39m\u001b[38;5;28;01mNone\u001b[39;00m, u\u001b[38;5;241m=\u001b[39m\u001b[38;5;28;01mNone\u001b[39;00m, ub\u001b[38;5;241m=\u001b[39m\u001b[38;5;28;01mNone\u001b[39;00m, ue\u001b[38;5;241m=\u001b[39m\u001b[38;5;28;01mNone\u001b[39;00m, k\u001b[38;5;241m=\u001b[39m\u001b[38;5;241m3\u001b[39m, task\u001b[38;5;241m=\u001b[39m\u001b[38;5;241m0\u001b[39m, s\u001b[38;5;241m=\u001b[39m\u001b[38;5;28;01mNone\u001b[39;00m, t\u001b[38;5;241m=\u001b[39m\u001b[38;5;28;01mNone\u001b[39;00m,\n\u001b[1;32m    108\u001b[0m             full_output\u001b[38;5;241m=\u001b[39m\u001b[38;5;241m0\u001b[39m, nest\u001b[38;5;241m=\u001b[39m\u001b[38;5;28;01mNone\u001b[39;00m, per\u001b[38;5;241m=\u001b[39m\u001b[38;5;241m0\u001b[39m, quiet\u001b[38;5;241m=\u001b[39m\u001b[38;5;241m1\u001b[39m):\n\u001b[1;32m    109\u001b[0m     \u001b[38;5;66;03m# see the docstring of `_fitpack_py/splprep`\u001b[39;00m\n\u001b[1;32m    110\u001b[0m     \u001b[38;5;28;01mif\u001b[39;00m task \u001b[38;5;241m<\u001b[39m\u001b[38;5;241m=\u001b[39m \u001b[38;5;241m0\u001b[39m:\n",
      "\u001b[0;31mTypeError\u001b[0m: "
     ]
    }
   ],
   "source": [
    "# cil imports\n",
    "from cil.framework import ImageData, ImageGeometry\n",
    "from cil.framework import AcquisitionGeometry, AcquisitionData\n",
    "\n",
    "from cil.processors import Slicer, AbsorptionTransmissionConverter, TransmissionAbsorptionConverter\n",
    "\n",
    "from cil.optimisation.functions import IndicatorBox\n",
    "from cil.optimisation.algorithms import CGLS, SIRT\n",
    "\n",
    "from cil.plugins.astra.operators import ProjectionOperator\n",
    "from cil.plugins.astra.processors import FBP\n",
    "\n",
    "from cil.plugins import TomoPhantom\n",
    "\n",
    "from cil.utilities import dataexample\n",
    "from cil.utilities.display import show2D, show1D, show_geometry\n",
    "\n",
    "# External imports\n",
    "import numpy as np\n",
    "import matplotlib.pyplot as plt\n",
    "import logging\n"
   ]
  },
  {
   "cell_type": "code",
   "execution_count": null,
   "metadata": {},
   "outputs": [],
   "source": [
    "# Set logging level for CIL processors:\n",
    "logging.basicConfig(level=logging.WARNING)\n",
    "cil_log_level = logging.getLogger('cil.processors')\n",
    "cil_log_level.setLevel(logging.INFO)"
   ]
  },
  {
   "cell_type": "code",
   "execution_count": null,
   "metadata": {},
   "outputs": [],
   "source": [
    "# set up default colour map for visualisation\n",
    "cmap = \"gray\""
   ]
  },
  {
   "cell_type": "code",
   "execution_count": null,
   "metadata": {},
   "outputs": [],
   "source": [
    "# set the backend for FBP and the ProjectionOperator\n",
    "device = 'gpu'"
   ]
  },
  {
   "cell_type": "markdown",
   "metadata": {},
   "source": [
    "In this notebook we will use a classical Shepp-Logan phantom generated with the [TomoPhantom toolbox](https://github.com/dkazanc/TomoPhantom)."
   ]
  },
  {
   "cell_type": "code",
   "execution_count": null,
   "metadata": {},
   "outputs": [],
   "source": [
    "# number of pixels\n",
    "n_pixels = 256\n",
    "\n",
    "# Angles\n",
    "angles = np.linspace(0, 180, 256, endpoint=False, dtype=np.float32)\n",
    "\n",
    "\n",
    "# Setup acquisition geometry\n",
    "# with sufficient number of projections\n",
    "ag = AcquisitionGeometry.create_Parallel2D()\\\n",
    "                            .set_angles(angles)\\\n",
    "                            .set_panel(n_pixels, pixel_size=1/n_pixels)\n",
    "\n",
    "# Setup image geometry\n",
    "ig = ImageGeometry(voxel_num_x=n_pixels, \n",
    "                   voxel_num_y=n_pixels, \n",
    "                   voxel_size_x=1/n_pixels, \n",
    "                   voxel_size_y=1/n_pixels)\n",
    "\n",
    "# Get phantom\n",
    "phantom = TomoPhantom.get_ImageData(num_model=1, geometry=ig)"
   ]
  },
  {
   "cell_type": "code",
   "execution_count": null,
   "metadata": {},
   "outputs": [],
   "source": [
    "# Visualise data\n",
    "show2D(phantom, cmap=cmap, num_cols=1, size=(10,10), origin='upper-left')"
   ]
  },
  {
   "cell_type": "markdown",
   "metadata": {},
   "source": [
    "Next, we create our simulated tomographic data by projecting our noiseless phantom to the acquisition space. Using the image geometry `ig` and acquisition geometry `ag`, we define the `ProjectionOperator`."
   ]
  },
  {
   "cell_type": "code",
   "execution_count": null,
   "metadata": {},
   "outputs": [],
   "source": [
    "# Create projection operator using Astra-Toolbox.\n",
    "A = ProjectionOperator(ig, ag, device)\n",
    "\n",
    "# Create an acquisition data (numerically)\n",
    "sino = A.direct(phantom)\n"
   ]
  },
  {
   "cell_type": "code",
   "execution_count": null,
   "metadata": {},
   "outputs": [],
   "source": [
    "# Visualise data\n",
    "show2D(sino, 'simulated sinogram', cmap=cmap, size=(10,10), origin='upper-left')"
   ]
  },
  {
   "cell_type": "markdown",
   "metadata": {},
   "source": [
    "## CT reconstruction\n",
    "Tomographic reconstruction consists of resolving the three-dimensional photon attenuation map of a scanned object from the collection of projection measurement. There are two major classes of reconstruction algorithms: *analytic* and *iterative*. \n",
    "\n",
    "<a id='fbp'></a>\n",
    "### Analytic reconstruction - a brief recap\n",
    "The most common analytic reconstruction algorithm is filtered back-projection (FBP). The FBP algorithm is derived from the Fourier Slice theorem which relates line integral measurements to the two dimensional Fourier transform of an object’s slice. Although the Fourier Slice theorem provides a straightforward solution for tomographic reconstruction, its practical implementation is challenging due to the required interpolation from Polar to Cartesian coordinates in the Fourier space. In FBP-type reconstruction methods, projections are ﬁltered independently and then back-projected onto the plane of the tomographic slice. Filtration is used to compensate for non-uniform sampling of the Fourier space (higher frequencies have higher density of sampling points) by linear (Ramp) weighting of the frequency space."
   ]
  },
  {
   "cell_type": "markdown",
   "metadata": {},
   "source": [
    "The FBP algorithm is implemented as a `Processor` which is set up with an `AcquisitionGeometry` and an `ImageGeometry`. You then can call your configured FBP processor  on an `AcquisitionData` object. The processor returns the reconstructed `ImageData`."
   ]
  },
  {
   "cell_type": "code",
   "execution_count": null,
   "metadata": {},
   "outputs": [],
   "source": [
    "# reconstruct full data\n",
    "# configure FBP\n",
    "fbp = FBP(ig, ag, device)\n",
    "# run on the AcquisitionData\n",
    "recon_fbp = fbp(sino)"
   ]
  },
  {
   "cell_type": "code",
   "execution_count": null,
   "metadata": {},
   "outputs": [],
   "source": [
    "show2D([phantom, recon_fbp], ['phantom', 'FBP reconstruction'], \\\n",
    "       cmap=cmap, num_cols=2, size=(10,10), origin='upper-left')"
   ]
  },
  {
   "cell_type": "markdown",
   "metadata": {},
   "source": [
    "<a id='cgls'></a>\n",
    "#### Iterative reconstruction\n",
    "Iterative methods use an initial estimate of volume voxel values which is then iteratively updated to best reproduce acquired radiographic data. Here we discuss formulation of iterative reconstruction for 2D parallel geometry, extension to other geometries is straightforward. Iterative methods formulate the reconstruction methods as a system of linear equations,\n",
    "\n",
    "$$Au = b$$\n",
    "\n",
    "- $u$ is the volume to be reconstructed. $u$ is typically represented as a column vector with $N \\cdot N \\times 1$ elements, where $N$ is the number of elements in a detector row.\n",
    "- $b$ is measured data from $M$ measurements (projections), $b$ is a column vector with $N \\cdot M \\times 1$ elements\n",
    "- $A$ is the projection operator with $N \\cdot M \\times N \\cdot N$ elements. If $i, i = \\{0, 1, \\dots N \\cdot M - 1 \\}$ and $j, j = \\{0, 1, \\dots, N \\cdot N - 1\\}$, then $A_{i,j}$ is the length of intersection of the $i$.th ray with the $j$.th voxel.\n",
    "\n",
    "For any real application, the problem size is too large to be solved by direct inversion methods, i.e.\n",
    "\n",
    "$$u = A^{-1}b$$\n",
    "\n",
    "Secondly, the projection matrix $A$ is often under-determined (low number of projections or missing angles), i.e. \n",
    "\n",
    "$$M \\ll N$$\n",
    "\n",
    "Therefore we formulate reconstruction as an optimisation problem and use iterative solvers to solve:\n",
    "\n",
    "$$\\underset{u}{\\mathrm{argmin}}\\begin{Vmatrix}A u - b\\end{Vmatrix}^2_2$$\n",
    "\n",
    "Since iterative methods involve forward- and back-projection steps, assumptions of data acquisition, data processing, system geometries, and noise characteristic can be incorporated into the reconstruction procedure. However, iterative methods are computationally demanding, you will notice that it takes longer to get reconstruction results with iterative methods."
   ]
  },
  {
   "cell_type": "markdown",
   "metadata": {},
   "source": [
    "From mathematical point of view, projection matrix $A$ is an operator which maps from the set $x$ (*domain*) to the set $b$ (*range*):\n",
    "$$A: u \\to b$$\n",
    "In the framework, we implemented a generic `Operator` class. The two most important methods of the `Operator` are `direct` and `adjoint` methods that describe the result of applying the operator, and its adjoint respectively, onto a compatible `DataContainer` (`AcquisitionData` or `ImageData`) input. The output is another `DataContainer` object or subclass hereof. An important special case of the `Operator` class, is the projection operator $A$ for CT, where `direct` and `adjoint` method correspond to forward- and back-projection respectively. You have already used the `ProjectionOperator` to numerically calculate `AcquisitionData`."
   ]
  },
  {
   "cell_type": "code",
   "execution_count": null,
   "metadata": {},
   "outputs": [],
   "source": [
    "# back_projection\n",
    "back_projection = A.adjoint(sino)\n",
    "\n",
    "show2D([phantom, sino, back_projection], ['phantom', 'forward projection', 'back projection'], \\\n",
    "       cmap=cmap, num_cols=3, size=(15,10), origin='upper-left')"
   ]
  },
  {
   "cell_type": "code",
   "execution_count": null,
   "metadata": {},
   "outputs": [],
   "source": [
    "print(\"Range: {} \\n\".format(A.range_geometry()))\n",
    "print(\"Domain: {} \\n\".format(A.domain_geometry()))"
   ]
  },
  {
   "cell_type": "markdown",
   "metadata": {},
   "source": [
    "The `Operator` class also has a `norm` method."
   ]
  },
  {
   "cell_type": "code",
   "execution_count": null,
   "metadata": {},
   "outputs": [],
   "source": [
    "print(\"Operator norm: {}\\n\".format(A.norm()))"
   ]
  },
  {
   "cell_type": "markdown",
   "metadata": {},
   "source": [
    "The Framework provides a number of generic optimisation algorithms implementations. All algorithms share the same interface and behaviour. Algorithms are iterable Python objects which can be run in a for loop, can be stopped and warm restarted.\n",
    "\n",
    "The Conjugate Gradient Least Squares (CGLS) algorithm is commonly used for solving large systems of linear equations, due to its fast convergence. CGLS takes `operator`, measured data and initial value as an input."
   ]
  },
  {
   "cell_type": "code",
   "execution_count": null,
   "metadata": {},
   "outputs": [],
   "source": [
    "# initial estimate - zero array in this case \n",
    "initial = ig.allocate(0)\n",
    "\n",
    "# setup CGLS\n",
    "cgls = CGLS(initial=initial, \n",
    "            operator=A, \n",
    "            data=sino,\n",
    "            update_objective_interval = 1 )"
   ]
  },
  {
   "cell_type": "markdown",
   "metadata": {},
   "source": [
    "Now we need to run some iterations of the algorithm. This is done via the method `run`. You can specify how many iterations you want to run and the verbosity level, an integer number between 0 and 2.\n",
    "\n",
    "**Try to run the following cell and then re-run it. What happens?**"
   ]
  },
  {
   "cell_type": "code",
   "execution_count": null,
   "metadata": {},
   "outputs": [],
   "source": [
    "# run N interations\n",
    "cgls.run(5, verbose=True)"
   ]
  },
  {
   "cell_type": "code",
   "execution_count": null,
   "metadata": {},
   "outputs": [],
   "source": [
    "# get and visualise the results\n",
    "recon_cgls = cgls.solution\n",
    "\n",
    "show2D([phantom, recon_fbp, recon_cgls], ['phantom', 'FBP', 'CGLS'], \\\n",
    "       cmap=cmap, num_cols=3, size=(15,10), origin='upper-left')"
   ]
  },
  {
   "cell_type": "markdown",
   "metadata": {},
   "source": [
    "If we run a lot of iterations we can check if the algorithm converges. We set the `tolerance` to 0 to demonstrate the algorithm continuing to run (but this way of setting tolerance is being deprecated)."
   ]
  },
  {
   "cell_type": "code",
   "execution_count": null,
   "metadata": {},
   "outputs": [],
   "source": [
    "# setup CGLS\n",
    "cgls = CGLS(initial=initial, \n",
    "            operator=A, \n",
    "            data=sino,\n",
    "            tolerance=0, # default 1e-6,\n",
    "            update_objective_interval = 1)"
   ]
  },
  {
   "cell_type": "markdown",
   "metadata": {},
   "source": [
    "Then run the algorithm with 1000 iterations"
   ]
  },
  {
   "cell_type": "code",
   "execution_count": null,
   "metadata": {},
   "outputs": [],
   "source": [
    "# run N iterations\n",
    "cgls.run(1000, verbose=True)"
   ]
  },
  {
   "cell_type": "markdown",
   "metadata": {},
   "source": [
    "If we plot the algorithm objective value as a function of the iteration number we can see the change in objective at each iteration becomes gradually smaller, until there is very little change between subsequent iterations which suggests the algorithm has converged"
   ]
  },
  {
   "cell_type": "code",
   "execution_count": null,
   "metadata": {},
   "outputs": [],
   "source": [
    "plt.plot(cgls.objective)\n",
    "plt.gca().set_yscale('log')\n",
    "plt.xlabel('Number of iterations')\n",
    "plt.ylabel('Objective value')\n",
    "plt.grid()"
   ]
  },
  {
   "cell_type": "markdown",
   "metadata": {},
   "source": [
    "Get and visualise the results"
   ]
  },
  {
   "cell_type": "code",
   "execution_count": null,
   "metadata": {},
   "outputs": [],
   "source": [
    "\n",
    "recon_cgls = cgls.solution\n",
    "\n",
    "show2D([phantom, recon_fbp, recon_cgls], ['phantom', 'FBP', 'CGLS'], \\\n",
    "       cmap=cmap, num_cols=3, size=(15,10), origin='upper-left')"
   ]
  },
  {
   "cell_type": "markdown",
   "metadata": {},
   "source": [
    "## Adding some complexity\n",
    "\n",
    "In the example above we worked with an ideal (i.e. noise- or artifacts-free) sinogram acquired over the sufficient number of rotation positions which is not always the case with datasets obtained in real experiments. Let us take a look at how both FBP and CGLS algorithms will perform on noisy and/or insufficient data."
   ]
  },
  {
   "cell_type": "markdown",
   "metadata": {},
   "source": [
    "Poisson noise will be applied to this noise-free sinogram. The severity of the noise can be adjusted by changing the `background_counts` variable."
   ]
  },
  {
   "cell_type": "code",
   "execution_count": null,
   "metadata": {},
   "outputs": [],
   "source": [
    "# Incident intensity: lower counts will increase the noise\n",
    "background_counts = 20000 \n",
    "\n",
    "# Convert the simulated absorption sinogram to transmission values using Lambert-Beer. \n",
    "# Use as mean for Poisson data generation.\n",
    "# Convert back to absorption sinogram.\n",
    "counts = background_counts * np.exp(-sino.as_array())\n",
    "tmp = np.exp(-sino.as_array())\n",
    "noisy_counts = np.random.poisson(counts)\n",
    "nonzero = noisy_counts > 0\n",
    "sino_out = np.zeros_like(sino.as_array())\n",
    "sino_out[nonzero] = -np.log(noisy_counts[nonzero] / background_counts)\n",
    "\n",
    "# allocate sino_noisy and fill with noisy data\n",
    "sino_noisy = ag.allocate()\n",
    "sino_noisy.fill(sino_out)"
   ]
  },
  {
   "cell_type": "code",
   "execution_count": null,
   "metadata": {},
   "outputs": [],
   "source": [
    "# visualise results\n",
    "show2D([sino, sino_noisy], ['ground truth sinogram', 'noisy sinogram'], \\\n",
    "       cmap=cmap, num_cols=2, size=(15,10), origin='upper-left')"
   ]
  },
  {
   "cell_type": "code",
   "execution_count": null,
   "metadata": {},
   "outputs": [],
   "source": [
    "# reconstruct noisy data\n",
    "# configure FBP\n",
    "fbp = FBP(ig, ag, device)\n",
    "# run on the AcquisitionData\n",
    "recon_fbp_noisy = fbp(sino_noisy)"
   ]
  },
  {
   "cell_type": "code",
   "execution_count": null,
   "metadata": {},
   "outputs": [],
   "source": [
    "# visualise results\n",
    "show2D([phantom, recon_fbp, recon_fbp_noisy], ['phantom', 'FBP, noise-free projections', 'FBP, noisy projections'], \\\n",
    "       cmap=cmap, num_cols=3, size=(15,10), origin='upper-left')"
   ]
  },
  {
   "cell_type": "markdown",
   "metadata": {},
   "source": [
    "The reconstruction above doesn't look particularly good. Let us try to reconstruct the same noisy dataset using the CGLS method. In CGLS without explicit regularisation, the number of iterations plays the role of a regularisation parameter. However, it is often unclear how many iterations is required to get 'good' reconstruction. To control how the reconstruction result changes with every iteration, we will visualise intermediate reconstruction results."
   ]
  },
  {
   "cell_type": "code",
   "execution_count": null,
   "metadata": {},
   "outputs": [],
   "source": [
    "# initial estimate - zero array in this case \n",
    "initial = ig.allocate(0)\n",
    "\n",
    "# setup CGLS\n",
    "cgls = CGLS(initial=initial, \n",
    "            operator=A, \n",
    "            data=sino_noisy)\n",
    "\n",
    "previous = initial"
   ]
  },
  {
   "cell_type": "markdown",
   "metadata": {},
   "source": [
    "Let's run the algorithm, and check its progress to the solution after every iteration.\n",
    "We'll plot the current solution, the difference with the ground truth, and the difference with the previous iteration."
   ]
  },
  {
   "cell_type": "code",
   "execution_count": null,
   "metadata": {},
   "outputs": [],
   "source": [
    "for i in range(10):\n",
    "    previous = cgls.solution.copy()\n",
    "\n",
    "    cgls.run(1, verbose=True)\n",
    "\n",
    "    # get and visualise the results\n",
    "    diff = cgls.solution - phantom\n",
    "    # set the colormaps of the plot: gray for the solution, seismic a symmetric colormap for the difference\n",
    "    cmaps = [cmap, 'seismic', 'seismic']\n",
    "    # create a symmetric range for the difference centred on 0\n",
    "    ranges = [None, (-0.5, 0.5), (-0.5, 0.5)]\n",
    "\n",
    "    #use show2D to display the 3 plots with there own colour map and ranges\n",
    "    show2D([cgls.solution, diff, cgls.solution - previous],\n",
    "            [\"Iteration {}, objective {}\".format(cgls.iteration, cgls.loss[-1]), \n",
    "                \"Difference from ground truth\",\n",
    "                \"Difference with previous step\"\n",
    "            ],\n",
    "            fix_range=ranges, cmap=cmaps, origin='upper-left', num_cols=3 )"
   ]
  },
  {
   "cell_type": "markdown",
   "metadata": {},
   "source": [
    "You can see that after iteration 6, the reconstruction gets increasingly more noisy even though the objective value keeps decreasing. After iteration 10, you cannot see significant changes in the reconstruction result.\n",
    "\n",
    "Let us re-run CGLS, this time we will stop at iteration 6 and compare this solution with other algorithms."
   ]
  },
  {
   "cell_type": "code",
   "execution_count": null,
   "metadata": {},
   "outputs": [],
   "source": [
    "# re-run CGLS reconstruction with 6 iterations\n",
    "# setup CGLS\n",
    "cgls = CGLS(initial=initial, \n",
    "            operator=A, \n",
    "            data=sino_noisy)\n",
    "\n",
    "cgls.run(6, verbose=True)\n",
    "    \n",
    "# get the results\n",
    "recon_cgls_noisy = cgls.solution"
   ]
  },
  {
   "cell_type": "markdown",
   "metadata": {},
   "source": [
    "### Constrained reconstruction"
   ]
  },
  {
   "cell_type": "markdown",
   "metadata": {},
   "source": [
    "Perhaps the most intuitive constraint one can enforce on reconstructed data is the non-negativity constraint. The image data we are reconstructing is the linear attenuation coefficient of the material, so intuitively this cannot have a negative value. Here we employ the SIRT algorithm,  an  algebraic  iterative  method  for  a particular weighted least-squares problem which in addition accepts certain convex constraints such as a non-negativity constraint. As with CGLS, it exhibits semi-convergence, however tends to require more iterations. We enforce box constraints (lower and upper bounds) with the `IndicatorBox` function."
   ]
  },
  {
   "cell_type": "code",
   "execution_count": null,
   "metadata": {},
   "outputs": [],
   "source": [
    "x0 = ig.allocate()\n",
    "constraint = IndicatorBox(lower=0)\n",
    "\n",
    "sirt = SIRT(initial=x0, operator=A, data=sino_noisy, constraint=constraint)\n",
    "sirt.update_objective_interval = 10\n",
    "sirt.run(100)\n",
    "\n",
    "recon_sirt_noisy = sirt.solution"
   ]
  },
  {
   "cell_type": "markdown",
   "metadata": {},
   "source": [
    "Let us compare the reconstruction of the noisy data using FBP, CGLS and SIRT. What do you notice? What conclusions can you draw from the comparison?"
   ]
  },
  {
   "cell_type": "code",
   "execution_count": null,
   "metadata": {},
   "outputs": [],
   "source": [
    "show2D([phantom, recon_fbp_noisy, recon_cgls_noisy, recon_sirt_noisy], \\\n",
    "       ['phantom', 'FBP, noisy projections', 'CGLS, noisy projections', 'SIRT, noisy projections'], \\\n",
    "       cmap=cmap, num_cols=2, size=(15,15), origin='upper-left', fix_range=True)"
   ]
  },
  {
   "cell_type": "code",
   "execution_count": null,
   "metadata": {
    "tags": []
   },
   "outputs": [],
   "source": [
    "show1D([phantom, recon_fbp_noisy, recon_cgls_noisy, recon_sirt_noisy],\n",
    "       slice_list=[(\"horizontal_y\",175)],\n",
    "       label=[\"Phantom\",\"FBP, noisy projections\",\"CGLS, noisy projections\", \"SIRT, noisy projections\"],\n",
    "       line_colours=['black','green','dodgerblue','purple'],\n",
    "       line_styles=['solid','dotted','dashed','solid'],\n",
    "       title=(\"Horizontal_y Slice {}\".format(175)))"
   ]
  },
  {
   "cell_type": "code",
   "execution_count": null,
   "metadata": {
    "tags": []
   },
   "outputs": [],
   "source": [
    "show2D([(recon_fbp_noisy-phantom).abs(), (recon_cgls_noisy-phantom).abs(), (recon_sirt_noisy-phantom).abs()], \\\n",
    "       ['FBP, noisy projections, difference from phantom', 'CGLS, noisy projection, difference from phantom', 'SIRT, noisy projection, difference from phantom'], \\\n",
    "       cmap=cmap, num_cols=2, size=(15,15), origin='upper-left', fix_range=True)"
   ]
  }
 ],
 "metadata": {
  "kernelspec": {
   "display_name": "Python 3 (ipykernel)",
   "language": "python",
   "name": "python3"
  },
  "language_info": {
   "codemirror_mode": {
    "name": "ipython",
    "version": 3
   },
   "file_extension": ".py",
   "mimetype": "text/x-python",
   "name": "python",
   "nbconvert_exporter": "python",
   "pygments_lexer": "ipython3",
   "version": "3.12.5"
  },
  "vscode": {
   "interpreter": {
    "hash": "cf07678abc5cc77bc6e1a7d19b1e87ab0c29b83e7ee41c2bc72506d16d80ed44"
   }
  }
 },
 "nbformat": 4,
 "nbformat_minor": 4
}
