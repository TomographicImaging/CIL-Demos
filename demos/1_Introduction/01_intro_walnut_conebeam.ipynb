{
 "cells": [
  {
   "cell_type": "code",
   "execution_count": null,
   "id": "0f62c3ce",
   "metadata": {},
   "outputs": [],
   "source": [
    "# -*- coding: utf-8 -*-\n",
    "#  Copyright 2021 - 2022 United Kingdom Research and Innovation\n",
    "#  Copyright 2021 - 2022 The University of Manchester\n",
    "#  Copyright 2021 - 2022 Technical University of Denmark\n",
    "#\n",
    "#  Licensed under the Apache License, Version 2.0 (the \"License\");\n",
    "#  you may not use this file except in compliance with the License.\n",
    "#  You may obtain a copy of the License at\n",
    "#\n",
    "#      http://www.apache.org/licenses/LICENSE-2.0\n",
    "#\n",
    "#  Unless required by applicable law or agreed to in writing, software\n",
    "#  distributed under the License is distributed on an \"AS IS\" BASIS,\n",
    "#  WITHOUT WARRANTIES OR CONDITIONS OF ANY KIND, either express or implied.\n",
    "#  See the License for the specific language governing permissions and\n",
    "#  limitations under the License.\n",
    "#\n",
    "#   Authored by:    Jakob S. Jørgensen (DTU)\n",
    "#                   Edoardo Pasca (UKRI-STFC)\n",
    "#                   Laura Murgatroyd (UKRI-STFC)\n",
    "#                   Gemma Fardell (UKRI-STFC)"
   ]
  },
  {
   "cell_type": "markdown",
   "id": "694dafc7",
   "metadata": {},
   "source": [
    "# Introductory demo of Core Imaging Library (CIL) \n",
    "\n",
    "### 3D laboratory micro-CT, cone-beam data of a walnut"
   ]
  },
  {
   "cell_type": "markdown",
   "id": "127515ba",
   "metadata": {},
   "source": [
    "This exercise walks through the steps needed to load in and reconstruct by FDK a 3D cone-beam dataset of a walnut, acquired by laboratory micro-CT.\n",
    "\n",
    "Learning objectives are:\n",
    "- Load and investigate a TXRM data set.\n",
    "- Apply CIL's `TransmissionAbsorptionConverter`.\n",
    "- Compute FDK reconstruction using CIL and compare with a reconstruction made from fewer projections.\n",
    "- Write out the reconstructed image to a TIFF stack.\n",
    "\n",
    "This example requires the dataset `walnut.zip` from https://zenodo.org/record/4822516 :\n",
    "\n",
    "- https://zenodo.org/record/4822516/files/walnut.zip\n",
    "\n",
    "If running locally please download the data and update the 'path' variable below.\n",
    "\n",
    "\n"
   ]
  },
  {
   "cell_type": "code",
   "execution_count": null,
   "id": "89d2596e",
   "metadata": {},
   "outputs": [],
   "source": [
    "path = '/mnt/materials/SIRF/Fully3D/CIL/Walnut'"
   ]
  },
  {
   "cell_type": "markdown",
   "id": "53bb7665",
   "metadata": {},
   "source": [
    "First import all of the modules we will need:"
   ]
  },
  {
   "cell_type": "code",
   "execution_count": null,
   "id": "d48350f1",
   "metadata": {},
   "outputs": [],
   "source": [
    "import os\n",
    "\n",
    "from cil.io import ZEISSDataReader, TIFFWriter\n",
    "from cil.processors import TransmissionAbsorptionConverter, Slicer\n",
    "from cil.recon import FDK\n",
    "from cil.utilities.display import show2D, show_geometry"
   ]
  },
  {
   "cell_type": "markdown",
   "id": "8bac0c33",
   "metadata": {},
   "source": [
    "Load the 3D cone-beam projection data of a walnut:"
   ]
  },
  {
   "cell_type": "code",
   "execution_count": null,
   "id": "b30864da",
   "metadata": {},
   "outputs": [],
   "source": [
    "filename = os.path.join(path, \"valnut_2014-03-21_643_28/tomo-A/valnut_tomo-A.txrm\")\n",
    "\n",
    "data = ZEISSDataReader(file_name=filename).read()"
   ]
  },
  {
   "cell_type": "markdown",
   "id": "6bce18d2",
   "metadata": {},
   "source": [
    "The data is loaded in as a CIL `AcquisitionData` object:"
   ]
  },
  {
   "cell_type": "code",
   "execution_count": null,
   "id": "44e35f82",
   "metadata": {},
   "outputs": [],
   "source": [
    "type(data)"
   ]
  },
  {
   "cell_type": "markdown",
   "id": "ccfb3788",
   "metadata": {},
   "source": [
    "We can call `print` for the data to get some basic information:"
   ]
  },
  {
   "cell_type": "code",
   "execution_count": null,
   "id": "1f2d6ac1",
   "metadata": {},
   "outputs": [],
   "source": [
    "print(data)"
   ]
  },
  {
   "cell_type": "markdown",
   "id": "167757f7",
   "metadata": {},
   "source": [
    "Note how labels refer to the different dimensions. We infer that this data set contains 1601 projections each size 1024x1024 pixels."
   ]
  },
  {
   "cell_type": "markdown",
   "id": "a8ab7f23",
   "metadata": {},
   "source": [
    "In addition to the data itself, `AcquisitionData` contains geometric metadata in an `AcquisitionGeometry` object in the `geometry` field, which can be printed for more detailed information:"
   ]
  },
  {
   "cell_type": "code",
   "execution_count": null,
   "id": "36b08776",
   "metadata": {},
   "outputs": [],
   "source": [
    "print(data.geometry)"
   ]
  },
  {
   "cell_type": "markdown",
   "id": "a440046b",
   "metadata": {},
   "source": [
    "CIL can illustrate the scan setup visually from the `AcquisitionData` geometry:"
   ]
  },
  {
   "cell_type": "code",
   "execution_count": null,
   "id": "156a1649",
   "metadata": {},
   "outputs": [],
   "source": [
    "show_geometry(data.geometry)"
   ]
  },
  {
   "cell_type": "markdown",
   "id": "bf546b1b",
   "metadata": {},
   "source": [
    "We can use the dimension labels to extract and display 2D slices of data, such as a single projection:"
   ]
  },
  {
   "cell_type": "code",
   "execution_count": null,
   "id": "acf157f5",
   "metadata": {},
   "outputs": [],
   "source": [
    "show2D(data, slice_list=('angle',800))"
   ]
  },
  {
   "cell_type": "markdown",
   "id": "4880c37b",
   "metadata": {},
   "source": [
    "From the background value of 1.0 we infer that the data is transmission data (it is known to be already centered and flat field corrected) so we just need to convert to absorption/apply the negative logarithm, which can be done using a CIL processor, which will handle small/large outliers:"
   ]
  },
  {
   "cell_type": "code",
   "execution_count": null,
   "id": "ad8f9f5a",
   "metadata": {},
   "outputs": [],
   "source": [
    "data = TransmissionAbsorptionConverter()(data)"
   ]
  },
  {
   "cell_type": "markdown",
   "id": "f70801bc",
   "metadata": {},
   "source": [
    "We again take a look at a slice of the data, now a vertical one to see the central slice sinogram after negative logarithm:"
   ]
  },
  {
   "cell_type": "code",
   "execution_count": null,
   "id": "79d3752e",
   "metadata": {},
   "outputs": [],
   "source": [
    "show2D(data, slice_list=('vertical', 512))"
   ]
  },
  {
   "cell_type": "markdown",
   "id": "4899ed4d",
   "metadata": {},
   "source": [
    "CIL supports different back-ends for which data order conventions may differ. Here we use the FDK algorithm from CIL's recon module. FDK is filtered back-projection for cone beam data. By default, the recon module uses TIGRE as a back-end, and requires us to permute the data array into the right order:"
   ]
  },
  {
   "cell_type": "code",
   "execution_count": null,
   "id": "3977ab3f",
   "metadata": {},
   "outputs": [],
   "source": [
    "data.reorder(order='tigre')"
   ]
  },
  {
   "cell_type": "markdown",
   "id": "a1e0e6f5",
   "metadata": {},
   "source": [
    "The data is now ready for reconstruction. To set up the FDK algorithm we must specify the size/geometry of the reconstruction volume. Here we use the default one:"
   ]
  },
  {
   "cell_type": "code",
   "execution_count": null,
   "id": "d0ae0659",
   "metadata": {},
   "outputs": [],
   "source": [
    "ig = data.geometry.get_ImageGeometry()"
   ]
  },
  {
   "cell_type": "markdown",
   "id": "5a1a719c",
   "metadata": {},
   "source": [
    "We can then create the FDK algorithm and reconstruct the data:"
   ]
  },
  {
   "cell_type": "code",
   "execution_count": null,
   "id": "549bddde",
   "metadata": {},
   "outputs": [],
   "source": [
    "fdk =  FDK(data, ig)\n",
    "recon = fdk.run()"
   ]
  },
  {
   "cell_type": "code",
   "execution_count": null,
   "id": "1da1fe3e",
   "metadata": {},
   "outputs": [],
   "source": [
    "show2D(recon, slice_list=[('vertical',512), ('horizontal_x', 512)], fix_range=(-0.01, 0.06))"
   ]
  },
  {
   "cell_type": "markdown",
   "id": "dae6075e",
   "metadata": {},
   "source": [
    "We can save the reconstructed volume to disk for example as a stack of TIFFs:"
   ]
  },
  {
   "cell_type": "code",
   "execution_count": null,
   "id": "203040cc",
   "metadata": {},
   "outputs": [],
   "source": [
    "# save_base_path = os.getcwd()\n",
    "# save_path = os.path.join(save_base_path, data_name)\n",
    "# os.makedirs(save_path)\n",
    "\n",
    "# TIFFWriter(data=recon, file_name=os.path.join(save_path, \"out\")).write()"
   ]
  },
  {
   "cell_type": "markdown",
   "id": "f9f1dce2",
   "metadata": {},
   "source": [
    "We now demonstrate the effect of reducing the number of projections on the FDK reconstruction."
   ]
  },
  {
   "cell_type": "code",
   "execution_count": null,
   "id": "1e01e510",
   "metadata": {},
   "outputs": [],
   "source": [
    "from cil.processors import Slicer\n",
    "\n",
    "reduce_factor = 10\n",
    "\n",
    "data_reduced = Slicer(roi={'angle': (0,-1,reduce_factor)})(data)\n",
    "\n",
    "ig = data_reduced.geometry.get_ImageGeometry()\n",
    "fdk =  FDK(data_reduced, ig)\n",
    "recon_reduced = fdk.run()"
   ]
  },
  {
   "cell_type": "markdown",
   "id": "5a97ed27",
   "metadata": {},
   "source": [
    "We show the same slices as before:"
   ]
  },
  {
   "cell_type": "code",
   "execution_count": null,
   "id": "91e06051",
   "metadata": {},
   "outputs": [],
   "source": [
    "show2D(recon_reduced, slice_list=[('vertical',512), ('horizontal_x', 512)], fix_range=(-0.01,0.06))"
   ]
  }
 ],
 "metadata": {
  "interpreter": {
   "hash": "43cbf82c2f716cd564b762322e13d4dbd881fd8a341d231fe608abc3118da208"
  },
  "kernelspec": {
   "display_name": "Python 3.8.11",
   "language": "python",
   "name": "python3"
  },
  "language_info": {
   "codemirror_mode": {
    "name": "ipython",
    "version": 3
   },
   "file_extension": ".py",
   "mimetype": "text/x-python",
   "name": "python",
   "nbconvert_exporter": "python",
   "pygments_lexer": "ipython3",
   "version": "3.8.11"
  },
  "vscode": {
   "interpreter": {
    "hash": "cf07678abc5cc77bc6e1a7d19b1e87ab0c29b83e7ee41c2bc72506d16d80ed44"
   }
  }
 },
 "nbformat": 4,
 "nbformat_minor": 5
}
