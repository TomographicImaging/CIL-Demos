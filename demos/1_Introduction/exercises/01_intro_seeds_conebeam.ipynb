{
 "cells": [
  {
   "cell_type": "code",
   "execution_count": null,
   "id": "0f62c3ce",
   "metadata": {},
   "outputs": [],
   "source": [
    "# -*- coding: utf-8 -*-\n",
    "#  Copyright 2021 - 2022 United Kingdom Research and Innovation\n",
    "#\n",
    "#  Licensed under the Apache License, Version 2.0 (the \"License\");\n",
    "#  you may not use this file except in compliance with the License.\n",
    "#  You may obtain a copy of the License at\n",
    "#\n",
    "#      http://www.apache.org/licenses/LICENSE-2.0\n",
    "#\n",
    "#  Unless required by applicable law or agreed to in writing, software\n",
    "#  distributed under the License is distributed on an \"AS IS\" BASIS,\n",
    "#  WITHOUT WARRANTIES OR CONDITIONS OF ANY KIND, either express or implied.\n",
    "#  See the License for the specific language governing permissions and\n",
    "#  limitations under the License.\n",
    "#\n",
    "#   Authored by:    Laura Murgatroyd (UKRI-STFC)\n",
    "#                   Gemma Fardell (UKRI-STFC)"
   ]
  },
  {
   "cell_type": "markdown",
   "id": "694dafc7",
   "metadata": {},
   "source": [
    "# Exercise 01 - Introduction to the Core Imaging Library (CIL) \n",
    "\n",
    "### 3D laboratory micro-CT, cone-beam data of sunflower seeds in an acrylic box"
   ]
  },
  {
   "cell_type": "markdown",
   "id": "127515ba",
   "metadata": {},
   "source": [
    "This exercise walks through the steps needed to load in a 3D cone-beam dataset of sunflower seeds in an acrylic box, acquired by laboratory micro-CT, and reconstruct it using FDK.\n",
    "Here you will perform the same processing as the `01_intro_walnut_conebeam.ipynb` notebook, but on a Nikon dataset, instead of a Zeiss dataset.\n",
    "\n",
    "Learning objectives:\n",
    "- Load and investigate a Nikon data set.\n",
    "- Apply CIL's `TransmissionAbsorptionConverter`.\n",
    "- Compute FDK reconstruction using CIL.\n",
    "\n",
    "This example requires the dataset `korn.zip` from https://zenodo.org/record/6874123#.Y0ghJUzMKUm :\n",
    "\n",
    "- https://zenodo.org/record/6874123/files/korn.zip?download=1\n",
    "\n",
    "If running locally please download the data and update the filepath in the `filename` variable below:"
   ]
  },
  {
   "cell_type": "code",
   "execution_count": null,
   "id": "89d2596e",
   "metadata": {},
   "outputs": [],
   "source": [
    "filename = \"/mnt/materials/SIRF/Fully3D/CIL/Korn i kasse/47209 testscan korn01_recon.xtekct\""
   ]
  },
  {
   "cell_type": "code",
   "execution_count": null,
   "id": "d48350f1",
   "metadata": {},
   "outputs": [],
   "source": [
    "import os\n",
    "from cil.io import NikonDataReader\n",
    "from cil.processors import TransmissionAbsorptionConverter, Slicer\n",
    "from cil.recon import FDK\n",
    "from cil.utilities.display import show2D, show_geometry\n",
    "from cil.utilities.jupyter import islicer"
   ]
  },
  {
   "cell_type": "markdown",
   "id": "8d24d898-d1b2-4496-a464-6a2e9dbf8f89",
   "metadata": {},
   "source": [
    "## Exercise A: Loading Nikon Data and looking at the Geometry"
   ]
  },
  {
   "cell_type": "markdown",
   "id": "8bac0c33",
   "metadata": {},
   "source": [
    "Load the 3D cone-beam projection data of the seeds, using the `NikonDataReader`, and `print` the data to get some basic information.\n",
    "\n",
    "As well as the data itself, `AcquisitionData` contains geometric metadata in an `AcquisitionGeometry` object in the `geometry` field.\n",
    "\n",
    "Use the `show_geometry` method to display the scan set up visually."
   ]
  },
  {
   "cell_type": "code",
   "execution_count": null,
   "id": "b30864da",
   "metadata": {},
   "outputs": [],
   "source": [
    "data = ... \n"
   ]
  },
  {
   "cell_type": "markdown",
   "id": "6bce18d2",
   "metadata": {},
   "source": [
    "The data is loaded in as a CIL `AcquisitionData` object. How many projections does this dataset contain and how many pixels do they have? Make sure to check the axis labels."
   ]
  },
  {
   "cell_type": "code",
   "execution_count": null,
   "id": "1f2d6ac1",
   "metadata": {},
   "outputs": [],
   "source": [
    "# SOLUTION: \n",
    "data = NikonDataReader(file_name=filename).read()\n",
    "print(data)\n",
    "print(data.geometry)\n",
    "show_geometry(data.geometry)\n",
    "# We infer that this dataset contains 1571 projections each size 1000x1000 pixels."
   ]
  },
  {
   "cell_type": "markdown",
   "id": "15e657e6-1e14-49be-a762-02e632468be9",
   "metadata": {},
   "source": [
    "## Exercise B: Displaying the Projections with islicer"
   ]
  },
  {
   "cell_type": "markdown",
   "id": "a8ab7f23",
   "metadata": {},
   "source": [
    "Use `islicer` to display the projections."
   ]
  },
  {
   "cell_type": "code",
   "execution_count": null,
   "id": "48d432ca-a8b3-4e0a-94b8-bfad3d8705dd",
   "metadata": {},
   "outputs": [],
   "source": [
    "#islicer(..)"
   ]
  },
  {
   "cell_type": "code",
   "execution_count": null,
   "id": "acf157f5",
   "metadata": {},
   "outputs": [],
   "source": [
    "# SOLUTION:\n",
    "islicer(data, direction='angle',size=10, minmax=(0,1))"
   ]
  },
  {
   "cell_type": "markdown",
   "id": "79597e26-2cdc-45fc-935c-426fe4c8a3c2",
   "metadata": {},
   "source": [
    "## Exercise C: Transmission to Absorption Conversion"
   ]
  },
  {
   "cell_type": "markdown",
   "id": "937f501c-564c-4c2c-82d9-700388715438",
   "metadata": {},
   "source": [
    "You should have seen that the data is transmission data. We know this because the background value is 1.0. We need to apply the negative logarithm to convert to the absorption.\n",
    "\n",
    "Use CIL's Transmission to Absorption processor to do this. Then use `show2D` to look at the central `vertical` slice of the data, to see the central slice sinogram after negative logarithm:"
   ]
  },
  {
   "cell_type": "code",
   "execution_count": null,
   "id": "ad8f9f5a",
   "metadata": {},
   "outputs": [],
   "source": [
    "..."
   ]
  },
  {
   "cell_type": "code",
   "execution_count": null,
   "id": "6fc02a43-f80c-4f20-ad95-b82aecb471a2",
   "metadata": {},
   "outputs": [],
   "source": [
    "\n",
    "data = TransmissionAbsorptionConverter(min_intensity=0)(data)\n",
    "\n",
    "show2D(data, slice_list=('vertical', 500))"
   ]
  },
  {
   "cell_type": "markdown",
   "id": "d05b90f8-6859-4914-bfb3-0e2f13688766",
   "metadata": {},
   "source": [
    "## Exercise D: Reconstructing Cone Beam Data"
   ]
  },
  {
   "cell_type": "markdown",
   "id": "4899ed4d",
   "metadata": {},
   "source": [
    "We will use the FDK algorithm from CIL's recon module. FDK is filtered back-projection for cone beam data. By default, the recon module uses TIGRE as a back-end.\n",
    "\n",
    "The first thing you have to do is `reorder` the data array into the correct order for `tigre`. Then create and run the algorithm.\n",
    "\n",
    "Remember, to set up the FDK algorithm we must specify the size/geometry of the reconstruction volume\n",
    "\n",
    "Then show the reconstructed result, using `islicer`."
   ]
  },
  {
   "cell_type": "code",
   "execution_count": null,
   "id": "592171ef-c310-44c8-ae91-796e887be7db",
   "metadata": {},
   "outputs": [],
   "source": [
    "..."
   ]
  },
  {
   "cell_type": "code",
   "execution_count": null,
   "id": "d0ae0659",
   "metadata": {},
   "outputs": [],
   "source": [
    "# SOLUTION:\n",
    "data.reorder(order='tigre')\n",
    "fdk =  FDK(data)\n",
    "recon = fdk.run()\n",
    "islicer(recon, direction='vertical', size=10) # change to 'horizontal_y' or 'horizontal_x' to view the data in other directions"
   ]
  }
 ],
 "metadata": {
  "interpreter": {
   "hash": "43cbf82c2f716cd564b762322e13d4dbd881fd8a341d231fe608abc3118da208"
  },
  "kernelspec": {
   "display_name": "Python 3 (ipykernel)",
   "language": "python",
   "name": "python3"
  },
  "language_info": {
   "codemirror_mode": {
    "name": "ipython",
    "version": 3
   },
   "file_extension": ".py",
   "mimetype": "text/x-python",
   "name": "python",
   "nbconvert_exporter": "python",
   "pygments_lexer": "ipython3",
   "version": "3.10.6"
  },
  "vscode": {
   "interpreter": {
    "hash": "cf07678abc5cc77bc6e1a7d19b1e87ab0c29b83e7ee41c2bc72506d16d80ed44"
   }
  }
 },
 "nbformat": 4,
 "nbformat_minor": 5
}
