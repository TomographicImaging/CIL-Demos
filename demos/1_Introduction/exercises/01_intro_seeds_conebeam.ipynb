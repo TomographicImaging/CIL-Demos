{
 "cells": [
  {
   "cell_type": "code",
   "execution_count": null,
   "id": "0f62c3ce",
   "metadata": {},
   "outputs": [],
   "source": [
    "# -*- coding: utf-8 -*-\n",
    "#  Copyright 2021 - 2022 United Kingdom Research and Innovation\n",
    "#\n",
    "#  Licensed under the Apache License, Version 2.0 (the \"License\");\n",
    "#  you may not use this file except in compliance with the License.\n",
    "#  You may obtain a copy of the License at\n",
    "#\n",
    "#      http://www.apache.org/licenses/LICENSE-2.0\n",
    "#\n",
    "#  Unless required by applicable law or agreed to in writing, software\n",
    "#  distributed under the License is distributed on an \"AS IS\" BASIS,\n",
    "#  WITHOUT WARRANTIES OR CONDITIONS OF ANY KIND, either express or implied.\n",
    "#  See the License for the specific language governing permissions and\n",
    "#  limitations under the License.\n",
    "#\n",
    "#   Authored by:    Laura Murgatroyd (UKRI-STFC)\n",
    "#                   Gemma Fardell (UKRI-STFC)       \n",
    "#                   Jakob S. Jørgensen (DTU)"
   ]
  },
  {
   "cell_type": "markdown",
   "id": "694dafc7",
   "metadata": {},
   "source": [
    "# Exercise 01 - Introduction to the Core Imaging Library (CIL) \n",
    "\n",
    "### 3D laboratory micro-CT, cone-beam data of sunflower seeds in an acrylic box"
   ]
  },
  {
   "cell_type": "markdown",
   "id": "127515ba",
   "metadata": {},
   "source": [
    "This exercise walks through the steps needed to load in a 3D cone-beam dataset of sunflower seeds in an acrylic box, acquired by laboratory micro-CT, and reconstruct it using FDK.\n",
    "Here you will perform the same processing as the [01_intro_walnut_conebeam.ipynb](../01_intro_walnut_conebeam.ipynb) notebook, but on a Nikon dataset, instead of a Zeiss dataset.\n",
    "\n",
    "Learning objectives:\n",
    "- Load and investigate a Nikon data set.\n",
    "- Apply CIL's `TransmissionAbsorptionConverter`.\n",
    "- Compute FDK reconstruction using CIL.\n",
    "\n",
    "This example requires the dataset `korn.zip` from https://zenodo.org/record/6874123#.Y0ghJUzMKUm :\n",
    "\n",
    "- https://zenodo.org/record/6874123/files/korn.zip\n",
    "\n",
    "If running locally please download the data and update the filepath in the `filename` variable below:"
   ]
  },
  {
   "cell_type": "code",
   "execution_count": null,
   "id": "89d2596e",
   "metadata": {},
   "outputs": [],
   "source": [
    "filename = \"/mnt/materials/SIRF/Fully3D/CIL/Korn i kasse/47209 testscan korn01_recon.xtekct\""
   ]
  },
  {
   "cell_type": "code",
   "execution_count": null,
   "id": "d48350f1",
   "metadata": {},
   "outputs": [],
   "source": [
    "import os\n",
    "from cil.io import NikonDataReader\n",
    "from cil.processors import TransmissionAbsorptionConverter, Slicer\n",
    "from cil.recon import FDK\n",
    "from cil.utilities.display import show2D, show_geometry\n",
    "from cil.utilities.jupyter import islicer"
   ]
  },
  {
   "cell_type": "markdown",
   "id": "8d24d898-d1b2-4496-a464-6a2e9dbf8f89",
   "metadata": {},
   "source": [
    "## Exercise A: Loading Nikon Data and looking at the Geometry"
   ]
  },
  {
   "cell_type": "markdown",
   "id": "8bac0c33",
   "metadata": {},
   "source": [
    "1. Load the 3D cone-beam projection data of the seeds, using the `NikonDataReader`\n",
    "2. `print` the data to get some basic information.\n",
    "3. As well as the data itself, `AcquisitionData` contains geometric metadata in an `AcquisitionGeometry` object in the `geometry` field. `print` the geometry data.\n",
    "4. Use the `show_geometry` method to display the scan set up visually.\n",
    "\n",
    "*Note: This is a full 3D dataset so reading it from disk may take some time* "
   ]
  },
  {
   "cell_type": "code",
   "execution_count": null,
   "id": "b30864da",
   "metadata": {},
   "outputs": [],
   "source": [
    "data_in = ... \n"
   ]
  },
  {
   "cell_type": "markdown",
   "id": "6bce18d2",
   "metadata": {},
   "source": [
    "The data is loaded in as a CIL `AcquisitionData` object. How many projections does this dataset contain and how many pixels do they have? Make sure to check the axis labels.\n",
    "\n",
    "**Uncomment the following line and run the cell to see the solution, to run the lines you'll need to run the cell a second time**"
   ]
  },
  {
   "cell_type": "code",
   "execution_count": null,
   "id": "1f2d6ac1",
   "metadata": {},
   "outputs": [],
   "source": [
    "# %load './snippets/01_exA.py'"
   ]
  },
  {
   "cell_type": "markdown",
   "id": "15e657e6-1e14-49be-a762-02e632468be9",
   "metadata": {},
   "source": [
    "## Exercise B: Displaying the Projections with islicer"
   ]
  },
  {
   "cell_type": "markdown",
   "id": "a8ab7f23",
   "metadata": {},
   "source": [
    "Use `islicer` to display the projections."
   ]
  },
  {
   "cell_type": "code",
   "execution_count": null,
   "id": "be3f03ff-90c4-4a49-a5aa-03a3c1d46232",
   "metadata": {},
   "outputs": [],
   "source": [
    "..."
   ]
  },
  {
   "cell_type": "markdown",
   "id": "5d57c516-8cd5-4fe7-9f8d-31d3ddbecda0",
   "metadata": {},
   "source": [
    "Uncomment the following line and run the cell to see the solution, to run the lines you'll need to run the cell a second time:"
   ]
  },
  {
   "cell_type": "code",
   "execution_count": null,
   "id": "acf157f5",
   "metadata": {},
   "outputs": [],
   "source": [
    "# %load ./snippets/01_exB.py"
   ]
  },
  {
   "cell_type": "markdown",
   "id": "79597e26-2cdc-45fc-935c-426fe4c8a3c2",
   "metadata": {},
   "source": [
    "## Exercise C: Transmission to Absorption Conversion"
   ]
  },
  {
   "cell_type": "markdown",
   "id": "937f501c-564c-4c2c-82d9-700388715438",
   "metadata": {},
   "source": [
    "You should have seen that the data is transmission data. We know this because the background value is 1.0. We need to apply the Beer–Lambert law to convert to the absorption data.\n",
    "\n",
    "1. Use CIL's Transmission to Absorption processor to convert the data to absorption. \n",
    "2. Use `show2D` to look at the central `vertical` slice of the absorption data"
   ]
  },
  {
   "cell_type": "code",
   "execution_count": null,
   "id": "ad8f9f5a",
   "metadata": {},
   "outputs": [],
   "source": [
    "data_absorption = ..."
   ]
  },
  {
   "cell_type": "markdown",
   "id": "d76a4e29-21c6-463d-b3f8-ad48530a83e9",
   "metadata": {},
   "source": [
    "Uncomment the following line and run the cell to see the solution, to run the lines you'll need to run the cell a second time:"
   ]
  },
  {
   "cell_type": "code",
   "execution_count": null,
   "id": "8fb73f0c-cbea-4263-9a1d-c0ac59a1ba10",
   "metadata": {},
   "outputs": [],
   "source": [
    "# %load ./snippets/01_exC.py"
   ]
  },
  {
   "cell_type": "markdown",
   "id": "d05b90f8-6859-4914-bfb3-0e2f13688766",
   "metadata": {},
   "source": [
    "## Exercise D: Reconstructing Cone Beam Data"
   ]
  },
  {
   "cell_type": "markdown",
   "id": "4899ed4d",
   "metadata": {},
   "source": [
    "We will use the FDK algorithm from CIL's recon module. FDK is filtered back-projection with special weights for cone-beam data. By default, the `recon` module uses TIGRE as a back-end.\n",
    "\n",
    "1. Use `reorder` to ensure the data is in the correct format for `tigre`\n",
    "2. Create and run the FDK algorithm.\n",
    "3. Then show the reconstructed volume using `islicer`."
   ]
  },
  {
   "cell_type": "code",
   "execution_count": null,
   "id": "18d4a66c-32b8-4750-83f3-c42023a0340e",
   "metadata": {},
   "outputs": [],
   "source": [
    "..."
   ]
  },
  {
   "cell_type": "markdown",
   "id": "0fac79ee-47d7-4af1-9b2d-e4eb10ef97f2",
   "metadata": {},
   "source": [
    "Uncomment the following line and run the cell to see the solution, to run the lines you'll need to run the cell a second time:"
   ]
  },
  {
   "cell_type": "code",
   "execution_count": null,
   "id": "d0ae0659",
   "metadata": {},
   "outputs": [],
   "source": [
    "# %load ./snippets/01_exD.py"
   ]
  },
  {
   "cell_type": "markdown",
   "id": "6afa490a-58f8-47c3-886c-74b86644c370",
   "metadata": {},
   "source": [
    "## Exercise E: Modifying the Reconstruction Volume"
   ]
  },
  {
   "cell_type": "markdown",
   "id": "41bf15bb-15e5-47dd-bcac-a3312227eaea",
   "metadata": {},
   "source": [
    "We can see that there is lots of empty space in the reconstruction. We could restrict the size of the image volume to remove this. Reconstructing empty voxels takes time so this is often an important step especially when you move on to iterative algorithms.\n",
    "\n",
    "First, let's look at the current Image Geometry (you may need to change the variable names if you used different ones to the solutions):"
   ]
  },
  {
   "cell_type": "code",
   "execution_count": null,
   "id": "89315cbb-75d9-44ae-84de-467abc2e9d55",
   "metadata": {},
   "outputs": [],
   "source": [
    "print(data_absorption.geometry.get_ImageGeometry())"
   ]
  },
  {
   "cell_type": "code",
   "execution_count": null,
   "id": "90657b7e-058f-43fb-86f7-be55e4306e18",
   "metadata": {},
   "outputs": [],
   "source": [
    "show_geometry(data_absorption.geometry, data_absorption.geometry.get_ImageGeometry())"
   ]
  },
  {
   "cell_type": "markdown",
   "id": "0078d7c8-6b62-47bc-9aad-941dbdd6af8b",
   "metadata": {},
   "source": [
    "Have a go at restricting the size of the image geometry to remove a significant amount of empty space from the reconstruction. Perform the reconstruction using your new image geometry, and display the result using `islicer`.\n",
    "\n",
    "1. Create a default `ImageGeometry`\n",
    "2. Modify the number of voxels to reconstruct\n",
    "3. Create and run the FDK algorithm\n",
    "4. Show the reconstructed volume using `islicer`\n",
    "\n",
    "See [1_Introduction/00_CIL_geometry.ipynb](../00_CIL_geometry.ipynb), which should provide help in doing this.\n",
    "\n",
    "Remember, you can check what your new geometry looks like by using `show_geometry`"
   ]
  },
  {
   "cell_type": "code",
   "execution_count": null,
   "id": "ca676a6d-aea4-4fdc-8714-367251ef3f12",
   "metadata": {},
   "outputs": [],
   "source": [
    "..."
   ]
  },
  {
   "cell_type": "markdown",
   "id": "2090104c-cfbf-495b-a370-abc1a4672fa3",
   "metadata": {},
   "source": [
    "Uncomment the following line and run the cell to see the solution, to run the lines you'll need to run the cell a second time:"
   ]
  },
  {
   "cell_type": "code",
   "execution_count": null,
   "id": "ebdbae8e-693d-4942-a69f-eed2ab86b859",
   "metadata": {},
   "outputs": [],
   "source": [
    "# %load ./snippets/01_exE.py"
   ]
  }
 ],
 "metadata": {
  "kernelspec": {
   "display_name": "Python 3.8.11",
   "language": "python",
   "name": "python3"
  },
  "language_info": {
   "codemirror_mode": {
    "name": "ipython",
    "version": 3
   },
   "file_extension": ".py",
   "mimetype": "text/x-python",
   "name": "python",
   "nbconvert_exporter": "python",
   "pygments_lexer": "ipython3",
   "version": "3.8.11"
  },
  "vscode": {
   "interpreter": {
    "hash": "cf07678abc5cc77bc6e1a7d19b1e87ab0c29b83e7ee41c2bc72506d16d80ed44"
   }
  }
 },
 "nbformat": 4,
 "nbformat_minor": 5
}
