{
 "cells": [
  {
   "cell_type": "code",
   "execution_count": null,
   "id": "0b56a291",
   "metadata": {},
   "outputs": [],
   "source": [
    "# -*- coding: utf-8 -*-\n",
    "#  Copyright 2023 United Kingdom Research and Innovation\n",
    "#\n",
    "#  Licensed under the Apache License, Version 2.0 (the \"License\");\n",
    "#  you may not use this file except in compliance with the License.\n",
    "#  You may obtain a copy of the License at\n",
    "#\n",
    "#      http://www.apache.org/licenses/LICENSE-2.0\n",
    "#\n",
    "#  Unless required by applicable law or agreed to in writing, software\n",
    "#  distributed under the License is distributed on an \"AS IS\" BASIS,\n",
    "#  WITHOUT WARRANTIES OR CONDITIONS OF ANY KIND, either express or implied.\n",
    "#  See the License for the specific language governing permissions and\n",
    "#  limitations under the License.\n",
    "#\n",
    "#   Authored by:    Gemma Fardell (UKRI-STFC)\n",
    "#                   Laura Murgatroyd (UKRI-STFC)\n",
    "                  "
   ]
  },
  {
   "cell_type": "markdown",
   "id": "694dafc7",
   "metadata": {},
   "source": [
    "# Exercise 03 - Where is my reader?\n",
    "### 2D laboratory micro-CT, fan-beam with no reader"
   ]
  },
  {
   "cell_type": "markdown",
   "id": "127515ba",
   "metadata": {},
   "source": [
    "We don't have readers for every system so you might need to read in your data and create a geometry by hand.\n",
    "\n",
    "This exercise walks through the steps needed to load in a 2D fan-beam sinogram stored as a single tiff image; create the matching geometry and finally reconstruct it using FDK. The data was acquired on a Nikon system but here we only read the centre slice and do not provide a reader for `xtek2dCT` files.\n",
    "\n",
    "Learning objectives are:\n",
    "- Load and investigate a dataset stored as a tiff using `TIFFStackReader`\n",
    "- Create the CIL geometry using `AcquisitionGeometry.Create_Cone2D`\n",
    "- Combinine the data and geometry to form an `AcquisitionData`\n",
    "- Find the Centre of rotation to complete the data geometry description\n",
    "- Compute the reconstruction using CIL's `FDK`\n",
    "\n",
    "The sample is a plastic tube with a diameter of 25mm filled with uniform Soda-Lime Glass (SiO2-Na2O) beads of diameters 2.5mm (with standard deviation 0.1mm). \n",
    "This example requires the dataset `SparseBeads_B12_L1.zip` from https://zenodo.org/record/290117 :\n",
    "\n",
    "- https://zenodo.org/record/290117/files/SparseBeads_B12_L1.zip\n",
    "\n",
    "\n",
    "If running locally please download the data and update the filepath in the `filename` variable below:"
   ]
  },
  {
   "cell_type": "code",
   "execution_count": null,
   "id": "89d2596e",
   "metadata": {},
   "outputs": [],
   "source": [
    "filename = \"/mnt/materials/CIL/SparseBeads_B12_L1/CentreSlice/Sinograms\""
   ]
  },
  {
   "cell_type": "code",
   "execution_count": null,
   "id": "d48350f1",
   "metadata": {},
   "outputs": [],
   "source": [
    "from cil.io import TIFFStackReader\n",
    "from cil.framework import AcquisitionGeometry, AcquisitionData\n",
    "from cil.processors import CentreOfRotationCorrector\n",
    "from cil.recon import FDK\n",
    "from cil.utilities.display import show2D, show_geometry\n",
    "import numpy as np\n",
    "import matplotlib.pyplot as plt"
   ]
  },
  {
   "cell_type": "markdown",
   "id": "f7f9c12a",
   "metadata": {},
   "source": [
    "# Read in your data"
   ]
  },
  {
   "cell_type": "markdown",
   "id": "8d24d898-d1b2-4496-a464-6a2e9dbf8f89",
   "metadata": {
    "tags": []
   },
   "source": [
    "## Exercise A: Tiff to numpy array\n",
    "\n",
    "1. Load the 2D fan-beam sinogram, using the `TIFFStackReader`\n",
    "2. Use `show2D` to visualise your data\n",
    "3. Look at the data type and shape"
   ]
  },
  {
   "cell_type": "code",
   "execution_count": null,
   "id": "b30864da",
   "metadata": {},
   "outputs": [],
   "source": [
    "data_original = ..."
   ]
  },
  {
   "cell_type": "markdown",
   "id": "7cfe5a5d-7a94-4eb5-b2ab-fbf550f34c6e",
   "metadata": {
    "tags": []
   },
   "source": [
    "**If you are stuck uncomment the following line and run the cell to see the solution, to run the lines you'll need to run the cell a second time**"
   ]
  },
  {
   "cell_type": "code",
   "execution_count": null,
   "id": "e69b16b3",
   "metadata": {},
   "outputs": [],
   "source": [
    "# %load './snippets/03_exA.py'"
   ]
  },
  {
   "cell_type": "code",
   "execution_count": null,
   "id": "2e9e99a6",
   "metadata": {},
   "outputs": [],
   "source": [
    "print(\"Array stored as:\",type(data_original))\n",
    "print(\"Array shape:\\t\",data_original.shape)\n",
    "print(\"Array contents:\\t\",data_original.dtype)"
   ]
  },
  {
   "cell_type": "markdown",
   "id": "fe867021",
   "metadata": {},
   "source": [
    "# Understand your data\n",
    "\n",
    "Let us look at a histogram of our data. "
   ]
  },
  {
   "cell_type": "code",
   "execution_count": null,
   "id": "7fdd11ba",
   "metadata": {},
   "outputs": [],
   "source": [
    "plt.hist(data_original.ravel(), bins=256)\n",
    "plt.show()"
   ]
  },
  {
   "cell_type": "markdown",
   "id": "7cd9175c",
   "metadata": {},
   "source": [
    "We should notice that the data is X-ray transmission data. We can see that the background peak has the highest value.\n",
    "\n",
    "The background peak is not at 1. When the data was saved as a tiff it was pre-scaled by 60000 by the scanner and stored as `unsigned char` which have integer values 0 - 65535. We can see the white level of 60000 in the `xtek2dct` file so we use this to normalise the data.\n"
   ]
  },
  {
   "cell_type": "code",
   "execution_count": null,
   "id": "fbc3a80f",
   "metadata": {},
   "outputs": [],
   "source": [
    "data_normalised = data_original / 60000\n",
    "plt.hist(data_normalised.ravel(), bins=256)\n",
    "plt.show()"
   ]
  },
  {
   "cell_type": "markdown",
   "id": "c0bfcdf6",
   "metadata": {},
   "source": [
    "And now we use Beer-Lambert's law to convert from X-ray transmission data to X-ray absorption data"
   ]
  },
  {
   "cell_type": "code",
   "execution_count": null,
   "id": "d81f8d22",
   "metadata": {},
   "outputs": [],
   "source": [
    "data_absorption = -np.log(data_normalised)\n",
    "plt.hist(data_absorption.ravel(), bins=256)\n",
    "plt.show()"
   ]
  },
  {
   "cell_type": "markdown",
   "id": "c07979d1",
   "metadata": {},
   "source": [
    "You may notice the background has a small negative attenuation. This is unphysical in an ideal system however it is often caused by to systematic errors in the scan. Potentially scatter caused by the object can raise the background value in the background of the scan but is not present in the flat-field image. Or latent image in the scintillator fades between the flat-field collection and the scan. We must be careful not to clip these negative values and bias the reconstruction."
   ]
  },
  {
   "cell_type": "markdown",
   "id": "311dd9ae",
   "metadata": {},
   "source": [
    "# Create the geometry\n",
    "\n",
    "As well as the data itself, we need to create the geometric metadata as an `AcquisitionGeometry` object.\n",
    "\n",
    "We start by populating the information we know from the data. For parallel beam data this might be sufficient."
   ]
  },
  {
   "cell_type": "markdown",
   "id": "9c93b649",
   "metadata": {},
   "source": [
    "## Exercise B: Use the data\n",
    "From the data set, extract the number of projections, the number of pixels and the order of the 'horizontal' and 'angle' axes:\n"
   ]
  },
  {
   "cell_type": "code",
   "execution_count": null,
   "id": "bb337f88",
   "metadata": {},
   "outputs": [],
   "source": [
    "number_of_projections = ...\n",
    "number_of_pixels = ...\n",
    "axis_labels = [..., ...]"
   ]
  },
  {
   "cell_type": "markdown",
   "id": "a056550d-c3c4-4214-b878-501b0e660327",
   "metadata": {},
   "source": [
    "Uncomment the following line and run the cell to see the solution, to run the lines you'll need to run the cell a second time:"
   ]
  },
  {
   "cell_type": "code",
   "execution_count": null,
   "id": "000d7a67",
   "metadata": {},
   "outputs": [],
   "source": [
    "# %load './snippets/03_exB.py'"
   ]
  },
  {
   "cell_type": "markdown",
   "id": "203ec602",
   "metadata": {},
   "source": [
    "## Exercise C: Create the geometry\n",
    "\n",
    "Now we create the CIL `AcquisitionGeometry` object using the method `AcquisitionGeometry.create_Cone2D`\n",
    "\n",
    "You will have to set the position of the source, rotation axis (object) and detector. Look at the [documentation of `create_Cone2D`](https://tomographicimaging.github.io/CIL/nightly/framework.html#cone2d-geometry-fanbeam) as well as the notebook [00_CIL_geometry](../00_CIL_geometry.ipynb) to help you.\n",
    "\n",
    "1. Create a fan-beam geometry using the `AcquisitionGeometry.create_Cone2D`\n",
    "2. Configure the angles of the data with `set_angles`\n",
    "3. Configure the number and size of the detector pixels with `set_panel`\n",
    "4. Configure the order of the data axes using `set_labels`\n",
    "2. Use the `show_geometry` method to display the scan set up visually."
   ]
  },
  {
   "cell_type": "markdown",
   "id": "e1f6f2a4",
   "metadata": {},
   "source": [
    "Here we give you the information from the scanner metadata, you can also find these values in the `xtek2dct`. If you would like to view the `xtek2dct` open a terminal and type the command `cat /mnt/materials/CIL/SparseBeads_B12_L1/CentreSlice/SparseBeads_B12_L1.xtek2dct`\n",
    "\n",
    "Have a go at creating the geometry and see how it looks when you reconstruct the data with it. It might take a few attempts to get it right but if you are struggling you can uncomment the snippet and load an example solution."
   ]
  },
  {
   "cell_type": "code",
   "execution_count": null,
   "id": "ff447b92",
   "metadata": {},
   "outputs": [],
   "source": [
    "#What we know from the scanner\n",
    "source_to_detector_distance = 1400.207\n",
    "source_to_object_distance = 121.932\n",
    "pixel_size = 0.2\n",
    "angles = np.linspace(start=0, stop=360, num=number_of_projections, endpoint=False)"
   ]
  },
  {
   "cell_type": "code",
   "execution_count": null,
   "id": "ea1aa525",
   "metadata": {},
   "outputs": [],
   "source": [
    "geometry = ...\n",
    "\n",
    "# show_geometry(geometry)"
   ]
  },
  {
   "cell_type": "markdown",
   "id": "5423f8da-bd37-4f5f-bda2-7fc7f836c812",
   "metadata": {
    "tags": []
   },
   "source": [
    "Uncomment the following line and run the cell to see the solution, to run the lines you'll need to run the cell a second time:"
   ]
  },
  {
   "cell_type": "code",
   "execution_count": null,
   "id": "20801f7c",
   "metadata": {},
   "outputs": [],
   "source": [
    "# %load './snippets/03_exC.py'"
   ]
  },
  {
   "cell_type": "markdown",
   "id": "977a5623",
   "metadata": {},
   "source": [
    "# Create the `AcquisitionData`\n",
    "\n",
    "Now we have our data `data_absorption` stored as a numpy array and `geometry` containing the description of our data, we can use both to create an `AcquisitionData` that can be used by CIL.\n",
    "\n",
    "Here we make a copy of the original data with `deep_copy=True`. For a large data set you may want this to use your existing numpy array with `deep_copy=False`"
   ]
  },
  {
   "cell_type": "code",
   "execution_count": null,
   "id": "47c6db11",
   "metadata": {},
   "outputs": [],
   "source": [
    "acquisition_data = AcquisitionData(data_absorption, deep_copy=True, geometry=geometry)"
   ]
  },
  {
   "cell_type": "markdown",
   "id": "26633aba",
   "metadata": {},
   "source": [
    "# Reconstruct with FDK \n",
    "\n",
    "Now we will try to reconstruct your `AcquisitionData` using CIL's `recon.FDK`. This uses CIL to filter the projections, and then calls the backprojector from `TIGRE`."
   ]
  },
  {
   "cell_type": "code",
   "execution_count": null,
   "id": "9aad2f37",
   "metadata": {},
   "outputs": [],
   "source": [
    "reconC = FDK(acquisition_data).run()"
   ]
  },
  {
   "cell_type": "code",
   "execution_count": null,
   "id": "1c33e8fa",
   "metadata": {},
   "outputs": [],
   "source": [
    "show2D(reconC, fix_range=(0,0.25))"
   ]
  },
  {
   "cell_type": "markdown",
   "id": "ca8f25d2",
   "metadata": {},
   "source": [
    "If your geometry was right, you will now have a reconstruction that looks like this. If something went wrong, then go back to **Exercise C** and have another go at setting up your geometry.\n",
    "\n",
    "![example FDK](./images/03_output.png)"
   ]
  },
  {
   "cell_type": "markdown",
   "id": "d5ab4b22",
   "metadata": {},
   "source": [
    "# Centre of rotation offset\n",
    "\n",
    "We are nearly there but the double edges show our geometry is still not quite right. These are typical centre of rotation artefacts for a 360degree scan. We can update the geometry by hand until we find the right value. \n",
    "\n",
    "### Exercise D: Fix the centre of rotation offset\n",
    "Use `set_centre_of_rotation` on your geometry to update the value and reconstruct your data. Try values between -5 and 5 until you obtain a nice-looking reconstruction."
   ]
  },
  {
   "cell_type": "code",
   "execution_count": null,
   "id": "61013a69",
   "metadata": {},
   "outputs": [],
   "source": [
    "# set the offset between -5 and 5\n",
    "offset = 5\n",
    "\n",
    "#apply it to your geometry\n",
    "acquisition_data.geometry.set_centre_of_rotation(offset,distance_units='default')\n",
    "\n",
    "#reconstruct your data with the updated geometry\n",
    "reconD = FDK(acquisition_data).run(verbose=0)\n",
    "show2D(reconD, fix_range=(0,0.25))"
   ]
  },
  {
   "cell_type": "markdown",
   "id": "2a3ddaba",
   "metadata": {},
   "source": [
    "Often we can use CIL's `CentreOfRotationCorrector` algorithms to find the centre of rotation offset to subpixel accuracy."
   ]
  },
  {
   "cell_type": "code",
   "execution_count": null,
   "id": "0713990f",
   "metadata": {},
   "outputs": [],
   "source": [
    "processor = CentreOfRotationCorrector.image_sharpness()\n",
    "processor.set_input(acquisition_data)\n",
    "centred_data = processor.get_output()\n",
    "\n",
    "recon_centred = FDK(centred_data).run(verbose=0)\n",
    "show2D(recon_centred, fix_range=(0,0.25))"
   ]
  },
  {
   "cell_type": "code",
   "execution_count": null,
   "id": "be5c35b8",
   "metadata": {},
   "outputs": [],
   "source": [
    "print(centred_data.geometry.get_centre_of_rotation())"
   ]
  },
  {
   "cell_type": "markdown",
   "id": "b6b1aa27",
   "metadata": {},
   "source": [
    "Some common mistakes when you create your geometry by hand include:\n",
    " - The rotation direction. This might not simply be how the turntable looks to turn (if you can see it!), the detector origin may be interpreted differently and appear to flip your data.\n",
    " - The definition of 0 degree. Look at `show_geometry` you can see that as default CIL defines 0degree in the positive Y direction. You might need to add 180 degrees to your angles, or swap the detector and source positions along the y axis.\n",
    " - The pixel size - CIL expects your pixel size in the same units as you defined your system geometry. In this example we used $mm$. This means our reconstruction has values of $mm^{-1}$"
   ]
  },
  {
   "cell_type": "markdown",
   "id": "3893f1a1",
   "metadata": {},
   "source": [
    "## Exercise E: Try the common mistakes\n",
    "\n",
    "Go back to **Exercise C** and try setting the geometry up wrong to see how the reconstruction looks.\n",
    "\n",
    " - What if the rotation is in the opposite direction? Set the `angles` to `-angles`\n",
    " - What if there's a 180 degree offset in your angles?\n",
    " - What if you define your angles in the wrong units? Set the units to `radian`\n",
    " - What if your pixel size is wrong? How does the cone angle affect the reconstruction?\n",
    " - CIL's geometry assumes the centre ray of the beam in the positive Y direction. You can configure this along the X axis instead but you will need to update the direction of the detector and redefine your angles accordingly.\n",
    "\n"
   ]
  }
 ],
 "metadata": {
  "kernelspec": {
   "display_name": "Python 3 (ipykernel)",
   "language": "python",
   "name": "python3"
  },
  "language_info": {
   "codemirror_mode": {
    "name": "ipython",
    "version": 3
   },
   "file_extension": ".py",
   "mimetype": "text/x-python",
   "name": "python",
   "nbconvert_exporter": "python",
   "pygments_lexer": "ipython3",
   "version": "3.9.16"
  },
  "vscode": {
   "interpreter": {
    "hash": "cf07678abc5cc77bc6e1a7d19b1e87ab0c29b83e7ee41c2bc72506d16d80ed44"
   }
  }
 },
 "nbformat": 4,
 "nbformat_minor": 5
}
